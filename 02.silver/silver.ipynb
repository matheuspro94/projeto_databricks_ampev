{
 "cells": [
  {
   "cell_type": "markdown",
   "metadata": {
    "application/vnd.databricks.v1+cell": {
     "cellMetadata": {
      "byteLimit": 2048000,
      "rowLimit": 10000
     },
     "inputWidgets": {},
     "nuid": "c06533af-ceee-490f-9599-79ac59caf2b4",
     "showTitle": false,
     "title": ""
    }
   },
   "source": [
    "## Informações Gerais\n",
    "| Informações | Detalhes |\n",
    "| ----------- | -------- |\n",
    "| Nome Tabela | silver.pedidos |\n",
    "| Origem | bromze.pedidos / bronze.estabelecimentos|\n",
    "\n",
    "## Historico de atualização\n",
    "| Data | Desenvolvido por | Motivo |\n",
    "| ----------- | -------- | -------|\n",
    "| 05/10/2024 | Matheus | Criação do Notebook |"
   ]
  },
  {
   "cell_type": "code",
   "execution_count": 0,
   "metadata": {
    "application/vnd.databricks.v1+cell": {
     "cellMetadata": {
      "byteLimit": 2048000,
      "rowLimit": 10000
     },
     "inputWidgets": {},
     "nuid": "026a2eac-dd48-40b7-b7ee-77cc17bf52ec",
     "showTitle": false,
     "title": ""
    }
   },
   "outputs": [],
   "source": [
    "#importações\n",
    "from pyspark.sql.functions import current_date, current_timestamp, expr"
   ]
  },
  {
   "cell_type": "code",
   "execution_count": 0,
   "metadata": {
    "application/vnd.databricks.v1+cell": {
     "cellMetadata": {
      "byteLimit": 2048000,
      "rowLimit": 10000
     },
     "inputWidgets": {},
     "nuid": "841c6dc7-a322-464e-80dd-24336dd82abc",
     "showTitle": false,
     "title": ""
    }
   },
   "outputs": [],
   "source": [
    "#Funções\n",
    "# Função que aplica os comentarios na tabela\n",
    "def adicionaComentariosTabela(a, b, c, d):\n",
    "    spark.sql(f\"COMMENT ON TABLE {a}.{b} IS '{c}'\")\n",
    "    for key, value in d.items():\n",
    "        sqlaux = f\"ALTER TABLE {a}.{b} CHANGE COLUMN {key} COMMENT '{value}'\"\n",
    "        spark.sql(sqlaux)"
   ]
  },
  {
   "cell_type": "code",
   "execution_count": 0,
   "metadata": {
    "application/vnd.databricks.v1+cell": {
     "cellMetadata": {
      "byteLimit": 2048000,
      "rowLimit": 10000
     },
     "inputWidgets": {},
     "nuid": "9e278b4f-c13f-4a9d-8fe3-fc463b1d1218",
     "showTitle": false,
     "title": ""
    }
   },
   "outputs": [],
   "source": [
    "database = \"silver\"\n",
    "tabela = \"pedidos\""
   ]
  },
  {
   "cell_type": "code",
   "execution_count": 0,
   "metadata": {
    "application/vnd.databricks.v1+cell": {
     "cellMetadata": {
      "byteLimit": 2048000,
      "implicitDf": true,
      "rowLimit": 10000
     },
     "collapsed": true,
     "inputWidgets": {},
     "nuid": "e2b09407-2568-4ddd-8773-dfdffd496279",
     "showTitle": false,
     "title": ""
    }
   },
   "outputs": [
    {
     "output_type": "display_data",
     "data": {
      "text/html": [
       "<style scoped>\n",
       "  .table-result-container {\n",
       "    max-height: 300px;\n",
       "    overflow: auto;\n",
       "  }\n",
       "  table, th, td {\n",
       "    border: 1px solid black;\n",
       "    border-collapse: collapse;\n",
       "  }\n",
       "  th, td {\n",
       "    padding: 5px;\n",
       "  }\n",
       "  th {\n",
       "    text-align: left;\n",
       "  }\n",
       "</style><div class='table-result-container'><table class='table-result'><thead style='background-color: white'><tr><th>Local</th><th>Email</th><th>EstabelecimentoID</th><th>Telefone</th><th>data_carga</th><th>data_hora_carga</th></tr></thead><tbody><tr><td>Bar do mineiro</td><td>bar@bardomineiro</td><td>1</td><td>(31) 96787-9326</td><td>2024-10-06</td><td>2024-10-06T17:52:10.771Z</td></tr><tr><td>Restaurante da Ana</td><td>ana@restaurantedana.com</td><td>2</td><td>(11) 98891-8293</td><td>2024-10-06</td><td>2024-10-06T17:52:10.771Z</td></tr><tr><td>Supermercado ABC</td><td>contato@superabc.com</td><td>3</td><td>(71) 99854-2730</td><td>2024-10-06</td><td>2024-10-06T17:52:10.771Z</td></tr><tr><td>Padaria do Paulo</td><td>paulo@padariapaulo.com</td><td>4</td><td>(61) 97029-4259</td><td>2024-10-06</td><td>2024-10-06T17:52:10.771Z</td></tr><tr><td>Lanchonete da Maria</td><td>maria@lanchonetemaria.com</td><td>5</td><td>(61) 95460-5114</td><td>2024-10-06</td><td>2024-10-06T17:52:10.771Z</td></tr><tr><td>Café Expresso</td><td>contato@cafeexpresso.com</td><td>6</td><td>(81) 91353-6764</td><td>2024-10-06</td><td>2024-10-06T17:52:10.771Z</td></tr><tr><td>Pizzaria Bella</td><td>contato@pizzariabella.com</td><td>7</td><td>(91) 96418-7540</td><td>2024-10-06</td><td>2024-10-06T17:52:10.771Z</td></tr><tr><td>Churrascaria Gaúcha</td><td>contato@churrascariagaucha.com</td><td>8</td><td>(31) 98582-4944</td><td>2024-10-06</td><td>2024-10-06T17:52:10.771Z</td></tr><tr><td>Cantina Italiana</td><td>contato@cantinaitaliana.com</td><td>9</td><td>(91) 93994-5119</td><td>2024-10-06</td><td>2024-10-06T17:52:10.771Z</td></tr><tr><td>Mercadinho da Esquina</td><td>contato@mercadinhoesquina.com</td><td>10</td><td>(41) 90819-7897</td><td>2024-10-06</td><td>2024-10-06T17:52:10.771Z</td></tr><tr><td>Doceria Delícia</td><td>contato@doceriadelicia.com</td><td>11</td><td>(61) 95626-8430</td><td>2024-10-06</td><td>2024-10-06T17:52:10.771Z</td></tr><tr><td>Pastelaria do Mário</td><td>contato@pastelariadomario.com</td><td>12</td><td>(21) 99320-8273</td><td>2024-10-06</td><td>2024-10-06T17:52:10.771Z</td></tr><tr><td>Hamburgueria Prime</td><td>contato@hamburgueriaprime.com</td><td>13</td><td>(61) 90265-7365</td><td>2024-10-06</td><td>2024-10-06T17:52:10.771Z</td></tr><tr><td>Sorveteria Geladinho</td><td>contato@sorveteriageladinho.com</td><td>14</td><td>(51) 92493-8299</td><td>2024-10-06</td><td>2024-10-06T17:52:10.771Z</td></tr><tr><td>Padoca do Zé</td><td>contato@padocadodze.com</td><td>15</td><td>(61) 94617-3404</td><td>2024-10-06</td><td>2024-10-06T17:52:10.771Z</td></tr><tr><td>Adega do Luiz</td><td>contato@adegadoluz.com</td><td>16</td><td>(71) 93274-7401</td><td>2024-10-06</td><td>2024-10-06T17:52:10.771Z</td></tr><tr><td>Botequim do Chico</td><td>contato@botequimdochico.com</td><td>17</td><td>(11) 91707-4088</td><td>2024-10-06</td><td>2024-10-06T17:52:10.771Z</td></tr><tr><td>Cervejaria Artesanal</td><td>contato@cervejariaartesanal.com</td><td>18</td><td>(11) 95799-9899</td><td>2024-10-06</td><td>2024-10-06T17:52:10.771Z</td></tr><tr><td>Barbearia do Toninho</td><td>contato@barbeariadotoninho.com</td><td>19</td><td>(91) 99438-6690</td><td>2024-10-06</td><td>2024-10-06T17:52:10.771Z</td></tr><tr><td>Farmácia Popular</td><td>contato@farmaciapopular.com</td><td>20</td><td>(51) 94871-3208</td><td>2024-10-06</td><td>2024-10-06T17:52:10.771Z</td></tr><tr><td>Livraria Cultura</td><td>contato@livrariacultura.com</td><td>21</td><td>(91) 99104-9942</td><td>2024-10-06</td><td>2024-10-06T17:52:10.771Z</td></tr><tr><td>Papelaria Central</td><td>contato@papelariacentral.com</td><td>22</td><td>(41) 93189-7746</td><td>2024-10-06</td><td>2024-10-06T17:52:10.771Z</td></tr><tr><td>Academia Fit</td><td>contato@academiafit.com</td><td>23</td><td>(11) 92674-3789</td><td>2024-10-06</td><td>2024-10-06T17:52:10.771Z</td></tr><tr><td>Salão Beleza Pura</td><td>contato@salaobelezapura.com</td><td>24</td><td>(51) 91844-9553</td><td>2024-10-06</td><td>2024-10-06T17:52:10.771Z</td></tr><tr><td>Loja de Roupas Fashion</td><td>contato@lojaderoupasfashion.com</td><td>25</td><td>(81) 97241-3620</td><td>2024-10-06</td><td>2024-10-06T17:52:10.771Z</td></tr><tr><td>Pet Shop Amigo Fiel</td><td>contato@petshopamigofiel.com</td><td>26</td><td>(31) 91631-4388</td><td>2024-10-06</td><td>2024-10-06T17:52:10.771Z</td></tr><tr><td>Oficina Mecânica</td><td>contato@oficinamecanica.com</td><td>27</td><td>(31) 96744-7044</td><td>2024-10-06</td><td>2024-10-06T17:52:10.771Z</td></tr><tr><td>Padaria São João</td><td>contato@padariasaojoao.com</td><td>28</td><td>(91) 95641-1530</td><td>2024-10-06</td><td>2024-10-06T17:52:10.771Z</td></tr><tr><td>Lanchonete Top</td><td>contato@lanchonetetop.com</td><td>29</td><td>(41) 92964-7794</td><td>2024-10-06</td><td>2024-10-06T17:52:10.771Z</td></tr><tr><td>Restaurante Vegetariano</td><td>contato@restaurantevegetariano.com</td><td>30</td><td>(81) 98693-9060</td><td>2024-10-06</td><td>2024-10-06T17:52:10.771Z</td></tr><tr><td>Bar e Grill</td><td>contato@baregrill.com</td><td>31</td><td>(41) 93510-4603</td><td>2024-10-06</td><td>2024-10-06T17:52:10.771Z</td></tr><tr><td>Chocolateria</td><td>contato@chocolateria.com</td><td>32</td><td>(81) 95224-4707</td><td>2024-10-06</td><td>2024-10-06T17:52:10.771Z</td></tr><tr><td>Frutaria Tropical</td><td>contato@frutariatroipcal.com</td><td>33</td><td>(71) 90229-2223</td><td>2024-10-06</td><td>2024-10-06T17:52:10.771Z</td></tr><tr><td>Sorveteria Sorvetão</td><td>contato@sorveteriasorvetao.com</td><td>34</td><td>(11) 91064-2800</td><td>2024-10-06</td><td>2024-10-06T17:52:10.771Z</td></tr><tr><td>Restaurante Japonês</td><td>contato@restaurantejapones.com</td><td>35</td><td>(11) 91789-3252</td><td>2024-10-06</td><td>2024-10-06T17:52:10.771Z</td></tr><tr><td>Padaria do Bairro</td><td>contato@padariadobairro.com</td><td>36</td><td>(31) 95389-1464</td><td>2024-10-06</td><td>2024-10-06T17:52:10.771Z</td></tr><tr><td>Hamburgueria Burger</td><td>contato@hamburgueriaburger.com</td><td>37</td><td>(31) 93120-6163</td><td>2024-10-06</td><td>2024-10-06T17:52:10.771Z</td></tr><tr><td>Restaurante Francês</td><td>contato@restaurantefrances.com</td><td>38</td><td>(21) 91283-5782</td><td>2024-10-06</td><td>2024-10-06T17:52:10.771Z</td></tr><tr><td>Bar da Esquina</td><td>contato@bardaesquina.com</td><td>39</td><td>(51) 93941-4832</td><td>2024-10-06</td><td>2024-10-06T17:52:10.771Z</td></tr><tr><td>Restaurante Mexicano</td><td>contato@restaurantemexicano.com</td><td>40</td><td>(21) 90293-4063</td><td>2024-10-06</td><td>2024-10-06T17:52:10.771Z</td></tr><tr><td>Pizzaria Italiana</td><td>contato@pizzariaitaliana.com</td><td>41</td><td>(71) 99975-5015</td><td>2024-10-06</td><td>2024-10-06T17:52:10.771Z</td></tr><tr><td>Café Gourmet</td><td>contato@cafegourmet.com</td><td>42</td><td>(81) 91370-2605</td><td>2024-10-06</td><td>2024-10-06T17:52:10.771Z</td></tr><tr><td>Restaurante Brasileiro</td><td>contato@restaurantebrasileiro.com</td><td>43</td><td>(61) 90767-4956</td><td>2024-10-06</td><td>2024-10-06T17:52:10.771Z</td></tr><tr><td>Lanchonete do Bairro</td><td>contato@lanchonetedobairro.com</td><td>44</td><td>(61) 93857-1485</td><td>2024-10-06</td><td>2024-10-06T17:52:10.771Z</td></tr><tr><td>Pizzaria São Pedro</td><td>contato@pizzariasampedro.com</td><td>45</td><td>(11) 95909-3334</td><td>2024-10-06</td><td>2024-10-06T17:52:10.771Z</td></tr><tr><td>Pastelaria da Vila</td><td>contato@pastelariadavila.com</td><td>46</td><td>(71) 98676-3040</td><td>2024-10-06</td><td>2024-10-06T17:52:10.771Z</td></tr><tr><td>Doceria Fina</td><td>contato@doceriafina.com</td><td>47</td><td>(21) 95174-9538</td><td>2024-10-06</td><td>2024-10-06T17:52:10.771Z</td></tr><tr><td>Cervejaria Gourmet</td><td>contato@cervejariagourmet.com</td><td>48</td><td>(61) 93477-1255</td><td>2024-10-06</td><td>2024-10-06T17:52:10.771Z</td></tr><tr><td>Mercadinho do Bairro</td><td>contato@mercadinhodobairro.com</td><td>49</td><td>(51) 92221-5831</td><td>2024-10-06</td><td>2024-10-06T17:52:10.771Z</td></tr><tr><td>Bar do João</td><td>joao@bardojoao.com</td><td>50</td><td>(71) 98909-8853</td><td>2024-10-06</td><td>2024-10-06T17:52:10.771Z</td></tr></tbody></table></div>"
      ]
     },
     "metadata": {
      "application/vnd.databricks.v1+output": {
       "addedWidgets": {},
       "aggData": [],
       "aggError": "",
       "aggOverflow": false,
       "aggSchema": [],
       "aggSeriesLimitReached": false,
       "aggType": "",
       "arguments": {},
       "columnCustomDisplayInfos": {},
       "data": [
        [
         "Bar do mineiro",
         "bar@bardomineiro",
         "1",
         "(31) 96787-9326",
         "2024-10-06",
         "2024-10-06T17:52:10.771Z"
        ],
        [
         "Restaurante da Ana",
         "ana@restaurantedana.com",
         "2",
         "(11) 98891-8293",
         "2024-10-06",
         "2024-10-06T17:52:10.771Z"
        ],
        [
         "Supermercado ABC",
         "contato@superabc.com",
         "3",
         "(71) 99854-2730",
         "2024-10-06",
         "2024-10-06T17:52:10.771Z"
        ],
        [
         "Padaria do Paulo",
         "paulo@padariapaulo.com",
         "4",
         "(61) 97029-4259",
         "2024-10-06",
         "2024-10-06T17:52:10.771Z"
        ],
        [
         "Lanchonete da Maria",
         "maria@lanchonetemaria.com",
         "5",
         "(61) 95460-5114",
         "2024-10-06",
         "2024-10-06T17:52:10.771Z"
        ],
        [
         "Café Expresso",
         "contato@cafeexpresso.com",
         "6",
         "(81) 91353-6764",
         "2024-10-06",
         "2024-10-06T17:52:10.771Z"
        ],
        [
         "Pizzaria Bella",
         "contato@pizzariabella.com",
         "7",
         "(91) 96418-7540",
         "2024-10-06",
         "2024-10-06T17:52:10.771Z"
        ],
        [
         "Churrascaria Gaúcha",
         "contato@churrascariagaucha.com",
         "8",
         "(31) 98582-4944",
         "2024-10-06",
         "2024-10-06T17:52:10.771Z"
        ],
        [
         "Cantina Italiana",
         "contato@cantinaitaliana.com",
         "9",
         "(91) 93994-5119",
         "2024-10-06",
         "2024-10-06T17:52:10.771Z"
        ],
        [
         "Mercadinho da Esquina",
         "contato@mercadinhoesquina.com",
         "10",
         "(41) 90819-7897",
         "2024-10-06",
         "2024-10-06T17:52:10.771Z"
        ],
        [
         "Doceria Delícia",
         "contato@doceriadelicia.com",
         "11",
         "(61) 95626-8430",
         "2024-10-06",
         "2024-10-06T17:52:10.771Z"
        ],
        [
         "Pastelaria do Mário",
         "contato@pastelariadomario.com",
         "12",
         "(21) 99320-8273",
         "2024-10-06",
         "2024-10-06T17:52:10.771Z"
        ],
        [
         "Hamburgueria Prime",
         "contato@hamburgueriaprime.com",
         "13",
         "(61) 90265-7365",
         "2024-10-06",
         "2024-10-06T17:52:10.771Z"
        ],
        [
         "Sorveteria Geladinho",
         "contato@sorveteriageladinho.com",
         "14",
         "(51) 92493-8299",
         "2024-10-06",
         "2024-10-06T17:52:10.771Z"
        ],
        [
         "Padoca do Zé",
         "contato@padocadodze.com",
         "15",
         "(61) 94617-3404",
         "2024-10-06",
         "2024-10-06T17:52:10.771Z"
        ],
        [
         "Adega do Luiz",
         "contato@adegadoluz.com",
         "16",
         "(71) 93274-7401",
         "2024-10-06",
         "2024-10-06T17:52:10.771Z"
        ],
        [
         "Botequim do Chico",
         "contato@botequimdochico.com",
         "17",
         "(11) 91707-4088",
         "2024-10-06",
         "2024-10-06T17:52:10.771Z"
        ],
        [
         "Cervejaria Artesanal",
         "contato@cervejariaartesanal.com",
         "18",
         "(11) 95799-9899",
         "2024-10-06",
         "2024-10-06T17:52:10.771Z"
        ],
        [
         "Barbearia do Toninho",
         "contato@barbeariadotoninho.com",
         "19",
         "(91) 99438-6690",
         "2024-10-06",
         "2024-10-06T17:52:10.771Z"
        ],
        [
         "Farmácia Popular",
         "contato@farmaciapopular.com",
         "20",
         "(51) 94871-3208",
         "2024-10-06",
         "2024-10-06T17:52:10.771Z"
        ],
        [
         "Livraria Cultura",
         "contato@livrariacultura.com",
         "21",
         "(91) 99104-9942",
         "2024-10-06",
         "2024-10-06T17:52:10.771Z"
        ],
        [
         "Papelaria Central",
         "contato@papelariacentral.com",
         "22",
         "(41) 93189-7746",
         "2024-10-06",
         "2024-10-06T17:52:10.771Z"
        ],
        [
         "Academia Fit",
         "contato@academiafit.com",
         "23",
         "(11) 92674-3789",
         "2024-10-06",
         "2024-10-06T17:52:10.771Z"
        ],
        [
         "Salão Beleza Pura",
         "contato@salaobelezapura.com",
         "24",
         "(51) 91844-9553",
         "2024-10-06",
         "2024-10-06T17:52:10.771Z"
        ],
        [
         "Loja de Roupas Fashion",
         "contato@lojaderoupasfashion.com",
         "25",
         "(81) 97241-3620",
         "2024-10-06",
         "2024-10-06T17:52:10.771Z"
        ],
        [
         "Pet Shop Amigo Fiel",
         "contato@petshopamigofiel.com",
         "26",
         "(31) 91631-4388",
         "2024-10-06",
         "2024-10-06T17:52:10.771Z"
        ],
        [
         "Oficina Mecânica",
         "contato@oficinamecanica.com",
         "27",
         "(31) 96744-7044",
         "2024-10-06",
         "2024-10-06T17:52:10.771Z"
        ],
        [
         "Padaria São João",
         "contato@padariasaojoao.com",
         "28",
         "(91) 95641-1530",
         "2024-10-06",
         "2024-10-06T17:52:10.771Z"
        ],
        [
         "Lanchonete Top",
         "contato@lanchonetetop.com",
         "29",
         "(41) 92964-7794",
         "2024-10-06",
         "2024-10-06T17:52:10.771Z"
        ],
        [
         "Restaurante Vegetariano",
         "contato@restaurantevegetariano.com",
         "30",
         "(81) 98693-9060",
         "2024-10-06",
         "2024-10-06T17:52:10.771Z"
        ],
        [
         "Bar e Grill",
         "contato@baregrill.com",
         "31",
         "(41) 93510-4603",
         "2024-10-06",
         "2024-10-06T17:52:10.771Z"
        ],
        [
         "Chocolateria",
         "contato@chocolateria.com",
         "32",
         "(81) 95224-4707",
         "2024-10-06",
         "2024-10-06T17:52:10.771Z"
        ],
        [
         "Frutaria Tropical",
         "contato@frutariatroipcal.com",
         "33",
         "(71) 90229-2223",
         "2024-10-06",
         "2024-10-06T17:52:10.771Z"
        ],
        [
         "Sorveteria Sorvetão",
         "contato@sorveteriasorvetao.com",
         "34",
         "(11) 91064-2800",
         "2024-10-06",
         "2024-10-06T17:52:10.771Z"
        ],
        [
         "Restaurante Japonês",
         "contato@restaurantejapones.com",
         "35",
         "(11) 91789-3252",
         "2024-10-06",
         "2024-10-06T17:52:10.771Z"
        ],
        [
         "Padaria do Bairro",
         "contato@padariadobairro.com",
         "36",
         "(31) 95389-1464",
         "2024-10-06",
         "2024-10-06T17:52:10.771Z"
        ],
        [
         "Hamburgueria Burger",
         "contato@hamburgueriaburger.com",
         "37",
         "(31) 93120-6163",
         "2024-10-06",
         "2024-10-06T17:52:10.771Z"
        ],
        [
         "Restaurante Francês",
         "contato@restaurantefrances.com",
         "38",
         "(21) 91283-5782",
         "2024-10-06",
         "2024-10-06T17:52:10.771Z"
        ],
        [
         "Bar da Esquina",
         "contato@bardaesquina.com",
         "39",
         "(51) 93941-4832",
         "2024-10-06",
         "2024-10-06T17:52:10.771Z"
        ],
        [
         "Restaurante Mexicano",
         "contato@restaurantemexicano.com",
         "40",
         "(21) 90293-4063",
         "2024-10-06",
         "2024-10-06T17:52:10.771Z"
        ],
        [
         "Pizzaria Italiana",
         "contato@pizzariaitaliana.com",
         "41",
         "(71) 99975-5015",
         "2024-10-06",
         "2024-10-06T17:52:10.771Z"
        ],
        [
         "Café Gourmet",
         "contato@cafegourmet.com",
         "42",
         "(81) 91370-2605",
         "2024-10-06",
         "2024-10-06T17:52:10.771Z"
        ],
        [
         "Restaurante Brasileiro",
         "contato@restaurantebrasileiro.com",
         "43",
         "(61) 90767-4956",
         "2024-10-06",
         "2024-10-06T17:52:10.771Z"
        ],
        [
         "Lanchonete do Bairro",
         "contato@lanchonetedobairro.com",
         "44",
         "(61) 93857-1485",
         "2024-10-06",
         "2024-10-06T17:52:10.771Z"
        ],
        [
         "Pizzaria São Pedro",
         "contato@pizzariasampedro.com",
         "45",
         "(11) 95909-3334",
         "2024-10-06",
         "2024-10-06T17:52:10.771Z"
        ],
        [
         "Pastelaria da Vila",
         "contato@pastelariadavila.com",
         "46",
         "(71) 98676-3040",
         "2024-10-06",
         "2024-10-06T17:52:10.771Z"
        ],
        [
         "Doceria Fina",
         "contato@doceriafina.com",
         "47",
         "(21) 95174-9538",
         "2024-10-06",
         "2024-10-06T17:52:10.771Z"
        ],
        [
         "Cervejaria Gourmet",
         "contato@cervejariagourmet.com",
         "48",
         "(61) 93477-1255",
         "2024-10-06",
         "2024-10-06T17:52:10.771Z"
        ],
        [
         "Mercadinho do Bairro",
         "contato@mercadinhodobairro.com",
         "49",
         "(51) 92221-5831",
         "2024-10-06",
         "2024-10-06T17:52:10.771Z"
        ],
        [
         "Bar do João",
         "joao@bardojoao.com",
         "50",
         "(71) 98909-8853",
         "2024-10-06",
         "2024-10-06T17:52:10.771Z"
        ]
       ],
       "datasetInfos": [],
       "dbfsResultPath": null,
       "isJsonSchema": true,
       "metadata": {
        "createTempViewForImplicitDf": true,
        "dataframeName": "_sqldf",
        "executionCount": 41
       },
       "overflow": false,
       "plotOptions": {
        "customPlotOptions": {},
        "displayType": "table",
        "pivotAggregation": null,
        "pivotColumns": null,
        "xColumns": null,
        "yColumns": null
       },
       "removedWidgets": [],
       "schema": [
        {
         "metadata": "{}",
         "name": "Local",
         "type": "\"string\""
        },
        {
         "metadata": "{}",
         "name": "Email",
         "type": "\"string\""
        },
        {
         "metadata": "{}",
         "name": "EstabelecimentoID",
         "type": "\"string\""
        },
        {
         "metadata": "{}",
         "name": "Telefone",
         "type": "\"string\""
        },
        {
         "metadata": "{}",
         "name": "data_carga",
         "type": "\"date\""
        },
        {
         "metadata": "{}",
         "name": "data_hora_carga",
         "type": "\"timestamp\""
        }
       ],
       "type": "table"
      }
     },
     "output_type": "display_data"
    }
   ],
   "source": [
    "%sql\n",
    "select * from bronze.estabelecimentos"
   ]
  },
  {
   "cell_type": "code",
   "execution_count": 0,
   "metadata": {
    "application/vnd.databricks.v1+cell": {
     "cellMetadata": {
      "byteLimit": 2048000,
      "rowLimit": 10000
     },
     "inputWidgets": {},
     "nuid": "c9756de7-ab9d-42bd-a1b5-f166a86a607f",
     "showTitle": false,
     "title": ""
    }
   },
   "outputs": [],
   "source": [
    "df_pedidos = spark.sql(\n",
    "    f\"\"\"\n",
    "    WITH pedidos AS (\n",
    "        SELECT\n",
    "            PedidoID AS id_pedido,\n",
    "            EstabelecimentoID AS id_estabelecimento,\n",
    "            Produto AS produto,\n",
    "            quantidade_vendida AS quantidade,\n",
    "            Preco_Unitario AS preco,\n",
    "            data_venda AS data_pedido\n",
    "        FROM\n",
    "            bronze.pedidos\n",
    "    ),\n",
    "    \n",
    "    estabelecimentos AS (\n",
    "        SELECT\n",
    "            Local AS nome_estabelecimento,\n",
    "            Email AS email,\n",
    "            EstabelecimentoID AS id_estabelecimento,\n",
    "            Telefone AS telefone\n",
    "        FROM\n",
    "            bronze.estabelecimentos\n",
    "    )\n",
    "    \n",
    "    SELECT\n",
    "        CAST(ped.id_pedido AS INT),\n",
    "        CAST(ped.id_estabelecimento AS INT),\n",
    "        ped.produto,\n",
    "        CAST(ped.quantidade AS INT),\n",
    "        CAST(ped.preco AS DECIMAL(20,2)),\n",
    "        CAST(ped.data_pedido AS DATE),\n",
    "        est.nome_estabelecimento,\n",
    "        est.email,\n",
    "        est.telefone\n",
    "    FROM\n",
    "        pedidos ped\n",
    "    LEFT JOIN\n",
    "        estabelecimentos est\n",
    "    ON ped.id_estabelecimento = est.id_estabelecimento\n",
    "    \"\"\"\n",
    ")\n"
   ]
  },
  {
   "cell_type": "code",
   "execution_count": 0,
   "metadata": {
    "application/vnd.databricks.v1+cell": {
     "cellMetadata": {
      "byteLimit": 2048000,
      "rowLimit": 10000
     },
     "inputWidgets": {},
     "nuid": "d3946d11-8281-44ae-bf18-c1598d866091",
     "showTitle": false,
     "title": ""
    }
   },
   "outputs": [
    {
     "output_type": "display_data",
     "data": {
      "text/html": [
       "<style scoped>\n",
       "  .table-result-container {\n",
       "    max-height: 300px;\n",
       "    overflow: auto;\n",
       "  }\n",
       "  table, th, td {\n",
       "    border: 1px solid black;\n",
       "    border-collapse: collapse;\n",
       "  }\n",
       "  th, td {\n",
       "    padding: 5px;\n",
       "  }\n",
       "  th {\n",
       "    text-align: left;\n",
       "  }\n",
       "</style><div class='table-result-container'><table class='table-result'><thead style='background-color: white'><tr><th>id_pedido</th><th>id_estabelecimento</th><th>produto</th><th>quantidade</th><th>preco</th><th>data_pedido</th><th>nome_estabelecimento</th><th>email</th><th>telefone</th></tr></thead><tbody><tr><td>1</td><td>50</td><td>Suco Natural</td><td>440</td><td>11.11</td><td>2023-07-22</td><td>Bar do João</td><td>joao@bardojoao.com</td><td>(71) 98909-8853</td></tr><tr><td>2</td><td>12</td><td>Refrigerante 123</td><td>278</td><td>15.45</td><td>2024-07-06</td><td>Pastelaria do Mário</td><td>contato@pastelariadomario.com</td><td>(21) 99320-8273</td></tr><tr><td>3</td><td>16</td><td>Água Mineral</td><td>178</td><td>4.26</td><td>2023-08-09</td><td>Adega do Luiz</td><td>contato@adegadoluz.com</td><td>(71) 93274-7401</td></tr><tr><td>4</td><td>42</td><td>Cerveja XYZ</td><td>38</td><td>11.65</td><td>2024-04-17</td><td>Café Gourmet</td><td>contato@cafegourmet.com</td><td>(81) 91370-2605</td></tr><tr><td>5</td><td>28</td><td>Refrigerante 123</td><td>94</td><td>9.39</td><td>2024-03-14</td><td>Padaria São João</td><td>contato@padariasaojoao.com</td><td>(91) 95641-1530</td></tr><tr><td>6</td><td>22</td><td>Suco Natural</td><td>108</td><td>8.04</td><td>2024-03-30</td><td>Papelaria Central</td><td>contato@papelariacentral.com</td><td>(41) 93189-7746</td></tr><tr><td>7</td><td>37</td><td>Cerveja XYZ</td><td>194</td><td>12.99</td><td>2024-03-27</td><td>Hamburgueria Burger</td><td>contato@hamburgueriaburger.com</td><td>(31) 93120-6163</td></tr><tr><td>8</td><td>28</td><td>Vinho ABC</td><td>349</td><td>1.26</td><td>2023-11-11</td><td>Padaria São João</td><td>contato@padariasaojoao.com</td><td>(91) 95641-1530</td></tr><tr><td>9</td><td>15</td><td>Suco Natural</td><td>62</td><td>6.25</td><td>2024-01-20</td><td>Padoca do Zé</td><td>contato@padocadodze.com</td><td>(61) 94617-3404</td></tr><tr><td>10</td><td>19</td><td>Vinho ABC</td><td>297</td><td>18.37</td><td>2024-05-07</td><td>Barbearia do Toninho</td><td>contato@barbeariadotoninho.com</td><td>(91) 99438-6690</td></tr><tr><td>11</td><td>2</td><td>Vinho ABC</td><td>253</td><td>6.37</td><td>2023-09-06</td><td>Restaurante da Ana</td><td>ana@restaurantedana.com</td><td>(11) 98891-8293</td></tr><tr><td>12</td><td>48</td><td>Cerveja XYZ</td><td>31</td><td>16.43</td><td>2023-12-08</td><td>Cervejaria Gourmet</td><td>contato@cervejariagourmet.com</td><td>(61) 93477-1255</td></tr><tr><td>13</td><td>29</td><td>Cerveja XYZ</td><td>263</td><td>7.91</td><td>2024-04-12</td><td>Lanchonete Top</td><td>contato@lanchonetetop.com</td><td>(41) 92964-7794</td></tr><tr><td>14</td><td>32</td><td>Cerveja XYZ</td><td>215</td><td>15.64</td><td>2023-12-29</td><td>Chocolateria</td><td>contato@chocolateria.com</td><td>(81) 95224-4707</td></tr><tr><td>15</td><td>10</td><td>Cerveja XYZ</td><td>88</td><td>6.43</td><td>2023-11-25</td><td>Mercadinho da Esquina</td><td>contato@mercadinhoesquina.com</td><td>(41) 90819-7897</td></tr><tr><td>16</td><td>18</td><td>Cerveja XYZ</td><td>292</td><td>12.31</td><td>2024-05-16</td><td>Cervejaria Artesanal</td><td>contato@cervejariaartesanal.com</td><td>(11) 95799-9899</td></tr><tr><td>17</td><td>7</td><td>Refrigerante 123</td><td>393</td><td>10.29</td><td>2023-12-23</td><td>Pizzaria Bella</td><td>contato@pizzariabella.com</td><td>(91) 96418-7540</td></tr><tr><td>18</td><td>48</td><td>Refrigerante 123</td><td>184</td><td>15.33</td><td>2023-08-26</td><td>Cervejaria Gourmet</td><td>contato@cervejariagourmet.com</td><td>(61) 93477-1255</td></tr><tr><td>19</td><td>7</td><td>Refrigerante 123</td><td>314</td><td>19.87</td><td>2024-02-18</td><td>Pizzaria Bella</td><td>contato@pizzariabella.com</td><td>(91) 96418-7540</td></tr><tr><td>20</td><td>18</td><td>Refrigerante 123</td><td>111</td><td>11.06</td><td>2024-07-10</td><td>Cervejaria Artesanal</td><td>contato@cervejariaartesanal.com</td><td>(11) 95799-9899</td></tr><tr><td>21</td><td>18</td><td>Refrigerante 123</td><td>73</td><td>5.66</td><td>2024-06-04</td><td>Cervejaria Artesanal</td><td>contato@cervejariaartesanal.com</td><td>(11) 95799-9899</td></tr><tr><td>22</td><td>30</td><td>Cerveja XYZ</td><td>385</td><td>2.10</td><td>2024-01-13</td><td>Restaurante Vegetariano</td><td>contato@restaurantevegetariano.com</td><td>(81) 98693-9060</td></tr><tr><td>23</td><td>27</td><td>Cerveja XYZ</td><td>366</td><td>10.83</td><td>2024-04-13</td><td>Oficina Mecânica</td><td>contato@oficinamecanica.com</td><td>(31) 96744-7044</td></tr><tr><td>24</td><td>9</td><td>Água Mineral</td><td>99</td><td>7.22</td><td>2024-02-03</td><td>Cantina Italiana</td><td>contato@cantinaitaliana.com</td><td>(91) 93994-5119</td></tr><tr><td>25</td><td>49</td><td>Água Mineral</td><td>301</td><td>6.48</td><td>2024-02-25</td><td>Mercadinho do Bairro</td><td>contato@mercadinhodobairro.com</td><td>(51) 92221-5831</td></tr><tr><td>26</td><td>49</td><td>Cerveja XYZ</td><td>191</td><td>5.93</td><td>2023-09-11</td><td>Mercadinho do Bairro</td><td>contato@mercadinhodobairro.com</td><td>(51) 92221-5831</td></tr><tr><td>27</td><td>14</td><td>Vinho ABC</td><td>182</td><td>18.15</td><td>2023-08-26</td><td>Sorveteria Geladinho</td><td>contato@sorveteriageladinho.com</td><td>(51) 92493-8299</td></tr><tr><td>28</td><td>26</td><td>Cerveja XYZ</td><td>386</td><td>9.45</td><td>2024-07-03</td><td>Pet Shop Amigo Fiel</td><td>contato@petshopamigofiel.com</td><td>(31) 91631-4388</td></tr><tr><td>29</td><td>43</td><td>Vinho ABC</td><td>170</td><td>6.27</td><td>2024-02-27</td><td>Restaurante Brasileiro</td><td>contato@restaurantebrasileiro.com</td><td>(61) 90767-4956</td></tr><tr><td>30</td><td>4</td><td>Água Mineral</td><td>159</td><td>11.59</td><td>2023-07-29</td><td>Padaria do Paulo</td><td>paulo@padariapaulo.com</td><td>(61) 97029-4259</td></tr><tr><td>31</td><td>2</td><td>Suco Natural</td><td>439</td><td>10.89</td><td>2023-11-10</td><td>Restaurante da Ana</td><td>ana@restaurantedana.com</td><td>(11) 98891-8293</td></tr><tr><td>32</td><td>23</td><td>Cerveja XYZ</td><td>125</td><td>3.53</td><td>2023-11-11</td><td>Academia Fit</td><td>contato@academiafit.com</td><td>(11) 92674-3789</td></tr><tr><td>33</td><td>10</td><td>Vinho ABC</td><td>20</td><td>1.90</td><td>2023-12-14</td><td>Mercadinho da Esquina</td><td>contato@mercadinhoesquina.com</td><td>(41) 90819-7897</td></tr><tr><td>34</td><td>4</td><td>Suco Natural</td><td>297</td><td>11.80</td><td>2024-06-02</td><td>Padaria do Paulo</td><td>paulo@padariapaulo.com</td><td>(61) 97029-4259</td></tr><tr><td>35</td><td>6</td><td>Cerveja XYZ</td><td>130</td><td>1.94</td><td>2023-12-03</td><td>Café Expresso</td><td>contato@cafeexpresso.com</td><td>(81) 91353-6764</td></tr><tr><td>36</td><td>28</td><td>Refrigerante 123</td><td>402</td><td>19.40</td><td>2024-06-27</td><td>Padaria São João</td><td>contato@padariasaojoao.com</td><td>(91) 95641-1530</td></tr><tr><td>37</td><td>20</td><td>Suco Natural</td><td>331</td><td>8.44</td><td>2024-01-14</td><td>Farmácia Popular</td><td>contato@farmaciapopular.com</td><td>(51) 94871-3208</td></tr><tr><td>38</td><td>21</td><td>Vinho ABC</td><td>256</td><td>16.60</td><td>2023-09-26</td><td>Livraria Cultura</td><td>contato@livrariacultura.com</td><td>(91) 99104-9942</td></tr><tr><td>39</td><td>15</td><td>Cerveja XYZ</td><td>315</td><td>16.31</td><td>2024-01-14</td><td>Padoca do Zé</td><td>contato@padocadodze.com</td><td>(61) 94617-3404</td></tr><tr><td>40</td><td>18</td><td>Vinho ABC</td><td>411</td><td>8.45</td><td>2023-09-16</td><td>Cervejaria Artesanal</td><td>contato@cervejariaartesanal.com</td><td>(11) 95799-9899</td></tr><tr><td>41</td><td>30</td><td>Suco Natural</td><td>306</td><td>12.93</td><td>2024-01-18</td><td>Restaurante Vegetariano</td><td>contato@restaurantevegetariano.com</td><td>(81) 98693-9060</td></tr><tr><td>42</td><td>14</td><td>Vinho ABC</td><td>386</td><td>8.89</td><td>2023-11-30</td><td>Sorveteria Geladinho</td><td>contato@sorveteriageladinho.com</td><td>(51) 92493-8299</td></tr><tr><td>43</td><td>33</td><td>Vinho ABC</td><td>250</td><td>15.51</td><td>2023-07-14</td><td>Frutaria Tropical</td><td>contato@frutariatroipcal.com</td><td>(71) 90229-2223</td></tr><tr><td>44</td><td>15</td><td>Refrigerante 123</td><td>390</td><td>18.11</td><td>2024-01-29</td><td>Padoca do Zé</td><td>contato@padocadodze.com</td><td>(61) 94617-3404</td></tr><tr><td>45</td><td>41</td><td>Cerveja XYZ</td><td>294</td><td>10.21</td><td>2023-08-16</td><td>Pizzaria Italiana</td><td>contato@pizzariaitaliana.com</td><td>(71) 99975-5015</td></tr><tr><td>46</td><td>10</td><td>Água Mineral</td><td>392</td><td>8.26</td><td>2023-11-10</td><td>Mercadinho da Esquina</td><td>contato@mercadinhoesquina.com</td><td>(41) 90819-7897</td></tr><tr><td>47</td><td>47</td><td>Refrigerante 123</td><td>473</td><td>12.57</td><td>2024-03-27</td><td>Doceria Fina</td><td>contato@doceriafina.com</td><td>(21) 95174-9538</td></tr><tr><td>48</td><td>9</td><td>Cerveja XYZ</td><td>44</td><td>19.92</td><td>2024-03-15</td><td>Cantina Italiana</td><td>contato@cantinaitaliana.com</td><td>(91) 93994-5119</td></tr><tr><td>49</td><td>1</td><td>Água Mineral</td><td>30</td><td>19.49</td><td>2024-01-20</td><td>Bar do mineiro</td><td>bar@bardomineiro</td><td>(31) 96787-9326</td></tr><tr><td>50</td><td>46</td><td>Vinho ABC</td><td>277</td><td>15.81</td><td>2024-04-10</td><td>Pastelaria da Vila</td><td>contato@pastelariadavila.com</td><td>(71) 98676-3040</td></tr><tr><td>51</td><td>45</td><td>Suco Natural</td><td>98</td><td>3.33</td><td>2023-09-29</td><td>Pizzaria São Pedro</td><td>contato@pizzariasampedro.com</td><td>(11) 95909-3334</td></tr><tr><td>52</td><td>4</td><td>Vinho ABC</td><td>144</td><td>5.94</td><td>2024-04-02</td><td>Padaria do Paulo</td><td>paulo@padariapaulo.com</td><td>(61) 97029-4259</td></tr><tr><td>53</td><td>24</td><td>Refrigerante 123</td><td>480</td><td>12.53</td><td>2024-02-09</td><td>Salão Beleza Pura</td><td>contato@salaobelezapura.com</td><td>(51) 91844-9553</td></tr><tr><td>54</td><td>29</td><td>Vinho ABC</td><td>266</td><td>1.34</td><td>2024-06-30</td><td>Lanchonete Top</td><td>contato@lanchonetetop.com</td><td>(41) 92964-7794</td></tr><tr><td>55</td><td>9</td><td>Vinho ABC</td><td>482</td><td>14.78</td><td>2023-11-22</td><td>Cantina Italiana</td><td>contato@cantinaitaliana.com</td><td>(91) 93994-5119</td></tr><tr><td>56</td><td>2</td><td>Cerveja XYZ</td><td>448</td><td>10.91</td><td>2023-08-16</td><td>Restaurante da Ana</td><td>ana@restaurantedana.com</td><td>(11) 98891-8293</td></tr><tr><td>57</td><td>27</td><td>Cerveja XYZ</td><td>463</td><td>14.77</td><td>2024-05-26</td><td>Oficina Mecânica</td><td>contato@oficinamecanica.com</td><td>(31) 96744-7044</td></tr><tr><td>58</td><td>17</td><td>Refrigerante 123</td><td>446</td><td>9.45</td><td>2024-02-28</td><td>Botequim do Chico</td><td>contato@botequimdochico.com</td><td>(11) 91707-4088</td></tr><tr><td>59</td><td>26</td><td>Vinho ABC</td><td>198</td><td>6.52</td><td>2024-05-31</td><td>Pet Shop Amigo Fiel</td><td>contato@petshopamigofiel.com</td><td>(31) 91631-4388</td></tr><tr><td>60</td><td>25</td><td>Vinho ABC</td><td>61</td><td>14.53</td><td>2024-05-21</td><td>Loja de Roupas Fashion</td><td>contato@lojaderoupasfashion.com</td><td>(81) 97241-3620</td></tr><tr><td>61</td><td>22</td><td>Suco Natural</td><td>289</td><td>19.99</td><td>2024-03-16</td><td>Papelaria Central</td><td>contato@papelariacentral.com</td><td>(41) 93189-7746</td></tr><tr><td>62</td><td>9</td><td>Suco Natural</td><td>405</td><td>15.03</td><td>2023-10-19</td><td>Cantina Italiana</td><td>contato@cantinaitaliana.com</td><td>(91) 93994-5119</td></tr><tr><td>63</td><td>34</td><td>Cerveja XYZ</td><td>186</td><td>3.87</td><td>2024-04-07</td><td>Sorveteria Sorvetão</td><td>contato@sorveteriasorvetao.com</td><td>(11) 91064-2800</td></tr><tr><td>64</td><td>50</td><td>Água Mineral</td><td>19</td><td>10.02</td><td>2024-07-04</td><td>Bar do João</td><td>joao@bardojoao.com</td><td>(71) 98909-8853</td></tr><tr><td>65</td><td>36</td><td>Água Mineral</td><td>220</td><td>11.01</td><td>2024-01-08</td><td>Padaria do Bairro</td><td>contato@padariadobairro.com</td><td>(31) 95389-1464</td></tr><tr><td>66</td><td>9</td><td>Vinho ABC</td><td>73</td><td>6.53</td><td>2024-07-09</td><td>Cantina Italiana</td><td>contato@cantinaitaliana.com</td><td>(91) 93994-5119</td></tr><tr><td>67</td><td>4</td><td>Água Mineral</td><td>212</td><td>12.72</td><td>2024-05-03</td><td>Padaria do Paulo</td><td>paulo@padariapaulo.com</td><td>(61) 97029-4259</td></tr><tr><td>68</td><td>40</td><td>Água Mineral</td><td>498</td><td>16.05</td><td>2023-09-15</td><td>Restaurante Mexicano</td><td>contato@restaurantemexicano.com</td><td>(21) 90293-4063</td></tr><tr><td>69</td><td>25</td><td>Água Mineral</td><td>23</td><td>5.71</td><td>2023-08-16</td><td>Loja de Roupas Fashion</td><td>contato@lojaderoupasfashion.com</td><td>(81) 97241-3620</td></tr><tr><td>70</td><td>48</td><td>Água Mineral</td><td>360</td><td>13.53</td><td>2024-02-05</td><td>Cervejaria Gourmet</td><td>contato@cervejariagourmet.com</td><td>(61) 93477-1255</td></tr><tr><td>71</td><td>2</td><td>Vinho ABC</td><td>96</td><td>3.70</td><td>2023-12-20</td><td>Restaurante da Ana</td><td>ana@restaurantedana.com</td><td>(11) 98891-8293</td></tr><tr><td>72</td><td>6</td><td>Suco Natural</td><td>316</td><td>14.96</td><td>2024-02-03</td><td>Café Expresso</td><td>contato@cafeexpresso.com</td><td>(81) 91353-6764</td></tr><tr><td>73</td><td>3</td><td>Vinho ABC</td><td>390</td><td>6.09</td><td>2024-05-01</td><td>Supermercado ABC</td><td>contato@superabc.com</td><td>(71) 99854-2730</td></tr><tr><td>74</td><td>36</td><td>Cerveja XYZ</td><td>461</td><td>18.79</td><td>2023-09-09</td><td>Padaria do Bairro</td><td>contato@padariadobairro.com</td><td>(31) 95389-1464</td></tr><tr><td>75</td><td>21</td><td>Cerveja XYZ</td><td>433</td><td>1.84</td><td>2024-04-19</td><td>Livraria Cultura</td><td>contato@livrariacultura.com</td><td>(91) 99104-9942</td></tr><tr><td>76</td><td>4</td><td>Cerveja XYZ</td><td>314</td><td>13.39</td><td>2024-02-29</td><td>Padaria do Paulo</td><td>paulo@padariapaulo.com</td><td>(61) 97029-4259</td></tr><tr><td>77</td><td>28</td><td>Suco Natural</td><td>113</td><td>3.41</td><td>2024-03-14</td><td>Padaria São João</td><td>contato@padariasaojoao.com</td><td>(91) 95641-1530</td></tr><tr><td>78</td><td>20</td><td>Água Mineral</td><td>212</td><td>12.08</td><td>2023-12-24</td><td>Farmácia Popular</td><td>contato@farmaciapopular.com</td><td>(51) 94871-3208</td></tr><tr><td>79</td><td>31</td><td>Água Mineral</td><td>190</td><td>11.35</td><td>2023-08-02</td><td>Bar e Grill</td><td>contato@baregrill.com</td><td>(41) 93510-4603</td></tr><tr><td>80</td><td>15</td><td>Água Mineral</td><td>494</td><td>18.05</td><td>2023-11-11</td><td>Padoca do Zé</td><td>contato@padocadodze.com</td><td>(61) 94617-3404</td></tr><tr><td>81</td><td>23</td><td>Suco Natural</td><td>340</td><td>5.15</td><td>2024-03-14</td><td>Academia Fit</td><td>contato@academiafit.com</td><td>(11) 92674-3789</td></tr><tr><td>82</td><td>21</td><td>Cerveja XYZ</td><td>69</td><td>7.56</td><td>2023-09-03</td><td>Livraria Cultura</td><td>contato@livrariacultura.com</td><td>(91) 99104-9942</td></tr><tr><td>83</td><td>5</td><td>Suco Natural</td><td>328</td><td>7.31</td><td>2023-12-30</td><td>Lanchonete da Maria</td><td>maria@lanchonetemaria.com</td><td>(61) 95460-5114</td></tr><tr><td>84</td><td>29</td><td>Cerveja XYZ</td><td>372</td><td>12.43</td><td>2024-01-20</td><td>Lanchonete Top</td><td>contato@lanchonetetop.com</td><td>(41) 92964-7794</td></tr><tr><td>85</td><td>19</td><td>Água Mineral</td><td>177</td><td>4.37</td><td>2023-11-22</td><td>Barbearia do Toninho</td><td>contato@barbeariadotoninho.com</td><td>(91) 99438-6690</td></tr><tr><td>86</td><td>15</td><td>Vinho ABC</td><td>157</td><td>4.05</td><td>2024-04-24</td><td>Padoca do Zé</td><td>contato@padocadodze.com</td><td>(61) 94617-3404</td></tr><tr><td>87</td><td>18</td><td>Água Mineral</td><td>53</td><td>8.20</td><td>2024-06-06</td><td>Cervejaria Artesanal</td><td>contato@cervejariaartesanal.com</td><td>(11) 95799-9899</td></tr><tr><td>88</td><td>24</td><td>Cerveja XYZ</td><td>100</td><td>12.80</td><td>2023-09-20</td><td>Salão Beleza Pura</td><td>contato@salaobelezapura.com</td><td>(51) 91844-9553</td></tr><tr><td>89</td><td>29</td><td>Vinho ABC</td><td>276</td><td>9.57</td><td>2024-06-05</td><td>Lanchonete Top</td><td>contato@lanchonetetop.com</td><td>(41) 92964-7794</td></tr><tr><td>90</td><td>31</td><td>Suco Natural</td><td>412</td><td>16.41</td><td>2024-03-09</td><td>Bar e Grill</td><td>contato@baregrill.com</td><td>(41) 93510-4603</td></tr><tr><td>91</td><td>14</td><td>Vinho ABC</td><td>74</td><td>16.84</td><td>2024-03-04</td><td>Sorveteria Geladinho</td><td>contato@sorveteriageladinho.com</td><td>(51) 92493-8299</td></tr><tr><td>92</td><td>13</td><td>Cerveja XYZ</td><td>242</td><td>8.58</td><td>2023-12-19</td><td>Hamburgueria Prime</td><td>contato@hamburgueriaprime.com</td><td>(61) 90265-7365</td></tr><tr><td>93</td><td>45</td><td>Vinho ABC</td><td>88</td><td>4.87</td><td>2023-11-14</td><td>Pizzaria São Pedro</td><td>contato@pizzariasampedro.com</td><td>(11) 95909-3334</td></tr><tr><td>94</td><td>3</td><td>Água Mineral</td><td>249</td><td>7.09</td><td>2024-02-04</td><td>Supermercado ABC</td><td>contato@superabc.com</td><td>(71) 99854-2730</td></tr><tr><td>95</td><td>7</td><td>Vinho ABC</td><td>205</td><td>11.64</td><td>2023-08-27</td><td>Pizzaria Bella</td><td>contato@pizzariabella.com</td><td>(91) 96418-7540</td></tr><tr><td>96</td><td>49</td><td>Cerveja XYZ</td><td>395</td><td>17.46</td><td>2024-02-02</td><td>Mercadinho do Bairro</td><td>contato@mercadinhodobairro.com</td><td>(51) 92221-5831</td></tr><tr><td>97</td><td>25</td><td>Refrigerante 123</td><td>34</td><td>16.12</td><td>2024-07-06</td><td>Loja de Roupas Fashion</td><td>contato@lojaderoupasfashion.com</td><td>(81) 97241-3620</td></tr><tr><td>98</td><td>28</td><td>Suco Natural</td><td>284</td><td>8.15</td><td>2023-12-05</td><td>Padaria São João</td><td>contato@padariasaojoao.com</td><td>(91) 95641-1530</td></tr><tr><td>99</td><td>28</td><td>Suco Natural</td><td>496</td><td>4.90</td><td>2023-08-19</td><td>Padaria São João</td><td>contato@padariasaojoao.com</td><td>(91) 95641-1530</td></tr><tr><td>100</td><td>50</td><td>Refrigerante 123</td><td>109</td><td>16.50</td><td>2023-11-05</td><td>Bar do João</td><td>joao@bardojoao.com</td><td>(71) 98909-8853</td></tr><tr><td>101</td><td>43</td><td>Suco Natural</td><td>491</td><td>12.15</td><td>2024-03-09</td><td>Restaurante Brasileiro</td><td>contato@restaurantebrasileiro.com</td><td>(61) 90767-4956</td></tr><tr><td>102</td><td>20</td><td>Suco Natural</td><td>109</td><td>14.80</td><td>2023-08-21</td><td>Farmácia Popular</td><td>contato@farmaciapopular.com</td><td>(51) 94871-3208</td></tr><tr><td>103</td><td>4</td><td>Vinho ABC</td><td>295</td><td>15.44</td><td>2023-09-20</td><td>Padaria do Paulo</td><td>paulo@padariapaulo.com</td><td>(61) 97029-4259</td></tr><tr><td>104</td><td>7</td><td>Suco Natural</td><td>107</td><td>1.72</td><td>2023-12-11</td><td>Pizzaria Bella</td><td>contato@pizzariabella.com</td><td>(91) 96418-7540</td></tr><tr><td>105</td><td>48</td><td>Vinho ABC</td><td>301</td><td>9.41</td><td>2023-09-03</td><td>Cervejaria Gourmet</td><td>contato@cervejariagourmet.com</td><td>(61) 93477-1255</td></tr><tr><td>106</td><td>23</td><td>Refrigerante 123</td><td>389</td><td>11.09</td><td>2024-05-18</td><td>Academia Fit</td><td>contato@academiafit.com</td><td>(11) 92674-3789</td></tr><tr><td>107</td><td>43</td><td>Refrigerante 123</td><td>414</td><td>1.42</td><td>2023-12-09</td><td>Restaurante Brasileiro</td><td>contato@restaurantebrasileiro.com</td><td>(61) 90767-4956</td></tr><tr><td>108</td><td>4</td><td>Vinho ABC</td><td>307</td><td>14.69</td><td>2023-10-12</td><td>Padaria do Paulo</td><td>paulo@padariapaulo.com</td><td>(61) 97029-4259</td></tr><tr><td>109</td><td>13</td><td>Suco Natural</td><td>49</td><td>14.61</td><td>2023-08-22</td><td>Hamburgueria Prime</td><td>contato@hamburgueriaprime.com</td><td>(61) 90265-7365</td></tr><tr><td>110</td><td>34</td><td>Refrigerante 123</td><td>392</td><td>13.64</td><td>2024-02-27</td><td>Sorveteria Sorvetão</td><td>contato@sorveteriasorvetao.com</td><td>(11) 91064-2800</td></tr><tr><td>111</td><td>28</td><td>Água Mineral</td><td>51</td><td>13.69</td><td>2023-12-29</td><td>Padaria São João</td><td>contato@padariasaojoao.com</td><td>(91) 95641-1530</td></tr><tr><td>112</td><td>20</td><td>Água Mineral</td><td>36</td><td>4.79</td><td>2024-03-16</td><td>Farmácia Popular</td><td>contato@farmaciapopular.com</td><td>(51) 94871-3208</td></tr><tr><td>113</td><td>37</td><td>Refrigerante 123</td><td>243</td><td>7.08</td><td>2023-11-11</td><td>Hamburgueria Burger</td><td>contato@hamburgueriaburger.com</td><td>(31) 93120-6163</td></tr><tr><td>114</td><td>9</td><td>Refrigerante 123</td><td>350</td><td>11.16</td><td>2024-04-13</td><td>Cantina Italiana</td><td>contato@cantinaitaliana.com</td><td>(91) 93994-5119</td></tr><tr><td>115</td><td>46</td><td>Suco Natural</td><td>415</td><td>17.37</td><td>2023-11-14</td><td>Pastelaria da Vila</td><td>contato@pastelariadavila.com</td><td>(71) 98676-3040</td></tr><tr><td>116</td><td>18</td><td>Refrigerante 123</td><td>89</td><td>14.44</td><td>2024-04-21</td><td>Cervejaria Artesanal</td><td>contato@cervejariaartesanal.com</td><td>(11) 95799-9899</td></tr><tr><td>117</td><td>24</td><td>Água Mineral</td><td>183</td><td>2.99</td><td>2024-06-29</td><td>Salão Beleza Pura</td><td>contato@salaobelezapura.com</td><td>(51) 91844-9553</td></tr><tr><td>118</td><td>31</td><td>Vinho ABC</td><td>335</td><td>17.99</td><td>2024-05-02</td><td>Bar e Grill</td><td>contato@baregrill.com</td><td>(41) 93510-4603</td></tr><tr><td>119</td><td>11</td><td>Água Mineral</td><td>337</td><td>12.01</td><td>2023-10-15</td><td>Doceria Delícia</td><td>contato@doceriadelicia.com</td><td>(61) 95626-8430</td></tr><tr><td>120</td><td>4</td><td>Vinho ABC</td><td>111</td><td>7.54</td><td>2023-12-17</td><td>Padaria do Paulo</td><td>paulo@padariapaulo.com</td><td>(61) 97029-4259</td></tr><tr><td>121</td><td>39</td><td>Vinho ABC</td><td>444</td><td>11.52</td><td>2024-01-20</td><td>Bar da Esquina</td><td>contato@bardaesquina.com</td><td>(51) 93941-4832</td></tr><tr><td>122</td><td>4</td><td>Água Mineral</td><td>14</td><td>8.67</td><td>2024-05-24</td><td>Padaria do Paulo</td><td>paulo@padariapaulo.com</td><td>(61) 97029-4259</td></tr><tr><td>123</td><td>23</td><td>Água Mineral</td><td>383</td><td>6.07</td><td>2024-06-24</td><td>Academia Fit</td><td>contato@academiafit.com</td><td>(11) 92674-3789</td></tr><tr><td>124</td><td>16</td><td>Vinho ABC</td><td>380</td><td>15.19</td><td>2024-05-21</td><td>Adega do Luiz</td><td>contato@adegadoluz.com</td><td>(71) 93274-7401</td></tr><tr><td>125</td><td>15</td><td>Água Mineral</td><td>404</td><td>18.28</td><td>2023-11-22</td><td>Padoca do Zé</td><td>contato@padocadodze.com</td><td>(61) 94617-3404</td></tr><tr><td>126</td><td>39</td><td>Suco Natural</td><td>285</td><td>15.35</td><td>2024-06-09</td><td>Bar da Esquina</td><td>contato@bardaesquina.com</td><td>(51) 93941-4832</td></tr><tr><td>127</td><td>5</td><td>Suco Natural</td><td>65</td><td>17.00</td><td>2024-05-31</td><td>Lanchonete da Maria</td><td>maria@lanchonetemaria.com</td><td>(61) 95460-5114</td></tr><tr><td>128</td><td>36</td><td>Cerveja XYZ</td><td>321</td><td>17.15</td><td>2024-05-07</td><td>Padaria do Bairro</td><td>contato@padariadobairro.com</td><td>(31) 95389-1464</td></tr><tr><td>129</td><td>12</td><td>Vinho ABC</td><td>235</td><td>10.74</td><td>2024-05-10</td><td>Pastelaria do Mário</td><td>contato@pastelariadomario.com</td><td>(21) 99320-8273</td></tr><tr><td>130</td><td>21</td><td>Cerveja XYZ</td><td>476</td><td>8.20</td><td>2024-03-27</td><td>Livraria Cultura</td><td>contato@livrariacultura.com</td><td>(91) 99104-9942</td></tr><tr><td>131</td><td>39</td><td>Refrigerante 123</td><td>23</td><td>7.14</td><td>2023-10-29</td><td>Bar da Esquina</td><td>contato@bardaesquina.com</td><td>(51) 93941-4832</td></tr><tr><td>132</td><td>50</td><td>Água Mineral</td><td>345</td><td>1.98</td><td>2024-02-08</td><td>Bar do João</td><td>joao@bardojoao.com</td><td>(71) 98909-8853</td></tr><tr><td>133</td><td>44</td><td>Refrigerante 123</td><td>174</td><td>12.47</td><td>2023-10-19</td><td>Lanchonete do Bairro</td><td>contato@lanchonetedobairro.com</td><td>(61) 93857-1485</td></tr><tr><td>134</td><td>17</td><td>Vinho ABC</td><td>327</td><td>12.78</td><td>2024-03-03</td><td>Botequim do Chico</td><td>contato@botequimdochico.com</td><td>(11) 91707-4088</td></tr><tr><td>135</td><td>40</td><td>Vinho ABC</td><td>213</td><td>15.57</td><td>2023-09-24</td><td>Restaurante Mexicano</td><td>contato@restaurantemexicano.com</td><td>(21) 90293-4063</td></tr><tr><td>136</td><td>19</td><td>Refrigerante 123</td><td>499</td><td>6.57</td><td>2024-05-24</td><td>Barbearia do Toninho</td><td>contato@barbeariadotoninho.com</td><td>(91) 99438-6690</td></tr><tr><td>137</td><td>36</td><td>Vinho ABC</td><td>180</td><td>5.32</td><td>2023-08-01</td><td>Padaria do Bairro</td><td>contato@padariadobairro.com</td><td>(31) 95389-1464</td></tr><tr><td>138</td><td>8</td><td>Vinho ABC</td><td>146</td><td>1.26</td><td>2024-05-28</td><td>Churrascaria Gaúcha</td><td>contato@churrascariagaucha.com</td><td>(31) 98582-4944</td></tr><tr><td>139</td><td>26</td><td>Vinho ABC</td><td>57</td><td>7.28</td><td>2023-10-14</td><td>Pet Shop Amigo Fiel</td><td>contato@petshopamigofiel.com</td><td>(31) 91631-4388</td></tr><tr><td>140</td><td>33</td><td>Vinho ABC</td><td>420</td><td>18.40</td><td>2024-04-09</td><td>Frutaria Tropical</td><td>contato@frutariatroipcal.com</td><td>(71) 90229-2223</td></tr><tr><td>141</td><td>16</td><td>Cerveja XYZ</td><td>325</td><td>18.41</td><td>2024-01-14</td><td>Adega do Luiz</td><td>contato@adegadoluz.com</td><td>(71) 93274-7401</td></tr><tr><td>142</td><td>50</td><td>Suco Natural</td><td>302</td><td>18.10</td><td>2024-05-20</td><td>Bar do João</td><td>joao@bardojoao.com</td><td>(71) 98909-8853</td></tr><tr><td>143</td><td>19</td><td>Vinho ABC</td><td>423</td><td>16.36</td><td>2023-12-21</td><td>Barbearia do Toninho</td><td>contato@barbeariadotoninho.com</td><td>(91) 99438-6690</td></tr><tr><td>144</td><td>18</td><td>Água Mineral</td><td>483</td><td>19.92</td><td>2023-07-31</td><td>Cervejaria Artesanal</td><td>contato@cervejariaartesanal.com</td><td>(11) 95799-9899</td></tr><tr><td>145</td><td>17</td><td>Vinho ABC</td><td>446</td><td>6.86</td><td>2024-03-20</td><td>Botequim do Chico</td><td>contato@botequimdochico.com</td><td>(11) 91707-4088</td></tr><tr><td>146</td><td>34</td><td>Suco Natural</td><td>484</td><td>3.52</td><td>2024-05-24</td><td>Sorveteria Sorvetão</td><td>contato@sorveteriasorvetao.com</td><td>(11) 91064-2800</td></tr><tr><td>147</td><td>14</td><td>Vinho ABC</td><td>288</td><td>9.13</td><td>2023-12-21</td><td>Sorveteria Geladinho</td><td>contato@sorveteriageladinho.com</td><td>(51) 92493-8299</td></tr><tr><td>148</td><td>38</td><td>Cerveja XYZ</td><td>238</td><td>1.30</td><td>2023-07-11</td><td>Restaurante Francês</td><td>contato@restaurantefrances.com</td><td>(21) 91283-5782</td></tr><tr><td>149</td><td>30</td><td>Refrigerante 123</td><td>445</td><td>9.06</td><td>2024-02-05</td><td>Restaurante Vegetariano</td><td>contato@restaurantevegetariano.com</td><td>(81) 98693-9060</td></tr><tr><td>150</td><td>20</td><td>Água Mineral</td><td>292</td><td>1.81</td><td>2023-12-13</td><td>Farmácia Popular</td><td>contato@farmaciapopular.com</td><td>(51) 94871-3208</td></tr><tr><td>151</td><td>13</td><td>Vinho ABC</td><td>106</td><td>10.19</td><td>2024-03-21</td><td>Hamburgueria Prime</td><td>contato@hamburgueriaprime.com</td><td>(61) 90265-7365</td></tr><tr><td>152</td><td>15</td><td>Vinho ABC</td><td>329</td><td>3.27</td><td>2024-02-24</td><td>Padoca do Zé</td><td>contato@padocadodze.com</td><td>(61) 94617-3404</td></tr><tr><td>153</td><td>27</td><td>Água Mineral</td><td>457</td><td>18.48</td><td>2023-10-29</td><td>Oficina Mecânica</td><td>contato@oficinamecanica.com</td><td>(31) 96744-7044</td></tr><tr><td>154</td><td>6</td><td>Refrigerante 123</td><td>481</td><td>14.62</td><td>2024-06-01</td><td>Café Expresso</td><td>contato@cafeexpresso.com</td><td>(81) 91353-6764</td></tr><tr><td>155</td><td>34</td><td>Cerveja XYZ</td><td>122</td><td>3.34</td><td>2024-02-13</td><td>Sorveteria Sorvetão</td><td>contato@sorveteriasorvetao.com</td><td>(11) 91064-2800</td></tr><tr><td>156</td><td>20</td><td>Refrigerante 123</td><td>499</td><td>7.77</td><td>2023-09-01</td><td>Farmácia Popular</td><td>contato@farmaciapopular.com</td><td>(51) 94871-3208</td></tr><tr><td>157</td><td>48</td><td>Cerveja XYZ</td><td>375</td><td>13.83</td><td>2023-09-01</td><td>Cervejaria Gourmet</td><td>contato@cervejariagourmet.com</td><td>(61) 93477-1255</td></tr><tr><td>158</td><td>25</td><td>Água Mineral</td><td>275</td><td>7.58</td><td>2023-12-16</td><td>Loja de Roupas Fashion</td><td>contato@lojaderoupasfashion.com</td><td>(81) 97241-3620</td></tr><tr><td>159</td><td>40</td><td>Cerveja XYZ</td><td>78</td><td>19.83</td><td>2023-10-23</td><td>Restaurante Mexicano</td><td>contato@restaurantemexicano.com</td><td>(21) 90293-4063</td></tr><tr><td>160</td><td>47</td><td>Suco Natural</td><td>472</td><td>8.20</td><td>2023-11-21</td><td>Doceria Fina</td><td>contato@doceriafina.com</td><td>(21) 95174-9538</td></tr><tr><td>161</td><td>20</td><td>Cerveja XYZ</td><td>285</td><td>15.67</td><td>2023-11-01</td><td>Farmácia Popular</td><td>contato@farmaciapopular.com</td><td>(51) 94871-3208</td></tr><tr><td>162</td><td>8</td><td>Refrigerante 123</td><td>112</td><td>15.97</td><td>2023-07-13</td><td>Churrascaria Gaúcha</td><td>contato@churrascariagaucha.com</td><td>(31) 98582-4944</td></tr><tr><td>163</td><td>40</td><td>Água Mineral</td><td>336</td><td>14.82</td><td>2024-04-08</td><td>Restaurante Mexicano</td><td>contato@restaurantemexicano.com</td><td>(21) 90293-4063</td></tr><tr><td>164</td><td>24</td><td>Suco Natural</td><td>16</td><td>16.10</td><td>2024-03-12</td><td>Salão Beleza Pura</td><td>contato@salaobelezapura.com</td><td>(51) 91844-9553</td></tr><tr><td>165</td><td>19</td><td>Cerveja XYZ</td><td>108</td><td>4.19</td><td>2024-01-10</td><td>Barbearia do Toninho</td><td>contato@barbeariadotoninho.com</td><td>(91) 99438-6690</td></tr><tr><td>166</td><td>30</td><td>Vinho ABC</td><td>346</td><td>16.22</td><td>2023-11-09</td><td>Restaurante Vegetariano</td><td>contato@restaurantevegetariano.com</td><td>(81) 98693-9060</td></tr><tr><td>167</td><td>4</td><td>Cerveja XYZ</td><td>196</td><td>16.59</td><td>2023-10-28</td><td>Padaria do Paulo</td><td>paulo@padariapaulo.com</td><td>(61) 97029-4259</td></tr><tr><td>168</td><td>11</td><td>Água Mineral</td><td>199</td><td>16.53</td><td>2023-12-19</td><td>Doceria Delícia</td><td>contato@doceriadelicia.com</td><td>(61) 95626-8430</td></tr><tr><td>169</td><td>35</td><td>Água Mineral</td><td>91</td><td>16.42</td><td>2024-01-04</td><td>Restaurante Japonês</td><td>contato@restaurantejapones.com</td><td>(11) 91789-3252</td></tr><tr><td>170</td><td>30</td><td>Vinho ABC</td><td>228</td><td>7.86</td><td>2024-06-26</td><td>Restaurante Vegetariano</td><td>contato@restaurantevegetariano.com</td><td>(81) 98693-9060</td></tr><tr><td>171</td><td>41</td><td>Cerveja XYZ</td><td>484</td><td>10.95</td><td>2024-05-10</td><td>Pizzaria Italiana</td><td>contato@pizzariaitaliana.com</td><td>(71) 99975-5015</td></tr><tr><td>172</td><td>38</td><td>Vinho ABC</td><td>313</td><td>15.36</td><td>2024-05-01</td><td>Restaurante Francês</td><td>contato@restaurantefrances.com</td><td>(21) 91283-5782</td></tr><tr><td>173</td><td>24</td><td>Cerveja XYZ</td><td>369</td><td>3.49</td><td>2023-12-10</td><td>Salão Beleza Pura</td><td>contato@salaobelezapura.com</td><td>(51) 91844-9553</td></tr><tr><td>174</td><td>29</td><td>Cerveja XYZ</td><td>431</td><td>4.66</td><td>2024-02-20</td><td>Lanchonete Top</td><td>contato@lanchonetetop.com</td><td>(41) 92964-7794</td></tr><tr><td>175</td><td>23</td><td>Suco Natural</td><td>148</td><td>9.70</td><td>2023-10-19</td><td>Academia Fit</td><td>contato@academiafit.com</td><td>(11) 92674-3789</td></tr><tr><td>176</td><td>48</td><td>Água Mineral</td><td>69</td><td>13.70</td><td>2024-04-03</td><td>Cervejaria Gourmet</td><td>contato@cervejariagourmet.com</td><td>(61) 93477-1255</td></tr><tr><td>177</td><td>6</td><td>Água Mineral</td><td>415</td><td>8.55</td><td>2024-07-06</td><td>Café Expresso</td><td>contato@cafeexpresso.com</td><td>(81) 91353-6764</td></tr><tr><td>178</td><td>25</td><td>Suco Natural</td><td>318</td><td>13.56</td><td>2023-08-15</td><td>Loja de Roupas Fashion</td><td>contato@lojaderoupasfashion.com</td><td>(81) 97241-3620</td></tr><tr><td>179</td><td>13</td><td>Água Mineral</td><td>280</td><td>8.93</td><td>2023-07-23</td><td>Hamburgueria Prime</td><td>contato@hamburgueriaprime.com</td><td>(61) 90265-7365</td></tr><tr><td>180</td><td>15</td><td>Vinho ABC</td><td>200</td><td>17.31</td><td>2023-08-02</td><td>Padoca do Zé</td><td>contato@padocadodze.com</td><td>(61) 94617-3404</td></tr><tr><td>181</td><td>19</td><td>Suco Natural</td><td>414</td><td>2.13</td><td>2023-11-21</td><td>Barbearia do Toninho</td><td>contato@barbeariadotoninho.com</td><td>(91) 99438-6690</td></tr><tr><td>182</td><td>38</td><td>Refrigerante 123</td><td>365</td><td>18.55</td><td>2023-09-05</td><td>Restaurante Francês</td><td>contato@restaurantefrances.com</td><td>(21) 91283-5782</td></tr><tr><td>183</td><td>35</td><td>Cerveja XYZ</td><td>105</td><td>16.39</td><td>2023-11-01</td><td>Restaurante Japonês</td><td>contato@restaurantejapones.com</td><td>(11) 91789-3252</td></tr><tr><td>184</td><td>5</td><td>Refrigerante 123</td><td>127</td><td>4.02</td><td>2024-02-11</td><td>Lanchonete da Maria</td><td>maria@lanchonetemaria.com</td><td>(61) 95460-5114</td></tr><tr><td>185</td><td>7</td><td>Água Mineral</td><td>190</td><td>7.10</td><td>2024-04-10</td><td>Pizzaria Bella</td><td>contato@pizzariabella.com</td><td>(91) 96418-7540</td></tr><tr><td>186</td><td>44</td><td>Cerveja XYZ</td><td>92</td><td>14.17</td><td>2023-12-02</td><td>Lanchonete do Bairro</td><td>contato@lanchonetedobairro.com</td><td>(61) 93857-1485</td></tr><tr><td>187</td><td>42</td><td>Suco Natural</td><td>276</td><td>14.24</td><td>2024-05-10</td><td>Café Gourmet</td><td>contato@cafegourmet.com</td><td>(81) 91370-2605</td></tr><tr><td>188</td><td>23</td><td>Água Mineral</td><td>86</td><td>11.38</td><td>2024-03-11</td><td>Academia Fit</td><td>contato@academiafit.com</td><td>(11) 92674-3789</td></tr><tr><td>189</td><td>39</td><td>Vinho ABC</td><td>479</td><td>14.05</td><td>2024-04-25</td><td>Bar da Esquina</td><td>contato@bardaesquina.com</td><td>(51) 93941-4832</td></tr><tr><td>190</td><td>33</td><td>Suco Natural</td><td>135</td><td>3.46</td><td>2023-10-04</td><td>Frutaria Tropical</td><td>contato@frutariatroipcal.com</td><td>(71) 90229-2223</td></tr><tr><td>191</td><td>4</td><td>Refrigerante 123</td><td>312</td><td>11.35</td><td>2023-07-26</td><td>Padaria do Paulo</td><td>paulo@padariapaulo.com</td><td>(61) 97029-4259</td></tr><tr><td>192</td><td>39</td><td>Refrigerante 123</td><td>380</td><td>15.99</td><td>2023-12-22</td><td>Bar da Esquina</td><td>contato@bardaesquina.com</td><td>(51) 93941-4832</td></tr><tr><td>193</td><td>5</td><td>Suco Natural</td><td>275</td><td>1.79</td><td>2024-05-24</td><td>Lanchonete da Maria</td><td>maria@lanchonetemaria.com</td><td>(61) 95460-5114</td></tr><tr><td>194</td><td>20</td><td>Suco Natural</td><td>442</td><td>10.01</td><td>2023-07-21</td><td>Farmácia Popular</td><td>contato@farmaciapopular.com</td><td>(51) 94871-3208</td></tr><tr><td>195</td><td>47</td><td>Refrigerante 123</td><td>369</td><td>3.56</td><td>2024-01-18</td><td>Doceria Fina</td><td>contato@doceriafina.com</td><td>(21) 95174-9538</td></tr><tr><td>196</td><td>31</td><td>Vinho ABC</td><td>316</td><td>14.33</td><td>2023-08-16</td><td>Bar e Grill</td><td>contato@baregrill.com</td><td>(41) 93510-4603</td></tr><tr><td>197</td><td>12</td><td>Água Mineral</td><td>239</td><td>2.13</td><td>2024-05-01</td><td>Pastelaria do Mário</td><td>contato@pastelariadomario.com</td><td>(21) 99320-8273</td></tr><tr><td>198</td><td>37</td><td>Água Mineral</td><td>338</td><td>3.53</td><td>2023-07-28</td><td>Hamburgueria Burger</td><td>contato@hamburgueriaburger.com</td><td>(31) 93120-6163</td></tr><tr><td>199</td><td>15</td><td>Refrigerante 123</td><td>440</td><td>6.88</td><td>2023-09-05</td><td>Padoca do Zé</td><td>contato@padocadodze.com</td><td>(61) 94617-3404</td></tr><tr><td>200</td><td>19</td><td>Cerveja XYZ</td><td>416</td><td>10.19</td><td>2024-01-04</td><td>Barbearia do Toninho</td><td>contato@barbeariadotoninho.com</td><td>(91) 99438-6690</td></tr><tr><td>201</td><td>6</td><td>Suco Natural</td><td>225</td><td>12.89</td><td>2023-09-30</td><td>Café Expresso</td><td>contato@cafeexpresso.com</td><td>(81) 91353-6764</td></tr><tr><td>202</td><td>48</td><td>Água Mineral</td><td>184</td><td>11.89</td><td>2024-01-27</td><td>Cervejaria Gourmet</td><td>contato@cervejariagourmet.com</td><td>(61) 93477-1255</td></tr><tr><td>203</td><td>7</td><td>Cerveja XYZ</td><td>173</td><td>14.00</td><td>2023-09-12</td><td>Pizzaria Bella</td><td>contato@pizzariabella.com</td><td>(91) 96418-7540</td></tr><tr><td>204</td><td>37</td><td>Cerveja XYZ</td><td>326</td><td>16.27</td><td>2023-10-28</td><td>Hamburgueria Burger</td><td>contato@hamburgueriaburger.com</td><td>(31) 93120-6163</td></tr><tr><td>205</td><td>19</td><td>Cerveja XYZ</td><td>322</td><td>7.76</td><td>2023-08-05</td><td>Barbearia do Toninho</td><td>contato@barbeariadotoninho.com</td><td>(91) 99438-6690</td></tr><tr><td>206</td><td>31</td><td>Vinho ABC</td><td>369</td><td>16.98</td><td>2023-08-05</td><td>Bar e Grill</td><td>contato@baregrill.com</td><td>(41) 93510-4603</td></tr><tr><td>207</td><td>50</td><td>Água Mineral</td><td>168</td><td>14.84</td><td>2023-09-27</td><td>Bar do João</td><td>joao@bardojoao.com</td><td>(71) 98909-8853</td></tr><tr><td>208</td><td>40</td><td>Cerveja XYZ</td><td>154</td><td>13.72</td><td>2023-12-09</td><td>Restaurante Mexicano</td><td>contato@restaurantemexicano.com</td><td>(21) 90293-4063</td></tr><tr><td>209</td><td>50</td><td>Suco Natural</td><td>83</td><td>14.73</td><td>2023-08-17</td><td>Bar do João</td><td>joao@bardojoao.com</td><td>(71) 98909-8853</td></tr><tr><td>210</td><td>35</td><td>Água Mineral</td><td>490</td><td>2.75</td><td>2024-07-10</td><td>Restaurante Japonês</td><td>contato@restaurantejapones.com</td><td>(11) 91789-3252</td></tr><tr><td>211</td><td>11</td><td>Cerveja XYZ</td><td>270</td><td>12.22</td><td>2024-03-12</td><td>Doceria Delícia</td><td>contato@doceriadelicia.com</td><td>(61) 95626-8430</td></tr><tr><td>212</td><td>35</td><td>Refrigerante 123</td><td>433</td><td>1.28</td><td>2023-09-04</td><td>Restaurante Japonês</td><td>contato@restaurantejapones.com</td><td>(11) 91789-3252</td></tr><tr><td>213</td><td>45</td><td>Cerveja XYZ</td><td>381</td><td>7.28</td><td>2024-04-16</td><td>Pizzaria São Pedro</td><td>contato@pizzariasampedro.com</td><td>(11) 95909-3334</td></tr><tr><td>214</td><td>47</td><td>Suco Natural</td><td>428</td><td>3.48</td><td>2023-10-20</td><td>Doceria Fina</td><td>contato@doceriafina.com</td><td>(21) 95174-9538</td></tr><tr><td>215</td><td>15</td><td>Água Mineral</td><td>92</td><td>2.23</td><td>2023-09-10</td><td>Padoca do Zé</td><td>contato@padocadodze.com</td><td>(61) 94617-3404</td></tr><tr><td>216</td><td>25</td><td>Água Mineral</td><td>300</td><td>18.13</td><td>2024-05-05</td><td>Loja de Roupas Fashion</td><td>contato@lojaderoupasfashion.com</td><td>(81) 97241-3620</td></tr><tr><td>217</td><td>9</td><td>Vinho ABC</td><td>169</td><td>17.14</td><td>2024-03-19</td><td>Cantina Italiana</td><td>contato@cantinaitaliana.com</td><td>(91) 93994-5119</td></tr><tr><td>218</td><td>1</td><td>Cerveja XYZ</td><td>486</td><td>13.00</td><td>2023-09-29</td><td>Bar do mineiro</td><td>bar@bardomineiro</td><td>(31) 96787-9326</td></tr><tr><td>219</td><td>26</td><td>Refrigerante 123</td><td>20</td><td>13.28</td><td>2023-09-14</td><td>Pet Shop Amigo Fiel</td><td>contato@petshopamigofiel.com</td><td>(31) 91631-4388</td></tr><tr><td>220</td><td>39</td><td>Suco Natural</td><td>109</td><td>4.44</td><td>2024-02-09</td><td>Bar da Esquina</td><td>contato@bardaesquina.com</td><td>(51) 93941-4832</td></tr><tr><td>221</td><td>24</td><td>Suco Natural</td><td>487</td><td>8.06</td><td>2024-05-11</td><td>Salão Beleza Pura</td><td>contato@salaobelezapura.com</td><td>(51) 91844-9553</td></tr><tr><td>222</td><td>10</td><td>Vinho ABC</td><td>44</td><td>18.87</td><td>2024-06-08</td><td>Mercadinho da Esquina</td><td>contato@mercadinhoesquina.com</td><td>(41) 90819-7897</td></tr><tr><td>223</td><td>23</td><td>Refrigerante 123</td><td>419</td><td>10.66</td><td>2024-03-16</td><td>Academia Fit</td><td>contato@academiafit.com</td><td>(11) 92674-3789</td></tr><tr><td>224</td><td>29</td><td>Água Mineral</td><td>106</td><td>4.73</td><td>2024-05-17</td><td>Lanchonete Top</td><td>contato@lanchonetetop.com</td><td>(41) 92964-7794</td></tr><tr><td>225</td><td>10</td><td>Refrigerante 123</td><td>207</td><td>9.82</td><td>2023-12-17</td><td>Mercadinho da Esquina</td><td>contato@mercadinhoesquina.com</td><td>(41) 90819-7897</td></tr><tr><td>226</td><td>29</td><td>Cerveja XYZ</td><td>422</td><td>17.35</td><td>2023-09-02</td><td>Lanchonete Top</td><td>contato@lanchonetetop.com</td><td>(41) 92964-7794</td></tr><tr><td>227</td><td>15</td><td>Vinho ABC</td><td>194</td><td>14.54</td><td>2024-05-12</td><td>Padoca do Zé</td><td>contato@padocadodze.com</td><td>(61) 94617-3404</td></tr><tr><td>228</td><td>27</td><td>Vinho ABC</td><td>484</td><td>16.74</td><td>2023-08-11</td><td>Oficina Mecânica</td><td>contato@oficinamecanica.com</td><td>(31) 96744-7044</td></tr><tr><td>229</td><td>21</td><td>Refrigerante 123</td><td>45</td><td>7.68</td><td>2024-04-10</td><td>Livraria Cultura</td><td>contato@livrariacultura.com</td><td>(91) 99104-9942</td></tr><tr><td>230</td><td>41</td><td>Cerveja XYZ</td><td>290</td><td>6.24</td><td>2024-06-11</td><td>Pizzaria Italiana</td><td>contato@pizzariaitaliana.com</td><td>(71) 99975-5015</td></tr><tr><td>231</td><td>9</td><td>Água Mineral</td><td>376</td><td>3.62</td><td>2024-01-02</td><td>Cantina Italiana</td><td>contato@cantinaitaliana.com</td><td>(91) 93994-5119</td></tr><tr><td>232</td><td>24</td><td>Cerveja XYZ</td><td>258</td><td>17.30</td><td>2023-12-17</td><td>Salão Beleza Pura</td><td>contato@salaobelezapura.com</td><td>(51) 91844-9553</td></tr><tr><td>233</td><td>20</td><td>Refrigerante 123</td><td>472</td><td>11.22</td><td>2024-07-01</td><td>Farmácia Popular</td><td>contato@farmaciapopular.com</td><td>(51) 94871-3208</td></tr><tr><td>234</td><td>28</td><td>Cerveja XYZ</td><td>227</td><td>2.72</td><td>2024-06-15</td><td>Padaria São João</td><td>contato@padariasaojoao.com</td><td>(91) 95641-1530</td></tr><tr><td>235</td><td>3</td><td>Água Mineral</td><td>282</td><td>3.59</td><td>2024-07-02</td><td>Supermercado ABC</td><td>contato@superabc.com</td><td>(71) 99854-2730</td></tr><tr><td>236</td><td>46</td><td>Refrigerante 123</td><td>180</td><td>8.48</td><td>2024-04-03</td><td>Pastelaria da Vila</td><td>contato@pastelariadavila.com</td><td>(71) 98676-3040</td></tr><tr><td>237</td><td>2</td><td>Água Mineral</td><td>237</td><td>15.06</td><td>2024-04-30</td><td>Restaurante da Ana</td><td>ana@restaurantedana.com</td><td>(11) 98891-8293</td></tr><tr><td>238</td><td>49</td><td>Cerveja XYZ</td><td>48</td><td>1.92</td><td>2024-01-17</td><td>Mercadinho do Bairro</td><td>contato@mercadinhodobairro.com</td><td>(51) 92221-5831</td></tr><tr><td>239</td><td>43</td><td>Suco Natural</td><td>265</td><td>7.74</td><td>2024-06-26</td><td>Restaurante Brasileiro</td><td>contato@restaurantebrasileiro.com</td><td>(61) 90767-4956</td></tr><tr><td>240</td><td>41</td><td>Suco Natural</td><td>485</td><td>12.22</td><td>2023-10-11</td><td>Pizzaria Italiana</td><td>contato@pizzariaitaliana.com</td><td>(71) 99975-5015</td></tr><tr><td>241</td><td>50</td><td>Suco Natural</td><td>488</td><td>6.81</td><td>2023-12-08</td><td>Bar do João</td><td>joao@bardojoao.com</td><td>(71) 98909-8853</td></tr><tr><td>242</td><td>39</td><td>Vinho ABC</td><td>345</td><td>12.48</td><td>2024-04-04</td><td>Bar da Esquina</td><td>contato@bardaesquina.com</td><td>(51) 93941-4832</td></tr><tr><td>243</td><td>23</td><td>Água Mineral</td><td>337</td><td>18.82</td><td>2024-04-22</td><td>Academia Fit</td><td>contato@academiafit.com</td><td>(11) 92674-3789</td></tr><tr><td>244</td><td>31</td><td>Água Mineral</td><td>280</td><td>6.08</td><td>2024-02-28</td><td>Bar e Grill</td><td>contato@baregrill.com</td><td>(41) 93510-4603</td></tr><tr><td>245</td><td>27</td><td>Cerveja XYZ</td><td>418</td><td>12.66</td><td>2024-01-31</td><td>Oficina Mecânica</td><td>contato@oficinamecanica.com</td><td>(31) 96744-7044</td></tr><tr><td>246</td><td>1</td><td>Suco Natural</td><td>468</td><td>4.25</td><td>2023-11-27</td><td>Bar do mineiro</td><td>bar@bardomineiro</td><td>(31) 96787-9326</td></tr><tr><td>247</td><td>41</td><td>Suco Natural</td><td>26</td><td>7.50</td><td>2024-04-18</td><td>Pizzaria Italiana</td><td>contato@pizzariaitaliana.com</td><td>(71) 99975-5015</td></tr><tr><td>248</td><td>44</td><td>Água Mineral</td><td>326</td><td>13.45</td><td>2023-08-10</td><td>Lanchonete do Bairro</td><td>contato@lanchonetedobairro.com</td><td>(61) 93857-1485</td></tr><tr><td>249</td><td>12</td><td>Refrigerante 123</td><td>81</td><td>12.84</td><td>2023-12-20</td><td>Pastelaria do Mário</td><td>contato@pastelariadomario.com</td><td>(21) 99320-8273</td></tr><tr><td>250</td><td>32</td><td>Água Mineral</td><td>327</td><td>11.68</td><td>2023-08-29</td><td>Chocolateria</td><td>contato@chocolateria.com</td><td>(81) 95224-4707</td></tr></tbody></table></div>"
      ]
     },
     "metadata": {
      "application/vnd.databricks.v1+output": {
       "addedWidgets": {},
       "aggData": [],
       "aggError": "",
       "aggOverflow": false,
       "aggSchema": [],
       "aggSeriesLimitReached": false,
       "aggType": "",
       "arguments": {},
       "columnCustomDisplayInfos": {},
       "data": [
        [
         1,
         50,
         "Suco Natural",
         440,
         "11.11",
         "2023-07-22",
         "Bar do João",
         "joao@bardojoao.com",
         "(71) 98909-8853"
        ],
        [
         2,
         12,
         "Refrigerante 123",
         278,
         "15.45",
         "2024-07-06",
         "Pastelaria do Mário",
         "contato@pastelariadomario.com",
         "(21) 99320-8273"
        ],
        [
         3,
         16,
         "Água Mineral",
         178,
         "4.26",
         "2023-08-09",
         "Adega do Luiz",
         "contato@adegadoluz.com",
         "(71) 93274-7401"
        ],
        [
         4,
         42,
         "Cerveja XYZ",
         38,
         "11.65",
         "2024-04-17",
         "Café Gourmet",
         "contato@cafegourmet.com",
         "(81) 91370-2605"
        ],
        [
         5,
         28,
         "Refrigerante 123",
         94,
         "9.39",
         "2024-03-14",
         "Padaria São João",
         "contato@padariasaojoao.com",
         "(91) 95641-1530"
        ],
        [
         6,
         22,
         "Suco Natural",
         108,
         "8.04",
         "2024-03-30",
         "Papelaria Central",
         "contato@papelariacentral.com",
         "(41) 93189-7746"
        ],
        [
         7,
         37,
         "Cerveja XYZ",
         194,
         "12.99",
         "2024-03-27",
         "Hamburgueria Burger",
         "contato@hamburgueriaburger.com",
         "(31) 93120-6163"
        ],
        [
         8,
         28,
         "Vinho ABC",
         349,
         "1.26",
         "2023-11-11",
         "Padaria São João",
         "contato@padariasaojoao.com",
         "(91) 95641-1530"
        ],
        [
         9,
         15,
         "Suco Natural",
         62,
         "6.25",
         "2024-01-20",
         "Padoca do Zé",
         "contato@padocadodze.com",
         "(61) 94617-3404"
        ],
        [
         10,
         19,
         "Vinho ABC",
         297,
         "18.37",
         "2024-05-07",
         "Barbearia do Toninho",
         "contato@barbeariadotoninho.com",
         "(91) 99438-6690"
        ],
        [
         11,
         2,
         "Vinho ABC",
         253,
         "6.37",
         "2023-09-06",
         "Restaurante da Ana",
         "ana@restaurantedana.com",
         "(11) 98891-8293"
        ],
        [
         12,
         48,
         "Cerveja XYZ",
         31,
         "16.43",
         "2023-12-08",
         "Cervejaria Gourmet",
         "contato@cervejariagourmet.com",
         "(61) 93477-1255"
        ],
        [
         13,
         29,
         "Cerveja XYZ",
         263,
         "7.91",
         "2024-04-12",
         "Lanchonete Top",
         "contato@lanchonetetop.com",
         "(41) 92964-7794"
        ],
        [
         14,
         32,
         "Cerveja XYZ",
         215,
         "15.64",
         "2023-12-29",
         "Chocolateria",
         "contato@chocolateria.com",
         "(81) 95224-4707"
        ],
        [
         15,
         10,
         "Cerveja XYZ",
         88,
         "6.43",
         "2023-11-25",
         "Mercadinho da Esquina",
         "contato@mercadinhoesquina.com",
         "(41) 90819-7897"
        ],
        [
         16,
         18,
         "Cerveja XYZ",
         292,
         "12.31",
         "2024-05-16",
         "Cervejaria Artesanal",
         "contato@cervejariaartesanal.com",
         "(11) 95799-9899"
        ],
        [
         17,
         7,
         "Refrigerante 123",
         393,
         "10.29",
         "2023-12-23",
         "Pizzaria Bella",
         "contato@pizzariabella.com",
         "(91) 96418-7540"
        ],
        [
         18,
         48,
         "Refrigerante 123",
         184,
         "15.33",
         "2023-08-26",
         "Cervejaria Gourmet",
         "contato@cervejariagourmet.com",
         "(61) 93477-1255"
        ],
        [
         19,
         7,
         "Refrigerante 123",
         314,
         "19.87",
         "2024-02-18",
         "Pizzaria Bella",
         "contato@pizzariabella.com",
         "(91) 96418-7540"
        ],
        [
         20,
         18,
         "Refrigerante 123",
         111,
         "11.06",
         "2024-07-10",
         "Cervejaria Artesanal",
         "contato@cervejariaartesanal.com",
         "(11) 95799-9899"
        ],
        [
         21,
         18,
         "Refrigerante 123",
         73,
         "5.66",
         "2024-06-04",
         "Cervejaria Artesanal",
         "contato@cervejariaartesanal.com",
         "(11) 95799-9899"
        ],
        [
         22,
         30,
         "Cerveja XYZ",
         385,
         "2.10",
         "2024-01-13",
         "Restaurante Vegetariano",
         "contato@restaurantevegetariano.com",
         "(81) 98693-9060"
        ],
        [
         23,
         27,
         "Cerveja XYZ",
         366,
         "10.83",
         "2024-04-13",
         "Oficina Mecânica",
         "contato@oficinamecanica.com",
         "(31) 96744-7044"
        ],
        [
         24,
         9,
         "Água Mineral",
         99,
         "7.22",
         "2024-02-03",
         "Cantina Italiana",
         "contato@cantinaitaliana.com",
         "(91) 93994-5119"
        ],
        [
         25,
         49,
         "Água Mineral",
         301,
         "6.48",
         "2024-02-25",
         "Mercadinho do Bairro",
         "contato@mercadinhodobairro.com",
         "(51) 92221-5831"
        ],
        [
         26,
         49,
         "Cerveja XYZ",
         191,
         "5.93",
         "2023-09-11",
         "Mercadinho do Bairro",
         "contato@mercadinhodobairro.com",
         "(51) 92221-5831"
        ],
        [
         27,
         14,
         "Vinho ABC",
         182,
         "18.15",
         "2023-08-26",
         "Sorveteria Geladinho",
         "contato@sorveteriageladinho.com",
         "(51) 92493-8299"
        ],
        [
         28,
         26,
         "Cerveja XYZ",
         386,
         "9.45",
         "2024-07-03",
         "Pet Shop Amigo Fiel",
         "contato@petshopamigofiel.com",
         "(31) 91631-4388"
        ],
        [
         29,
         43,
         "Vinho ABC",
         170,
         "6.27",
         "2024-02-27",
         "Restaurante Brasileiro",
         "contato@restaurantebrasileiro.com",
         "(61) 90767-4956"
        ],
        [
         30,
         4,
         "Água Mineral",
         159,
         "11.59",
         "2023-07-29",
         "Padaria do Paulo",
         "paulo@padariapaulo.com",
         "(61) 97029-4259"
        ],
        [
         31,
         2,
         "Suco Natural",
         439,
         "10.89",
         "2023-11-10",
         "Restaurante da Ana",
         "ana@restaurantedana.com",
         "(11) 98891-8293"
        ],
        [
         32,
         23,
         "Cerveja XYZ",
         125,
         "3.53",
         "2023-11-11",
         "Academia Fit",
         "contato@academiafit.com",
         "(11) 92674-3789"
        ],
        [
         33,
         10,
         "Vinho ABC",
         20,
         "1.90",
         "2023-12-14",
         "Mercadinho da Esquina",
         "contato@mercadinhoesquina.com",
         "(41) 90819-7897"
        ],
        [
         34,
         4,
         "Suco Natural",
         297,
         "11.80",
         "2024-06-02",
         "Padaria do Paulo",
         "paulo@padariapaulo.com",
         "(61) 97029-4259"
        ],
        [
         35,
         6,
         "Cerveja XYZ",
         130,
         "1.94",
         "2023-12-03",
         "Café Expresso",
         "contato@cafeexpresso.com",
         "(81) 91353-6764"
        ],
        [
         36,
         28,
         "Refrigerante 123",
         402,
         "19.40",
         "2024-06-27",
         "Padaria São João",
         "contato@padariasaojoao.com",
         "(91) 95641-1530"
        ],
        [
         37,
         20,
         "Suco Natural",
         331,
         "8.44",
         "2024-01-14",
         "Farmácia Popular",
         "contato@farmaciapopular.com",
         "(51) 94871-3208"
        ],
        [
         38,
         21,
         "Vinho ABC",
         256,
         "16.60",
         "2023-09-26",
         "Livraria Cultura",
         "contato@livrariacultura.com",
         "(91) 99104-9942"
        ],
        [
         39,
         15,
         "Cerveja XYZ",
         315,
         "16.31",
         "2024-01-14",
         "Padoca do Zé",
         "contato@padocadodze.com",
         "(61) 94617-3404"
        ],
        [
         40,
         18,
         "Vinho ABC",
         411,
         "8.45",
         "2023-09-16",
         "Cervejaria Artesanal",
         "contato@cervejariaartesanal.com",
         "(11) 95799-9899"
        ],
        [
         41,
         30,
         "Suco Natural",
         306,
         "12.93",
         "2024-01-18",
         "Restaurante Vegetariano",
         "contato@restaurantevegetariano.com",
         "(81) 98693-9060"
        ],
        [
         42,
         14,
         "Vinho ABC",
         386,
         "8.89",
         "2023-11-30",
         "Sorveteria Geladinho",
         "contato@sorveteriageladinho.com",
         "(51) 92493-8299"
        ],
        [
         43,
         33,
         "Vinho ABC",
         250,
         "15.51",
         "2023-07-14",
         "Frutaria Tropical",
         "contato@frutariatroipcal.com",
         "(71) 90229-2223"
        ],
        [
         44,
         15,
         "Refrigerante 123",
         390,
         "18.11",
         "2024-01-29",
         "Padoca do Zé",
         "contato@padocadodze.com",
         "(61) 94617-3404"
        ],
        [
         45,
         41,
         "Cerveja XYZ",
         294,
         "10.21",
         "2023-08-16",
         "Pizzaria Italiana",
         "contato@pizzariaitaliana.com",
         "(71) 99975-5015"
        ],
        [
         46,
         10,
         "Água Mineral",
         392,
         "8.26",
         "2023-11-10",
         "Mercadinho da Esquina",
         "contato@mercadinhoesquina.com",
         "(41) 90819-7897"
        ],
        [
         47,
         47,
         "Refrigerante 123",
         473,
         "12.57",
         "2024-03-27",
         "Doceria Fina",
         "contato@doceriafina.com",
         "(21) 95174-9538"
        ],
        [
         48,
         9,
         "Cerveja XYZ",
         44,
         "19.92",
         "2024-03-15",
         "Cantina Italiana",
         "contato@cantinaitaliana.com",
         "(91) 93994-5119"
        ],
        [
         49,
         1,
         "Água Mineral",
         30,
         "19.49",
         "2024-01-20",
         "Bar do mineiro",
         "bar@bardomineiro",
         "(31) 96787-9326"
        ],
        [
         50,
         46,
         "Vinho ABC",
         277,
         "15.81",
         "2024-04-10",
         "Pastelaria da Vila",
         "contato@pastelariadavila.com",
         "(71) 98676-3040"
        ],
        [
         51,
         45,
         "Suco Natural",
         98,
         "3.33",
         "2023-09-29",
         "Pizzaria São Pedro",
         "contato@pizzariasampedro.com",
         "(11) 95909-3334"
        ],
        [
         52,
         4,
         "Vinho ABC",
         144,
         "5.94",
         "2024-04-02",
         "Padaria do Paulo",
         "paulo@padariapaulo.com",
         "(61) 97029-4259"
        ],
        [
         53,
         24,
         "Refrigerante 123",
         480,
         "12.53",
         "2024-02-09",
         "Salão Beleza Pura",
         "contato@salaobelezapura.com",
         "(51) 91844-9553"
        ],
        [
         54,
         29,
         "Vinho ABC",
         266,
         "1.34",
         "2024-06-30",
         "Lanchonete Top",
         "contato@lanchonetetop.com",
         "(41) 92964-7794"
        ],
        [
         55,
         9,
         "Vinho ABC",
         482,
         "14.78",
         "2023-11-22",
         "Cantina Italiana",
         "contato@cantinaitaliana.com",
         "(91) 93994-5119"
        ],
        [
         56,
         2,
         "Cerveja XYZ",
         448,
         "10.91",
         "2023-08-16",
         "Restaurante da Ana",
         "ana@restaurantedana.com",
         "(11) 98891-8293"
        ],
        [
         57,
         27,
         "Cerveja XYZ",
         463,
         "14.77",
         "2024-05-26",
         "Oficina Mecânica",
         "contato@oficinamecanica.com",
         "(31) 96744-7044"
        ],
        [
         58,
         17,
         "Refrigerante 123",
         446,
         "9.45",
         "2024-02-28",
         "Botequim do Chico",
         "contato@botequimdochico.com",
         "(11) 91707-4088"
        ],
        [
         59,
         26,
         "Vinho ABC",
         198,
         "6.52",
         "2024-05-31",
         "Pet Shop Amigo Fiel",
         "contato@petshopamigofiel.com",
         "(31) 91631-4388"
        ],
        [
         60,
         25,
         "Vinho ABC",
         61,
         "14.53",
         "2024-05-21",
         "Loja de Roupas Fashion",
         "contato@lojaderoupasfashion.com",
         "(81) 97241-3620"
        ],
        [
         61,
         22,
         "Suco Natural",
         289,
         "19.99",
         "2024-03-16",
         "Papelaria Central",
         "contato@papelariacentral.com",
         "(41) 93189-7746"
        ],
        [
         62,
         9,
         "Suco Natural",
         405,
         "15.03",
         "2023-10-19",
         "Cantina Italiana",
         "contato@cantinaitaliana.com",
         "(91) 93994-5119"
        ],
        [
         63,
         34,
         "Cerveja XYZ",
         186,
         "3.87",
         "2024-04-07",
         "Sorveteria Sorvetão",
         "contato@sorveteriasorvetao.com",
         "(11) 91064-2800"
        ],
        [
         64,
         50,
         "Água Mineral",
         19,
         "10.02",
         "2024-07-04",
         "Bar do João",
         "joao@bardojoao.com",
         "(71) 98909-8853"
        ],
        [
         65,
         36,
         "Água Mineral",
         220,
         "11.01",
         "2024-01-08",
         "Padaria do Bairro",
         "contato@padariadobairro.com",
         "(31) 95389-1464"
        ],
        [
         66,
         9,
         "Vinho ABC",
         73,
         "6.53",
         "2024-07-09",
         "Cantina Italiana",
         "contato@cantinaitaliana.com",
         "(91) 93994-5119"
        ],
        [
         67,
         4,
         "Água Mineral",
         212,
         "12.72",
         "2024-05-03",
         "Padaria do Paulo",
         "paulo@padariapaulo.com",
         "(61) 97029-4259"
        ],
        [
         68,
         40,
         "Água Mineral",
         498,
         "16.05",
         "2023-09-15",
         "Restaurante Mexicano",
         "contato@restaurantemexicano.com",
         "(21) 90293-4063"
        ],
        [
         69,
         25,
         "Água Mineral",
         23,
         "5.71",
         "2023-08-16",
         "Loja de Roupas Fashion",
         "contato@lojaderoupasfashion.com",
         "(81) 97241-3620"
        ],
        [
         70,
         48,
         "Água Mineral",
         360,
         "13.53",
         "2024-02-05",
         "Cervejaria Gourmet",
         "contato@cervejariagourmet.com",
         "(61) 93477-1255"
        ],
        [
         71,
         2,
         "Vinho ABC",
         96,
         "3.70",
         "2023-12-20",
         "Restaurante da Ana",
         "ana@restaurantedana.com",
         "(11) 98891-8293"
        ],
        [
         72,
         6,
         "Suco Natural",
         316,
         "14.96",
         "2024-02-03",
         "Café Expresso",
         "contato@cafeexpresso.com",
         "(81) 91353-6764"
        ],
        [
         73,
         3,
         "Vinho ABC",
         390,
         "6.09",
         "2024-05-01",
         "Supermercado ABC",
         "contato@superabc.com",
         "(71) 99854-2730"
        ],
        [
         74,
         36,
         "Cerveja XYZ",
         461,
         "18.79",
         "2023-09-09",
         "Padaria do Bairro",
         "contato@padariadobairro.com",
         "(31) 95389-1464"
        ],
        [
         75,
         21,
         "Cerveja XYZ",
         433,
         "1.84",
         "2024-04-19",
         "Livraria Cultura",
         "contato@livrariacultura.com",
         "(91) 99104-9942"
        ],
        [
         76,
         4,
         "Cerveja XYZ",
         314,
         "13.39",
         "2024-02-29",
         "Padaria do Paulo",
         "paulo@padariapaulo.com",
         "(61) 97029-4259"
        ],
        [
         77,
         28,
         "Suco Natural",
         113,
         "3.41",
         "2024-03-14",
         "Padaria São João",
         "contato@padariasaojoao.com",
         "(91) 95641-1530"
        ],
        [
         78,
         20,
         "Água Mineral",
         212,
         "12.08",
         "2023-12-24",
         "Farmácia Popular",
         "contato@farmaciapopular.com",
         "(51) 94871-3208"
        ],
        [
         79,
         31,
         "Água Mineral",
         190,
         "11.35",
         "2023-08-02",
         "Bar e Grill",
         "contato@baregrill.com",
         "(41) 93510-4603"
        ],
        [
         80,
         15,
         "Água Mineral",
         494,
         "18.05",
         "2023-11-11",
         "Padoca do Zé",
         "contato@padocadodze.com",
         "(61) 94617-3404"
        ],
        [
         81,
         23,
         "Suco Natural",
         340,
         "5.15",
         "2024-03-14",
         "Academia Fit",
         "contato@academiafit.com",
         "(11) 92674-3789"
        ],
        [
         82,
         21,
         "Cerveja XYZ",
         69,
         "7.56",
         "2023-09-03",
         "Livraria Cultura",
         "contato@livrariacultura.com",
         "(91) 99104-9942"
        ],
        [
         83,
         5,
         "Suco Natural",
         328,
         "7.31",
         "2023-12-30",
         "Lanchonete da Maria",
         "maria@lanchonetemaria.com",
         "(61) 95460-5114"
        ],
        [
         84,
         29,
         "Cerveja XYZ",
         372,
         "12.43",
         "2024-01-20",
         "Lanchonete Top",
         "contato@lanchonetetop.com",
         "(41) 92964-7794"
        ],
        [
         85,
         19,
         "Água Mineral",
         177,
         "4.37",
         "2023-11-22",
         "Barbearia do Toninho",
         "contato@barbeariadotoninho.com",
         "(91) 99438-6690"
        ],
        [
         86,
         15,
         "Vinho ABC",
         157,
         "4.05",
         "2024-04-24",
         "Padoca do Zé",
         "contato@padocadodze.com",
         "(61) 94617-3404"
        ],
        [
         87,
         18,
         "Água Mineral",
         53,
         "8.20",
         "2024-06-06",
         "Cervejaria Artesanal",
         "contato@cervejariaartesanal.com",
         "(11) 95799-9899"
        ],
        [
         88,
         24,
         "Cerveja XYZ",
         100,
         "12.80",
         "2023-09-20",
         "Salão Beleza Pura",
         "contato@salaobelezapura.com",
         "(51) 91844-9553"
        ],
        [
         89,
         29,
         "Vinho ABC",
         276,
         "9.57",
         "2024-06-05",
         "Lanchonete Top",
         "contato@lanchonetetop.com",
         "(41) 92964-7794"
        ],
        [
         90,
         31,
         "Suco Natural",
         412,
         "16.41",
         "2024-03-09",
         "Bar e Grill",
         "contato@baregrill.com",
         "(41) 93510-4603"
        ],
        [
         91,
         14,
         "Vinho ABC",
         74,
         "16.84",
         "2024-03-04",
         "Sorveteria Geladinho",
         "contato@sorveteriageladinho.com",
         "(51) 92493-8299"
        ],
        [
         92,
         13,
         "Cerveja XYZ",
         242,
         "8.58",
         "2023-12-19",
         "Hamburgueria Prime",
         "contato@hamburgueriaprime.com",
         "(61) 90265-7365"
        ],
        [
         93,
         45,
         "Vinho ABC",
         88,
         "4.87",
         "2023-11-14",
         "Pizzaria São Pedro",
         "contato@pizzariasampedro.com",
         "(11) 95909-3334"
        ],
        [
         94,
         3,
         "Água Mineral",
         249,
         "7.09",
         "2024-02-04",
         "Supermercado ABC",
         "contato@superabc.com",
         "(71) 99854-2730"
        ],
        [
         95,
         7,
         "Vinho ABC",
         205,
         "11.64",
         "2023-08-27",
         "Pizzaria Bella",
         "contato@pizzariabella.com",
         "(91) 96418-7540"
        ],
        [
         96,
         49,
         "Cerveja XYZ",
         395,
         "17.46",
         "2024-02-02",
         "Mercadinho do Bairro",
         "contato@mercadinhodobairro.com",
         "(51) 92221-5831"
        ],
        [
         97,
         25,
         "Refrigerante 123",
         34,
         "16.12",
         "2024-07-06",
         "Loja de Roupas Fashion",
         "contato@lojaderoupasfashion.com",
         "(81) 97241-3620"
        ],
        [
         98,
         28,
         "Suco Natural",
         284,
         "8.15",
         "2023-12-05",
         "Padaria São João",
         "contato@padariasaojoao.com",
         "(91) 95641-1530"
        ],
        [
         99,
         28,
         "Suco Natural",
         496,
         "4.90",
         "2023-08-19",
         "Padaria São João",
         "contato@padariasaojoao.com",
         "(91) 95641-1530"
        ],
        [
         100,
         50,
         "Refrigerante 123",
         109,
         "16.50",
         "2023-11-05",
         "Bar do João",
         "joao@bardojoao.com",
         "(71) 98909-8853"
        ],
        [
         101,
         43,
         "Suco Natural",
         491,
         "12.15",
         "2024-03-09",
         "Restaurante Brasileiro",
         "contato@restaurantebrasileiro.com",
         "(61) 90767-4956"
        ],
        [
         102,
         20,
         "Suco Natural",
         109,
         "14.80",
         "2023-08-21",
         "Farmácia Popular",
         "contato@farmaciapopular.com",
         "(51) 94871-3208"
        ],
        [
         103,
         4,
         "Vinho ABC",
         295,
         "15.44",
         "2023-09-20",
         "Padaria do Paulo",
         "paulo@padariapaulo.com",
         "(61) 97029-4259"
        ],
        [
         104,
         7,
         "Suco Natural",
         107,
         "1.72",
         "2023-12-11",
         "Pizzaria Bella",
         "contato@pizzariabella.com",
         "(91) 96418-7540"
        ],
        [
         105,
         48,
         "Vinho ABC",
         301,
         "9.41",
         "2023-09-03",
         "Cervejaria Gourmet",
         "contato@cervejariagourmet.com",
         "(61) 93477-1255"
        ],
        [
         106,
         23,
         "Refrigerante 123",
         389,
         "11.09",
         "2024-05-18",
         "Academia Fit",
         "contato@academiafit.com",
         "(11) 92674-3789"
        ],
        [
         107,
         43,
         "Refrigerante 123",
         414,
         "1.42",
         "2023-12-09",
         "Restaurante Brasileiro",
         "contato@restaurantebrasileiro.com",
         "(61) 90767-4956"
        ],
        [
         108,
         4,
         "Vinho ABC",
         307,
         "14.69",
         "2023-10-12",
         "Padaria do Paulo",
         "paulo@padariapaulo.com",
         "(61) 97029-4259"
        ],
        [
         109,
         13,
         "Suco Natural",
         49,
         "14.61",
         "2023-08-22",
         "Hamburgueria Prime",
         "contato@hamburgueriaprime.com",
         "(61) 90265-7365"
        ],
        [
         110,
         34,
         "Refrigerante 123",
         392,
         "13.64",
         "2024-02-27",
         "Sorveteria Sorvetão",
         "contato@sorveteriasorvetao.com",
         "(11) 91064-2800"
        ],
        [
         111,
         28,
         "Água Mineral",
         51,
         "13.69",
         "2023-12-29",
         "Padaria São João",
         "contato@padariasaojoao.com",
         "(91) 95641-1530"
        ],
        [
         112,
         20,
         "Água Mineral",
         36,
         "4.79",
         "2024-03-16",
         "Farmácia Popular",
         "contato@farmaciapopular.com",
         "(51) 94871-3208"
        ],
        [
         113,
         37,
         "Refrigerante 123",
         243,
         "7.08",
         "2023-11-11",
         "Hamburgueria Burger",
         "contato@hamburgueriaburger.com",
         "(31) 93120-6163"
        ],
        [
         114,
         9,
         "Refrigerante 123",
         350,
         "11.16",
         "2024-04-13",
         "Cantina Italiana",
         "contato@cantinaitaliana.com",
         "(91) 93994-5119"
        ],
        [
         115,
         46,
         "Suco Natural",
         415,
         "17.37",
         "2023-11-14",
         "Pastelaria da Vila",
         "contato@pastelariadavila.com",
         "(71) 98676-3040"
        ],
        [
         116,
         18,
         "Refrigerante 123",
         89,
         "14.44",
         "2024-04-21",
         "Cervejaria Artesanal",
         "contato@cervejariaartesanal.com",
         "(11) 95799-9899"
        ],
        [
         117,
         24,
         "Água Mineral",
         183,
         "2.99",
         "2024-06-29",
         "Salão Beleza Pura",
         "contato@salaobelezapura.com",
         "(51) 91844-9553"
        ],
        [
         118,
         31,
         "Vinho ABC",
         335,
         "17.99",
         "2024-05-02",
         "Bar e Grill",
         "contato@baregrill.com",
         "(41) 93510-4603"
        ],
        [
         119,
         11,
         "Água Mineral",
         337,
         "12.01",
         "2023-10-15",
         "Doceria Delícia",
         "contato@doceriadelicia.com",
         "(61) 95626-8430"
        ],
        [
         120,
         4,
         "Vinho ABC",
         111,
         "7.54",
         "2023-12-17",
         "Padaria do Paulo",
         "paulo@padariapaulo.com",
         "(61) 97029-4259"
        ],
        [
         121,
         39,
         "Vinho ABC",
         444,
         "11.52",
         "2024-01-20",
         "Bar da Esquina",
         "contato@bardaesquina.com",
         "(51) 93941-4832"
        ],
        [
         122,
         4,
         "Água Mineral",
         14,
         "8.67",
         "2024-05-24",
         "Padaria do Paulo",
         "paulo@padariapaulo.com",
         "(61) 97029-4259"
        ],
        [
         123,
         23,
         "Água Mineral",
         383,
         "6.07",
         "2024-06-24",
         "Academia Fit",
         "contato@academiafit.com",
         "(11) 92674-3789"
        ],
        [
         124,
         16,
         "Vinho ABC",
         380,
         "15.19",
         "2024-05-21",
         "Adega do Luiz",
         "contato@adegadoluz.com",
         "(71) 93274-7401"
        ],
        [
         125,
         15,
         "Água Mineral",
         404,
         "18.28",
         "2023-11-22",
         "Padoca do Zé",
         "contato@padocadodze.com",
         "(61) 94617-3404"
        ],
        [
         126,
         39,
         "Suco Natural",
         285,
         "15.35",
         "2024-06-09",
         "Bar da Esquina",
         "contato@bardaesquina.com",
         "(51) 93941-4832"
        ],
        [
         127,
         5,
         "Suco Natural",
         65,
         "17.00",
         "2024-05-31",
         "Lanchonete da Maria",
         "maria@lanchonetemaria.com",
         "(61) 95460-5114"
        ],
        [
         128,
         36,
         "Cerveja XYZ",
         321,
         "17.15",
         "2024-05-07",
         "Padaria do Bairro",
         "contato@padariadobairro.com",
         "(31) 95389-1464"
        ],
        [
         129,
         12,
         "Vinho ABC",
         235,
         "10.74",
         "2024-05-10",
         "Pastelaria do Mário",
         "contato@pastelariadomario.com",
         "(21) 99320-8273"
        ],
        [
         130,
         21,
         "Cerveja XYZ",
         476,
         "8.20",
         "2024-03-27",
         "Livraria Cultura",
         "contato@livrariacultura.com",
         "(91) 99104-9942"
        ],
        [
         131,
         39,
         "Refrigerante 123",
         23,
         "7.14",
         "2023-10-29",
         "Bar da Esquina",
         "contato@bardaesquina.com",
         "(51) 93941-4832"
        ],
        [
         132,
         50,
         "Água Mineral",
         345,
         "1.98",
         "2024-02-08",
         "Bar do João",
         "joao@bardojoao.com",
         "(71) 98909-8853"
        ],
        [
         133,
         44,
         "Refrigerante 123",
         174,
         "12.47",
         "2023-10-19",
         "Lanchonete do Bairro",
         "contato@lanchonetedobairro.com",
         "(61) 93857-1485"
        ],
        [
         134,
         17,
         "Vinho ABC",
         327,
         "12.78",
         "2024-03-03",
         "Botequim do Chico",
         "contato@botequimdochico.com",
         "(11) 91707-4088"
        ],
        [
         135,
         40,
         "Vinho ABC",
         213,
         "15.57",
         "2023-09-24",
         "Restaurante Mexicano",
         "contato@restaurantemexicano.com",
         "(21) 90293-4063"
        ],
        [
         136,
         19,
         "Refrigerante 123",
         499,
         "6.57",
         "2024-05-24",
         "Barbearia do Toninho",
         "contato@barbeariadotoninho.com",
         "(91) 99438-6690"
        ],
        [
         137,
         36,
         "Vinho ABC",
         180,
         "5.32",
         "2023-08-01",
         "Padaria do Bairro",
         "contato@padariadobairro.com",
         "(31) 95389-1464"
        ],
        [
         138,
         8,
         "Vinho ABC",
         146,
         "1.26",
         "2024-05-28",
         "Churrascaria Gaúcha",
         "contato@churrascariagaucha.com",
         "(31) 98582-4944"
        ],
        [
         139,
         26,
         "Vinho ABC",
         57,
         "7.28",
         "2023-10-14",
         "Pet Shop Amigo Fiel",
         "contato@petshopamigofiel.com",
         "(31) 91631-4388"
        ],
        [
         140,
         33,
         "Vinho ABC",
         420,
         "18.40",
         "2024-04-09",
         "Frutaria Tropical",
         "contato@frutariatroipcal.com",
         "(71) 90229-2223"
        ],
        [
         141,
         16,
         "Cerveja XYZ",
         325,
         "18.41",
         "2024-01-14",
         "Adega do Luiz",
         "contato@adegadoluz.com",
         "(71) 93274-7401"
        ],
        [
         142,
         50,
         "Suco Natural",
         302,
         "18.10",
         "2024-05-20",
         "Bar do João",
         "joao@bardojoao.com",
         "(71) 98909-8853"
        ],
        [
         143,
         19,
         "Vinho ABC",
         423,
         "16.36",
         "2023-12-21",
         "Barbearia do Toninho",
         "contato@barbeariadotoninho.com",
         "(91) 99438-6690"
        ],
        [
         144,
         18,
         "Água Mineral",
         483,
         "19.92",
         "2023-07-31",
         "Cervejaria Artesanal",
         "contato@cervejariaartesanal.com",
         "(11) 95799-9899"
        ],
        [
         145,
         17,
         "Vinho ABC",
         446,
         "6.86",
         "2024-03-20",
         "Botequim do Chico",
         "contato@botequimdochico.com",
         "(11) 91707-4088"
        ],
        [
         146,
         34,
         "Suco Natural",
         484,
         "3.52",
         "2024-05-24",
         "Sorveteria Sorvetão",
         "contato@sorveteriasorvetao.com",
         "(11) 91064-2800"
        ],
        [
         147,
         14,
         "Vinho ABC",
         288,
         "9.13",
         "2023-12-21",
         "Sorveteria Geladinho",
         "contato@sorveteriageladinho.com",
         "(51) 92493-8299"
        ],
        [
         148,
         38,
         "Cerveja XYZ",
         238,
         "1.30",
         "2023-07-11",
         "Restaurante Francês",
         "contato@restaurantefrances.com",
         "(21) 91283-5782"
        ],
        [
         149,
         30,
         "Refrigerante 123",
         445,
         "9.06",
         "2024-02-05",
         "Restaurante Vegetariano",
         "contato@restaurantevegetariano.com",
         "(81) 98693-9060"
        ],
        [
         150,
         20,
         "Água Mineral",
         292,
         "1.81",
         "2023-12-13",
         "Farmácia Popular",
         "contato@farmaciapopular.com",
         "(51) 94871-3208"
        ],
        [
         151,
         13,
         "Vinho ABC",
         106,
         "10.19",
         "2024-03-21",
         "Hamburgueria Prime",
         "contato@hamburgueriaprime.com",
         "(61) 90265-7365"
        ],
        [
         152,
         15,
         "Vinho ABC",
         329,
         "3.27",
         "2024-02-24",
         "Padoca do Zé",
         "contato@padocadodze.com",
         "(61) 94617-3404"
        ],
        [
         153,
         27,
         "Água Mineral",
         457,
         "18.48",
         "2023-10-29",
         "Oficina Mecânica",
         "contato@oficinamecanica.com",
         "(31) 96744-7044"
        ],
        [
         154,
         6,
         "Refrigerante 123",
         481,
         "14.62",
         "2024-06-01",
         "Café Expresso",
         "contato@cafeexpresso.com",
         "(81) 91353-6764"
        ],
        [
         155,
         34,
         "Cerveja XYZ",
         122,
         "3.34",
         "2024-02-13",
         "Sorveteria Sorvetão",
         "contato@sorveteriasorvetao.com",
         "(11) 91064-2800"
        ],
        [
         156,
         20,
         "Refrigerante 123",
         499,
         "7.77",
         "2023-09-01",
         "Farmácia Popular",
         "contato@farmaciapopular.com",
         "(51) 94871-3208"
        ],
        [
         157,
         48,
         "Cerveja XYZ",
         375,
         "13.83",
         "2023-09-01",
         "Cervejaria Gourmet",
         "contato@cervejariagourmet.com",
         "(61) 93477-1255"
        ],
        [
         158,
         25,
         "Água Mineral",
         275,
         "7.58",
         "2023-12-16",
         "Loja de Roupas Fashion",
         "contato@lojaderoupasfashion.com",
         "(81) 97241-3620"
        ],
        [
         159,
         40,
         "Cerveja XYZ",
         78,
         "19.83",
         "2023-10-23",
         "Restaurante Mexicano",
         "contato@restaurantemexicano.com",
         "(21) 90293-4063"
        ],
        [
         160,
         47,
         "Suco Natural",
         472,
         "8.20",
         "2023-11-21",
         "Doceria Fina",
         "contato@doceriafina.com",
         "(21) 95174-9538"
        ],
        [
         161,
         20,
         "Cerveja XYZ",
         285,
         "15.67",
         "2023-11-01",
         "Farmácia Popular",
         "contato@farmaciapopular.com",
         "(51) 94871-3208"
        ],
        [
         162,
         8,
         "Refrigerante 123",
         112,
         "15.97",
         "2023-07-13",
         "Churrascaria Gaúcha",
         "contato@churrascariagaucha.com",
         "(31) 98582-4944"
        ],
        [
         163,
         40,
         "Água Mineral",
         336,
         "14.82",
         "2024-04-08",
         "Restaurante Mexicano",
         "contato@restaurantemexicano.com",
         "(21) 90293-4063"
        ],
        [
         164,
         24,
         "Suco Natural",
         16,
         "16.10",
         "2024-03-12",
         "Salão Beleza Pura",
         "contato@salaobelezapura.com",
         "(51) 91844-9553"
        ],
        [
         165,
         19,
         "Cerveja XYZ",
         108,
         "4.19",
         "2024-01-10",
         "Barbearia do Toninho",
         "contato@barbeariadotoninho.com",
         "(91) 99438-6690"
        ],
        [
         166,
         30,
         "Vinho ABC",
         346,
         "16.22",
         "2023-11-09",
         "Restaurante Vegetariano",
         "contato@restaurantevegetariano.com",
         "(81) 98693-9060"
        ],
        [
         167,
         4,
         "Cerveja XYZ",
         196,
         "16.59",
         "2023-10-28",
         "Padaria do Paulo",
         "paulo@padariapaulo.com",
         "(61) 97029-4259"
        ],
        [
         168,
         11,
         "Água Mineral",
         199,
         "16.53",
         "2023-12-19",
         "Doceria Delícia",
         "contato@doceriadelicia.com",
         "(61) 95626-8430"
        ],
        [
         169,
         35,
         "Água Mineral",
         91,
         "16.42",
         "2024-01-04",
         "Restaurante Japonês",
         "contato@restaurantejapones.com",
         "(11) 91789-3252"
        ],
        [
         170,
         30,
         "Vinho ABC",
         228,
         "7.86",
         "2024-06-26",
         "Restaurante Vegetariano",
         "contato@restaurantevegetariano.com",
         "(81) 98693-9060"
        ],
        [
         171,
         41,
         "Cerveja XYZ",
         484,
         "10.95",
         "2024-05-10",
         "Pizzaria Italiana",
         "contato@pizzariaitaliana.com",
         "(71) 99975-5015"
        ],
        [
         172,
         38,
         "Vinho ABC",
         313,
         "15.36",
         "2024-05-01",
         "Restaurante Francês",
         "contato@restaurantefrances.com",
         "(21) 91283-5782"
        ],
        [
         173,
         24,
         "Cerveja XYZ",
         369,
         "3.49",
         "2023-12-10",
         "Salão Beleza Pura",
         "contato@salaobelezapura.com",
         "(51) 91844-9553"
        ],
        [
         174,
         29,
         "Cerveja XYZ",
         431,
         "4.66",
         "2024-02-20",
         "Lanchonete Top",
         "contato@lanchonetetop.com",
         "(41) 92964-7794"
        ],
        [
         175,
         23,
         "Suco Natural",
         148,
         "9.70",
         "2023-10-19",
         "Academia Fit",
         "contato@academiafit.com",
         "(11) 92674-3789"
        ],
        [
         176,
         48,
         "Água Mineral",
         69,
         "13.70",
         "2024-04-03",
         "Cervejaria Gourmet",
         "contato@cervejariagourmet.com",
         "(61) 93477-1255"
        ],
        [
         177,
         6,
         "Água Mineral",
         415,
         "8.55",
         "2024-07-06",
         "Café Expresso",
         "contato@cafeexpresso.com",
         "(81) 91353-6764"
        ],
        [
         178,
         25,
         "Suco Natural",
         318,
         "13.56",
         "2023-08-15",
         "Loja de Roupas Fashion",
         "contato@lojaderoupasfashion.com",
         "(81) 97241-3620"
        ],
        [
         179,
         13,
         "Água Mineral",
         280,
         "8.93",
         "2023-07-23",
         "Hamburgueria Prime",
         "contato@hamburgueriaprime.com",
         "(61) 90265-7365"
        ],
        [
         180,
         15,
         "Vinho ABC",
         200,
         "17.31",
         "2023-08-02",
         "Padoca do Zé",
         "contato@padocadodze.com",
         "(61) 94617-3404"
        ],
        [
         181,
         19,
         "Suco Natural",
         414,
         "2.13",
         "2023-11-21",
         "Barbearia do Toninho",
         "contato@barbeariadotoninho.com",
         "(91) 99438-6690"
        ],
        [
         182,
         38,
         "Refrigerante 123",
         365,
         "18.55",
         "2023-09-05",
         "Restaurante Francês",
         "contato@restaurantefrances.com",
         "(21) 91283-5782"
        ],
        [
         183,
         35,
         "Cerveja XYZ",
         105,
         "16.39",
         "2023-11-01",
         "Restaurante Japonês",
         "contato@restaurantejapones.com",
         "(11) 91789-3252"
        ],
        [
         184,
         5,
         "Refrigerante 123",
         127,
         "4.02",
         "2024-02-11",
         "Lanchonete da Maria",
         "maria@lanchonetemaria.com",
         "(61) 95460-5114"
        ],
        [
         185,
         7,
         "Água Mineral",
         190,
         "7.10",
         "2024-04-10",
         "Pizzaria Bella",
         "contato@pizzariabella.com",
         "(91) 96418-7540"
        ],
        [
         186,
         44,
         "Cerveja XYZ",
         92,
         "14.17",
         "2023-12-02",
         "Lanchonete do Bairro",
         "contato@lanchonetedobairro.com",
         "(61) 93857-1485"
        ],
        [
         187,
         42,
         "Suco Natural",
         276,
         "14.24",
         "2024-05-10",
         "Café Gourmet",
         "contato@cafegourmet.com",
         "(81) 91370-2605"
        ],
        [
         188,
         23,
         "Água Mineral",
         86,
         "11.38",
         "2024-03-11",
         "Academia Fit",
         "contato@academiafit.com",
         "(11) 92674-3789"
        ],
        [
         189,
         39,
         "Vinho ABC",
         479,
         "14.05",
         "2024-04-25",
         "Bar da Esquina",
         "contato@bardaesquina.com",
         "(51) 93941-4832"
        ],
        [
         190,
         33,
         "Suco Natural",
         135,
         "3.46",
         "2023-10-04",
         "Frutaria Tropical",
         "contato@frutariatroipcal.com",
         "(71) 90229-2223"
        ],
        [
         191,
         4,
         "Refrigerante 123",
         312,
         "11.35",
         "2023-07-26",
         "Padaria do Paulo",
         "paulo@padariapaulo.com",
         "(61) 97029-4259"
        ],
        [
         192,
         39,
         "Refrigerante 123",
         380,
         "15.99",
         "2023-12-22",
         "Bar da Esquina",
         "contato@bardaesquina.com",
         "(51) 93941-4832"
        ],
        [
         193,
         5,
         "Suco Natural",
         275,
         "1.79",
         "2024-05-24",
         "Lanchonete da Maria",
         "maria@lanchonetemaria.com",
         "(61) 95460-5114"
        ],
        [
         194,
         20,
         "Suco Natural",
         442,
         "10.01",
         "2023-07-21",
         "Farmácia Popular",
         "contato@farmaciapopular.com",
         "(51) 94871-3208"
        ],
        [
         195,
         47,
         "Refrigerante 123",
         369,
         "3.56",
         "2024-01-18",
         "Doceria Fina",
         "contato@doceriafina.com",
         "(21) 95174-9538"
        ],
        [
         196,
         31,
         "Vinho ABC",
         316,
         "14.33",
         "2023-08-16",
         "Bar e Grill",
         "contato@baregrill.com",
         "(41) 93510-4603"
        ],
        [
         197,
         12,
         "Água Mineral",
         239,
         "2.13",
         "2024-05-01",
         "Pastelaria do Mário",
         "contato@pastelariadomario.com",
         "(21) 99320-8273"
        ],
        [
         198,
         37,
         "Água Mineral",
         338,
         "3.53",
         "2023-07-28",
         "Hamburgueria Burger",
         "contato@hamburgueriaburger.com",
         "(31) 93120-6163"
        ],
        [
         199,
         15,
         "Refrigerante 123",
         440,
         "6.88",
         "2023-09-05",
         "Padoca do Zé",
         "contato@padocadodze.com",
         "(61) 94617-3404"
        ],
        [
         200,
         19,
         "Cerveja XYZ",
         416,
         "10.19",
         "2024-01-04",
         "Barbearia do Toninho",
         "contato@barbeariadotoninho.com",
         "(91) 99438-6690"
        ],
        [
         201,
         6,
         "Suco Natural",
         225,
         "12.89",
         "2023-09-30",
         "Café Expresso",
         "contato@cafeexpresso.com",
         "(81) 91353-6764"
        ],
        [
         202,
         48,
         "Água Mineral",
         184,
         "11.89",
         "2024-01-27",
         "Cervejaria Gourmet",
         "contato@cervejariagourmet.com",
         "(61) 93477-1255"
        ],
        [
         203,
         7,
         "Cerveja XYZ",
         173,
         "14.00",
         "2023-09-12",
         "Pizzaria Bella",
         "contato@pizzariabella.com",
         "(91) 96418-7540"
        ],
        [
         204,
         37,
         "Cerveja XYZ",
         326,
         "16.27",
         "2023-10-28",
         "Hamburgueria Burger",
         "contato@hamburgueriaburger.com",
         "(31) 93120-6163"
        ],
        [
         205,
         19,
         "Cerveja XYZ",
         322,
         "7.76",
         "2023-08-05",
         "Barbearia do Toninho",
         "contato@barbeariadotoninho.com",
         "(91) 99438-6690"
        ],
        [
         206,
         31,
         "Vinho ABC",
         369,
         "16.98",
         "2023-08-05",
         "Bar e Grill",
         "contato@baregrill.com",
         "(41) 93510-4603"
        ],
        [
         207,
         50,
         "Água Mineral",
         168,
         "14.84",
         "2023-09-27",
         "Bar do João",
         "joao@bardojoao.com",
         "(71) 98909-8853"
        ],
        [
         208,
         40,
         "Cerveja XYZ",
         154,
         "13.72",
         "2023-12-09",
         "Restaurante Mexicano",
         "contato@restaurantemexicano.com",
         "(21) 90293-4063"
        ],
        [
         209,
         50,
         "Suco Natural",
         83,
         "14.73",
         "2023-08-17",
         "Bar do João",
         "joao@bardojoao.com",
         "(71) 98909-8853"
        ],
        [
         210,
         35,
         "Água Mineral",
         490,
         "2.75",
         "2024-07-10",
         "Restaurante Japonês",
         "contato@restaurantejapones.com",
         "(11) 91789-3252"
        ],
        [
         211,
         11,
         "Cerveja XYZ",
         270,
         "12.22",
         "2024-03-12",
         "Doceria Delícia",
         "contato@doceriadelicia.com",
         "(61) 95626-8430"
        ],
        [
         212,
         35,
         "Refrigerante 123",
         433,
         "1.28",
         "2023-09-04",
         "Restaurante Japonês",
         "contato@restaurantejapones.com",
         "(11) 91789-3252"
        ],
        [
         213,
         45,
         "Cerveja XYZ",
         381,
         "7.28",
         "2024-04-16",
         "Pizzaria São Pedro",
         "contato@pizzariasampedro.com",
         "(11) 95909-3334"
        ],
        [
         214,
         47,
         "Suco Natural",
         428,
         "3.48",
         "2023-10-20",
         "Doceria Fina",
         "contato@doceriafina.com",
         "(21) 95174-9538"
        ],
        [
         215,
         15,
         "Água Mineral",
         92,
         "2.23",
         "2023-09-10",
         "Padoca do Zé",
         "contato@padocadodze.com",
         "(61) 94617-3404"
        ],
        [
         216,
         25,
         "Água Mineral",
         300,
         "18.13",
         "2024-05-05",
         "Loja de Roupas Fashion",
         "contato@lojaderoupasfashion.com",
         "(81) 97241-3620"
        ],
        [
         217,
         9,
         "Vinho ABC",
         169,
         "17.14",
         "2024-03-19",
         "Cantina Italiana",
         "contato@cantinaitaliana.com",
         "(91) 93994-5119"
        ],
        [
         218,
         1,
         "Cerveja XYZ",
         486,
         "13.00",
         "2023-09-29",
         "Bar do mineiro",
         "bar@bardomineiro",
         "(31) 96787-9326"
        ],
        [
         219,
         26,
         "Refrigerante 123",
         20,
         "13.28",
         "2023-09-14",
         "Pet Shop Amigo Fiel",
         "contato@petshopamigofiel.com",
         "(31) 91631-4388"
        ],
        [
         220,
         39,
         "Suco Natural",
         109,
         "4.44",
         "2024-02-09",
         "Bar da Esquina",
         "contato@bardaesquina.com",
         "(51) 93941-4832"
        ],
        [
         221,
         24,
         "Suco Natural",
         487,
         "8.06",
         "2024-05-11",
         "Salão Beleza Pura",
         "contato@salaobelezapura.com",
         "(51) 91844-9553"
        ],
        [
         222,
         10,
         "Vinho ABC",
         44,
         "18.87",
         "2024-06-08",
         "Mercadinho da Esquina",
         "contato@mercadinhoesquina.com",
         "(41) 90819-7897"
        ],
        [
         223,
         23,
         "Refrigerante 123",
         419,
         "10.66",
         "2024-03-16",
         "Academia Fit",
         "contato@academiafit.com",
         "(11) 92674-3789"
        ],
        [
         224,
         29,
         "Água Mineral",
         106,
         "4.73",
         "2024-05-17",
         "Lanchonete Top",
         "contato@lanchonetetop.com",
         "(41) 92964-7794"
        ],
        [
         225,
         10,
         "Refrigerante 123",
         207,
         "9.82",
         "2023-12-17",
         "Mercadinho da Esquina",
         "contato@mercadinhoesquina.com",
         "(41) 90819-7897"
        ],
        [
         226,
         29,
         "Cerveja XYZ",
         422,
         "17.35",
         "2023-09-02",
         "Lanchonete Top",
         "contato@lanchonetetop.com",
         "(41) 92964-7794"
        ],
        [
         227,
         15,
         "Vinho ABC",
         194,
         "14.54",
         "2024-05-12",
         "Padoca do Zé",
         "contato@padocadodze.com",
         "(61) 94617-3404"
        ],
        [
         228,
         27,
         "Vinho ABC",
         484,
         "16.74",
         "2023-08-11",
         "Oficina Mecânica",
         "contato@oficinamecanica.com",
         "(31) 96744-7044"
        ],
        [
         229,
         21,
         "Refrigerante 123",
         45,
         "7.68",
         "2024-04-10",
         "Livraria Cultura",
         "contato@livrariacultura.com",
         "(91) 99104-9942"
        ],
        [
         230,
         41,
         "Cerveja XYZ",
         290,
         "6.24",
         "2024-06-11",
         "Pizzaria Italiana",
         "contato@pizzariaitaliana.com",
         "(71) 99975-5015"
        ],
        [
         231,
         9,
         "Água Mineral",
         376,
         "3.62",
         "2024-01-02",
         "Cantina Italiana",
         "contato@cantinaitaliana.com",
         "(91) 93994-5119"
        ],
        [
         232,
         24,
         "Cerveja XYZ",
         258,
         "17.30",
         "2023-12-17",
         "Salão Beleza Pura",
         "contato@salaobelezapura.com",
         "(51) 91844-9553"
        ],
        [
         233,
         20,
         "Refrigerante 123",
         472,
         "11.22",
         "2024-07-01",
         "Farmácia Popular",
         "contato@farmaciapopular.com",
         "(51) 94871-3208"
        ],
        [
         234,
         28,
         "Cerveja XYZ",
         227,
         "2.72",
         "2024-06-15",
         "Padaria São João",
         "contato@padariasaojoao.com",
         "(91) 95641-1530"
        ],
        [
         235,
         3,
         "Água Mineral",
         282,
         "3.59",
         "2024-07-02",
         "Supermercado ABC",
         "contato@superabc.com",
         "(71) 99854-2730"
        ],
        [
         236,
         46,
         "Refrigerante 123",
         180,
         "8.48",
         "2024-04-03",
         "Pastelaria da Vila",
         "contato@pastelariadavila.com",
         "(71) 98676-3040"
        ],
        [
         237,
         2,
         "Água Mineral",
         237,
         "15.06",
         "2024-04-30",
         "Restaurante da Ana",
         "ana@restaurantedana.com",
         "(11) 98891-8293"
        ],
        [
         238,
         49,
         "Cerveja XYZ",
         48,
         "1.92",
         "2024-01-17",
         "Mercadinho do Bairro",
         "contato@mercadinhodobairro.com",
         "(51) 92221-5831"
        ],
        [
         239,
         43,
         "Suco Natural",
         265,
         "7.74",
         "2024-06-26",
         "Restaurante Brasileiro",
         "contato@restaurantebrasileiro.com",
         "(61) 90767-4956"
        ],
        [
         240,
         41,
         "Suco Natural",
         485,
         "12.22",
         "2023-10-11",
         "Pizzaria Italiana",
         "contato@pizzariaitaliana.com",
         "(71) 99975-5015"
        ],
        [
         241,
         50,
         "Suco Natural",
         488,
         "6.81",
         "2023-12-08",
         "Bar do João",
         "joao@bardojoao.com",
         "(71) 98909-8853"
        ],
        [
         242,
         39,
         "Vinho ABC",
         345,
         "12.48",
         "2024-04-04",
         "Bar da Esquina",
         "contato@bardaesquina.com",
         "(51) 93941-4832"
        ],
        [
         243,
         23,
         "Água Mineral",
         337,
         "18.82",
         "2024-04-22",
         "Academia Fit",
         "contato@academiafit.com",
         "(11) 92674-3789"
        ],
        [
         244,
         31,
         "Água Mineral",
         280,
         "6.08",
         "2024-02-28",
         "Bar e Grill",
         "contato@baregrill.com",
         "(41) 93510-4603"
        ],
        [
         245,
         27,
         "Cerveja XYZ",
         418,
         "12.66",
         "2024-01-31",
         "Oficina Mecânica",
         "contato@oficinamecanica.com",
         "(31) 96744-7044"
        ],
        [
         246,
         1,
         "Suco Natural",
         468,
         "4.25",
         "2023-11-27",
         "Bar do mineiro",
         "bar@bardomineiro",
         "(31) 96787-9326"
        ],
        [
         247,
         41,
         "Suco Natural",
         26,
         "7.50",
         "2024-04-18",
         "Pizzaria Italiana",
         "contato@pizzariaitaliana.com",
         "(71) 99975-5015"
        ],
        [
         248,
         44,
         "Água Mineral",
         326,
         "13.45",
         "2023-08-10",
         "Lanchonete do Bairro",
         "contato@lanchonetedobairro.com",
         "(61) 93857-1485"
        ],
        [
         249,
         12,
         "Refrigerante 123",
         81,
         "12.84",
         "2023-12-20",
         "Pastelaria do Mário",
         "contato@pastelariadomario.com",
         "(21) 99320-8273"
        ],
        [
         250,
         32,
         "Água Mineral",
         327,
         "11.68",
         "2023-08-29",
         "Chocolateria",
         "contato@chocolateria.com",
         "(81) 95224-4707"
        ]
       ],
       "datasetInfos": [],
       "dbfsResultPath": null,
       "isJsonSchema": true,
       "metadata": {},
       "overflow": false,
       "plotOptions": {
        "customPlotOptions": {},
        "displayType": "table",
        "pivotAggregation": null,
        "pivotColumns": null,
        "xColumns": null,
        "yColumns": null
       },
       "removedWidgets": [],
       "schema": [
        {
         "metadata": "{}",
         "name": "id_pedido",
         "type": "\"integer\""
        },
        {
         "metadata": "{}",
         "name": "id_estabelecimento",
         "type": "\"integer\""
        },
        {
         "metadata": "{}",
         "name": "produto",
         "type": "\"string\""
        },
        {
         "metadata": "{}",
         "name": "quantidade",
         "type": "\"integer\""
        },
        {
         "metadata": "{}",
         "name": "preco",
         "type": "\"decimal(20,2)\""
        },
        {
         "metadata": "{}",
         "name": "data_pedido",
         "type": "\"date\""
        },
        {
         "metadata": "{}",
         "name": "nome_estabelecimento",
         "type": "\"string\""
        },
        {
         "metadata": "{}",
         "name": "email",
         "type": "\"string\""
        },
        {
         "metadata": "{}",
         "name": "telefone",
         "type": "\"string\""
        }
       ],
       "type": "table"
      }
     },
     "output_type": "display_data"
    }
   ],
   "source": [
    "df_pedidos.display()"
   ]
  },
  {
   "cell_type": "code",
   "execution_count": 0,
   "metadata": {
    "application/vnd.databricks.v1+cell": {
     "cellMetadata": {
      "byteLimit": 2048000,
      "rowLimit": 10000
     },
     "inputWidgets": {},
     "nuid": "ea76ceea-ec33-4f3a-a950-a85e24ccb991",
     "showTitle": false,
     "title": ""
    }
   },
   "outputs": [],
   "source": [
    "df_pedidos = df_pedidos.withColumn(\"data_carga\", current_date())\n",
    "df_pedidos = df_pedidos.withColumn(\"data_hora_carga\", expr(\"current_timestamp() - INTERVAL 3 HOURS\"))"
   ]
  },
  {
   "cell_type": "code",
   "execution_count": 0,
   "metadata": {
    "application/vnd.databricks.v1+cell": {
     "cellMetadata": {
      "byteLimit": 2048000,
      "rowLimit": 10000
     },
     "inputWidgets": {},
     "nuid": "922c9e2e-302c-4f37-b389-57c1e12a2476",
     "showTitle": false,
     "title": ""
    }
   },
   "outputs": [],
   "source": [
    "# Comentário Tabela\n",
    "comentario_tabela = 'Esta tabela é uma entidade corporativa que contém a relação dos pedidos'\n",
    "\n",
    "lista_comentario_colunas = {\n",
    "    'id_pedido': 'Id do pedido.',\n",
    "    'id_estabelecimento': 'Id do estabelecimento.',\n",
    "    'produto': 'Nome do produto.',\n",
    "    'quantidade': 'Quantidade do pedido.',\n",
    "    'preco': 'Preço do produto unitário.',\n",
    "    'nome_estabelecimento': 'Nome do estabelecimento.',\n",
    "    'email': 'E-mail do estabelecimento.',\n",
    "    'telefone': 'Telefone do estabelecimento.',\n",
    "    'data_pedido': 'Data do pedido.',\n",
    "    'data_carga': 'Data que o registro foi carregado.',\n",
    "    'data_hora_carga': 'Data e hora que o registro foi carregado.'\n",
    "}\n"
   ]
  },
  {
   "cell_type": "code",
   "execution_count": 0,
   "metadata": {
    "application/vnd.databricks.v1+cell": {
     "cellMetadata": {
      "byteLimit": 2048000,
      "rowLimit": 10000
     },
     "inputWidgets": {},
     "nuid": "0d641510-93ab-464e-be67-3cb821080458",
     "showTitle": false,
     "title": ""
    }
   },
   "outputs": [],
   "source": [
    "adicionaComentariosTabela(database, tabela, comentario_tabela, lista_comentario_colunas)"
   ]
  },
  {
   "cell_type": "code",
   "execution_count": 0,
   "metadata": {
    "application/vnd.databricks.v1+cell": {
     "cellMetadata": {
      "byteLimit": 2048000,
      "rowLimit": 10000
     },
     "inputWidgets": {},
     "nuid": "2a07596d-0d03-456a-a956-30702b1c4aab",
     "showTitle": false,
     "title": ""
    }
   },
   "outputs": [
    {
     "output_type": "stream",
     "name": "stdout",
     "output_type": "stream",
     "text": [
      "Comentarios adicionados nas tabelas\nDados gravados com sucesso!\n"
     ]
    }
   ],
   "source": [
    "df_pedidos.write \\\n",
    "    .format('delta') \\\n",
    "    .mode('overwrite') \\\n",
    "    .clusterBy(\"id_pedido\") \\\n",
    "    .option('overwriteSchema', 'true') \\\n",
    "    .saveAsTable(f'{database}.{tabela}')\n",
    "adicionaComentariosTabela(database, tabela, comentario_tabela, lista_comentario_colunas)\n",
    "print(\"Comentarios adicionados nas tabelas\")\n",
    "print(\"Dados gravados com sucesso!\")"
   ]
  },
  {
   "cell_type": "code",
   "execution_count": 0,
   "metadata": {
    "application/vnd.databricks.v1+cell": {
     "cellMetadata": {
      "byteLimit": 2048000,
      "implicitDf": true,
      "rowLimit": 10000
     },
     "inputWidgets": {},
     "nuid": "863c3383-07bc-47c8-9b43-8f05286fabd2",
     "showTitle": false,
     "title": ""
    }
   },
   "outputs": [
    {
     "output_type": "stream",
     "name": "stdout",
     "output_type": "stream",
     "text": [
      "Processo de otmização finalizado!\n"
     ]
    }
   ],
   "source": [
    "spark.sql(f\"OPTIMIZE {database}.{tabela}\")\n",
    "print(\"Processo de otmização finalizado!\")"
   ]
  },
  {
   "cell_type": "code",
   "execution_count": 0,
   "metadata": {
    "application/vnd.databricks.v1+cell": {
     "cellMetadata": {
      "byteLimit": 2048000,
      "implicitDf": true,
      "rowLimit": 10000
     },
     "inputWidgets": {},
     "nuid": "cb7c68c5-3084-473d-bb8e-cc9eeb26b554",
     "showTitle": false,
     "title": ""
    }
   },
   "outputs": [
    {
     "output_type": "display_data",
     "data": {
      "text/html": [
       "<style scoped>\n",
       "  .table-result-container {\n",
       "    max-height: 300px;\n",
       "    overflow: auto;\n",
       "  }\n",
       "  table, th, td {\n",
       "    border: 1px solid black;\n",
       "    border-collapse: collapse;\n",
       "  }\n",
       "  th, td {\n",
       "    padding: 5px;\n",
       "  }\n",
       "  th {\n",
       "    text-align: left;\n",
       "  }\n",
       "</style><div class='table-result-container'><table class='table-result'><thead style='background-color: white'><tr><th>format</th><th>id</th><th>name</th><th>description</th><th>location</th><th>createdAt</th><th>lastModified</th><th>partitionColumns</th><th>clusteringColumns</th><th>numFiles</th><th>sizeInBytes</th><th>properties</th><th>minReaderVersion</th><th>minWriterVersion</th><th>tableFeatures</th><th>statistics</th></tr></thead><tbody><tr><td>delta</td><td>7c2d83c3-5bf9-49ca-90ea-91ecaa2eaa35</td><td>spark_catalog.silver.pedidos</td><td>Esta tabela é uma entidade corporativa que contém a relação dos pedidos</td><td>dbfs:/user/hive/warehouse/dbfs/FileStore/Ampev/silver/pedidos</td><td>2024-07-31T18:32:40.605Z</td><td>2024-10-06T21:48:46Z</td><td>List()</td><td>List(id_pedido)</td><td>1</td><td>11022</td><td>Map(delta.enableDeletionVectors -> true, delta.enableRowTracking -> true, delta.checkpointPolicy -> v2, delta.rowTracking.materializedRowCommitVersionColumnName -> _row-commit-version-col-08ea7b72-824f-4a73-86d7-49bf6f589dd6, delta.rowTracking.materializedRowIdColumnName -> _row-id-col-dbe8dd7f-f718-4cfb-a5b5-e74e358a51ee)</td><td>3</td><td>7</td><td>List(clustering, deletionVectors, domainMetadata, rowTracking, v2Checkpoint)</td><td>Map(numRowsDeletedByDeletionVectors -> 0, numDeletionVectors -> 0)</td></tr></tbody></table></div>"
      ]
     },
     "metadata": {
      "application/vnd.databricks.v1+output": {
       "addedWidgets": {},
       "aggData": [],
       "aggError": "",
       "aggOverflow": false,
       "aggSchema": [],
       "aggSeriesLimitReached": false,
       "aggType": "",
       "arguments": {},
       "columnCustomDisplayInfos": {},
       "data": [
        [
         "delta",
         "7c2d83c3-5bf9-49ca-90ea-91ecaa2eaa35",
         "spark_catalog.silver.pedidos",
         "Esta tabela é uma entidade corporativa que contém a relação dos pedidos",
         "dbfs:/user/hive/warehouse/dbfs/FileStore/Ampev/silver/pedidos",
         "2024-07-31T18:32:40.605Z",
         "2024-10-06T21:48:46Z",
         [],
         [
          "id_pedido"
         ],
         1,
         11022,
         {
          "delta.checkpointPolicy": "v2",
          "delta.enableDeletionVectors": "true",
          "delta.enableRowTracking": "true",
          "delta.rowTracking.materializedRowCommitVersionColumnName": "_row-commit-version-col-08ea7b72-824f-4a73-86d7-49bf6f589dd6",
          "delta.rowTracking.materializedRowIdColumnName": "_row-id-col-dbe8dd7f-f718-4cfb-a5b5-e74e358a51ee"
         },
         3,
         7,
         [
          "clustering",
          "deletionVectors",
          "domainMetadata",
          "rowTracking",
          "v2Checkpoint"
         ],
         {
          "numDeletionVectors": 0,
          "numRowsDeletedByDeletionVectors": 0
         }
        ]
       ],
       "datasetInfos": [],
       "dbfsResultPath": null,
       "isJsonSchema": true,
       "metadata": {
        "createTempViewForImplicitDf": true,
        "dataframeName": "_sqldf",
        "executionCount": 49
       },
       "overflow": false,
       "plotOptions": {
        "customPlotOptions": {},
        "displayType": "table",
        "pivotAggregation": null,
        "pivotColumns": null,
        "xColumns": null,
        "yColumns": null
       },
       "removedWidgets": [],
       "schema": [
        {
         "metadata": "{}",
         "name": "format",
         "type": "\"string\""
        },
        {
         "metadata": "{}",
         "name": "id",
         "type": "\"string\""
        },
        {
         "metadata": "{}",
         "name": "name",
         "type": "\"string\""
        },
        {
         "metadata": "{}",
         "name": "description",
         "type": "\"string\""
        },
        {
         "metadata": "{}",
         "name": "location",
         "type": "\"string\""
        },
        {
         "metadata": "{}",
         "name": "createdAt",
         "type": "\"timestamp\""
        },
        {
         "metadata": "{}",
         "name": "lastModified",
         "type": "\"timestamp\""
        },
        {
         "metadata": "{}",
         "name": "partitionColumns",
         "type": "{\"type\":\"array\",\"elementType\":\"string\",\"containsNull\":true}"
        },
        {
         "metadata": "{}",
         "name": "clusteringColumns",
         "type": "{\"type\":\"array\",\"elementType\":\"string\",\"containsNull\":true}"
        },
        {
         "metadata": "{}",
         "name": "numFiles",
         "type": "\"long\""
        },
        {
         "metadata": "{}",
         "name": "sizeInBytes",
         "type": "\"long\""
        },
        {
         "metadata": "{}",
         "name": "properties",
         "type": "{\"type\":\"map\",\"keyType\":\"string\",\"valueType\":\"string\",\"valueContainsNull\":true}"
        },
        {
         "metadata": "{}",
         "name": "minReaderVersion",
         "type": "\"integer\""
        },
        {
         "metadata": "{}",
         "name": "minWriterVersion",
         "type": "\"integer\""
        },
        {
         "metadata": "{}",
         "name": "tableFeatures",
         "type": "{\"type\":\"array\",\"elementType\":\"string\",\"containsNull\":true}"
        },
        {
         "metadata": "{}",
         "name": "statistics",
         "type": "{\"type\":\"map\",\"keyType\":\"string\",\"valueType\":\"long\",\"valueContainsNull\":true}"
        }
       ],
       "type": "table"
      }
     },
     "output_type": "display_data"
    }
   ],
   "source": [
    "%sql\n",
    "DESCRIBE DETAIL silver.pedidos"
   ]
  }
 ],
 "metadata": {
  "application/vnd.databricks.v1+notebook": {
   "dashboards": [],
   "environmentMetadata": null,
   "language": "python",
   "notebookMetadata": {
    "mostRecentlyExecutedCommandWithImplicitDF": {
     "commandId": 460965415807300,
     "dataframes": [
      "_sqldf"
     ]
    },
    "pythonIndentUnit": 4
   },
   "notebookName": "silver",
   "widgets": {}
  }
 },
 "nbformat": 4,
 "nbformat_minor": 0
}
