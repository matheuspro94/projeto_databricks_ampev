{
 "cells": [
  {
   "cell_type": "markdown",
   "metadata": {
    "application/vnd.databricks.v1+cell": {
     "cellMetadata": {},
     "inputWidgets": {},
     "nuid": "7f208016-b298-4b3b-a641-22c7bc8f39a9",
     "showTitle": false,
     "title": ""
    }
   },
   "source": [
    "## Informações Gerais\n",
    "| Informações | Detalhes |\n",
    "| ----------- | -------- |\n",
    "| Nome Tabela | gold.venda_total_estabelecimentos |\n",
    "| Origem | silver.pedidos |\n",
    "\n",
    "## Historico de atualização\n",
    "| Data | Desenvolvido por | Motivo |\n",
    "| ----------- | -------- | -------|\n",
    "| 06/10/2024 | Matheus | Criação do Notebook |"
   ]
  },
  {
   "cell_type": "code",
   "execution_count": 0,
   "metadata": {
    "application/vnd.databricks.v1+cell": {
     "cellMetadata": {
      "byteLimit": 2048000,
      "rowLimit": 10000
     },
     "inputWidgets": {},
     "nuid": "71a6b9a7-3fd5-413c-9e14-2cd949fd6384",
     "showTitle": false,
     "title": ""
    }
   },
   "outputs": [],
   "source": [
    "from pyspark.sql.functions import current_date, current_timestamp, expr"
   ]
  },
  {
   "cell_type": "code",
   "execution_count": 0,
   "metadata": {
    "application/vnd.databricks.v1+cell": {
     "cellMetadata": {
      "byteLimit": 2048000,
      "rowLimit": 10000
     },
     "inputWidgets": {},
     "nuid": "c5279404-0077-4983-928a-c9587e6aea25",
     "showTitle": false,
     "title": ""
    }
   },
   "outputs": [],
   "source": [
    "database = \"gold\"\n",
    "tabela = \"venda_total_produto\""
   ]
  },
  {
   "cell_type": "code",
   "execution_count": 0,
   "metadata": {
    "application/vnd.databricks.v1+cell": {
     "cellMetadata": {
      "byteLimit": 2048000,
      "rowLimit": 10000
     },
     "inputWidgets": {},
     "nuid": "6357a334-e37b-46af-ba9b-69597cc7c9e1",
     "showTitle": false,
     "title": ""
    }
   },
   "outputs": [],
   "source": [
    "#Funções\n",
    "# Função que aplica os comentarios na tabela\n",
    "def adicionaComentariosTabela(a, b, c, d):\n",
    "    spark.sql(f\"COMMENT ON TABLE {a}.{b} IS '{c}'\")\n",
    "    for key, value in d.items():\n",
    "        sqlaux = f\"ALTER TABLE {a}.{b} CHANGE COLUMN {key} COMMENT '{value}'\"\n",
    "        spark.sql(sqlaux)"
   ]
  },
  {
   "cell_type": "code",
   "execution_count": 0,
   "metadata": {
    "application/vnd.databricks.v1+cell": {
     "cellMetadata": {
      "byteLimit": 2048000,
      "rowLimit": 10000
     },
     "inputWidgets": {},
     "nuid": "e6c37fdf-404a-4700-9f23-f08e738fbd43",
     "showTitle": false,
     "title": ""
    }
   },
   "outputs": [],
   "source": [
    "df_pedidos = spark.sql(\n",
    "    f\"\"\"\n",
    "    SELECT\n",
    "        produto AS nome_produto,\n",
    "        CAST(SUM(quantidade) AS INT) AS quantidade_total,\n",
    "        CAST(SUM(preco) AS DECIMAL(20,2)) AS valor_total\n",
    "    FROM\n",
    "        silver.pedidos\n",
    "    GROUP BY ALL\n",
    "    \"\"\"\n",
    ")"
   ]
  },
  {
   "cell_type": "code",
   "execution_count": 0,
   "metadata": {
    "application/vnd.databricks.v1+cell": {
     "cellMetadata": {
      "byteLimit": 2048000,
      "rowLimit": 10000
     },
     "inputWidgets": {},
     "nuid": "feca8b90-89a3-482f-a21a-3c98cc19f8a1",
     "showTitle": false,
     "title": ""
    }
   },
   "outputs": [],
   "source": [
    "df_pedidos = df_pedidos.withColumn(\"data_carga\", current_date())\n",
    "df_pedidos = df_pedidos.withColumn(\"data_hora_carga\", expr(\"current_timestamp() - INTERVAL 3 HOURS\"))"
   ]
  },
  {
   "cell_type": "code",
   "execution_count": 0,
   "metadata": {
    "application/vnd.databricks.v1+cell": {
     "cellMetadata": {
      "byteLimit": 2048000,
      "rowLimit": 10000
     },
     "inputWidgets": {},
     "nuid": "60f73a78-8eaf-438b-8957-e6f786ce0e94",
     "showTitle": false,
     "title": ""
    }
   },
   "outputs": [
    {
     "output_type": "display_data",
     "data": {
      "text/html": [
       "<style scoped>\n",
       "  .table-result-container {\n",
       "    max-height: 300px;\n",
       "    overflow: auto;\n",
       "  }\n",
       "  table, th, td {\n",
       "    border: 1px solid black;\n",
       "    border-collapse: collapse;\n",
       "  }\n",
       "  th, td {\n",
       "    padding: 5px;\n",
       "  }\n",
       "  th {\n",
       "    text-align: left;\n",
       "  }\n",
       "</style><div class='table-result-container'><table class='table-result'><thead style='background-color: white'><tr><th>nome_produto</th><th>quantidade_total</th><th>valor_total</th><th>data_carga</th><th>data_hora_carga</th></tr></thead><tbody><tr><td>Suco Natural</td><td>12931</td><td>444.03</td><td>2024-10-06</td><td>2024-10-06T19:35:22.516Z</td></tr><tr><td>Vinho ABC</td><td>14191</td><td>614.80</td><td>2024-10-06</td><td>2024-10-06T19:35:22.516Z</td></tr><tr><td>Refrigerante 123</td><td>11741</td><td>459.77</td><td>2024-10-06</td><td>2024-10-06T19:35:22.516Z</td></tr><tr><td>Cerveja XYZ</td><td>15036</td><td>606.78</td><td>2024-10-06</td><td>2024-10-06T19:35:22.516Z</td></tr><tr><td>Água Mineral</td><td>12874</td><td>533.71</td><td>2024-10-06</td><td>2024-10-06T19:35:22.516Z</td></tr></tbody></table></div>"
      ]
     },
     "metadata": {
      "application/vnd.databricks.v1+output": {
       "addedWidgets": {},
       "aggData": [],
       "aggError": "",
       "aggOverflow": false,
       "aggSchema": [],
       "aggSeriesLimitReached": false,
       "aggType": "",
       "arguments": {},
       "columnCustomDisplayInfos": {},
       "data": [
        [
         "Suco Natural",
         12931,
         "444.03",
         "2024-10-06",
         "2024-10-06T19:35:22.516Z"
        ],
        [
         "Vinho ABC",
         14191,
         "614.80",
         "2024-10-06",
         "2024-10-06T19:35:22.516Z"
        ],
        [
         "Refrigerante 123",
         11741,
         "459.77",
         "2024-10-06",
         "2024-10-06T19:35:22.516Z"
        ],
        [
         "Cerveja XYZ",
         15036,
         "606.78",
         "2024-10-06",
         "2024-10-06T19:35:22.516Z"
        ],
        [
         "Água Mineral",
         12874,
         "533.71",
         "2024-10-06",
         "2024-10-06T19:35:22.516Z"
        ]
       ],
       "datasetInfos": [],
       "dbfsResultPath": null,
       "isJsonSchema": true,
       "metadata": {},
       "overflow": false,
       "plotOptions": {
        "customPlotOptions": {},
        "displayType": "table",
        "pivotAggregation": null,
        "pivotColumns": null,
        "xColumns": null,
        "yColumns": null
       },
       "removedWidgets": [],
       "schema": [
        {
         "metadata": "{\"comment\":\"Nome do produto.\"}",
         "name": "nome_produto",
         "type": "\"string\""
        },
        {
         "metadata": "{}",
         "name": "quantidade_total",
         "type": "\"integer\""
        },
        {
         "metadata": "{}",
         "name": "valor_total",
         "type": "\"decimal(20,2)\""
        },
        {
         "metadata": "{}",
         "name": "data_carga",
         "type": "\"date\""
        },
        {
         "metadata": "{}",
         "name": "data_hora_carga",
         "type": "\"timestamp\""
        }
       ],
       "type": "table"
      }
     },
     "output_type": "display_data"
    }
   ],
   "source": [
    "df_pedidos.display()"
   ]
  },
  {
   "cell_type": "code",
   "execution_count": 0,
   "metadata": {
    "application/vnd.databricks.v1+cell": {
     "cellMetadata": {
      "byteLimit": 2048000,
      "rowLimit": 10000
     },
     "inputWidgets": {},
     "nuid": "855c566f-6b41-4a27-83e2-240e327b987c",
     "showTitle": false,
     "title": ""
    }
   },
   "outputs": [],
   "source": [
    "comentario_tabela = 'Entidade os produtos mais vendidos por estabelecimento'\n",
    "\n",
    "lista_comentario_colunas = {\n",
    "    'nome_produto': 'Nome do produto.',\n",
    "    'quantidade_total': 'Quantidade total vendida.',\n",
    "    'valor_total': 'Valor total vendido.',\n",
    "    'data_carga': 'Data que o registro foi carregado.',\n",
    "    'data_hora_carga': 'Data e hora que o registro foi carregado.'\n",
    "}\n"
   ]
  },
  {
   "cell_type": "code",
   "execution_count": 0,
   "metadata": {
    "application/vnd.databricks.v1+cell": {
     "cellMetadata": {
      "byteLimit": 2048000,
      "rowLimit": 10000
     },
     "inputWidgets": {},
     "nuid": "bd62f702-72e3-41b5-93c9-7ac11989e42f",
     "showTitle": false,
     "title": ""
    }
   },
   "outputs": [
    {
     "output_type": "stream",
     "name": "stdout",
     "output_type": "stream",
     "text": [
      "Comentarios adicionados nas tabelas\nDados gravados com sucesso!\n"
     ]
    }
   ],
   "source": [
    "df_pedidos.write \\\n",
    "    .format('delta') \\\n",
    "    .mode('overwrite') \\\n",
    "    .clusterBy(\"nome_produto\") \\\n",
    "    .option('overwriteSchema', 'true') \\\n",
    "    .saveAsTable(f'{database}.{tabela}')\n",
    "adicionaComentariosTabela(database, tabela, comentario_tabela, lista_comentario_colunas)\n",
    "print(\"Comentarios adicionados nas tabelas\")\n",
    "print(\"Dados gravados com sucesso!\")"
   ]
  },
  {
   "cell_type": "code",
   "execution_count": 0,
   "metadata": {
    "application/vnd.databricks.v1+cell": {
     "cellMetadata": {
      "byteLimit": 2048000,
      "rowLimit": 10000
     },
     "inputWidgets": {},
     "nuid": "4b97ab1e-1a56-4c5d-aa01-8b0270a35a43",
     "showTitle": false,
     "title": ""
    }
   },
   "outputs": [
    {
     "output_type": "stream",
     "name": "stdout",
     "output_type": "stream",
     "text": [
      "Processo de otmização finalizado!\n"
     ]
    }
   ],
   "source": [
    "spark.sql(f\"OPTIMIZE {database}.{tabela}\")\n",
    "print(\"Processo de otmização finalizado!\")"
   ]
  },
  {
   "cell_type": "code",
   "execution_count": 0,
   "metadata": {
    "application/vnd.databricks.v1+cell": {
     "cellMetadata": {
      "byteLimit": 2048000,
      "implicitDf": true,
      "rowLimit": 10000
     },
     "inputWidgets": {},
     "nuid": "e3ca8b46-8907-4bc2-a34b-161924523092",
     "showTitle": false,
     "title": ""
    }
   },
   "outputs": [
    {
     "output_type": "display_data",
     "data": {
      "text/html": [
       "<style scoped>\n",
       "  .table-result-container {\n",
       "    max-height: 300px;\n",
       "    overflow: auto;\n",
       "  }\n",
       "  table, th, td {\n",
       "    border: 1px solid black;\n",
       "    border-collapse: collapse;\n",
       "  }\n",
       "  th, td {\n",
       "    padding: 5px;\n",
       "  }\n",
       "  th {\n",
       "    text-align: left;\n",
       "  }\n",
       "</style><div class='table-result-container'><table class='table-result'><thead style='background-color: white'><tr><th>nome_produto</th><th>quantidade_total</th><th>valor_total</th><th>data_carga</th><th>data_hora_carga</th></tr></thead><tbody><tr><td>Suco Natural</td><td>12931</td><td>444.03</td><td>2024-10-06</td><td>2024-10-06T19:36:19.239Z</td></tr><tr><td>Vinho ABC</td><td>14191</td><td>614.80</td><td>2024-10-06</td><td>2024-10-06T19:36:19.239Z</td></tr><tr><td>Refrigerante 123</td><td>11741</td><td>459.77</td><td>2024-10-06</td><td>2024-10-06T19:36:19.239Z</td></tr><tr><td>Cerveja XYZ</td><td>15036</td><td>606.78</td><td>2024-10-06</td><td>2024-10-06T19:36:19.239Z</td></tr><tr><td>Água Mineral</td><td>12874</td><td>533.71</td><td>2024-10-06</td><td>2024-10-06T19:36:19.239Z</td></tr></tbody></table></div>"
      ]
     },
     "metadata": {
      "application/vnd.databricks.v1+output": {
       "addedWidgets": {},
       "aggData": [],
       "aggError": "",
       "aggOverflow": false,
       "aggSchema": [],
       "aggSeriesLimitReached": false,
       "aggType": "",
       "arguments": {},
       "columnCustomDisplayInfos": {},
       "data": [
        [
         "Suco Natural",
         12931,
         "444.03",
         "2024-10-06",
         "2024-10-06T19:36:19.239Z"
        ],
        [
         "Vinho ABC",
         14191,
         "614.80",
         "2024-10-06",
         "2024-10-06T19:36:19.239Z"
        ],
        [
         "Refrigerante 123",
         11741,
         "459.77",
         "2024-10-06",
         "2024-10-06T19:36:19.239Z"
        ],
        [
         "Cerveja XYZ",
         15036,
         "606.78",
         "2024-10-06",
         "2024-10-06T19:36:19.239Z"
        ],
        [
         "Água Mineral",
         12874,
         "533.71",
         "2024-10-06",
         "2024-10-06T19:36:19.239Z"
        ]
       ],
       "datasetInfos": [],
       "dbfsResultPath": null,
       "isJsonSchema": true,
       "metadata": {
        "createTempViewForImplicitDf": true,
        "dataframeName": "_sqldf",
        "executionCount": 28
       },
       "overflow": false,
       "plotOptions": {
        "customPlotOptions": {},
        "displayType": "table",
        "pivotAggregation": null,
        "pivotColumns": null,
        "xColumns": null,
        "yColumns": null
       },
       "removedWidgets": [],
       "schema": [
        {
         "metadata": "{\"comment\":\"Nome do produto.\"}",
         "name": "nome_produto",
         "type": "\"string\""
        },
        {
         "metadata": "{\"comment\":\"Quantidade total vendida.\"}",
         "name": "quantidade_total",
         "type": "\"integer\""
        },
        {
         "metadata": "{\"comment\":\"Valor total vendido.\"}",
         "name": "valor_total",
         "type": "\"decimal(20,2)\""
        },
        {
         "metadata": "{\"comment\":\"Data que o registro foi carregado.\"}",
         "name": "data_carga",
         "type": "\"date\""
        },
        {
         "metadata": "{\"comment\":\"Data e hora que o registro foi carregado.\"}",
         "name": "data_hora_carga",
         "type": "\"timestamp\""
        }
       ],
       "type": "table"
      }
     },
     "output_type": "display_data"
    },
    {
     "output_type": "display_data",
     "data": {
      "text/plain": [
       "Databricks visualization. Run in Databricks to view."
      ]
     },
     "metadata": {
      "application/vnd.databricks.v1.subcommand+json": {
       "baseErrorDetails": null,
       "bindings": {},
       "collapsed": false,
       "command": "%sql WITH q AS (select * \nfrom \ngold.venda_total_produto) SELECT `nome_produto`,SUM(`valor_total`) `column_d5031d2b15`,`quantidade_total` FROM q GROUP BY `nome_produto`,`quantidade_total`",
       "commandTitle": "mais vendidos",
       "commandType": "auto",
       "commandVersion": 0,
       "commentThread": [],
       "commentsVisible": false,
       "contentSha256Hex": null,
       "customPlotOptions": {
        "redashChart": [
         {
          "key": "type",
          "value": "CHART"
         },
         {
          "key": "options",
          "value": {
           "alignYAxesAtZero": true,
           "coefficient": 1,
           "columnConfigurationMap": {
            "series": {
             "column": "quantidade_total",
             "id": "column_d5031d2b17"
            },
            "x": {
             "column": "nome_produto",
             "id": "column_d5031d2b13"
            },
            "y": [
             {
              "column": "valor_total",
              "id": "column_d5031d2b15",
              "transform": "SUM"
             }
            ]
           },
           "dateTimeFormat": "DD/MM/YYYY HH:mm",
           "direction": {
            "type": "counterclockwise"
           },
           "error_y": {
            "type": "data",
            "visible": true
           },
           "globalSeriesType": "column",
           "hideYAxes": false,
           "isAggregationOn": true,
           "legend": {
            "traceorder": "normal"
           },
           "missingValuesAsZero": true,
           "numberFormat": "0,0.[00000]",
           "percentFormat": "0[.]00%",
           "series": {
            "error_y": {
             "type": "data",
             "visible": true
            },
            "stacking": "stack"
           },
           "seriesOptions": {
            "column_d5031d2b15": {
             "type": "column",
             "yAxis": 0
            }
           },
           "showDataLabels": true,
           "sizemode": "diameter",
           "sortX": false,
           "sortY": true,
           "swappedAxes": true,
           "textFormat": "",
           "useAggregationsUi": true,
           "valuesOptions": {},
           "version": 2,
           "xAxis": {
            "labels": {
             "enabled": true
            },
            "type": "-"
           },
           "yAxis": [
            {
             "type": "-"
            },
            {
             "opposite": true,
             "type": "-"
            }
           ]
          }
         }
        ]
       },
       "datasetPreviewNameToCmdIdMap": {},
       "diffDeletes": [],
       "diffInserts": [],
       "displayType": "redashChart",
       "error": null,
       "errorDetails": null,
       "errorSummary": null,
       "errorTraceType": null,
       "finishTime": 0,
       "globalVars": {},
       "guid": "",
       "height": "auto",
       "hideCommandCode": false,
       "hideCommandResult": false,
       "iPythonMetadata": null,
       "inputWidgets": {},
       "isLockedInExamMode": false,
       "latestUser": "a user",
       "latestUserId": null,
       "listResultMetadata": null,
       "metadata": {},
       "nuid": "e6ff45dd-4cc0-4dde-85e0-d32652bd8f86",
       "origId": 0,
       "parentHierarchy": [],
       "pivotAggregation": null,
       "pivotColumns": null,
       "position": 10.0,
       "resultDbfsErrorMessage": null,
       "resultDbfsStatus": "INLINED_IN_TREE",
       "results": null,
       "showCommandTitle": false,
       "startTime": 0,
       "state": "input",
       "streamStates": {},
       "subcommandOptions": {
        "queryPlan": {
         "groups": [
          {
           "column": "nome_produto",
           "type": "column"
          },
          {
           "column": "quantidade_total",
           "type": "column"
          }
         ],
         "selects": [
          {
           "column": "nome_produto",
           "type": "column"
          },
          {
           "alias": "column_d5031d2b15",
           "args": [
            {
             "column": "valor_total",
             "type": "column"
            }
           ],
           "function": "SUM",
           "type": "function"
          },
          {
           "column": "quantidade_total",
           "type": "column"
          }
         ]
        }
       },
       "submitTime": 0,
       "subtype": "tableResultSubCmd.visualization",
       "tableResultIndex": 0,
       "tableResultSettingsMap": null,
       "useConsistentColors": false,
       "version": "CommandV1",
       "width": "auto",
       "workflows": [],
       "xColumns": null,
       "yColumns": null
      }
     },
     "output_type": "display_data"
    },
    {
     "output_type": "display_data",
     "data": {
      "text/plain": [
       "Databricks visualization. Run in Databricks to view."
      ]
     },
     "metadata": {
      "application/vnd.databricks.v1.subcommand+json": {
       "baseErrorDetails": null,
       "bindings": {},
       "collapsed": false,
       "command": "%sql WITH q AS (select * \nfrom \ngold.venda_total_produto) SELECT `nome_produto`,SUM(`valor_total`) `column_d5031d2b22`,`valor_total` FROM q GROUP BY `nome_produto`,`valor_total`",
       "commandTitle": "maior faturamento",
       "commandType": "auto",
       "commandVersion": 0,
       "commentThread": [],
       "commentsVisible": false,
       "contentSha256Hex": null,
       "customPlotOptions": {
        "redashChart": [
         {
          "key": "type",
          "value": "CHART"
         },
         {
          "key": "options",
          "value": {
           "alignYAxesAtZero": true,
           "coefficient": 1,
           "columnConfigurationMap": {
            "series": {
             "column": "valor_total",
             "id": "column_d5031d2b24"
            },
            "x": {
             "column": "nome_produto",
             "id": "column_d5031d2b20"
            },
            "y": [
             {
              "column": "valor_total",
              "id": "column_d5031d2b22",
              "transform": "SUM"
             }
            ]
           },
           "dateTimeFormat": "DD/MM/YYYY HH:mm",
           "direction": {
            "type": "counterclockwise"
           },
           "error_y": {
            "type": "data",
            "visible": true
           },
           "globalSeriesType": "column",
           "hideXAxis": false,
           "isAggregationOn": true,
           "legend": {
            "traceorder": "normal"
           },
           "missingValuesAsZero": true,
           "numberFormat": "0,0.[00000]",
           "percentFormat": "0[.]00%",
           "series": {
            "error_y": {
             "type": "data",
             "visible": true
            },
            "stacking": "stack"
           },
           "seriesOptions": {
            "column_d5031d2b22": {
             "type": "column",
             "yAxis": 0
            }
           },
           "showDataLabels": true,
           "sizemode": "diameter",
           "sortX": false,
           "sortY": true,
           "swappedAxes": false,
           "textFormat": "",
           "useAggregationsUi": true,
           "valuesOptions": {},
           "version": 2,
           "xAxis": {
            "labels": {
             "enabled": true
            },
            "type": "-"
           },
           "yAxis": [
            {
             "type": "-"
            },
            {
             "opposite": true,
             "type": "-"
            }
           ]
          }
         }
        ]
       },
       "datasetPreviewNameToCmdIdMap": {},
       "diffDeletes": [],
       "diffInserts": [],
       "displayType": "redashChart",
       "error": null,
       "errorDetails": null,
       "errorSummary": null,
       "errorTraceType": null,
       "finishTime": 0,
       "globalVars": {},
       "guid": "",
       "height": "auto",
       "hideCommandCode": false,
       "hideCommandResult": false,
       "iPythonMetadata": null,
       "inputWidgets": {},
       "isLockedInExamMode": false,
       "latestUser": "a user",
       "latestUserId": null,
       "listResultMetadata": null,
       "metadata": {},
       "nuid": "bc777bd0-3a4c-4fa4-8e5e-35f0452c34bb",
       "origId": 0,
       "parentHierarchy": [],
       "pivotAggregation": null,
       "pivotColumns": null,
       "position": 11.0,
       "resultDbfsErrorMessage": null,
       "resultDbfsStatus": "INLINED_IN_TREE",
       "results": null,
       "showCommandTitle": false,
       "startTime": 0,
       "state": "input",
       "streamStates": {},
       "subcommandOptions": {
        "queryPlan": {
         "groups": [
          {
           "column": "nome_produto",
           "type": "column"
          },
          {
           "column": "valor_total",
           "type": "column"
          }
         ],
         "selects": [
          {
           "column": "nome_produto",
           "type": "column"
          },
          {
           "alias": "column_d5031d2b22",
           "args": [
            {
             "column": "valor_total",
             "type": "column"
            }
           ],
           "function": "SUM",
           "type": "function"
          },
          {
           "column": "valor_total",
           "type": "column"
          }
         ]
        }
       },
       "submitTime": 0,
       "subtype": "tableResultSubCmd.visualization",
       "tableResultIndex": 0,
       "tableResultSettingsMap": null,
       "useConsistentColors": false,
       "version": "CommandV1",
       "width": "auto",
       "workflows": [],
       "xColumns": null,
       "yColumns": null
      }
     },
     "output_type": "display_data"
    }
   ],
   "source": [
    "%sql\n",
    "select * \n",
    "from \n",
    "gold.venda_total_produto"
   ]
  },
  {
   "cell_type": "code",
   "execution_count": 0,
   "metadata": {
    "application/vnd.databricks.v1+cell": {
     "cellMetadata": {},
     "inputWidgets": {},
     "nuid": "9cf3f9a0-3084-4fd6-b6cd-62b4fca90d62",
     "showTitle": false,
     "title": ""
    }
   },
   "outputs": [],
   "source": []
  }
 ],
 "metadata": {
  "application/vnd.databricks.v1+notebook": {
   "dashboards": [],
   "environmentMetadata": null,
   "language": "python",
   "notebookMetadata": {
    "mostRecentlyExecutedCommandWithImplicitDF": {
     "commandId": 460965415807315,
     "dataframes": [
      "_sqldf"
     ]
    },
    "pythonIndentUnit": 4
   },
   "notebookName": "gold_total_estabelecimento",
   "widgets": {}
  }
 },
 "nbformat": 4,
 "nbformat_minor": 0
}
