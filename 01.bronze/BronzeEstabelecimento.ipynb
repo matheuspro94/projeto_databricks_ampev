{
 "cells": [
  {
   "cell_type": "code",
   "execution_count": 0,
   "metadata": {
    "application/vnd.databricks.v1+cell": {
     "cellMetadata": {
      "byteLimit": 2048000,
      "rowLimit": 10000
     },
     "inputWidgets": {},
     "nuid": "7999c380-fad3-4982-857b-959ff22cab24",
     "showTitle": false,
     "title": ""
    }
   },
   "outputs": [
    {
     "output_type": "display_data",
     "data": {
      "text/html": [
       "<style scoped>\n",
       "  .table-result-container {\n",
       "    max-height: 300px;\n",
       "    overflow: auto;\n",
       "  }\n",
       "  table, th, td {\n",
       "    border: 1px solid black;\n",
       "    border-collapse: collapse;\n",
       "  }\n",
       "  th, td {\n",
       "    padding: 5px;\n",
       "  }\n",
       "  th {\n",
       "    text-align: left;\n",
       "  }\n",
       "</style><div class='table-result-container'><table class='table-result'><thead style='background-color: white'><tr></tr></thead><tbody></tbody></table></div>"
      ]
     },
     "metadata": {
      "application/vnd.databricks.v1+output": {
       "addedWidgets": {},
       "aggData": [],
       "aggError": "",
       "aggOverflow": false,
       "aggSchema": [],
       "aggSeriesLimitReached": false,
       "aggType": "",
       "arguments": {},
       "columnCustomDisplayInfos": {},
       "data": [],
       "datasetInfos": [],
       "dbfsResultPath": null,
       "isJsonSchema": true,
       "metadata": {
        "dataframeName": null
       },
       "overflow": false,
       "plotOptions": {
        "customPlotOptions": {},
        "displayType": "table",
        "pivotAggregation": null,
        "pivotColumns": null,
        "xColumns": null,
        "yColumns": null
       },
       "removedWidgets": [],
       "schema": [],
       "type": "table"
      }
     },
     "output_type": "display_data"
    }
   ],
   "source": [
    "%run /Projeto_Databricks_01/00.config/configurações"
   ]
  },
  {
   "cell_type": "code",
   "execution_count": 0,
   "metadata": {
    "application/vnd.databricks.v1+cell": {
     "cellMetadata": {
      "byteLimit": 2048000,
      "rowLimit": 10000
     },
     "inputWidgets": {},
     "nuid": "d4038bdc-abb4-4a52-9880-17cb5ad59a0f",
     "showTitle": false,
     "title": ""
    }
   },
   "outputs": [
    {
     "output_type": "display_data",
     "data": {
      "text/html": [
       "<style scoped>\n",
       "  .table-result-container {\n",
       "    max-height: 300px;\n",
       "    overflow: auto;\n",
       "  }\n",
       "  table, th, td {\n",
       "    border: 1px solid black;\n",
       "    border-collapse: collapse;\n",
       "  }\n",
       "  th, td {\n",
       "    padding: 5px;\n",
       "  }\n",
       "  th {\n",
       "    text-align: left;\n",
       "  }\n",
       "</style><div class='table-result-container'><table class='table-result'><thead style='background-color: white'><tr></tr></thead><tbody></tbody></table></div>"
      ]
     },
     "metadata": {
      "application/vnd.databricks.v1+output": {
       "addedWidgets": {},
       "aggData": [],
       "aggError": "",
       "aggOverflow": false,
       "aggSchema": [],
       "aggSeriesLimitReached": false,
       "aggType": "",
       "arguments": {},
       "columnCustomDisplayInfos": {},
       "data": [],
       "datasetInfos": [],
       "dbfsResultPath": null,
       "isJsonSchema": true,
       "metadata": {
        "dataframeName": null
       },
       "overflow": false,
       "plotOptions": {
        "customPlotOptions": {},
        "displayType": "table",
        "pivotAggregation": null,
        "pivotColumns": null,
        "xColumns": null,
        "yColumns": null
       },
       "removedWidgets": [],
       "schema": [],
       "type": "table"
      }
     },
     "output_type": "display_data"
    },
    {
     "output_type": "display_data",
     "data": {
      "text/html": [
       "<style scoped>\n",
       "  .table-result-container {\n",
       "    max-height: 300px;\n",
       "    overflow: auto;\n",
       "  }\n",
       "  table, th, td {\n",
       "    border: 1px solid black;\n",
       "    border-collapse: collapse;\n",
       "  }\n",
       "  th, td {\n",
       "    padding: 5px;\n",
       "  }\n",
       "  th {\n",
       "    text-align: left;\n",
       "  }\n",
       "</style><div class='table-result-container'><table class='table-result'><thead style='background-color: white'><tr></tr></thead><tbody></tbody></table></div>"
      ]
     },
     "metadata": {
      "application/vnd.databricks.v1+output": {
       "addedWidgets": {},
       "aggData": [],
       "aggError": "",
       "aggOverflow": false,
       "aggSchema": [],
       "aggSeriesLimitReached": false,
       "aggType": "",
       "arguments": {},
       "columnCustomDisplayInfos": {},
       "data": [],
       "datasetInfos": [],
       "dbfsResultPath": null,
       "isJsonSchema": true,
       "metadata": {
        "dataframeName": null
       },
       "overflow": false,
       "plotOptions": {
        "customPlotOptions": {},
        "displayType": "table",
        "pivotAggregation": null,
        "pivotColumns": null,
        "xColumns": null,
        "yColumns": null
       },
       "removedWidgets": [],
       "schema": [],
       "type": "table"
      }
     },
     "output_type": "display_data"
    }
   ],
   "source": [
    "#Importações\n",
    "from pyspark.sql.functions import current_date, current_timestamp, expr"
   ]
  },
  {
   "cell_type": "code",
   "execution_count": 0,
   "metadata": {
    "application/vnd.databricks.v1+cell": {
     "cellMetadata": {
      "byteLimit": 2048000,
      "rowLimit": 10000
     },
     "inputWidgets": {},
     "nuid": "4e8b6330-a900-4844-ac3a-d723efbe0bb8",
     "showTitle": false,
     "title": ""
    }
   },
   "outputs": [],
   "source": [
    "#Nome do database\n",
    "\n",
    "database = \"bronze\"\n",
    "tabela = \"estabelecimentos\"\n",
    "\n",
    "#path\n",
    "caminho_arquivo = 'dbfs:/FileStore/Ampev/estabelecimentos.csv'"
   ]
  },
  {
   "cell_type": "code",
   "execution_count": 0,
   "metadata": {
    "application/vnd.databricks.v1+cell": {
     "cellMetadata": {
      "byteLimit": 2048000,
      "rowLimit": 10000
     },
     "inputWidgets": {},
     "nuid": "af7a5eb2-417a-4720-b505-9a66e7dbc0c8",
     "showTitle": false,
     "title": ""
    }
   },
   "outputs": [
    {
     "output_type": "display_data",
     "data": {
      "text/html": [
       "<style scoped>\n",
       "  .table-result-container {\n",
       "    max-height: 300px;\n",
       "    overflow: auto;\n",
       "  }\n",
       "  table, th, td {\n",
       "    border: 1px solid black;\n",
       "    border-collapse: collapse;\n",
       "  }\n",
       "  th, td {\n",
       "    padding: 5px;\n",
       "  }\n",
       "  th {\n",
       "    text-align: left;\n",
       "  }\n",
       "</style><div class='table-result-container'><table class='table-result'><thead style='background-color: white'><tr><th>Local</th><th>Email</th><th>EstabelecimentoID</th><th>Telefone</th></tr></thead><tbody><tr><td>Bar do mineiro</td><td>bar@bardomineiro</td><td>1</td><td>(31) 96787-9326</td></tr><tr><td>Restaurante da Ana</td><td>ana@restaurantedana.com</td><td>2</td><td>(11) 98891-8293</td></tr><tr><td>Supermercado ABC</td><td>contato@superabc.com</td><td>3</td><td>(71) 99854-2730</td></tr><tr><td>Padaria do Paulo</td><td>paulo@padariapaulo.com</td><td>4</td><td>(61) 97029-4259</td></tr><tr><td>Lanchonete da Maria</td><td>maria@lanchonetemaria.com</td><td>5</td><td>(61) 95460-5114</td></tr><tr><td>Café Expresso</td><td>contato@cafeexpresso.com</td><td>6</td><td>(81) 91353-6764</td></tr><tr><td>Pizzaria Bella</td><td>contato@pizzariabella.com</td><td>7</td><td>(91) 96418-7540</td></tr><tr><td>Churrascaria Gaúcha</td><td>contato@churrascariagaucha.com</td><td>8</td><td>(31) 98582-4944</td></tr><tr><td>Cantina Italiana</td><td>contato@cantinaitaliana.com</td><td>9</td><td>(91) 93994-5119</td></tr><tr><td>Mercadinho da Esquina</td><td>contato@mercadinhoesquina.com</td><td>10</td><td>(41) 90819-7897</td></tr><tr><td>Doceria Delícia</td><td>contato@doceriadelicia.com</td><td>11</td><td>(61) 95626-8430</td></tr><tr><td>Pastelaria do Mário</td><td>contato@pastelariadomario.com</td><td>12</td><td>(21) 99320-8273</td></tr><tr><td>Hamburgueria Prime</td><td>contato@hamburgueriaprime.com</td><td>13</td><td>(61) 90265-7365</td></tr><tr><td>Sorveteria Geladinho</td><td>contato@sorveteriageladinho.com</td><td>14</td><td>(51) 92493-8299</td></tr><tr><td>Padoca do Zé</td><td>contato@padocadodze.com</td><td>15</td><td>(61) 94617-3404</td></tr><tr><td>Adega do Luiz</td><td>contato@adegadoluz.com</td><td>16</td><td>(71) 93274-7401</td></tr><tr><td>Botequim do Chico</td><td>contato@botequimdochico.com</td><td>17</td><td>(11) 91707-4088</td></tr><tr><td>Cervejaria Artesanal</td><td>contato@cervejariaartesanal.com</td><td>18</td><td>(11) 95799-9899</td></tr><tr><td>Barbearia do Toninho</td><td>contato@barbeariadotoninho.com</td><td>19</td><td>(91) 99438-6690</td></tr><tr><td>Farmácia Popular</td><td>contato@farmaciapopular.com</td><td>20</td><td>(51) 94871-3208</td></tr><tr><td>Livraria Cultura</td><td>contato@livrariacultura.com</td><td>21</td><td>(91) 99104-9942</td></tr><tr><td>Papelaria Central</td><td>contato@papelariacentral.com</td><td>22</td><td>(41) 93189-7746</td></tr><tr><td>Academia Fit</td><td>contato@academiafit.com</td><td>23</td><td>(11) 92674-3789</td></tr><tr><td>Salão Beleza Pura</td><td>contato@salaobelezapura.com</td><td>24</td><td>(51) 91844-9553</td></tr><tr><td>Loja de Roupas Fashion</td><td>contato@lojaderoupasfashion.com</td><td>25</td><td>(81) 97241-3620</td></tr><tr><td>Pet Shop Amigo Fiel</td><td>contato@petshopamigofiel.com</td><td>26</td><td>(31) 91631-4388</td></tr><tr><td>Oficina Mecânica</td><td>contato@oficinamecanica.com</td><td>27</td><td>(31) 96744-7044</td></tr><tr><td>Padaria São João</td><td>contato@padariasaojoao.com</td><td>28</td><td>(91) 95641-1530</td></tr><tr><td>Lanchonete Top</td><td>contato@lanchonetetop.com</td><td>29</td><td>(41) 92964-7794</td></tr><tr><td>Restaurante Vegetariano</td><td>contato@restaurantevegetariano.com</td><td>30</td><td>(81) 98693-9060</td></tr><tr><td>Bar e Grill</td><td>contato@baregrill.com</td><td>31</td><td>(41) 93510-4603</td></tr><tr><td>Chocolateria</td><td>contato@chocolateria.com</td><td>32</td><td>(81) 95224-4707</td></tr><tr><td>Frutaria Tropical</td><td>contato@frutariatroipcal.com</td><td>33</td><td>(71) 90229-2223</td></tr><tr><td>Sorveteria Sorvetão</td><td>contato@sorveteriasorvetao.com</td><td>34</td><td>(11) 91064-2800</td></tr><tr><td>Restaurante Japonês</td><td>contato@restaurantejapones.com</td><td>35</td><td>(11) 91789-3252</td></tr><tr><td>Padaria do Bairro</td><td>contato@padariadobairro.com</td><td>36</td><td>(31) 95389-1464</td></tr><tr><td>Hamburgueria Burger</td><td>contato@hamburgueriaburger.com</td><td>37</td><td>(31) 93120-6163</td></tr><tr><td>Restaurante Francês</td><td>contato@restaurantefrances.com</td><td>38</td><td>(21) 91283-5782</td></tr><tr><td>Bar da Esquina</td><td>contato@bardaesquina.com</td><td>39</td><td>(51) 93941-4832</td></tr><tr><td>Restaurante Mexicano</td><td>contato@restaurantemexicano.com</td><td>40</td><td>(21) 90293-4063</td></tr><tr><td>Pizzaria Italiana</td><td>contato@pizzariaitaliana.com</td><td>41</td><td>(71) 99975-5015</td></tr><tr><td>Café Gourmet</td><td>contato@cafegourmet.com</td><td>42</td><td>(81) 91370-2605</td></tr><tr><td>Restaurante Brasileiro</td><td>contato@restaurantebrasileiro.com</td><td>43</td><td>(61) 90767-4956</td></tr><tr><td>Lanchonete do Bairro</td><td>contato@lanchonetedobairro.com</td><td>44</td><td>(61) 93857-1485</td></tr><tr><td>Pizzaria São Pedro</td><td>contato@pizzariasampedro.com</td><td>45</td><td>(11) 95909-3334</td></tr><tr><td>Pastelaria da Vila</td><td>contato@pastelariadavila.com</td><td>46</td><td>(71) 98676-3040</td></tr><tr><td>Doceria Fina</td><td>contato@doceriafina.com</td><td>47</td><td>(21) 95174-9538</td></tr><tr><td>Cervejaria Gourmet</td><td>contato@cervejariagourmet.com</td><td>48</td><td>(61) 93477-1255</td></tr><tr><td>Mercadinho do Bairro</td><td>contato@mercadinhodobairro.com</td><td>49</td><td>(51) 92221-5831</td></tr><tr><td>Bar do João</td><td>joao@bardojoao.com</td><td>50</td><td>(71) 98909-8853</td></tr></tbody></table></div>"
      ]
     },
     "metadata": {
      "application/vnd.databricks.v1+output": {
       "addedWidgets": {},
       "aggData": [],
       "aggError": "",
       "aggOverflow": false,
       "aggSchema": [],
       "aggSeriesLimitReached": false,
       "aggType": "",
       "arguments": {},
       "columnCustomDisplayInfos": {},
       "data": [
        [
         "Bar do mineiro",
         "bar@bardomineiro",
         "1",
         "(31) 96787-9326"
        ],
        [
         "Restaurante da Ana",
         "ana@restaurantedana.com",
         "2",
         "(11) 98891-8293"
        ],
        [
         "Supermercado ABC",
         "contato@superabc.com",
         "3",
         "(71) 99854-2730"
        ],
        [
         "Padaria do Paulo",
         "paulo@padariapaulo.com",
         "4",
         "(61) 97029-4259"
        ],
        [
         "Lanchonete da Maria",
         "maria@lanchonetemaria.com",
         "5",
         "(61) 95460-5114"
        ],
        [
         "Café Expresso",
         "contato@cafeexpresso.com",
         "6",
         "(81) 91353-6764"
        ],
        [
         "Pizzaria Bella",
         "contato@pizzariabella.com",
         "7",
         "(91) 96418-7540"
        ],
        [
         "Churrascaria Gaúcha",
         "contato@churrascariagaucha.com",
         "8",
         "(31) 98582-4944"
        ],
        [
         "Cantina Italiana",
         "contato@cantinaitaliana.com",
         "9",
         "(91) 93994-5119"
        ],
        [
         "Mercadinho da Esquina",
         "contato@mercadinhoesquina.com",
         "10",
         "(41) 90819-7897"
        ],
        [
         "Doceria Delícia",
         "contato@doceriadelicia.com",
         "11",
         "(61) 95626-8430"
        ],
        [
         "Pastelaria do Mário",
         "contato@pastelariadomario.com",
         "12",
         "(21) 99320-8273"
        ],
        [
         "Hamburgueria Prime",
         "contato@hamburgueriaprime.com",
         "13",
         "(61) 90265-7365"
        ],
        [
         "Sorveteria Geladinho",
         "contato@sorveteriageladinho.com",
         "14",
         "(51) 92493-8299"
        ],
        [
         "Padoca do Zé",
         "contato@padocadodze.com",
         "15",
         "(61) 94617-3404"
        ],
        [
         "Adega do Luiz",
         "contato@adegadoluz.com",
         "16",
         "(71) 93274-7401"
        ],
        [
         "Botequim do Chico",
         "contato@botequimdochico.com",
         "17",
         "(11) 91707-4088"
        ],
        [
         "Cervejaria Artesanal",
         "contato@cervejariaartesanal.com",
         "18",
         "(11) 95799-9899"
        ],
        [
         "Barbearia do Toninho",
         "contato@barbeariadotoninho.com",
         "19",
         "(91) 99438-6690"
        ],
        [
         "Farmácia Popular",
         "contato@farmaciapopular.com",
         "20",
         "(51) 94871-3208"
        ],
        [
         "Livraria Cultura",
         "contato@livrariacultura.com",
         "21",
         "(91) 99104-9942"
        ],
        [
         "Papelaria Central",
         "contato@papelariacentral.com",
         "22",
         "(41) 93189-7746"
        ],
        [
         "Academia Fit",
         "contato@academiafit.com",
         "23",
         "(11) 92674-3789"
        ],
        [
         "Salão Beleza Pura",
         "contato@salaobelezapura.com",
         "24",
         "(51) 91844-9553"
        ],
        [
         "Loja de Roupas Fashion",
         "contato@lojaderoupasfashion.com",
         "25",
         "(81) 97241-3620"
        ],
        [
         "Pet Shop Amigo Fiel",
         "contato@petshopamigofiel.com",
         "26",
         "(31) 91631-4388"
        ],
        [
         "Oficina Mecânica",
         "contato@oficinamecanica.com",
         "27",
         "(31) 96744-7044"
        ],
        [
         "Padaria São João",
         "contato@padariasaojoao.com",
         "28",
         "(91) 95641-1530"
        ],
        [
         "Lanchonete Top",
         "contato@lanchonetetop.com",
         "29",
         "(41) 92964-7794"
        ],
        [
         "Restaurante Vegetariano",
         "contato@restaurantevegetariano.com",
         "30",
         "(81) 98693-9060"
        ],
        [
         "Bar e Grill",
         "contato@baregrill.com",
         "31",
         "(41) 93510-4603"
        ],
        [
         "Chocolateria",
         "contato@chocolateria.com",
         "32",
         "(81) 95224-4707"
        ],
        [
         "Frutaria Tropical",
         "contato@frutariatroipcal.com",
         "33",
         "(71) 90229-2223"
        ],
        [
         "Sorveteria Sorvetão",
         "contato@sorveteriasorvetao.com",
         "34",
         "(11) 91064-2800"
        ],
        [
         "Restaurante Japonês",
         "contato@restaurantejapones.com",
         "35",
         "(11) 91789-3252"
        ],
        [
         "Padaria do Bairro",
         "contato@padariadobairro.com",
         "36",
         "(31) 95389-1464"
        ],
        [
         "Hamburgueria Burger",
         "contato@hamburgueriaburger.com",
         "37",
         "(31) 93120-6163"
        ],
        [
         "Restaurante Francês",
         "contato@restaurantefrances.com",
         "38",
         "(21) 91283-5782"
        ],
        [
         "Bar da Esquina",
         "contato@bardaesquina.com",
         "39",
         "(51) 93941-4832"
        ],
        [
         "Restaurante Mexicano",
         "contato@restaurantemexicano.com",
         "40",
         "(21) 90293-4063"
        ],
        [
         "Pizzaria Italiana",
         "contato@pizzariaitaliana.com",
         "41",
         "(71) 99975-5015"
        ],
        [
         "Café Gourmet",
         "contato@cafegourmet.com",
         "42",
         "(81) 91370-2605"
        ],
        [
         "Restaurante Brasileiro",
         "contato@restaurantebrasileiro.com",
         "43",
         "(61) 90767-4956"
        ],
        [
         "Lanchonete do Bairro",
         "contato@lanchonetedobairro.com",
         "44",
         "(61) 93857-1485"
        ],
        [
         "Pizzaria São Pedro",
         "contato@pizzariasampedro.com",
         "45",
         "(11) 95909-3334"
        ],
        [
         "Pastelaria da Vila",
         "contato@pastelariadavila.com",
         "46",
         "(71) 98676-3040"
        ],
        [
         "Doceria Fina",
         "contato@doceriafina.com",
         "47",
         "(21) 95174-9538"
        ],
        [
         "Cervejaria Gourmet",
         "contato@cervejariagourmet.com",
         "48",
         "(61) 93477-1255"
        ],
        [
         "Mercadinho do Bairro",
         "contato@mercadinhodobairro.com",
         "49",
         "(51) 92221-5831"
        ],
        [
         "Bar do João",
         "joao@bardojoao.com",
         "50",
         "(71) 98909-8853"
        ]
       ],
       "datasetInfos": [],
       "dbfsResultPath": null,
       "isJsonSchema": true,
       "metadata": {},
       "overflow": false,
       "plotOptions": {
        "customPlotOptions": {},
        "displayType": "table",
        "pivotAggregation": null,
        "pivotColumns": null,
        "xColumns": null,
        "yColumns": null
       },
       "removedWidgets": [],
       "schema": [
        {
         "metadata": "{}",
         "name": "Local",
         "type": "\"string\""
        },
        {
         "metadata": "{}",
         "name": "Email",
         "type": "\"string\""
        },
        {
         "metadata": "{}",
         "name": "EstabelecimentoID",
         "type": "\"string\""
        },
        {
         "metadata": "{}",
         "name": "Telefone",
         "type": "\"string\""
        }
       ],
       "type": "table"
      }
     },
     "output_type": "display_data"
    }
   ],
   "source": [
    "df = spark.read.format(\"csv\").option(\"header\", True).load(caminho_arquivo)\n",
    "df.display()"
   ]
  },
  {
   "cell_type": "code",
   "execution_count": 0,
   "metadata": {
    "application/vnd.databricks.v1+cell": {
     "cellMetadata": {
      "byteLimit": 2048000,
      "rowLimit": 10000
     },
     "inputWidgets": {},
     "nuid": "c8083865-a185-4930-9517-939e52301b39",
     "showTitle": false,
     "title": ""
    }
   },
   "outputs": [],
   "source": [
    "#Incluir coluna de controle\n",
    "df = df.withColumn(\"data_carga\", current_date())\n",
    "df = df.withColumn(\"data_hora_carga\", expr(\"current_timestamp() - INTERVAL 3 HOURS\"))"
   ]
  },
  {
   "cell_type": "code",
   "execution_count": 0,
   "metadata": {
    "application/vnd.databricks.v1+cell": {
     "cellMetadata": {
      "byteLimit": 2048000,
      "rowLimit": 10000
     },
     "inputWidgets": {},
     "nuid": "bc44dc5e-5b8e-4025-8143-c477b8b530d3",
     "showTitle": false,
     "title": ""
    }
   },
   "outputs": [
    {
     "output_type": "display_data",
     "data": {
      "text/html": [
       "<style scoped>\n",
       "  .table-result-container {\n",
       "    max-height: 300px;\n",
       "    overflow: auto;\n",
       "  }\n",
       "  table, th, td {\n",
       "    border: 1px solid black;\n",
       "    border-collapse: collapse;\n",
       "  }\n",
       "  th, td {\n",
       "    padding: 5px;\n",
       "  }\n",
       "  th {\n",
       "    text-align: left;\n",
       "  }\n",
       "</style><div class='table-result-container'><table class='table-result'><thead style='background-color: white'><tr><th>Local</th><th>Email</th><th>EstabelecimentoID</th><th>Telefone</th><th>data_carga</th><th>data_hora_carga</th></tr></thead><tbody><tr><td>Bar do mineiro</td><td>bar@bardomineiro</td><td>1</td><td>(31) 96787-9326</td><td>2024-10-06</td><td>2024-10-06T17:51:36.974Z</td></tr><tr><td>Restaurante da Ana</td><td>ana@restaurantedana.com</td><td>2</td><td>(11) 98891-8293</td><td>2024-10-06</td><td>2024-10-06T17:51:36.974Z</td></tr><tr><td>Supermercado ABC</td><td>contato@superabc.com</td><td>3</td><td>(71) 99854-2730</td><td>2024-10-06</td><td>2024-10-06T17:51:36.974Z</td></tr><tr><td>Padaria do Paulo</td><td>paulo@padariapaulo.com</td><td>4</td><td>(61) 97029-4259</td><td>2024-10-06</td><td>2024-10-06T17:51:36.974Z</td></tr><tr><td>Lanchonete da Maria</td><td>maria@lanchonetemaria.com</td><td>5</td><td>(61) 95460-5114</td><td>2024-10-06</td><td>2024-10-06T17:51:36.974Z</td></tr><tr><td>Café Expresso</td><td>contato@cafeexpresso.com</td><td>6</td><td>(81) 91353-6764</td><td>2024-10-06</td><td>2024-10-06T17:51:36.974Z</td></tr><tr><td>Pizzaria Bella</td><td>contato@pizzariabella.com</td><td>7</td><td>(91) 96418-7540</td><td>2024-10-06</td><td>2024-10-06T17:51:36.974Z</td></tr><tr><td>Churrascaria Gaúcha</td><td>contato@churrascariagaucha.com</td><td>8</td><td>(31) 98582-4944</td><td>2024-10-06</td><td>2024-10-06T17:51:36.974Z</td></tr><tr><td>Cantina Italiana</td><td>contato@cantinaitaliana.com</td><td>9</td><td>(91) 93994-5119</td><td>2024-10-06</td><td>2024-10-06T17:51:36.974Z</td></tr><tr><td>Mercadinho da Esquina</td><td>contato@mercadinhoesquina.com</td><td>10</td><td>(41) 90819-7897</td><td>2024-10-06</td><td>2024-10-06T17:51:36.974Z</td></tr><tr><td>Doceria Delícia</td><td>contato@doceriadelicia.com</td><td>11</td><td>(61) 95626-8430</td><td>2024-10-06</td><td>2024-10-06T17:51:36.974Z</td></tr><tr><td>Pastelaria do Mário</td><td>contato@pastelariadomario.com</td><td>12</td><td>(21) 99320-8273</td><td>2024-10-06</td><td>2024-10-06T17:51:36.974Z</td></tr><tr><td>Hamburgueria Prime</td><td>contato@hamburgueriaprime.com</td><td>13</td><td>(61) 90265-7365</td><td>2024-10-06</td><td>2024-10-06T17:51:36.974Z</td></tr><tr><td>Sorveteria Geladinho</td><td>contato@sorveteriageladinho.com</td><td>14</td><td>(51) 92493-8299</td><td>2024-10-06</td><td>2024-10-06T17:51:36.974Z</td></tr><tr><td>Padoca do Zé</td><td>contato@padocadodze.com</td><td>15</td><td>(61) 94617-3404</td><td>2024-10-06</td><td>2024-10-06T17:51:36.974Z</td></tr><tr><td>Adega do Luiz</td><td>contato@adegadoluz.com</td><td>16</td><td>(71) 93274-7401</td><td>2024-10-06</td><td>2024-10-06T17:51:36.974Z</td></tr><tr><td>Botequim do Chico</td><td>contato@botequimdochico.com</td><td>17</td><td>(11) 91707-4088</td><td>2024-10-06</td><td>2024-10-06T17:51:36.974Z</td></tr><tr><td>Cervejaria Artesanal</td><td>contato@cervejariaartesanal.com</td><td>18</td><td>(11) 95799-9899</td><td>2024-10-06</td><td>2024-10-06T17:51:36.974Z</td></tr><tr><td>Barbearia do Toninho</td><td>contato@barbeariadotoninho.com</td><td>19</td><td>(91) 99438-6690</td><td>2024-10-06</td><td>2024-10-06T17:51:36.974Z</td></tr><tr><td>Farmácia Popular</td><td>contato@farmaciapopular.com</td><td>20</td><td>(51) 94871-3208</td><td>2024-10-06</td><td>2024-10-06T17:51:36.974Z</td></tr><tr><td>Livraria Cultura</td><td>contato@livrariacultura.com</td><td>21</td><td>(91) 99104-9942</td><td>2024-10-06</td><td>2024-10-06T17:51:36.974Z</td></tr><tr><td>Papelaria Central</td><td>contato@papelariacentral.com</td><td>22</td><td>(41) 93189-7746</td><td>2024-10-06</td><td>2024-10-06T17:51:36.974Z</td></tr><tr><td>Academia Fit</td><td>contato@academiafit.com</td><td>23</td><td>(11) 92674-3789</td><td>2024-10-06</td><td>2024-10-06T17:51:36.974Z</td></tr><tr><td>Salão Beleza Pura</td><td>contato@salaobelezapura.com</td><td>24</td><td>(51) 91844-9553</td><td>2024-10-06</td><td>2024-10-06T17:51:36.974Z</td></tr><tr><td>Loja de Roupas Fashion</td><td>contato@lojaderoupasfashion.com</td><td>25</td><td>(81) 97241-3620</td><td>2024-10-06</td><td>2024-10-06T17:51:36.974Z</td></tr><tr><td>Pet Shop Amigo Fiel</td><td>contato@petshopamigofiel.com</td><td>26</td><td>(31) 91631-4388</td><td>2024-10-06</td><td>2024-10-06T17:51:36.974Z</td></tr><tr><td>Oficina Mecânica</td><td>contato@oficinamecanica.com</td><td>27</td><td>(31) 96744-7044</td><td>2024-10-06</td><td>2024-10-06T17:51:36.974Z</td></tr><tr><td>Padaria São João</td><td>contato@padariasaojoao.com</td><td>28</td><td>(91) 95641-1530</td><td>2024-10-06</td><td>2024-10-06T17:51:36.974Z</td></tr><tr><td>Lanchonete Top</td><td>contato@lanchonetetop.com</td><td>29</td><td>(41) 92964-7794</td><td>2024-10-06</td><td>2024-10-06T17:51:36.974Z</td></tr><tr><td>Restaurante Vegetariano</td><td>contato@restaurantevegetariano.com</td><td>30</td><td>(81) 98693-9060</td><td>2024-10-06</td><td>2024-10-06T17:51:36.974Z</td></tr><tr><td>Bar e Grill</td><td>contato@baregrill.com</td><td>31</td><td>(41) 93510-4603</td><td>2024-10-06</td><td>2024-10-06T17:51:36.974Z</td></tr><tr><td>Chocolateria</td><td>contato@chocolateria.com</td><td>32</td><td>(81) 95224-4707</td><td>2024-10-06</td><td>2024-10-06T17:51:36.974Z</td></tr><tr><td>Frutaria Tropical</td><td>contato@frutariatroipcal.com</td><td>33</td><td>(71) 90229-2223</td><td>2024-10-06</td><td>2024-10-06T17:51:36.974Z</td></tr><tr><td>Sorveteria Sorvetão</td><td>contato@sorveteriasorvetao.com</td><td>34</td><td>(11) 91064-2800</td><td>2024-10-06</td><td>2024-10-06T17:51:36.974Z</td></tr><tr><td>Restaurante Japonês</td><td>contato@restaurantejapones.com</td><td>35</td><td>(11) 91789-3252</td><td>2024-10-06</td><td>2024-10-06T17:51:36.974Z</td></tr><tr><td>Padaria do Bairro</td><td>contato@padariadobairro.com</td><td>36</td><td>(31) 95389-1464</td><td>2024-10-06</td><td>2024-10-06T17:51:36.974Z</td></tr><tr><td>Hamburgueria Burger</td><td>contato@hamburgueriaburger.com</td><td>37</td><td>(31) 93120-6163</td><td>2024-10-06</td><td>2024-10-06T17:51:36.974Z</td></tr><tr><td>Restaurante Francês</td><td>contato@restaurantefrances.com</td><td>38</td><td>(21) 91283-5782</td><td>2024-10-06</td><td>2024-10-06T17:51:36.974Z</td></tr><tr><td>Bar da Esquina</td><td>contato@bardaesquina.com</td><td>39</td><td>(51) 93941-4832</td><td>2024-10-06</td><td>2024-10-06T17:51:36.974Z</td></tr><tr><td>Restaurante Mexicano</td><td>contato@restaurantemexicano.com</td><td>40</td><td>(21) 90293-4063</td><td>2024-10-06</td><td>2024-10-06T17:51:36.974Z</td></tr><tr><td>Pizzaria Italiana</td><td>contato@pizzariaitaliana.com</td><td>41</td><td>(71) 99975-5015</td><td>2024-10-06</td><td>2024-10-06T17:51:36.974Z</td></tr><tr><td>Café Gourmet</td><td>contato@cafegourmet.com</td><td>42</td><td>(81) 91370-2605</td><td>2024-10-06</td><td>2024-10-06T17:51:36.974Z</td></tr><tr><td>Restaurante Brasileiro</td><td>contato@restaurantebrasileiro.com</td><td>43</td><td>(61) 90767-4956</td><td>2024-10-06</td><td>2024-10-06T17:51:36.974Z</td></tr><tr><td>Lanchonete do Bairro</td><td>contato@lanchonetedobairro.com</td><td>44</td><td>(61) 93857-1485</td><td>2024-10-06</td><td>2024-10-06T17:51:36.974Z</td></tr><tr><td>Pizzaria São Pedro</td><td>contato@pizzariasampedro.com</td><td>45</td><td>(11) 95909-3334</td><td>2024-10-06</td><td>2024-10-06T17:51:36.974Z</td></tr><tr><td>Pastelaria da Vila</td><td>contato@pastelariadavila.com</td><td>46</td><td>(71) 98676-3040</td><td>2024-10-06</td><td>2024-10-06T17:51:36.974Z</td></tr><tr><td>Doceria Fina</td><td>contato@doceriafina.com</td><td>47</td><td>(21) 95174-9538</td><td>2024-10-06</td><td>2024-10-06T17:51:36.974Z</td></tr><tr><td>Cervejaria Gourmet</td><td>contato@cervejariagourmet.com</td><td>48</td><td>(61) 93477-1255</td><td>2024-10-06</td><td>2024-10-06T17:51:36.974Z</td></tr><tr><td>Mercadinho do Bairro</td><td>contato@mercadinhodobairro.com</td><td>49</td><td>(51) 92221-5831</td><td>2024-10-06</td><td>2024-10-06T17:51:36.974Z</td></tr><tr><td>Bar do João</td><td>joao@bardojoao.com</td><td>50</td><td>(71) 98909-8853</td><td>2024-10-06</td><td>2024-10-06T17:51:36.974Z</td></tr></tbody></table></div>"
      ]
     },
     "metadata": {
      "application/vnd.databricks.v1+output": {
       "addedWidgets": {},
       "aggData": [],
       "aggError": "",
       "aggOverflow": false,
       "aggSchema": [],
       "aggSeriesLimitReached": false,
       "aggType": "",
       "arguments": {},
       "columnCustomDisplayInfos": {},
       "data": [
        [
         "Bar do mineiro",
         "bar@bardomineiro",
         "1",
         "(31) 96787-9326",
         "2024-10-06",
         "2024-10-06T17:51:36.974Z"
        ],
        [
         "Restaurante da Ana",
         "ana@restaurantedana.com",
         "2",
         "(11) 98891-8293",
         "2024-10-06",
         "2024-10-06T17:51:36.974Z"
        ],
        [
         "Supermercado ABC",
         "contato@superabc.com",
         "3",
         "(71) 99854-2730",
         "2024-10-06",
         "2024-10-06T17:51:36.974Z"
        ],
        [
         "Padaria do Paulo",
         "paulo@padariapaulo.com",
         "4",
         "(61) 97029-4259",
         "2024-10-06",
         "2024-10-06T17:51:36.974Z"
        ],
        [
         "Lanchonete da Maria",
         "maria@lanchonetemaria.com",
         "5",
         "(61) 95460-5114",
         "2024-10-06",
         "2024-10-06T17:51:36.974Z"
        ],
        [
         "Café Expresso",
         "contato@cafeexpresso.com",
         "6",
         "(81) 91353-6764",
         "2024-10-06",
         "2024-10-06T17:51:36.974Z"
        ],
        [
         "Pizzaria Bella",
         "contato@pizzariabella.com",
         "7",
         "(91) 96418-7540",
         "2024-10-06",
         "2024-10-06T17:51:36.974Z"
        ],
        [
         "Churrascaria Gaúcha",
         "contato@churrascariagaucha.com",
         "8",
         "(31) 98582-4944",
         "2024-10-06",
         "2024-10-06T17:51:36.974Z"
        ],
        [
         "Cantina Italiana",
         "contato@cantinaitaliana.com",
         "9",
         "(91) 93994-5119",
         "2024-10-06",
         "2024-10-06T17:51:36.974Z"
        ],
        [
         "Mercadinho da Esquina",
         "contato@mercadinhoesquina.com",
         "10",
         "(41) 90819-7897",
         "2024-10-06",
         "2024-10-06T17:51:36.974Z"
        ],
        [
         "Doceria Delícia",
         "contato@doceriadelicia.com",
         "11",
         "(61) 95626-8430",
         "2024-10-06",
         "2024-10-06T17:51:36.974Z"
        ],
        [
         "Pastelaria do Mário",
         "contato@pastelariadomario.com",
         "12",
         "(21) 99320-8273",
         "2024-10-06",
         "2024-10-06T17:51:36.974Z"
        ],
        [
         "Hamburgueria Prime",
         "contato@hamburgueriaprime.com",
         "13",
         "(61) 90265-7365",
         "2024-10-06",
         "2024-10-06T17:51:36.974Z"
        ],
        [
         "Sorveteria Geladinho",
         "contato@sorveteriageladinho.com",
         "14",
         "(51) 92493-8299",
         "2024-10-06",
         "2024-10-06T17:51:36.974Z"
        ],
        [
         "Padoca do Zé",
         "contato@padocadodze.com",
         "15",
         "(61) 94617-3404",
         "2024-10-06",
         "2024-10-06T17:51:36.974Z"
        ],
        [
         "Adega do Luiz",
         "contato@adegadoluz.com",
         "16",
         "(71) 93274-7401",
         "2024-10-06",
         "2024-10-06T17:51:36.974Z"
        ],
        [
         "Botequim do Chico",
         "contato@botequimdochico.com",
         "17",
         "(11) 91707-4088",
         "2024-10-06",
         "2024-10-06T17:51:36.974Z"
        ],
        [
         "Cervejaria Artesanal",
         "contato@cervejariaartesanal.com",
         "18",
         "(11) 95799-9899",
         "2024-10-06",
         "2024-10-06T17:51:36.974Z"
        ],
        [
         "Barbearia do Toninho",
         "contato@barbeariadotoninho.com",
         "19",
         "(91) 99438-6690",
         "2024-10-06",
         "2024-10-06T17:51:36.974Z"
        ],
        [
         "Farmácia Popular",
         "contato@farmaciapopular.com",
         "20",
         "(51) 94871-3208",
         "2024-10-06",
         "2024-10-06T17:51:36.974Z"
        ],
        [
         "Livraria Cultura",
         "contato@livrariacultura.com",
         "21",
         "(91) 99104-9942",
         "2024-10-06",
         "2024-10-06T17:51:36.974Z"
        ],
        [
         "Papelaria Central",
         "contato@papelariacentral.com",
         "22",
         "(41) 93189-7746",
         "2024-10-06",
         "2024-10-06T17:51:36.974Z"
        ],
        [
         "Academia Fit",
         "contato@academiafit.com",
         "23",
         "(11) 92674-3789",
         "2024-10-06",
         "2024-10-06T17:51:36.974Z"
        ],
        [
         "Salão Beleza Pura",
         "contato@salaobelezapura.com",
         "24",
         "(51) 91844-9553",
         "2024-10-06",
         "2024-10-06T17:51:36.974Z"
        ],
        [
         "Loja de Roupas Fashion",
         "contato@lojaderoupasfashion.com",
         "25",
         "(81) 97241-3620",
         "2024-10-06",
         "2024-10-06T17:51:36.974Z"
        ],
        [
         "Pet Shop Amigo Fiel",
         "contato@petshopamigofiel.com",
         "26",
         "(31) 91631-4388",
         "2024-10-06",
         "2024-10-06T17:51:36.974Z"
        ],
        [
         "Oficina Mecânica",
         "contato@oficinamecanica.com",
         "27",
         "(31) 96744-7044",
         "2024-10-06",
         "2024-10-06T17:51:36.974Z"
        ],
        [
         "Padaria São João",
         "contato@padariasaojoao.com",
         "28",
         "(91) 95641-1530",
         "2024-10-06",
         "2024-10-06T17:51:36.974Z"
        ],
        [
         "Lanchonete Top",
         "contato@lanchonetetop.com",
         "29",
         "(41) 92964-7794",
         "2024-10-06",
         "2024-10-06T17:51:36.974Z"
        ],
        [
         "Restaurante Vegetariano",
         "contato@restaurantevegetariano.com",
         "30",
         "(81) 98693-9060",
         "2024-10-06",
         "2024-10-06T17:51:36.974Z"
        ],
        [
         "Bar e Grill",
         "contato@baregrill.com",
         "31",
         "(41) 93510-4603",
         "2024-10-06",
         "2024-10-06T17:51:36.974Z"
        ],
        [
         "Chocolateria",
         "contato@chocolateria.com",
         "32",
         "(81) 95224-4707",
         "2024-10-06",
         "2024-10-06T17:51:36.974Z"
        ],
        [
         "Frutaria Tropical",
         "contato@frutariatroipcal.com",
         "33",
         "(71) 90229-2223",
         "2024-10-06",
         "2024-10-06T17:51:36.974Z"
        ],
        [
         "Sorveteria Sorvetão",
         "contato@sorveteriasorvetao.com",
         "34",
         "(11) 91064-2800",
         "2024-10-06",
         "2024-10-06T17:51:36.974Z"
        ],
        [
         "Restaurante Japonês",
         "contato@restaurantejapones.com",
         "35",
         "(11) 91789-3252",
         "2024-10-06",
         "2024-10-06T17:51:36.974Z"
        ],
        [
         "Padaria do Bairro",
         "contato@padariadobairro.com",
         "36",
         "(31) 95389-1464",
         "2024-10-06",
         "2024-10-06T17:51:36.974Z"
        ],
        [
         "Hamburgueria Burger",
         "contato@hamburgueriaburger.com",
         "37",
         "(31) 93120-6163",
         "2024-10-06",
         "2024-10-06T17:51:36.974Z"
        ],
        [
         "Restaurante Francês",
         "contato@restaurantefrances.com",
         "38",
         "(21) 91283-5782",
         "2024-10-06",
         "2024-10-06T17:51:36.974Z"
        ],
        [
         "Bar da Esquina",
         "contato@bardaesquina.com",
         "39",
         "(51) 93941-4832",
         "2024-10-06",
         "2024-10-06T17:51:36.974Z"
        ],
        [
         "Restaurante Mexicano",
         "contato@restaurantemexicano.com",
         "40",
         "(21) 90293-4063",
         "2024-10-06",
         "2024-10-06T17:51:36.974Z"
        ],
        [
         "Pizzaria Italiana",
         "contato@pizzariaitaliana.com",
         "41",
         "(71) 99975-5015",
         "2024-10-06",
         "2024-10-06T17:51:36.974Z"
        ],
        [
         "Café Gourmet",
         "contato@cafegourmet.com",
         "42",
         "(81) 91370-2605",
         "2024-10-06",
         "2024-10-06T17:51:36.974Z"
        ],
        [
         "Restaurante Brasileiro",
         "contato@restaurantebrasileiro.com",
         "43",
         "(61) 90767-4956",
         "2024-10-06",
         "2024-10-06T17:51:36.974Z"
        ],
        [
         "Lanchonete do Bairro",
         "contato@lanchonetedobairro.com",
         "44",
         "(61) 93857-1485",
         "2024-10-06",
         "2024-10-06T17:51:36.974Z"
        ],
        [
         "Pizzaria São Pedro",
         "contato@pizzariasampedro.com",
         "45",
         "(11) 95909-3334",
         "2024-10-06",
         "2024-10-06T17:51:36.974Z"
        ],
        [
         "Pastelaria da Vila",
         "contato@pastelariadavila.com",
         "46",
         "(71) 98676-3040",
         "2024-10-06",
         "2024-10-06T17:51:36.974Z"
        ],
        [
         "Doceria Fina",
         "contato@doceriafina.com",
         "47",
         "(21) 95174-9538",
         "2024-10-06",
         "2024-10-06T17:51:36.974Z"
        ],
        [
         "Cervejaria Gourmet",
         "contato@cervejariagourmet.com",
         "48",
         "(61) 93477-1255",
         "2024-10-06",
         "2024-10-06T17:51:36.974Z"
        ],
        [
         "Mercadinho do Bairro",
         "contato@mercadinhodobairro.com",
         "49",
         "(51) 92221-5831",
         "2024-10-06",
         "2024-10-06T17:51:36.974Z"
        ],
        [
         "Bar do João",
         "joao@bardojoao.com",
         "50",
         "(71) 98909-8853",
         "2024-10-06",
         "2024-10-06T17:51:36.974Z"
        ]
       ],
       "datasetInfos": [],
       "dbfsResultPath": null,
       "isJsonSchema": true,
       "metadata": {},
       "overflow": false,
       "plotOptions": {
        "customPlotOptions": {},
        "displayType": "table",
        "pivotAggregation": null,
        "pivotColumns": null,
        "xColumns": null,
        "yColumns": null
       },
       "removedWidgets": [],
       "schema": [
        {
         "metadata": "{}",
         "name": "Local",
         "type": "\"string\""
        },
        {
         "metadata": "{}",
         "name": "Email",
         "type": "\"string\""
        },
        {
         "metadata": "{}",
         "name": "EstabelecimentoID",
         "type": "\"string\""
        },
        {
         "metadata": "{}",
         "name": "Telefone",
         "type": "\"string\""
        },
        {
         "metadata": "{}",
         "name": "data_carga",
         "type": "\"date\""
        },
        {
         "metadata": "{}",
         "name": "data_hora_carga",
         "type": "\"timestamp\""
        }
       ],
       "type": "table"
      }
     },
     "output_type": "display_data"
    }
   ],
   "source": [
    "df.display()"
   ]
  },
  {
   "cell_type": "code",
   "execution_count": 0,
   "metadata": {
    "application/vnd.databricks.v1+cell": {
     "cellMetadata": {
      "byteLimit": 2048000,
      "rowLimit": 10000
     },
     "inputWidgets": {},
     "nuid": "77193661-79a5-489c-921e-0f5a5af57605",
     "showTitle": false,
     "title": ""
    }
   },
   "outputs": [
    {
     "output_type": "stream",
     "name": "stdout",
     "output_type": "stream",
     "text": [
      "Dados gravados com sucesso!\n"
     ]
    }
   ],
   "source": [
    "#Gravar os dados no formato Delta\n",
    "df.write \\\n",
    "    .format('delta') \\\n",
    "    .mode('overwrite') \\\n",
    "    .option('mergeSchema', 'true') \\\n",
    "    .option('overwriteSchema', 'true') \\\n",
    "    .saveAsTable(f'{database}.{tabela}')\n",
    "print(\"Dados gravados com sucesso!\")"
   ]
  },
  {
   "cell_type": "code",
   "execution_count": 0,
   "metadata": {
    "application/vnd.databricks.v1+cell": {
     "cellMetadata": {
      "byteLimit": 2048000,
      "implicitDf": true,
      "rowLimit": 10000
     },
     "inputWidgets": {},
     "nuid": "85fd26a7-0fd0-4b4a-a182-4a0ed08c38d4",
     "showTitle": false,
     "title": ""
    }
   },
   "outputs": [
    {
     "output_type": "display_data",
     "data": {
      "text/html": [
       "<style scoped>\n",
       "  .table-result-container {\n",
       "    max-height: 300px;\n",
       "    overflow: auto;\n",
       "  }\n",
       "  table, th, td {\n",
       "    border: 1px solid black;\n",
       "    border-collapse: collapse;\n",
       "  }\n",
       "  th, td {\n",
       "    padding: 5px;\n",
       "  }\n",
       "  th {\n",
       "    text-align: left;\n",
       "  }\n",
       "</style><div class='table-result-container'><table class='table-result'><thead style='background-color: white'><tr><th>Local</th><th>Email</th><th>EstabelecimentoID</th><th>Telefone</th><th>data_carga</th><th>data_hora_carga</th></tr></thead><tbody><tr><td>Bar do mineiro</td><td>bar@bardomineiro</td><td>1</td><td>(31) 96787-9326</td><td>2024-10-06</td><td>2024-10-06T17:52:10.771Z</td></tr><tr><td>Restaurante da Ana</td><td>ana@restaurantedana.com</td><td>2</td><td>(11) 98891-8293</td><td>2024-10-06</td><td>2024-10-06T17:52:10.771Z</td></tr><tr><td>Supermercado ABC</td><td>contato@superabc.com</td><td>3</td><td>(71) 99854-2730</td><td>2024-10-06</td><td>2024-10-06T17:52:10.771Z</td></tr><tr><td>Padaria do Paulo</td><td>paulo@padariapaulo.com</td><td>4</td><td>(61) 97029-4259</td><td>2024-10-06</td><td>2024-10-06T17:52:10.771Z</td></tr><tr><td>Lanchonete da Maria</td><td>maria@lanchonetemaria.com</td><td>5</td><td>(61) 95460-5114</td><td>2024-10-06</td><td>2024-10-06T17:52:10.771Z</td></tr><tr><td>Café Expresso</td><td>contato@cafeexpresso.com</td><td>6</td><td>(81) 91353-6764</td><td>2024-10-06</td><td>2024-10-06T17:52:10.771Z</td></tr><tr><td>Pizzaria Bella</td><td>contato@pizzariabella.com</td><td>7</td><td>(91) 96418-7540</td><td>2024-10-06</td><td>2024-10-06T17:52:10.771Z</td></tr><tr><td>Churrascaria Gaúcha</td><td>contato@churrascariagaucha.com</td><td>8</td><td>(31) 98582-4944</td><td>2024-10-06</td><td>2024-10-06T17:52:10.771Z</td></tr><tr><td>Cantina Italiana</td><td>contato@cantinaitaliana.com</td><td>9</td><td>(91) 93994-5119</td><td>2024-10-06</td><td>2024-10-06T17:52:10.771Z</td></tr><tr><td>Mercadinho da Esquina</td><td>contato@mercadinhoesquina.com</td><td>10</td><td>(41) 90819-7897</td><td>2024-10-06</td><td>2024-10-06T17:52:10.771Z</td></tr><tr><td>Doceria Delícia</td><td>contato@doceriadelicia.com</td><td>11</td><td>(61) 95626-8430</td><td>2024-10-06</td><td>2024-10-06T17:52:10.771Z</td></tr><tr><td>Pastelaria do Mário</td><td>contato@pastelariadomario.com</td><td>12</td><td>(21) 99320-8273</td><td>2024-10-06</td><td>2024-10-06T17:52:10.771Z</td></tr><tr><td>Hamburgueria Prime</td><td>contato@hamburgueriaprime.com</td><td>13</td><td>(61) 90265-7365</td><td>2024-10-06</td><td>2024-10-06T17:52:10.771Z</td></tr><tr><td>Sorveteria Geladinho</td><td>contato@sorveteriageladinho.com</td><td>14</td><td>(51) 92493-8299</td><td>2024-10-06</td><td>2024-10-06T17:52:10.771Z</td></tr><tr><td>Padoca do Zé</td><td>contato@padocadodze.com</td><td>15</td><td>(61) 94617-3404</td><td>2024-10-06</td><td>2024-10-06T17:52:10.771Z</td></tr><tr><td>Adega do Luiz</td><td>contato@adegadoluz.com</td><td>16</td><td>(71) 93274-7401</td><td>2024-10-06</td><td>2024-10-06T17:52:10.771Z</td></tr><tr><td>Botequim do Chico</td><td>contato@botequimdochico.com</td><td>17</td><td>(11) 91707-4088</td><td>2024-10-06</td><td>2024-10-06T17:52:10.771Z</td></tr><tr><td>Cervejaria Artesanal</td><td>contato@cervejariaartesanal.com</td><td>18</td><td>(11) 95799-9899</td><td>2024-10-06</td><td>2024-10-06T17:52:10.771Z</td></tr><tr><td>Barbearia do Toninho</td><td>contato@barbeariadotoninho.com</td><td>19</td><td>(91) 99438-6690</td><td>2024-10-06</td><td>2024-10-06T17:52:10.771Z</td></tr><tr><td>Farmácia Popular</td><td>contato@farmaciapopular.com</td><td>20</td><td>(51) 94871-3208</td><td>2024-10-06</td><td>2024-10-06T17:52:10.771Z</td></tr><tr><td>Livraria Cultura</td><td>contato@livrariacultura.com</td><td>21</td><td>(91) 99104-9942</td><td>2024-10-06</td><td>2024-10-06T17:52:10.771Z</td></tr><tr><td>Papelaria Central</td><td>contato@papelariacentral.com</td><td>22</td><td>(41) 93189-7746</td><td>2024-10-06</td><td>2024-10-06T17:52:10.771Z</td></tr><tr><td>Academia Fit</td><td>contato@academiafit.com</td><td>23</td><td>(11) 92674-3789</td><td>2024-10-06</td><td>2024-10-06T17:52:10.771Z</td></tr><tr><td>Salão Beleza Pura</td><td>contato@salaobelezapura.com</td><td>24</td><td>(51) 91844-9553</td><td>2024-10-06</td><td>2024-10-06T17:52:10.771Z</td></tr><tr><td>Loja de Roupas Fashion</td><td>contato@lojaderoupasfashion.com</td><td>25</td><td>(81) 97241-3620</td><td>2024-10-06</td><td>2024-10-06T17:52:10.771Z</td></tr><tr><td>Pet Shop Amigo Fiel</td><td>contato@petshopamigofiel.com</td><td>26</td><td>(31) 91631-4388</td><td>2024-10-06</td><td>2024-10-06T17:52:10.771Z</td></tr><tr><td>Oficina Mecânica</td><td>contato@oficinamecanica.com</td><td>27</td><td>(31) 96744-7044</td><td>2024-10-06</td><td>2024-10-06T17:52:10.771Z</td></tr><tr><td>Padaria São João</td><td>contato@padariasaojoao.com</td><td>28</td><td>(91) 95641-1530</td><td>2024-10-06</td><td>2024-10-06T17:52:10.771Z</td></tr><tr><td>Lanchonete Top</td><td>contato@lanchonetetop.com</td><td>29</td><td>(41) 92964-7794</td><td>2024-10-06</td><td>2024-10-06T17:52:10.771Z</td></tr><tr><td>Restaurante Vegetariano</td><td>contato@restaurantevegetariano.com</td><td>30</td><td>(81) 98693-9060</td><td>2024-10-06</td><td>2024-10-06T17:52:10.771Z</td></tr><tr><td>Bar e Grill</td><td>contato@baregrill.com</td><td>31</td><td>(41) 93510-4603</td><td>2024-10-06</td><td>2024-10-06T17:52:10.771Z</td></tr><tr><td>Chocolateria</td><td>contato@chocolateria.com</td><td>32</td><td>(81) 95224-4707</td><td>2024-10-06</td><td>2024-10-06T17:52:10.771Z</td></tr><tr><td>Frutaria Tropical</td><td>contato@frutariatroipcal.com</td><td>33</td><td>(71) 90229-2223</td><td>2024-10-06</td><td>2024-10-06T17:52:10.771Z</td></tr><tr><td>Sorveteria Sorvetão</td><td>contato@sorveteriasorvetao.com</td><td>34</td><td>(11) 91064-2800</td><td>2024-10-06</td><td>2024-10-06T17:52:10.771Z</td></tr><tr><td>Restaurante Japonês</td><td>contato@restaurantejapones.com</td><td>35</td><td>(11) 91789-3252</td><td>2024-10-06</td><td>2024-10-06T17:52:10.771Z</td></tr><tr><td>Padaria do Bairro</td><td>contato@padariadobairro.com</td><td>36</td><td>(31) 95389-1464</td><td>2024-10-06</td><td>2024-10-06T17:52:10.771Z</td></tr><tr><td>Hamburgueria Burger</td><td>contato@hamburgueriaburger.com</td><td>37</td><td>(31) 93120-6163</td><td>2024-10-06</td><td>2024-10-06T17:52:10.771Z</td></tr><tr><td>Restaurante Francês</td><td>contato@restaurantefrances.com</td><td>38</td><td>(21) 91283-5782</td><td>2024-10-06</td><td>2024-10-06T17:52:10.771Z</td></tr><tr><td>Bar da Esquina</td><td>contato@bardaesquina.com</td><td>39</td><td>(51) 93941-4832</td><td>2024-10-06</td><td>2024-10-06T17:52:10.771Z</td></tr><tr><td>Restaurante Mexicano</td><td>contato@restaurantemexicano.com</td><td>40</td><td>(21) 90293-4063</td><td>2024-10-06</td><td>2024-10-06T17:52:10.771Z</td></tr><tr><td>Pizzaria Italiana</td><td>contato@pizzariaitaliana.com</td><td>41</td><td>(71) 99975-5015</td><td>2024-10-06</td><td>2024-10-06T17:52:10.771Z</td></tr><tr><td>Café Gourmet</td><td>contato@cafegourmet.com</td><td>42</td><td>(81) 91370-2605</td><td>2024-10-06</td><td>2024-10-06T17:52:10.771Z</td></tr><tr><td>Restaurante Brasileiro</td><td>contato@restaurantebrasileiro.com</td><td>43</td><td>(61) 90767-4956</td><td>2024-10-06</td><td>2024-10-06T17:52:10.771Z</td></tr><tr><td>Lanchonete do Bairro</td><td>contato@lanchonetedobairro.com</td><td>44</td><td>(61) 93857-1485</td><td>2024-10-06</td><td>2024-10-06T17:52:10.771Z</td></tr><tr><td>Pizzaria São Pedro</td><td>contato@pizzariasampedro.com</td><td>45</td><td>(11) 95909-3334</td><td>2024-10-06</td><td>2024-10-06T17:52:10.771Z</td></tr><tr><td>Pastelaria da Vila</td><td>contato@pastelariadavila.com</td><td>46</td><td>(71) 98676-3040</td><td>2024-10-06</td><td>2024-10-06T17:52:10.771Z</td></tr><tr><td>Doceria Fina</td><td>contato@doceriafina.com</td><td>47</td><td>(21) 95174-9538</td><td>2024-10-06</td><td>2024-10-06T17:52:10.771Z</td></tr><tr><td>Cervejaria Gourmet</td><td>contato@cervejariagourmet.com</td><td>48</td><td>(61) 93477-1255</td><td>2024-10-06</td><td>2024-10-06T17:52:10.771Z</td></tr><tr><td>Mercadinho do Bairro</td><td>contato@mercadinhodobairro.com</td><td>49</td><td>(51) 92221-5831</td><td>2024-10-06</td><td>2024-10-06T17:52:10.771Z</td></tr><tr><td>Bar do João</td><td>joao@bardojoao.com</td><td>50</td><td>(71) 98909-8853</td><td>2024-10-06</td><td>2024-10-06T17:52:10.771Z</td></tr></tbody></table></div>"
      ]
     },
     "metadata": {
      "application/vnd.databricks.v1+output": {
       "addedWidgets": {},
       "aggData": [],
       "aggError": "",
       "aggOverflow": false,
       "aggSchema": [],
       "aggSeriesLimitReached": false,
       "aggType": "",
       "arguments": {},
       "columnCustomDisplayInfos": {},
       "data": [
        [
         "Bar do mineiro",
         "bar@bardomineiro",
         "1",
         "(31) 96787-9326",
         "2024-10-06",
         "2024-10-06T17:52:10.771Z"
        ],
        [
         "Restaurante da Ana",
         "ana@restaurantedana.com",
         "2",
         "(11) 98891-8293",
         "2024-10-06",
         "2024-10-06T17:52:10.771Z"
        ],
        [
         "Supermercado ABC",
         "contato@superabc.com",
         "3",
         "(71) 99854-2730",
         "2024-10-06",
         "2024-10-06T17:52:10.771Z"
        ],
        [
         "Padaria do Paulo",
         "paulo@padariapaulo.com",
         "4",
         "(61) 97029-4259",
         "2024-10-06",
         "2024-10-06T17:52:10.771Z"
        ],
        [
         "Lanchonete da Maria",
         "maria@lanchonetemaria.com",
         "5",
         "(61) 95460-5114",
         "2024-10-06",
         "2024-10-06T17:52:10.771Z"
        ],
        [
         "Café Expresso",
         "contato@cafeexpresso.com",
         "6",
         "(81) 91353-6764",
         "2024-10-06",
         "2024-10-06T17:52:10.771Z"
        ],
        [
         "Pizzaria Bella",
         "contato@pizzariabella.com",
         "7",
         "(91) 96418-7540",
         "2024-10-06",
         "2024-10-06T17:52:10.771Z"
        ],
        [
         "Churrascaria Gaúcha",
         "contato@churrascariagaucha.com",
         "8",
         "(31) 98582-4944",
         "2024-10-06",
         "2024-10-06T17:52:10.771Z"
        ],
        [
         "Cantina Italiana",
         "contato@cantinaitaliana.com",
         "9",
         "(91) 93994-5119",
         "2024-10-06",
         "2024-10-06T17:52:10.771Z"
        ],
        [
         "Mercadinho da Esquina",
         "contato@mercadinhoesquina.com",
         "10",
         "(41) 90819-7897",
         "2024-10-06",
         "2024-10-06T17:52:10.771Z"
        ],
        [
         "Doceria Delícia",
         "contato@doceriadelicia.com",
         "11",
         "(61) 95626-8430",
         "2024-10-06",
         "2024-10-06T17:52:10.771Z"
        ],
        [
         "Pastelaria do Mário",
         "contato@pastelariadomario.com",
         "12",
         "(21) 99320-8273",
         "2024-10-06",
         "2024-10-06T17:52:10.771Z"
        ],
        [
         "Hamburgueria Prime",
         "contato@hamburgueriaprime.com",
         "13",
         "(61) 90265-7365",
         "2024-10-06",
         "2024-10-06T17:52:10.771Z"
        ],
        [
         "Sorveteria Geladinho",
         "contato@sorveteriageladinho.com",
         "14",
         "(51) 92493-8299",
         "2024-10-06",
         "2024-10-06T17:52:10.771Z"
        ],
        [
         "Padoca do Zé",
         "contato@padocadodze.com",
         "15",
         "(61) 94617-3404",
         "2024-10-06",
         "2024-10-06T17:52:10.771Z"
        ],
        [
         "Adega do Luiz",
         "contato@adegadoluz.com",
         "16",
         "(71) 93274-7401",
         "2024-10-06",
         "2024-10-06T17:52:10.771Z"
        ],
        [
         "Botequim do Chico",
         "contato@botequimdochico.com",
         "17",
         "(11) 91707-4088",
         "2024-10-06",
         "2024-10-06T17:52:10.771Z"
        ],
        [
         "Cervejaria Artesanal",
         "contato@cervejariaartesanal.com",
         "18",
         "(11) 95799-9899",
         "2024-10-06",
         "2024-10-06T17:52:10.771Z"
        ],
        [
         "Barbearia do Toninho",
         "contato@barbeariadotoninho.com",
         "19",
         "(91) 99438-6690",
         "2024-10-06",
         "2024-10-06T17:52:10.771Z"
        ],
        [
         "Farmácia Popular",
         "contato@farmaciapopular.com",
         "20",
         "(51) 94871-3208",
         "2024-10-06",
         "2024-10-06T17:52:10.771Z"
        ],
        [
         "Livraria Cultura",
         "contato@livrariacultura.com",
         "21",
         "(91) 99104-9942",
         "2024-10-06",
         "2024-10-06T17:52:10.771Z"
        ],
        [
         "Papelaria Central",
         "contato@papelariacentral.com",
         "22",
         "(41) 93189-7746",
         "2024-10-06",
         "2024-10-06T17:52:10.771Z"
        ],
        [
         "Academia Fit",
         "contato@academiafit.com",
         "23",
         "(11) 92674-3789",
         "2024-10-06",
         "2024-10-06T17:52:10.771Z"
        ],
        [
         "Salão Beleza Pura",
         "contato@salaobelezapura.com",
         "24",
         "(51) 91844-9553",
         "2024-10-06",
         "2024-10-06T17:52:10.771Z"
        ],
        [
         "Loja de Roupas Fashion",
         "contato@lojaderoupasfashion.com",
         "25",
         "(81) 97241-3620",
         "2024-10-06",
         "2024-10-06T17:52:10.771Z"
        ],
        [
         "Pet Shop Amigo Fiel",
         "contato@petshopamigofiel.com",
         "26",
         "(31) 91631-4388",
         "2024-10-06",
         "2024-10-06T17:52:10.771Z"
        ],
        [
         "Oficina Mecânica",
         "contato@oficinamecanica.com",
         "27",
         "(31) 96744-7044",
         "2024-10-06",
         "2024-10-06T17:52:10.771Z"
        ],
        [
         "Padaria São João",
         "contato@padariasaojoao.com",
         "28",
         "(91) 95641-1530",
         "2024-10-06",
         "2024-10-06T17:52:10.771Z"
        ],
        [
         "Lanchonete Top",
         "contato@lanchonetetop.com",
         "29",
         "(41) 92964-7794",
         "2024-10-06",
         "2024-10-06T17:52:10.771Z"
        ],
        [
         "Restaurante Vegetariano",
         "contato@restaurantevegetariano.com",
         "30",
         "(81) 98693-9060",
         "2024-10-06",
         "2024-10-06T17:52:10.771Z"
        ],
        [
         "Bar e Grill",
         "contato@baregrill.com",
         "31",
         "(41) 93510-4603",
         "2024-10-06",
         "2024-10-06T17:52:10.771Z"
        ],
        [
         "Chocolateria",
         "contato@chocolateria.com",
         "32",
         "(81) 95224-4707",
         "2024-10-06",
         "2024-10-06T17:52:10.771Z"
        ],
        [
         "Frutaria Tropical",
         "contato@frutariatroipcal.com",
         "33",
         "(71) 90229-2223",
         "2024-10-06",
         "2024-10-06T17:52:10.771Z"
        ],
        [
         "Sorveteria Sorvetão",
         "contato@sorveteriasorvetao.com",
         "34",
         "(11) 91064-2800",
         "2024-10-06",
         "2024-10-06T17:52:10.771Z"
        ],
        [
         "Restaurante Japonês",
         "contato@restaurantejapones.com",
         "35",
         "(11) 91789-3252",
         "2024-10-06",
         "2024-10-06T17:52:10.771Z"
        ],
        [
         "Padaria do Bairro",
         "contato@padariadobairro.com",
         "36",
         "(31) 95389-1464",
         "2024-10-06",
         "2024-10-06T17:52:10.771Z"
        ],
        [
         "Hamburgueria Burger",
         "contato@hamburgueriaburger.com",
         "37",
         "(31) 93120-6163",
         "2024-10-06",
         "2024-10-06T17:52:10.771Z"
        ],
        [
         "Restaurante Francês",
         "contato@restaurantefrances.com",
         "38",
         "(21) 91283-5782",
         "2024-10-06",
         "2024-10-06T17:52:10.771Z"
        ],
        [
         "Bar da Esquina",
         "contato@bardaesquina.com",
         "39",
         "(51) 93941-4832",
         "2024-10-06",
         "2024-10-06T17:52:10.771Z"
        ],
        [
         "Restaurante Mexicano",
         "contato@restaurantemexicano.com",
         "40",
         "(21) 90293-4063",
         "2024-10-06",
         "2024-10-06T17:52:10.771Z"
        ],
        [
         "Pizzaria Italiana",
         "contato@pizzariaitaliana.com",
         "41",
         "(71) 99975-5015",
         "2024-10-06",
         "2024-10-06T17:52:10.771Z"
        ],
        [
         "Café Gourmet",
         "contato@cafegourmet.com",
         "42",
         "(81) 91370-2605",
         "2024-10-06",
         "2024-10-06T17:52:10.771Z"
        ],
        [
         "Restaurante Brasileiro",
         "contato@restaurantebrasileiro.com",
         "43",
         "(61) 90767-4956",
         "2024-10-06",
         "2024-10-06T17:52:10.771Z"
        ],
        [
         "Lanchonete do Bairro",
         "contato@lanchonetedobairro.com",
         "44",
         "(61) 93857-1485",
         "2024-10-06",
         "2024-10-06T17:52:10.771Z"
        ],
        [
         "Pizzaria São Pedro",
         "contato@pizzariasampedro.com",
         "45",
         "(11) 95909-3334",
         "2024-10-06",
         "2024-10-06T17:52:10.771Z"
        ],
        [
         "Pastelaria da Vila",
         "contato@pastelariadavila.com",
         "46",
         "(71) 98676-3040",
         "2024-10-06",
         "2024-10-06T17:52:10.771Z"
        ],
        [
         "Doceria Fina",
         "contato@doceriafina.com",
         "47",
         "(21) 95174-9538",
         "2024-10-06",
         "2024-10-06T17:52:10.771Z"
        ],
        [
         "Cervejaria Gourmet",
         "contato@cervejariagourmet.com",
         "48",
         "(61) 93477-1255",
         "2024-10-06",
         "2024-10-06T17:52:10.771Z"
        ],
        [
         "Mercadinho do Bairro",
         "contato@mercadinhodobairro.com",
         "49",
         "(51) 92221-5831",
         "2024-10-06",
         "2024-10-06T17:52:10.771Z"
        ],
        [
         "Bar do João",
         "joao@bardojoao.com",
         "50",
         "(71) 98909-8853",
         "2024-10-06",
         "2024-10-06T17:52:10.771Z"
        ]
       ],
       "datasetInfos": [],
       "dbfsResultPath": null,
       "isJsonSchema": true,
       "metadata": {
        "createTempViewForImplicitDf": true,
        "dataframeName": "_sqldf",
        "executionCount": 7
       },
       "overflow": false,
       "plotOptions": {
        "customPlotOptions": {},
        "displayType": "table",
        "pivotAggregation": null,
        "pivotColumns": null,
        "xColumns": null,
        "yColumns": null
       },
       "removedWidgets": [],
       "schema": [
        {
         "metadata": "{}",
         "name": "Local",
         "type": "\"string\""
        },
        {
         "metadata": "{}",
         "name": "Email",
         "type": "\"string\""
        },
        {
         "metadata": "{}",
         "name": "EstabelecimentoID",
         "type": "\"string\""
        },
        {
         "metadata": "{}",
         "name": "Telefone",
         "type": "\"string\""
        },
        {
         "metadata": "{}",
         "name": "data_carga",
         "type": "\"date\""
        },
        {
         "metadata": "{}",
         "name": "data_hora_carga",
         "type": "\"timestamp\""
        }
       ],
       "type": "table"
      }
     },
     "output_type": "display_data"
    }
   ],
   "source": [
    "%sql\n",
    "SELECT * FROM bronze.estabelecimentos"
   ]
  },
  {
   "cell_type": "code",
   "execution_count": 0,
   "metadata": {
    "application/vnd.databricks.v1+cell": {
     "cellMetadata": {
      "byteLimit": 2048000,
      "implicitDf": true,
      "rowLimit": 10000
     },
     "inputWidgets": {},
     "nuid": "a87c45e0-9989-4679-8786-786ed89c77c0",
     "showTitle": false,
     "title": ""
    }
   },
   "outputs": [
    {
     "output_type": "display_data",
     "data": {
      "text/html": [
       "<style scoped>\n",
       "  .table-result-container {\n",
       "    max-height: 300px;\n",
       "    overflow: auto;\n",
       "  }\n",
       "  table, th, td {\n",
       "    border: 1px solid black;\n",
       "    border-collapse: collapse;\n",
       "  }\n",
       "  th, td {\n",
       "    padding: 5px;\n",
       "  }\n",
       "  th {\n",
       "    text-align: left;\n",
       "  }\n",
       "</style><div class='table-result-container'><table class='table-result'><thead style='background-color: white'><tr><th>format</th><th>id</th><th>name</th><th>description</th><th>location</th><th>createdAt</th><th>lastModified</th><th>partitionColumns</th><th>clusteringColumns</th><th>numFiles</th><th>sizeInBytes</th><th>properties</th><th>minReaderVersion</th><th>minWriterVersion</th><th>tableFeatures</th><th>statistics</th></tr></thead><tbody><tr><td>delta</td><td>60c99955-2ff4-408c-a5e2-07e9455e7a2c</td><td>spark_catalog.bronze.estabelecimentos</td><td>null</td><td>dbfs:/user/hive/warehouse/dbfs/FileStore/Ampev/bronze/estabelecimentos</td><td>2024-07-30T18:07:56.565Z</td><td>2024-10-06T20:52:37Z</td><td>List()</td><td>List()</td><td>1</td><td>4444</td><td>Map()</td><td>1</td><td>2</td><td>List(appendOnly, invariants)</td><td>Map()</td></tr></tbody></table></div>"
      ]
     },
     "metadata": {
      "application/vnd.databricks.v1+output": {
       "addedWidgets": {},
       "aggData": [],
       "aggError": "",
       "aggOverflow": false,
       "aggSchema": [],
       "aggSeriesLimitReached": false,
       "aggType": "",
       "arguments": {},
       "columnCustomDisplayInfos": {},
       "data": [
        [
         "delta",
         "60c99955-2ff4-408c-a5e2-07e9455e7a2c",
         "spark_catalog.bronze.estabelecimentos",
         null,
         "dbfs:/user/hive/warehouse/dbfs/FileStore/Ampev/bronze/estabelecimentos",
         "2024-07-30T18:07:56.565Z",
         "2024-10-06T20:52:37Z",
         [],
         [],
         1,
         4444,
         {},
         1,
         2,
         [
          "appendOnly",
          "invariants"
         ],
         {}
        ]
       ],
       "datasetInfos": [],
       "dbfsResultPath": null,
       "isJsonSchema": true,
       "metadata": {
        "createTempViewForImplicitDf": true,
        "dataframeName": "_sqldf",
        "executionCount": 8
       },
       "overflow": false,
       "plotOptions": {
        "customPlotOptions": {},
        "displayType": "table",
        "pivotAggregation": null,
        "pivotColumns": null,
        "xColumns": null,
        "yColumns": null
       },
       "removedWidgets": [],
       "schema": [
        {
         "metadata": "{}",
         "name": "format",
         "type": "\"string\""
        },
        {
         "metadata": "{}",
         "name": "id",
         "type": "\"string\""
        },
        {
         "metadata": "{}",
         "name": "name",
         "type": "\"string\""
        },
        {
         "metadata": "{}",
         "name": "description",
         "type": "\"string\""
        },
        {
         "metadata": "{}",
         "name": "location",
         "type": "\"string\""
        },
        {
         "metadata": "{}",
         "name": "createdAt",
         "type": "\"timestamp\""
        },
        {
         "metadata": "{}",
         "name": "lastModified",
         "type": "\"timestamp\""
        },
        {
         "metadata": "{}",
         "name": "partitionColumns",
         "type": "{\"type\":\"array\",\"elementType\":\"string\",\"containsNull\":true}"
        },
        {
         "metadata": "{}",
         "name": "clusteringColumns",
         "type": "{\"type\":\"array\",\"elementType\":\"string\",\"containsNull\":true}"
        },
        {
         "metadata": "{}",
         "name": "numFiles",
         "type": "\"long\""
        },
        {
         "metadata": "{}",
         "name": "sizeInBytes",
         "type": "\"long\""
        },
        {
         "metadata": "{}",
         "name": "properties",
         "type": "{\"type\":\"map\",\"keyType\":\"string\",\"valueType\":\"string\",\"valueContainsNull\":true}"
        },
        {
         "metadata": "{}",
         "name": "minReaderVersion",
         "type": "\"integer\""
        },
        {
         "metadata": "{}",
         "name": "minWriterVersion",
         "type": "\"integer\""
        },
        {
         "metadata": "{}",
         "name": "tableFeatures",
         "type": "{\"type\":\"array\",\"elementType\":\"string\",\"containsNull\":true}"
        },
        {
         "metadata": "{}",
         "name": "statistics",
         "type": "{\"type\":\"map\",\"keyType\":\"string\",\"valueType\":\"long\",\"valueContainsNull\":true}"
        }
       ],
       "type": "table"
      }
     },
     "output_type": "display_data"
    }
   ],
   "source": [
    "%sql\n",
    "describe detail bronze.estabelecimentos"
   ]
  }
 ],
 "metadata": {
  "application/vnd.databricks.v1+notebook": {
   "dashboards": [],
   "environmentMetadata": null,
   "language": "python",
   "notebookMetadata": {
    "mostRecentlyExecutedCommandWithImplicitDF": {
     "commandId": 4222273828043448,
     "dataframes": [
      "_sqldf"
     ]
    },
    "pythonIndentUnit": 4
   },
   "notebookName": "BronzeEstabelecimento",
   "widgets": {}
  }
 },
 "nbformat": 4,
 "nbformat_minor": 0
}
