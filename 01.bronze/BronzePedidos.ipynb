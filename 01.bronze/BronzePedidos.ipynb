{
 "cells": [
  {
   "cell_type": "code",
   "execution_count": 0,
   "metadata": {
    "application/vnd.databricks.v1+cell": {
     "cellMetadata": {
      "byteLimit": 2048000,
      "rowLimit": 10000
     },
     "inputWidgets": {},
     "nuid": "02c74de9-afdc-4e64-8400-4993a0142bd4",
     "showTitle": false,
     "title": ""
    }
   },
   "outputs": [
    {
     "output_type": "display_data",
     "data": {
      "text/html": [
       "<style scoped>\n",
       "  .table-result-container {\n",
       "    max-height: 300px;\n",
       "    overflow: auto;\n",
       "  }\n",
       "  table, th, td {\n",
       "    border: 1px solid black;\n",
       "    border-collapse: collapse;\n",
       "  }\n",
       "  th, td {\n",
       "    padding: 5px;\n",
       "  }\n",
       "  th {\n",
       "    text-align: left;\n",
       "  }\n",
       "</style><div class='table-result-container'><table class='table-result'><thead style='background-color: white'><tr></tr></thead><tbody></tbody></table></div>"
      ]
     },
     "metadata": {
      "application/vnd.databricks.v1+output": {
       "addedWidgets": {},
       "aggData": [],
       "aggError": "",
       "aggOverflow": false,
       "aggSchema": [],
       "aggSeriesLimitReached": false,
       "aggType": "",
       "arguments": {},
       "columnCustomDisplayInfos": {},
       "data": [],
       "datasetInfos": [],
       "dbfsResultPath": null,
       "isJsonSchema": true,
       "metadata": {
        "dataframeName": null
       },
       "overflow": false,
       "plotOptions": {
        "customPlotOptions": {},
        "displayType": "table",
        "pivotAggregation": null,
        "pivotColumns": null,
        "xColumns": null,
        "yColumns": null
       },
       "removedWidgets": [],
       "schema": [],
       "type": "table"
      }
     },
     "output_type": "display_data"
    }
   ],
   "source": [
    "%run /Projeto_Databricks_01/00.config/configurações"
   ]
  },
  {
   "cell_type": "code",
   "execution_count": 0,
   "metadata": {
    "application/vnd.databricks.v1+cell": {
     "cellMetadata": {
      "byteLimit": 2048000,
      "rowLimit": 10000
     },
     "inputWidgets": {},
     "nuid": "d4038bdc-abb4-4a52-9880-17cb5ad59a0f",
     "showTitle": false,
     "title": ""
    }
   },
   "outputs": [
    {
     "output_type": "display_data",
     "data": {
      "text/html": [
       "<style scoped>\n",
       "  .table-result-container {\n",
       "    max-height: 300px;\n",
       "    overflow: auto;\n",
       "  }\n",
       "  table, th, td {\n",
       "    border: 1px solid black;\n",
       "    border-collapse: collapse;\n",
       "  }\n",
       "  th, td {\n",
       "    padding: 5px;\n",
       "  }\n",
       "  th {\n",
       "    text-align: left;\n",
       "  }\n",
       "</style><div class='table-result-container'><table class='table-result'><thead style='background-color: white'><tr></tr></thead><tbody></tbody></table></div>"
      ]
     },
     "metadata": {
      "application/vnd.databricks.v1+output": {
       "addedWidgets": {},
       "aggData": [],
       "aggError": "",
       "aggOverflow": false,
       "aggSchema": [],
       "aggSeriesLimitReached": false,
       "aggType": "",
       "arguments": {},
       "columnCustomDisplayInfos": {},
       "data": [],
       "datasetInfos": [],
       "dbfsResultPath": null,
       "isJsonSchema": true,
       "metadata": {
        "dataframeName": null
       },
       "overflow": false,
       "plotOptions": {
        "customPlotOptions": {},
        "displayType": "table",
        "pivotAggregation": null,
        "pivotColumns": null,
        "xColumns": null,
        "yColumns": null
       },
       "removedWidgets": [],
       "schema": [],
       "type": "table"
      }
     },
     "output_type": "display_data"
    },
    {
     "output_type": "display_data",
     "data": {
      "text/html": [
       "<style scoped>\n",
       "  .table-result-container {\n",
       "    max-height: 300px;\n",
       "    overflow: auto;\n",
       "  }\n",
       "  table, th, td {\n",
       "    border: 1px solid black;\n",
       "    border-collapse: collapse;\n",
       "  }\n",
       "  th, td {\n",
       "    padding: 5px;\n",
       "  }\n",
       "  th {\n",
       "    text-align: left;\n",
       "  }\n",
       "</style><div class='table-result-container'><table class='table-result'><thead style='background-color: white'><tr></tr></thead><tbody></tbody></table></div>"
      ]
     },
     "metadata": {
      "application/vnd.databricks.v1+output": {
       "addedWidgets": {},
       "aggData": [],
       "aggError": "",
       "aggOverflow": false,
       "aggSchema": [],
       "aggSeriesLimitReached": false,
       "aggType": "",
       "arguments": {},
       "columnCustomDisplayInfos": {},
       "data": [],
       "datasetInfos": [],
       "dbfsResultPath": null,
       "isJsonSchema": true,
       "metadata": {
        "dataframeName": null
       },
       "overflow": false,
       "plotOptions": {
        "customPlotOptions": {},
        "displayType": "table",
        "pivotAggregation": null,
        "pivotColumns": null,
        "xColumns": null,
        "yColumns": null
       },
       "removedWidgets": [],
       "schema": [],
       "type": "table"
      }
     },
     "output_type": "display_data"
    }
   ],
   "source": [
    "#Importações\n",
    "from pyspark.sql.functions import current_date, current_timestamp, expr"
   ]
  },
  {
   "cell_type": "code",
   "execution_count": 0,
   "metadata": {
    "application/vnd.databricks.v1+cell": {
     "cellMetadata": {
      "byteLimit": 2048000,
      "rowLimit": 10000
     },
     "inputWidgets": {},
     "nuid": "4e8b6330-a900-4844-ac3a-d723efbe0bb8",
     "showTitle": false,
     "title": ""
    }
   },
   "outputs": [],
   "source": [
    "#Nome do database\n",
    "\n",
    "database = \"bronze\"\n",
    "tabela = \"pedidos\"\n",
    "\n",
    "#path\n",
    "caminho_arquivo = 'dbfs:/FileStore/Ampev/pedidos.csv'"
   ]
  },
  {
   "cell_type": "code",
   "execution_count": 0,
   "metadata": {
    "application/vnd.databricks.v1+cell": {
     "cellMetadata": {
      "byteLimit": 2048000,
      "rowLimit": 10000
     },
     "inputWidgets": {},
     "nuid": "af7a5eb2-417a-4720-b505-9a66e7dbc0c8",
     "showTitle": false,
     "title": ""
    }
   },
   "outputs": [
    {
     "output_type": "display_data",
     "data": {
      "text/html": [
       "<style scoped>\n",
       "  .table-result-container {\n",
       "    max-height: 300px;\n",
       "    overflow: auto;\n",
       "  }\n",
       "  table, th, td {\n",
       "    border: 1px solid black;\n",
       "    border-collapse: collapse;\n",
       "  }\n",
       "  th, td {\n",
       "    padding: 5px;\n",
       "  }\n",
       "  th {\n",
       "    text-align: left;\n",
       "  }\n",
       "</style><div class='table-result-container'><table class='table-result'><thead style='background-color: white'><tr><th>PedidoID</th><th>EstabelecimentoID</th><th>Produto</th><th>quantidade_vendida</th><th>Preco_Unitario</th><th>data_venda</th></tr></thead><tbody><tr><td>1</td><td>50</td><td>Suco Natural</td><td>440</td><td>11.11</td><td>2023-07-22</td></tr><tr><td>2</td><td>12</td><td>Refrigerante 123</td><td>278</td><td>15.45</td><td>2024-07-06</td></tr><tr><td>3</td><td>16</td><td>Água Mineral</td><td>178</td><td>4.26</td><td>2023-08-09</td></tr><tr><td>4</td><td>42</td><td>Cerveja XYZ</td><td>38</td><td>11.65</td><td>2024-04-17</td></tr><tr><td>5</td><td>28</td><td>Refrigerante 123</td><td>94</td><td>9.39</td><td>2024-03-14</td></tr><tr><td>6</td><td>22</td><td>Suco Natural</td><td>108</td><td>8.04</td><td>2024-03-30</td></tr><tr><td>7</td><td>37</td><td>Cerveja XYZ</td><td>194</td><td>12.99</td><td>2024-03-27</td></tr><tr><td>8</td><td>28</td><td>Vinho ABC</td><td>349</td><td>1.26</td><td>2023-11-11</td></tr><tr><td>9</td><td>15</td><td>Suco Natural</td><td>62</td><td>6.25</td><td>2024-01-20</td></tr><tr><td>10</td><td>19</td><td>Vinho ABC</td><td>297</td><td>18.37</td><td>2024-05-07</td></tr><tr><td>11</td><td>2</td><td>Vinho ABC</td><td>253</td><td>6.37</td><td>2023-09-06</td></tr><tr><td>12</td><td>48</td><td>Cerveja XYZ</td><td>31</td><td>16.43</td><td>2023-12-08</td></tr><tr><td>13</td><td>29</td><td>Cerveja XYZ</td><td>263</td><td>7.91</td><td>2024-04-12</td></tr><tr><td>14</td><td>32</td><td>Cerveja XYZ</td><td>215</td><td>15.64</td><td>2023-12-29</td></tr><tr><td>15</td><td>10</td><td>Cerveja XYZ</td><td>88</td><td>6.43</td><td>2023-11-25</td></tr><tr><td>16</td><td>18</td><td>Cerveja XYZ</td><td>292</td><td>12.31</td><td>2024-05-16</td></tr><tr><td>17</td><td>7</td><td>Refrigerante 123</td><td>393</td><td>10.29</td><td>2023-12-23</td></tr><tr><td>18</td><td>48</td><td>Refrigerante 123</td><td>184</td><td>15.33</td><td>2023-08-26</td></tr><tr><td>19</td><td>7</td><td>Refrigerante 123</td><td>314</td><td>19.87</td><td>2024-02-18</td></tr><tr><td>20</td><td>18</td><td>Refrigerante 123</td><td>111</td><td>11.06</td><td>2024-07-10</td></tr><tr><td>21</td><td>18</td><td>Refrigerante 123</td><td>73</td><td>5.66</td><td>2024-06-04</td></tr><tr><td>22</td><td>30</td><td>Cerveja XYZ</td><td>385</td><td>2.1</td><td>2024-01-13</td></tr><tr><td>23</td><td>27</td><td>Cerveja XYZ</td><td>366</td><td>10.83</td><td>2024-04-13</td></tr><tr><td>24</td><td>9</td><td>Água Mineral</td><td>99</td><td>7.22</td><td>2024-02-03</td></tr><tr><td>25</td><td>49</td><td>Água Mineral</td><td>301</td><td>6.48</td><td>2024-02-25</td></tr><tr><td>26</td><td>49</td><td>Cerveja XYZ</td><td>191</td><td>5.93</td><td>2023-09-11</td></tr><tr><td>27</td><td>14</td><td>Vinho ABC</td><td>182</td><td>18.15</td><td>2023-08-26</td></tr><tr><td>28</td><td>26</td><td>Cerveja XYZ</td><td>386</td><td>9.45</td><td>2024-07-03</td></tr><tr><td>29</td><td>43</td><td>Vinho ABC</td><td>170</td><td>6.27</td><td>2024-02-27</td></tr><tr><td>30</td><td>4</td><td>Água Mineral</td><td>159</td><td>11.59</td><td>2023-07-29</td></tr><tr><td>31</td><td>2</td><td>Suco Natural</td><td>439</td><td>10.89</td><td>2023-11-10</td></tr><tr><td>32</td><td>23</td><td>Cerveja XYZ</td><td>125</td><td>3.53</td><td>2023-11-11</td></tr><tr><td>33</td><td>10</td><td>Vinho ABC</td><td>20</td><td>1.9</td><td>2023-12-14</td></tr><tr><td>34</td><td>4</td><td>Suco Natural</td><td>297</td><td>11.8</td><td>2024-06-02</td></tr><tr><td>35</td><td>6</td><td>Cerveja XYZ</td><td>130</td><td>1.94</td><td>2023-12-03</td></tr><tr><td>36</td><td>28</td><td>Refrigerante 123</td><td>402</td><td>19.4</td><td>2024-06-27</td></tr><tr><td>37</td><td>20</td><td>Suco Natural</td><td>331</td><td>8.44</td><td>2024-01-14</td></tr><tr><td>38</td><td>21</td><td>Vinho ABC</td><td>256</td><td>16.6</td><td>2023-09-26</td></tr><tr><td>39</td><td>15</td><td>Cerveja XYZ</td><td>315</td><td>16.31</td><td>2024-01-14</td></tr><tr><td>40</td><td>18</td><td>Vinho ABC</td><td>411</td><td>8.45</td><td>2023-09-16</td></tr><tr><td>41</td><td>30</td><td>Suco Natural</td><td>306</td><td>12.93</td><td>2024-01-18</td></tr><tr><td>42</td><td>14</td><td>Vinho ABC</td><td>386</td><td>8.89</td><td>2023-11-30</td></tr><tr><td>43</td><td>33</td><td>Vinho ABC</td><td>250</td><td>15.51</td><td>2023-07-14</td></tr><tr><td>44</td><td>15</td><td>Refrigerante 123</td><td>390</td><td>18.11</td><td>2024-01-29</td></tr><tr><td>45</td><td>41</td><td>Cerveja XYZ</td><td>294</td><td>10.21</td><td>2023-08-16</td></tr><tr><td>46</td><td>10</td><td>Água Mineral</td><td>392</td><td>8.26</td><td>2023-11-10</td></tr><tr><td>47</td><td>47</td><td>Refrigerante 123</td><td>473</td><td>12.57</td><td>2024-03-27</td></tr><tr><td>48</td><td>9</td><td>Cerveja XYZ</td><td>44</td><td>19.92</td><td>2024-03-15</td></tr><tr><td>49</td><td>1</td><td>Água Mineral</td><td>30</td><td>19.49</td><td>2024-01-20</td></tr><tr><td>50</td><td>46</td><td>Vinho ABC</td><td>277</td><td>15.81</td><td>2024-04-10</td></tr><tr><td>51</td><td>45</td><td>Suco Natural</td><td>98</td><td>3.33</td><td>2023-09-29</td></tr><tr><td>52</td><td>4</td><td>Vinho ABC</td><td>144</td><td>5.94</td><td>2024-04-02</td></tr><tr><td>53</td><td>24</td><td>Refrigerante 123</td><td>480</td><td>12.53</td><td>2024-02-09</td></tr><tr><td>54</td><td>29</td><td>Vinho ABC</td><td>266</td><td>1.34</td><td>2024-06-30</td></tr><tr><td>55</td><td>9</td><td>Vinho ABC</td><td>482</td><td>14.78</td><td>2023-11-22</td></tr><tr><td>56</td><td>2</td><td>Cerveja XYZ</td><td>448</td><td>10.91</td><td>2023-08-16</td></tr><tr><td>57</td><td>27</td><td>Cerveja XYZ</td><td>463</td><td>14.77</td><td>2024-05-26</td></tr><tr><td>58</td><td>17</td><td>Refrigerante 123</td><td>446</td><td>9.45</td><td>2024-02-28</td></tr><tr><td>59</td><td>26</td><td>Vinho ABC</td><td>198</td><td>6.52</td><td>2024-05-31</td></tr><tr><td>60</td><td>25</td><td>Vinho ABC</td><td>61</td><td>14.53</td><td>2024-05-21</td></tr><tr><td>61</td><td>22</td><td>Suco Natural</td><td>289</td><td>19.99</td><td>2024-03-16</td></tr><tr><td>62</td><td>9</td><td>Suco Natural</td><td>405</td><td>15.03</td><td>2023-10-19</td></tr><tr><td>63</td><td>34</td><td>Cerveja XYZ</td><td>186</td><td>3.87</td><td>2024-04-07</td></tr><tr><td>64</td><td>50</td><td>Água Mineral</td><td>19</td><td>10.02</td><td>2024-07-04</td></tr><tr><td>65</td><td>36</td><td>Água Mineral</td><td>220</td><td>11.01</td><td>2024-01-08</td></tr><tr><td>66</td><td>9</td><td>Vinho ABC</td><td>73</td><td>6.53</td><td>2024-07-09</td></tr><tr><td>67</td><td>4</td><td>Água Mineral</td><td>212</td><td>12.72</td><td>2024-05-03</td></tr><tr><td>68</td><td>40</td><td>Água Mineral</td><td>498</td><td>16.05</td><td>2023-09-15</td></tr><tr><td>69</td><td>25</td><td>Água Mineral</td><td>23</td><td>5.71</td><td>2023-08-16</td></tr><tr><td>70</td><td>48</td><td>Água Mineral</td><td>360</td><td>13.53</td><td>2024-02-05</td></tr><tr><td>71</td><td>2</td><td>Vinho ABC</td><td>96</td><td>3.7</td><td>2023-12-20</td></tr><tr><td>72</td><td>6</td><td>Suco Natural</td><td>316</td><td>14.96</td><td>2024-02-03</td></tr><tr><td>73</td><td>3</td><td>Vinho ABC</td><td>390</td><td>6.09</td><td>2024-05-01</td></tr><tr><td>74</td><td>36</td><td>Cerveja XYZ</td><td>461</td><td>18.79</td><td>2023-09-09</td></tr><tr><td>75</td><td>21</td><td>Cerveja XYZ</td><td>433</td><td>1.84</td><td>2024-04-19</td></tr><tr><td>76</td><td>4</td><td>Cerveja XYZ</td><td>314</td><td>13.39</td><td>2024-02-29</td></tr><tr><td>77</td><td>28</td><td>Suco Natural</td><td>113</td><td>3.41</td><td>2024-03-14</td></tr><tr><td>78</td><td>20</td><td>Água Mineral</td><td>212</td><td>12.08</td><td>2023-12-24</td></tr><tr><td>79</td><td>31</td><td>Água Mineral</td><td>190</td><td>11.35</td><td>2023-08-02</td></tr><tr><td>80</td><td>15</td><td>Água Mineral</td><td>494</td><td>18.05</td><td>2023-11-11</td></tr><tr><td>81</td><td>23</td><td>Suco Natural</td><td>340</td><td>5.15</td><td>2024-03-14</td></tr><tr><td>82</td><td>21</td><td>Cerveja XYZ</td><td>69</td><td>7.56</td><td>2023-09-03</td></tr><tr><td>83</td><td>5</td><td>Suco Natural</td><td>328</td><td>7.31</td><td>2023-12-30</td></tr><tr><td>84</td><td>29</td><td>Cerveja XYZ</td><td>372</td><td>12.43</td><td>2024-01-20</td></tr><tr><td>85</td><td>19</td><td>Água Mineral</td><td>177</td><td>4.37</td><td>2023-11-22</td></tr><tr><td>86</td><td>15</td><td>Vinho ABC</td><td>157</td><td>4.05</td><td>2024-04-24</td></tr><tr><td>87</td><td>18</td><td>Água Mineral</td><td>53</td><td>8.2</td><td>2024-06-06</td></tr><tr><td>88</td><td>24</td><td>Cerveja XYZ</td><td>100</td><td>12.8</td><td>2023-09-20</td></tr><tr><td>89</td><td>29</td><td>Vinho ABC</td><td>276</td><td>9.57</td><td>2024-06-05</td></tr><tr><td>90</td><td>31</td><td>Suco Natural</td><td>412</td><td>16.41</td><td>2024-03-09</td></tr><tr><td>91</td><td>14</td><td>Vinho ABC</td><td>74</td><td>16.84</td><td>2024-03-04</td></tr><tr><td>92</td><td>13</td><td>Cerveja XYZ</td><td>242</td><td>8.58</td><td>2023-12-19</td></tr><tr><td>93</td><td>45</td><td>Vinho ABC</td><td>88</td><td>4.87</td><td>2023-11-14</td></tr><tr><td>94</td><td>3</td><td>Água Mineral</td><td>249</td><td>7.09</td><td>2024-02-04</td></tr><tr><td>95</td><td>7</td><td>Vinho ABC</td><td>205</td><td>11.64</td><td>2023-08-27</td></tr><tr><td>96</td><td>49</td><td>Cerveja XYZ</td><td>395</td><td>17.46</td><td>2024-02-02</td></tr><tr><td>97</td><td>25</td><td>Refrigerante 123</td><td>34</td><td>16.12</td><td>2024-07-06</td></tr><tr><td>98</td><td>28</td><td>Suco Natural</td><td>284</td><td>8.15</td><td>2023-12-05</td></tr><tr><td>99</td><td>28</td><td>Suco Natural</td><td>496</td><td>4.9</td><td>2023-08-19</td></tr><tr><td>100</td><td>50</td><td>Refrigerante 123</td><td>109</td><td>16.5</td><td>2023-11-05</td></tr><tr><td>101</td><td>43</td><td>Suco Natural</td><td>491</td><td>12.15</td><td>2024-03-09</td></tr><tr><td>102</td><td>20</td><td>Suco Natural</td><td>109</td><td>14.8</td><td>2023-08-21</td></tr><tr><td>103</td><td>4</td><td>Vinho ABC</td><td>295</td><td>15.44</td><td>2023-09-20</td></tr><tr><td>104</td><td>7</td><td>Suco Natural</td><td>107</td><td>1.72</td><td>2023-12-11</td></tr><tr><td>105</td><td>48</td><td>Vinho ABC</td><td>301</td><td>9.41</td><td>2023-09-03</td></tr><tr><td>106</td><td>23</td><td>Refrigerante 123</td><td>389</td><td>11.09</td><td>2024-05-18</td></tr><tr><td>107</td><td>43</td><td>Refrigerante 123</td><td>414</td><td>1.42</td><td>2023-12-09</td></tr><tr><td>108</td><td>4</td><td>Vinho ABC</td><td>307</td><td>14.69</td><td>2023-10-12</td></tr><tr><td>109</td><td>13</td><td>Suco Natural</td><td>49</td><td>14.61</td><td>2023-08-22</td></tr><tr><td>110</td><td>34</td><td>Refrigerante 123</td><td>392</td><td>13.64</td><td>2024-02-27</td></tr><tr><td>111</td><td>28</td><td>Água Mineral</td><td>51</td><td>13.69</td><td>2023-12-29</td></tr><tr><td>112</td><td>20</td><td>Água Mineral</td><td>36</td><td>4.79</td><td>2024-03-16</td></tr><tr><td>113</td><td>37</td><td>Refrigerante 123</td><td>243</td><td>7.08</td><td>2023-11-11</td></tr><tr><td>114</td><td>9</td><td>Refrigerante 123</td><td>350</td><td>11.16</td><td>2024-04-13</td></tr><tr><td>115</td><td>46</td><td>Suco Natural</td><td>415</td><td>17.37</td><td>2023-11-14</td></tr><tr><td>116</td><td>18</td><td>Refrigerante 123</td><td>89</td><td>14.44</td><td>2024-04-21</td></tr><tr><td>117</td><td>24</td><td>Água Mineral</td><td>183</td><td>2.99</td><td>2024-06-29</td></tr><tr><td>118</td><td>31</td><td>Vinho ABC</td><td>335</td><td>17.99</td><td>2024-05-02</td></tr><tr><td>119</td><td>11</td><td>Água Mineral</td><td>337</td><td>12.01</td><td>2023-10-15</td></tr><tr><td>120</td><td>4</td><td>Vinho ABC</td><td>111</td><td>7.54</td><td>2023-12-17</td></tr><tr><td>121</td><td>39</td><td>Vinho ABC</td><td>444</td><td>11.52</td><td>2024-01-20</td></tr><tr><td>122</td><td>4</td><td>Água Mineral</td><td>14</td><td>8.67</td><td>2024-05-24</td></tr><tr><td>123</td><td>23</td><td>Água Mineral</td><td>383</td><td>6.07</td><td>2024-06-24</td></tr><tr><td>124</td><td>16</td><td>Vinho ABC</td><td>380</td><td>15.19</td><td>2024-05-21</td></tr><tr><td>125</td><td>15</td><td>Água Mineral</td><td>404</td><td>18.28</td><td>2023-11-22</td></tr><tr><td>126</td><td>39</td><td>Suco Natural</td><td>285</td><td>15.35</td><td>2024-06-09</td></tr><tr><td>127</td><td>5</td><td>Suco Natural</td><td>65</td><td>17.0</td><td>2024-05-31</td></tr><tr><td>128</td><td>36</td><td>Cerveja XYZ</td><td>321</td><td>17.15</td><td>2024-05-07</td></tr><tr><td>129</td><td>12</td><td>Vinho ABC</td><td>235</td><td>10.74</td><td>2024-05-10</td></tr><tr><td>130</td><td>21</td><td>Cerveja XYZ</td><td>476</td><td>8.2</td><td>2024-03-27</td></tr><tr><td>131</td><td>39</td><td>Refrigerante 123</td><td>23</td><td>7.14</td><td>2023-10-29</td></tr><tr><td>132</td><td>50</td><td>Água Mineral</td><td>345</td><td>1.98</td><td>2024-02-08</td></tr><tr><td>133</td><td>44</td><td>Refrigerante 123</td><td>174</td><td>12.47</td><td>2023-10-19</td></tr><tr><td>134</td><td>17</td><td>Vinho ABC</td><td>327</td><td>12.78</td><td>2024-03-03</td></tr><tr><td>135</td><td>40</td><td>Vinho ABC</td><td>213</td><td>15.57</td><td>2023-09-24</td></tr><tr><td>136</td><td>19</td><td>Refrigerante 123</td><td>499</td><td>6.57</td><td>2024-05-24</td></tr><tr><td>137</td><td>36</td><td>Vinho ABC</td><td>180</td><td>5.32</td><td>2023-08-01</td></tr><tr><td>138</td><td>8</td><td>Vinho ABC</td><td>146</td><td>1.26</td><td>2024-05-28</td></tr><tr><td>139</td><td>26</td><td>Vinho ABC</td><td>57</td><td>7.28</td><td>2023-10-14</td></tr><tr><td>140</td><td>33</td><td>Vinho ABC</td><td>420</td><td>18.4</td><td>2024-04-09</td></tr><tr><td>141</td><td>16</td><td>Cerveja XYZ</td><td>325</td><td>18.41</td><td>2024-01-14</td></tr><tr><td>142</td><td>50</td><td>Suco Natural</td><td>302</td><td>18.1</td><td>2024-05-20</td></tr><tr><td>143</td><td>19</td><td>Vinho ABC</td><td>423</td><td>16.36</td><td>2023-12-21</td></tr><tr><td>144</td><td>18</td><td>Água Mineral</td><td>483</td><td>19.92</td><td>2023-07-31</td></tr><tr><td>145</td><td>17</td><td>Vinho ABC</td><td>446</td><td>6.86</td><td>2024-03-20</td></tr><tr><td>146</td><td>34</td><td>Suco Natural</td><td>484</td><td>3.52</td><td>2024-05-24</td></tr><tr><td>147</td><td>14</td><td>Vinho ABC</td><td>288</td><td>9.13</td><td>2023-12-21</td></tr><tr><td>148</td><td>38</td><td>Cerveja XYZ</td><td>238</td><td>1.3</td><td>2023-07-11</td></tr><tr><td>149</td><td>30</td><td>Refrigerante 123</td><td>445</td><td>9.06</td><td>2024-02-05</td></tr><tr><td>150</td><td>20</td><td>Água Mineral</td><td>292</td><td>1.81</td><td>2023-12-13</td></tr><tr><td>151</td><td>13</td><td>Vinho ABC</td><td>106</td><td>10.19</td><td>2024-03-21</td></tr><tr><td>152</td><td>15</td><td>Vinho ABC</td><td>329</td><td>3.27</td><td>2024-02-24</td></tr><tr><td>153</td><td>27</td><td>Água Mineral</td><td>457</td><td>18.48</td><td>2023-10-29</td></tr><tr><td>154</td><td>6</td><td>Refrigerante 123</td><td>481</td><td>14.62</td><td>2024-06-01</td></tr><tr><td>155</td><td>34</td><td>Cerveja XYZ</td><td>122</td><td>3.34</td><td>2024-02-13</td></tr><tr><td>156</td><td>20</td><td>Refrigerante 123</td><td>499</td><td>7.77</td><td>2023-09-01</td></tr><tr><td>157</td><td>48</td><td>Cerveja XYZ</td><td>375</td><td>13.83</td><td>2023-09-01</td></tr><tr><td>158</td><td>25</td><td>Água Mineral</td><td>275</td><td>7.58</td><td>2023-12-16</td></tr><tr><td>159</td><td>40</td><td>Cerveja XYZ</td><td>78</td><td>19.83</td><td>2023-10-23</td></tr><tr><td>160</td><td>47</td><td>Suco Natural</td><td>472</td><td>8.2</td><td>2023-11-21</td></tr><tr><td>161</td><td>20</td><td>Cerveja XYZ</td><td>285</td><td>15.67</td><td>2023-11-01</td></tr><tr><td>162</td><td>8</td><td>Refrigerante 123</td><td>112</td><td>15.97</td><td>2023-07-13</td></tr><tr><td>163</td><td>40</td><td>Água Mineral</td><td>336</td><td>14.82</td><td>2024-04-08</td></tr><tr><td>164</td><td>24</td><td>Suco Natural</td><td>16</td><td>16.1</td><td>2024-03-12</td></tr><tr><td>165</td><td>19</td><td>Cerveja XYZ</td><td>108</td><td>4.19</td><td>2024-01-10</td></tr><tr><td>166</td><td>30</td><td>Vinho ABC</td><td>346</td><td>16.22</td><td>2023-11-09</td></tr><tr><td>167</td><td>4</td><td>Cerveja XYZ</td><td>196</td><td>16.59</td><td>2023-10-28</td></tr><tr><td>168</td><td>11</td><td>Água Mineral</td><td>199</td><td>16.53</td><td>2023-12-19</td></tr><tr><td>169</td><td>35</td><td>Água Mineral</td><td>91</td><td>16.42</td><td>2024-01-04</td></tr><tr><td>170</td><td>30</td><td>Vinho ABC</td><td>228</td><td>7.86</td><td>2024-06-26</td></tr><tr><td>171</td><td>41</td><td>Cerveja XYZ</td><td>484</td><td>10.95</td><td>2024-05-10</td></tr><tr><td>172</td><td>38</td><td>Vinho ABC</td><td>313</td><td>15.36</td><td>2024-05-01</td></tr><tr><td>173</td><td>24</td><td>Cerveja XYZ</td><td>369</td><td>3.49</td><td>2023-12-10</td></tr><tr><td>174</td><td>29</td><td>Cerveja XYZ</td><td>431</td><td>4.66</td><td>2024-02-20</td></tr><tr><td>175</td><td>23</td><td>Suco Natural</td><td>148</td><td>9.7</td><td>2023-10-19</td></tr><tr><td>176</td><td>48</td><td>Água Mineral</td><td>69</td><td>13.7</td><td>2024-04-03</td></tr><tr><td>177</td><td>6</td><td>Água Mineral</td><td>415</td><td>8.55</td><td>2024-07-06</td></tr><tr><td>178</td><td>25</td><td>Suco Natural</td><td>318</td><td>13.56</td><td>2023-08-15</td></tr><tr><td>179</td><td>13</td><td>Água Mineral</td><td>280</td><td>8.93</td><td>2023-07-23</td></tr><tr><td>180</td><td>15</td><td>Vinho ABC</td><td>200</td><td>17.31</td><td>2023-08-02</td></tr><tr><td>181</td><td>19</td><td>Suco Natural</td><td>414</td><td>2.13</td><td>2023-11-21</td></tr><tr><td>182</td><td>38</td><td>Refrigerante 123</td><td>365</td><td>18.55</td><td>2023-09-05</td></tr><tr><td>183</td><td>35</td><td>Cerveja XYZ</td><td>105</td><td>16.39</td><td>2023-11-01</td></tr><tr><td>184</td><td>5</td><td>Refrigerante 123</td><td>127</td><td>4.02</td><td>2024-02-11</td></tr><tr><td>185</td><td>7</td><td>Água Mineral</td><td>190</td><td>7.1</td><td>2024-04-10</td></tr><tr><td>186</td><td>44</td><td>Cerveja XYZ</td><td>92</td><td>14.17</td><td>2023-12-02</td></tr><tr><td>187</td><td>42</td><td>Suco Natural</td><td>276</td><td>14.24</td><td>2024-05-10</td></tr><tr><td>188</td><td>23</td><td>Água Mineral</td><td>86</td><td>11.38</td><td>2024-03-11</td></tr><tr><td>189</td><td>39</td><td>Vinho ABC</td><td>479</td><td>14.05</td><td>2024-04-25</td></tr><tr><td>190</td><td>33</td><td>Suco Natural</td><td>135</td><td>3.46</td><td>2023-10-04</td></tr><tr><td>191</td><td>4</td><td>Refrigerante 123</td><td>312</td><td>11.35</td><td>2023-07-26</td></tr><tr><td>192</td><td>39</td><td>Refrigerante 123</td><td>380</td><td>15.99</td><td>2023-12-22</td></tr><tr><td>193</td><td>5</td><td>Suco Natural</td><td>275</td><td>1.79</td><td>2024-05-24</td></tr><tr><td>194</td><td>20</td><td>Suco Natural</td><td>442</td><td>10.01</td><td>2023-07-21</td></tr><tr><td>195</td><td>47</td><td>Refrigerante 123</td><td>369</td><td>3.56</td><td>2024-01-18</td></tr><tr><td>196</td><td>31</td><td>Vinho ABC</td><td>316</td><td>14.33</td><td>2023-08-16</td></tr><tr><td>197</td><td>12</td><td>Água Mineral</td><td>239</td><td>2.13</td><td>2024-05-01</td></tr><tr><td>198</td><td>37</td><td>Água Mineral</td><td>338</td><td>3.53</td><td>2023-07-28</td></tr><tr><td>199</td><td>15</td><td>Refrigerante 123</td><td>440</td><td>6.88</td><td>2023-09-05</td></tr><tr><td>200</td><td>19</td><td>Cerveja XYZ</td><td>416</td><td>10.19</td><td>2024-01-04</td></tr><tr><td>201</td><td>6</td><td>Suco Natural</td><td>225</td><td>12.89</td><td>2023-09-30</td></tr><tr><td>202</td><td>48</td><td>Água Mineral</td><td>184</td><td>11.89</td><td>2024-01-27</td></tr><tr><td>203</td><td>7</td><td>Cerveja XYZ</td><td>173</td><td>14.0</td><td>2023-09-12</td></tr><tr><td>204</td><td>37</td><td>Cerveja XYZ</td><td>326</td><td>16.27</td><td>2023-10-28</td></tr><tr><td>205</td><td>19</td><td>Cerveja XYZ</td><td>322</td><td>7.76</td><td>2023-08-05</td></tr><tr><td>206</td><td>31</td><td>Vinho ABC</td><td>369</td><td>16.98</td><td>2023-08-05</td></tr><tr><td>207</td><td>50</td><td>Água Mineral</td><td>168</td><td>14.84</td><td>2023-09-27</td></tr><tr><td>208</td><td>40</td><td>Cerveja XYZ</td><td>154</td><td>13.72</td><td>2023-12-09</td></tr><tr><td>209</td><td>50</td><td>Suco Natural</td><td>83</td><td>14.73</td><td>2023-08-17</td></tr><tr><td>210</td><td>35</td><td>Água Mineral</td><td>490</td><td>2.75</td><td>2024-07-10</td></tr><tr><td>211</td><td>11</td><td>Cerveja XYZ</td><td>270</td><td>12.22</td><td>2024-03-12</td></tr><tr><td>212</td><td>35</td><td>Refrigerante 123</td><td>433</td><td>1.28</td><td>2023-09-04</td></tr><tr><td>213</td><td>45</td><td>Cerveja XYZ</td><td>381</td><td>7.28</td><td>2024-04-16</td></tr><tr><td>214</td><td>47</td><td>Suco Natural</td><td>428</td><td>3.48</td><td>2023-10-20</td></tr><tr><td>215</td><td>15</td><td>Água Mineral</td><td>92</td><td>2.23</td><td>2023-09-10</td></tr><tr><td>216</td><td>25</td><td>Água Mineral</td><td>300</td><td>18.13</td><td>2024-05-05</td></tr><tr><td>217</td><td>9</td><td>Vinho ABC</td><td>169</td><td>17.14</td><td>2024-03-19</td></tr><tr><td>218</td><td>1</td><td>Cerveja XYZ</td><td>486</td><td>13.0</td><td>2023-09-29</td></tr><tr><td>219</td><td>26</td><td>Refrigerante 123</td><td>20</td><td>13.28</td><td>2023-09-14</td></tr><tr><td>220</td><td>39</td><td>Suco Natural</td><td>109</td><td>4.44</td><td>2024-02-09</td></tr><tr><td>221</td><td>24</td><td>Suco Natural</td><td>487</td><td>8.06</td><td>2024-05-11</td></tr><tr><td>222</td><td>10</td><td>Vinho ABC</td><td>44</td><td>18.87</td><td>2024-06-08</td></tr><tr><td>223</td><td>23</td><td>Refrigerante 123</td><td>419</td><td>10.66</td><td>2024-03-16</td></tr><tr><td>224</td><td>29</td><td>Água Mineral</td><td>106</td><td>4.73</td><td>2024-05-17</td></tr><tr><td>225</td><td>10</td><td>Refrigerante 123</td><td>207</td><td>9.82</td><td>2023-12-17</td></tr><tr><td>226</td><td>29</td><td>Cerveja XYZ</td><td>422</td><td>17.35</td><td>2023-09-02</td></tr><tr><td>227</td><td>15</td><td>Vinho ABC</td><td>194</td><td>14.54</td><td>2024-05-12</td></tr><tr><td>228</td><td>27</td><td>Vinho ABC</td><td>484</td><td>16.74</td><td>2023-08-11</td></tr><tr><td>229</td><td>21</td><td>Refrigerante 123</td><td>45</td><td>7.68</td><td>2024-04-10</td></tr><tr><td>230</td><td>41</td><td>Cerveja XYZ</td><td>290</td><td>6.24</td><td>2024-06-11</td></tr><tr><td>231</td><td>9</td><td>Água Mineral</td><td>376</td><td>3.62</td><td>2024-01-02</td></tr><tr><td>232</td><td>24</td><td>Cerveja XYZ</td><td>258</td><td>17.3</td><td>2023-12-17</td></tr><tr><td>233</td><td>20</td><td>Refrigerante 123</td><td>472</td><td>11.22</td><td>2024-07-01</td></tr><tr><td>234</td><td>28</td><td>Cerveja XYZ</td><td>227</td><td>2.72</td><td>2024-06-15</td></tr><tr><td>235</td><td>3</td><td>Água Mineral</td><td>282</td><td>3.59</td><td>2024-07-02</td></tr><tr><td>236</td><td>46</td><td>Refrigerante 123</td><td>180</td><td>8.48</td><td>2024-04-03</td></tr><tr><td>237</td><td>2</td><td>Água Mineral</td><td>237</td><td>15.06</td><td>2024-04-30</td></tr><tr><td>238</td><td>49</td><td>Cerveja XYZ</td><td>48</td><td>1.92</td><td>2024-01-17</td></tr><tr><td>239</td><td>43</td><td>Suco Natural</td><td>265</td><td>7.74</td><td>2024-06-26</td></tr><tr><td>240</td><td>41</td><td>Suco Natural</td><td>485</td><td>12.22</td><td>2023-10-11</td></tr><tr><td>241</td><td>50</td><td>Suco Natural</td><td>488</td><td>6.81</td><td>2023-12-08</td></tr><tr><td>242</td><td>39</td><td>Vinho ABC</td><td>345</td><td>12.48</td><td>2024-04-04</td></tr><tr><td>243</td><td>23</td><td>Água Mineral</td><td>337</td><td>18.82</td><td>2024-04-22</td></tr><tr><td>244</td><td>31</td><td>Água Mineral</td><td>280</td><td>6.08</td><td>2024-02-28</td></tr><tr><td>245</td><td>27</td><td>Cerveja XYZ</td><td>418</td><td>12.66</td><td>2024-01-31</td></tr><tr><td>246</td><td>1</td><td>Suco Natural</td><td>468</td><td>4.25</td><td>2023-11-27</td></tr><tr><td>247</td><td>41</td><td>Suco Natural</td><td>26</td><td>7.5</td><td>2024-04-18</td></tr><tr><td>248</td><td>44</td><td>Água Mineral</td><td>326</td><td>13.45</td><td>2023-08-10</td></tr><tr><td>249</td><td>12</td><td>Refrigerante 123</td><td>81</td><td>12.84</td><td>2023-12-20</td></tr><tr><td>250</td><td>32</td><td>Água Mineral</td><td>327</td><td>11.68</td><td>2023-08-29</td></tr></tbody></table></div>"
      ]
     },
     "metadata": {
      "application/vnd.databricks.v1+output": {
       "addedWidgets": {},
       "aggData": [],
       "aggError": "",
       "aggOverflow": false,
       "aggSchema": [],
       "aggSeriesLimitReached": false,
       "aggType": "",
       "arguments": {},
       "columnCustomDisplayInfos": {},
       "data": [
        [
         "1",
         "50",
         "Suco Natural",
         "440",
         "11.11",
         "2023-07-22"
        ],
        [
         "2",
         "12",
         "Refrigerante 123",
         "278",
         "15.45",
         "2024-07-06"
        ],
        [
         "3",
         "16",
         "Água Mineral",
         "178",
         "4.26",
         "2023-08-09"
        ],
        [
         "4",
         "42",
         "Cerveja XYZ",
         "38",
         "11.65",
         "2024-04-17"
        ],
        [
         "5",
         "28",
         "Refrigerante 123",
         "94",
         "9.39",
         "2024-03-14"
        ],
        [
         "6",
         "22",
         "Suco Natural",
         "108",
         "8.04",
         "2024-03-30"
        ],
        [
         "7",
         "37",
         "Cerveja XYZ",
         "194",
         "12.99",
         "2024-03-27"
        ],
        [
         "8",
         "28",
         "Vinho ABC",
         "349",
         "1.26",
         "2023-11-11"
        ],
        [
         "9",
         "15",
         "Suco Natural",
         "62",
         "6.25",
         "2024-01-20"
        ],
        [
         "10",
         "19",
         "Vinho ABC",
         "297",
         "18.37",
         "2024-05-07"
        ],
        [
         "11",
         "2",
         "Vinho ABC",
         "253",
         "6.37",
         "2023-09-06"
        ],
        [
         "12",
         "48",
         "Cerveja XYZ",
         "31",
         "16.43",
         "2023-12-08"
        ],
        [
         "13",
         "29",
         "Cerveja XYZ",
         "263",
         "7.91",
         "2024-04-12"
        ],
        [
         "14",
         "32",
         "Cerveja XYZ",
         "215",
         "15.64",
         "2023-12-29"
        ],
        [
         "15",
         "10",
         "Cerveja XYZ",
         "88",
         "6.43",
         "2023-11-25"
        ],
        [
         "16",
         "18",
         "Cerveja XYZ",
         "292",
         "12.31",
         "2024-05-16"
        ],
        [
         "17",
         "7",
         "Refrigerante 123",
         "393",
         "10.29",
         "2023-12-23"
        ],
        [
         "18",
         "48",
         "Refrigerante 123",
         "184",
         "15.33",
         "2023-08-26"
        ],
        [
         "19",
         "7",
         "Refrigerante 123",
         "314",
         "19.87",
         "2024-02-18"
        ],
        [
         "20",
         "18",
         "Refrigerante 123",
         "111",
         "11.06",
         "2024-07-10"
        ],
        [
         "21",
         "18",
         "Refrigerante 123",
         "73",
         "5.66",
         "2024-06-04"
        ],
        [
         "22",
         "30",
         "Cerveja XYZ",
         "385",
         "2.1",
         "2024-01-13"
        ],
        [
         "23",
         "27",
         "Cerveja XYZ",
         "366",
         "10.83",
         "2024-04-13"
        ],
        [
         "24",
         "9",
         "Água Mineral",
         "99",
         "7.22",
         "2024-02-03"
        ],
        [
         "25",
         "49",
         "Água Mineral",
         "301",
         "6.48",
         "2024-02-25"
        ],
        [
         "26",
         "49",
         "Cerveja XYZ",
         "191",
         "5.93",
         "2023-09-11"
        ],
        [
         "27",
         "14",
         "Vinho ABC",
         "182",
         "18.15",
         "2023-08-26"
        ],
        [
         "28",
         "26",
         "Cerveja XYZ",
         "386",
         "9.45",
         "2024-07-03"
        ],
        [
         "29",
         "43",
         "Vinho ABC",
         "170",
         "6.27",
         "2024-02-27"
        ],
        [
         "30",
         "4",
         "Água Mineral",
         "159",
         "11.59",
         "2023-07-29"
        ],
        [
         "31",
         "2",
         "Suco Natural",
         "439",
         "10.89",
         "2023-11-10"
        ],
        [
         "32",
         "23",
         "Cerveja XYZ",
         "125",
         "3.53",
         "2023-11-11"
        ],
        [
         "33",
         "10",
         "Vinho ABC",
         "20",
         "1.9",
         "2023-12-14"
        ],
        [
         "34",
         "4",
         "Suco Natural",
         "297",
         "11.8",
         "2024-06-02"
        ],
        [
         "35",
         "6",
         "Cerveja XYZ",
         "130",
         "1.94",
         "2023-12-03"
        ],
        [
         "36",
         "28",
         "Refrigerante 123",
         "402",
         "19.4",
         "2024-06-27"
        ],
        [
         "37",
         "20",
         "Suco Natural",
         "331",
         "8.44",
         "2024-01-14"
        ],
        [
         "38",
         "21",
         "Vinho ABC",
         "256",
         "16.6",
         "2023-09-26"
        ],
        [
         "39",
         "15",
         "Cerveja XYZ",
         "315",
         "16.31",
         "2024-01-14"
        ],
        [
         "40",
         "18",
         "Vinho ABC",
         "411",
         "8.45",
         "2023-09-16"
        ],
        [
         "41",
         "30",
         "Suco Natural",
         "306",
         "12.93",
         "2024-01-18"
        ],
        [
         "42",
         "14",
         "Vinho ABC",
         "386",
         "8.89",
         "2023-11-30"
        ],
        [
         "43",
         "33",
         "Vinho ABC",
         "250",
         "15.51",
         "2023-07-14"
        ],
        [
         "44",
         "15",
         "Refrigerante 123",
         "390",
         "18.11",
         "2024-01-29"
        ],
        [
         "45",
         "41",
         "Cerveja XYZ",
         "294",
         "10.21",
         "2023-08-16"
        ],
        [
         "46",
         "10",
         "Água Mineral",
         "392",
         "8.26",
         "2023-11-10"
        ],
        [
         "47",
         "47",
         "Refrigerante 123",
         "473",
         "12.57",
         "2024-03-27"
        ],
        [
         "48",
         "9",
         "Cerveja XYZ",
         "44",
         "19.92",
         "2024-03-15"
        ],
        [
         "49",
         "1",
         "Água Mineral",
         "30",
         "19.49",
         "2024-01-20"
        ],
        [
         "50",
         "46",
         "Vinho ABC",
         "277",
         "15.81",
         "2024-04-10"
        ],
        [
         "51",
         "45",
         "Suco Natural",
         "98",
         "3.33",
         "2023-09-29"
        ],
        [
         "52",
         "4",
         "Vinho ABC",
         "144",
         "5.94",
         "2024-04-02"
        ],
        [
         "53",
         "24",
         "Refrigerante 123",
         "480",
         "12.53",
         "2024-02-09"
        ],
        [
         "54",
         "29",
         "Vinho ABC",
         "266",
         "1.34",
         "2024-06-30"
        ],
        [
         "55",
         "9",
         "Vinho ABC",
         "482",
         "14.78",
         "2023-11-22"
        ],
        [
         "56",
         "2",
         "Cerveja XYZ",
         "448",
         "10.91",
         "2023-08-16"
        ],
        [
         "57",
         "27",
         "Cerveja XYZ",
         "463",
         "14.77",
         "2024-05-26"
        ],
        [
         "58",
         "17",
         "Refrigerante 123",
         "446",
         "9.45",
         "2024-02-28"
        ],
        [
         "59",
         "26",
         "Vinho ABC",
         "198",
         "6.52",
         "2024-05-31"
        ],
        [
         "60",
         "25",
         "Vinho ABC",
         "61",
         "14.53",
         "2024-05-21"
        ],
        [
         "61",
         "22",
         "Suco Natural",
         "289",
         "19.99",
         "2024-03-16"
        ],
        [
         "62",
         "9",
         "Suco Natural",
         "405",
         "15.03",
         "2023-10-19"
        ],
        [
         "63",
         "34",
         "Cerveja XYZ",
         "186",
         "3.87",
         "2024-04-07"
        ],
        [
         "64",
         "50",
         "Água Mineral",
         "19",
         "10.02",
         "2024-07-04"
        ],
        [
         "65",
         "36",
         "Água Mineral",
         "220",
         "11.01",
         "2024-01-08"
        ],
        [
         "66",
         "9",
         "Vinho ABC",
         "73",
         "6.53",
         "2024-07-09"
        ],
        [
         "67",
         "4",
         "Água Mineral",
         "212",
         "12.72",
         "2024-05-03"
        ],
        [
         "68",
         "40",
         "Água Mineral",
         "498",
         "16.05",
         "2023-09-15"
        ],
        [
         "69",
         "25",
         "Água Mineral",
         "23",
         "5.71",
         "2023-08-16"
        ],
        [
         "70",
         "48",
         "Água Mineral",
         "360",
         "13.53",
         "2024-02-05"
        ],
        [
         "71",
         "2",
         "Vinho ABC",
         "96",
         "3.7",
         "2023-12-20"
        ],
        [
         "72",
         "6",
         "Suco Natural",
         "316",
         "14.96",
         "2024-02-03"
        ],
        [
         "73",
         "3",
         "Vinho ABC",
         "390",
         "6.09",
         "2024-05-01"
        ],
        [
         "74",
         "36",
         "Cerveja XYZ",
         "461",
         "18.79",
         "2023-09-09"
        ],
        [
         "75",
         "21",
         "Cerveja XYZ",
         "433",
         "1.84",
         "2024-04-19"
        ],
        [
         "76",
         "4",
         "Cerveja XYZ",
         "314",
         "13.39",
         "2024-02-29"
        ],
        [
         "77",
         "28",
         "Suco Natural",
         "113",
         "3.41",
         "2024-03-14"
        ],
        [
         "78",
         "20",
         "Água Mineral",
         "212",
         "12.08",
         "2023-12-24"
        ],
        [
         "79",
         "31",
         "Água Mineral",
         "190",
         "11.35",
         "2023-08-02"
        ],
        [
         "80",
         "15",
         "Água Mineral",
         "494",
         "18.05",
         "2023-11-11"
        ],
        [
         "81",
         "23",
         "Suco Natural",
         "340",
         "5.15",
         "2024-03-14"
        ],
        [
         "82",
         "21",
         "Cerveja XYZ",
         "69",
         "7.56",
         "2023-09-03"
        ],
        [
         "83",
         "5",
         "Suco Natural",
         "328",
         "7.31",
         "2023-12-30"
        ],
        [
         "84",
         "29",
         "Cerveja XYZ",
         "372",
         "12.43",
         "2024-01-20"
        ],
        [
         "85",
         "19",
         "Água Mineral",
         "177",
         "4.37",
         "2023-11-22"
        ],
        [
         "86",
         "15",
         "Vinho ABC",
         "157",
         "4.05",
         "2024-04-24"
        ],
        [
         "87",
         "18",
         "Água Mineral",
         "53",
         "8.2",
         "2024-06-06"
        ],
        [
         "88",
         "24",
         "Cerveja XYZ",
         "100",
         "12.8",
         "2023-09-20"
        ],
        [
         "89",
         "29",
         "Vinho ABC",
         "276",
         "9.57",
         "2024-06-05"
        ],
        [
         "90",
         "31",
         "Suco Natural",
         "412",
         "16.41",
         "2024-03-09"
        ],
        [
         "91",
         "14",
         "Vinho ABC",
         "74",
         "16.84",
         "2024-03-04"
        ],
        [
         "92",
         "13",
         "Cerveja XYZ",
         "242",
         "8.58",
         "2023-12-19"
        ],
        [
         "93",
         "45",
         "Vinho ABC",
         "88",
         "4.87",
         "2023-11-14"
        ],
        [
         "94",
         "3",
         "Água Mineral",
         "249",
         "7.09",
         "2024-02-04"
        ],
        [
         "95",
         "7",
         "Vinho ABC",
         "205",
         "11.64",
         "2023-08-27"
        ],
        [
         "96",
         "49",
         "Cerveja XYZ",
         "395",
         "17.46",
         "2024-02-02"
        ],
        [
         "97",
         "25",
         "Refrigerante 123",
         "34",
         "16.12",
         "2024-07-06"
        ],
        [
         "98",
         "28",
         "Suco Natural",
         "284",
         "8.15",
         "2023-12-05"
        ],
        [
         "99",
         "28",
         "Suco Natural",
         "496",
         "4.9",
         "2023-08-19"
        ],
        [
         "100",
         "50",
         "Refrigerante 123",
         "109",
         "16.5",
         "2023-11-05"
        ],
        [
         "101",
         "43",
         "Suco Natural",
         "491",
         "12.15",
         "2024-03-09"
        ],
        [
         "102",
         "20",
         "Suco Natural",
         "109",
         "14.8",
         "2023-08-21"
        ],
        [
         "103",
         "4",
         "Vinho ABC",
         "295",
         "15.44",
         "2023-09-20"
        ],
        [
         "104",
         "7",
         "Suco Natural",
         "107",
         "1.72",
         "2023-12-11"
        ],
        [
         "105",
         "48",
         "Vinho ABC",
         "301",
         "9.41",
         "2023-09-03"
        ],
        [
         "106",
         "23",
         "Refrigerante 123",
         "389",
         "11.09",
         "2024-05-18"
        ],
        [
         "107",
         "43",
         "Refrigerante 123",
         "414",
         "1.42",
         "2023-12-09"
        ],
        [
         "108",
         "4",
         "Vinho ABC",
         "307",
         "14.69",
         "2023-10-12"
        ],
        [
         "109",
         "13",
         "Suco Natural",
         "49",
         "14.61",
         "2023-08-22"
        ],
        [
         "110",
         "34",
         "Refrigerante 123",
         "392",
         "13.64",
         "2024-02-27"
        ],
        [
         "111",
         "28",
         "Água Mineral",
         "51",
         "13.69",
         "2023-12-29"
        ],
        [
         "112",
         "20",
         "Água Mineral",
         "36",
         "4.79",
         "2024-03-16"
        ],
        [
         "113",
         "37",
         "Refrigerante 123",
         "243",
         "7.08",
         "2023-11-11"
        ],
        [
         "114",
         "9",
         "Refrigerante 123",
         "350",
         "11.16",
         "2024-04-13"
        ],
        [
         "115",
         "46",
         "Suco Natural",
         "415",
         "17.37",
         "2023-11-14"
        ],
        [
         "116",
         "18",
         "Refrigerante 123",
         "89",
         "14.44",
         "2024-04-21"
        ],
        [
         "117",
         "24",
         "Água Mineral",
         "183",
         "2.99",
         "2024-06-29"
        ],
        [
         "118",
         "31",
         "Vinho ABC",
         "335",
         "17.99",
         "2024-05-02"
        ],
        [
         "119",
         "11",
         "Água Mineral",
         "337",
         "12.01",
         "2023-10-15"
        ],
        [
         "120",
         "4",
         "Vinho ABC",
         "111",
         "7.54",
         "2023-12-17"
        ],
        [
         "121",
         "39",
         "Vinho ABC",
         "444",
         "11.52",
         "2024-01-20"
        ],
        [
         "122",
         "4",
         "Água Mineral",
         "14",
         "8.67",
         "2024-05-24"
        ],
        [
         "123",
         "23",
         "Água Mineral",
         "383",
         "6.07",
         "2024-06-24"
        ],
        [
         "124",
         "16",
         "Vinho ABC",
         "380",
         "15.19",
         "2024-05-21"
        ],
        [
         "125",
         "15",
         "Água Mineral",
         "404",
         "18.28",
         "2023-11-22"
        ],
        [
         "126",
         "39",
         "Suco Natural",
         "285",
         "15.35",
         "2024-06-09"
        ],
        [
         "127",
         "5",
         "Suco Natural",
         "65",
         "17.0",
         "2024-05-31"
        ],
        [
         "128",
         "36",
         "Cerveja XYZ",
         "321",
         "17.15",
         "2024-05-07"
        ],
        [
         "129",
         "12",
         "Vinho ABC",
         "235",
         "10.74",
         "2024-05-10"
        ],
        [
         "130",
         "21",
         "Cerveja XYZ",
         "476",
         "8.2",
         "2024-03-27"
        ],
        [
         "131",
         "39",
         "Refrigerante 123",
         "23",
         "7.14",
         "2023-10-29"
        ],
        [
         "132",
         "50",
         "Água Mineral",
         "345",
         "1.98",
         "2024-02-08"
        ],
        [
         "133",
         "44",
         "Refrigerante 123",
         "174",
         "12.47",
         "2023-10-19"
        ],
        [
         "134",
         "17",
         "Vinho ABC",
         "327",
         "12.78",
         "2024-03-03"
        ],
        [
         "135",
         "40",
         "Vinho ABC",
         "213",
         "15.57",
         "2023-09-24"
        ],
        [
         "136",
         "19",
         "Refrigerante 123",
         "499",
         "6.57",
         "2024-05-24"
        ],
        [
         "137",
         "36",
         "Vinho ABC",
         "180",
         "5.32",
         "2023-08-01"
        ],
        [
         "138",
         "8",
         "Vinho ABC",
         "146",
         "1.26",
         "2024-05-28"
        ],
        [
         "139",
         "26",
         "Vinho ABC",
         "57",
         "7.28",
         "2023-10-14"
        ],
        [
         "140",
         "33",
         "Vinho ABC",
         "420",
         "18.4",
         "2024-04-09"
        ],
        [
         "141",
         "16",
         "Cerveja XYZ",
         "325",
         "18.41",
         "2024-01-14"
        ],
        [
         "142",
         "50",
         "Suco Natural",
         "302",
         "18.1",
         "2024-05-20"
        ],
        [
         "143",
         "19",
         "Vinho ABC",
         "423",
         "16.36",
         "2023-12-21"
        ],
        [
         "144",
         "18",
         "Água Mineral",
         "483",
         "19.92",
         "2023-07-31"
        ],
        [
         "145",
         "17",
         "Vinho ABC",
         "446",
         "6.86",
         "2024-03-20"
        ],
        [
         "146",
         "34",
         "Suco Natural",
         "484",
         "3.52",
         "2024-05-24"
        ],
        [
         "147",
         "14",
         "Vinho ABC",
         "288",
         "9.13",
         "2023-12-21"
        ],
        [
         "148",
         "38",
         "Cerveja XYZ",
         "238",
         "1.3",
         "2023-07-11"
        ],
        [
         "149",
         "30",
         "Refrigerante 123",
         "445",
         "9.06",
         "2024-02-05"
        ],
        [
         "150",
         "20",
         "Água Mineral",
         "292",
         "1.81",
         "2023-12-13"
        ],
        [
         "151",
         "13",
         "Vinho ABC",
         "106",
         "10.19",
         "2024-03-21"
        ],
        [
         "152",
         "15",
         "Vinho ABC",
         "329",
         "3.27",
         "2024-02-24"
        ],
        [
         "153",
         "27",
         "Água Mineral",
         "457",
         "18.48",
         "2023-10-29"
        ],
        [
         "154",
         "6",
         "Refrigerante 123",
         "481",
         "14.62",
         "2024-06-01"
        ],
        [
         "155",
         "34",
         "Cerveja XYZ",
         "122",
         "3.34",
         "2024-02-13"
        ],
        [
         "156",
         "20",
         "Refrigerante 123",
         "499",
         "7.77",
         "2023-09-01"
        ],
        [
         "157",
         "48",
         "Cerveja XYZ",
         "375",
         "13.83",
         "2023-09-01"
        ],
        [
         "158",
         "25",
         "Água Mineral",
         "275",
         "7.58",
         "2023-12-16"
        ],
        [
         "159",
         "40",
         "Cerveja XYZ",
         "78",
         "19.83",
         "2023-10-23"
        ],
        [
         "160",
         "47",
         "Suco Natural",
         "472",
         "8.2",
         "2023-11-21"
        ],
        [
         "161",
         "20",
         "Cerveja XYZ",
         "285",
         "15.67",
         "2023-11-01"
        ],
        [
         "162",
         "8",
         "Refrigerante 123",
         "112",
         "15.97",
         "2023-07-13"
        ],
        [
         "163",
         "40",
         "Água Mineral",
         "336",
         "14.82",
         "2024-04-08"
        ],
        [
         "164",
         "24",
         "Suco Natural",
         "16",
         "16.1",
         "2024-03-12"
        ],
        [
         "165",
         "19",
         "Cerveja XYZ",
         "108",
         "4.19",
         "2024-01-10"
        ],
        [
         "166",
         "30",
         "Vinho ABC",
         "346",
         "16.22",
         "2023-11-09"
        ],
        [
         "167",
         "4",
         "Cerveja XYZ",
         "196",
         "16.59",
         "2023-10-28"
        ],
        [
         "168",
         "11",
         "Água Mineral",
         "199",
         "16.53",
         "2023-12-19"
        ],
        [
         "169",
         "35",
         "Água Mineral",
         "91",
         "16.42",
         "2024-01-04"
        ],
        [
         "170",
         "30",
         "Vinho ABC",
         "228",
         "7.86",
         "2024-06-26"
        ],
        [
         "171",
         "41",
         "Cerveja XYZ",
         "484",
         "10.95",
         "2024-05-10"
        ],
        [
         "172",
         "38",
         "Vinho ABC",
         "313",
         "15.36",
         "2024-05-01"
        ],
        [
         "173",
         "24",
         "Cerveja XYZ",
         "369",
         "3.49",
         "2023-12-10"
        ],
        [
         "174",
         "29",
         "Cerveja XYZ",
         "431",
         "4.66",
         "2024-02-20"
        ],
        [
         "175",
         "23",
         "Suco Natural",
         "148",
         "9.7",
         "2023-10-19"
        ],
        [
         "176",
         "48",
         "Água Mineral",
         "69",
         "13.7",
         "2024-04-03"
        ],
        [
         "177",
         "6",
         "Água Mineral",
         "415",
         "8.55",
         "2024-07-06"
        ],
        [
         "178",
         "25",
         "Suco Natural",
         "318",
         "13.56",
         "2023-08-15"
        ],
        [
         "179",
         "13",
         "Água Mineral",
         "280",
         "8.93",
         "2023-07-23"
        ],
        [
         "180",
         "15",
         "Vinho ABC",
         "200",
         "17.31",
         "2023-08-02"
        ],
        [
         "181",
         "19",
         "Suco Natural",
         "414",
         "2.13",
         "2023-11-21"
        ],
        [
         "182",
         "38",
         "Refrigerante 123",
         "365",
         "18.55",
         "2023-09-05"
        ],
        [
         "183",
         "35",
         "Cerveja XYZ",
         "105",
         "16.39",
         "2023-11-01"
        ],
        [
         "184",
         "5",
         "Refrigerante 123",
         "127",
         "4.02",
         "2024-02-11"
        ],
        [
         "185",
         "7",
         "Água Mineral",
         "190",
         "7.1",
         "2024-04-10"
        ],
        [
         "186",
         "44",
         "Cerveja XYZ",
         "92",
         "14.17",
         "2023-12-02"
        ],
        [
         "187",
         "42",
         "Suco Natural",
         "276",
         "14.24",
         "2024-05-10"
        ],
        [
         "188",
         "23",
         "Água Mineral",
         "86",
         "11.38",
         "2024-03-11"
        ],
        [
         "189",
         "39",
         "Vinho ABC",
         "479",
         "14.05",
         "2024-04-25"
        ],
        [
         "190",
         "33",
         "Suco Natural",
         "135",
         "3.46",
         "2023-10-04"
        ],
        [
         "191",
         "4",
         "Refrigerante 123",
         "312",
         "11.35",
         "2023-07-26"
        ],
        [
         "192",
         "39",
         "Refrigerante 123",
         "380",
         "15.99",
         "2023-12-22"
        ],
        [
         "193",
         "5",
         "Suco Natural",
         "275",
         "1.79",
         "2024-05-24"
        ],
        [
         "194",
         "20",
         "Suco Natural",
         "442",
         "10.01",
         "2023-07-21"
        ],
        [
         "195",
         "47",
         "Refrigerante 123",
         "369",
         "3.56",
         "2024-01-18"
        ],
        [
         "196",
         "31",
         "Vinho ABC",
         "316",
         "14.33",
         "2023-08-16"
        ],
        [
         "197",
         "12",
         "Água Mineral",
         "239",
         "2.13",
         "2024-05-01"
        ],
        [
         "198",
         "37",
         "Água Mineral",
         "338",
         "3.53",
         "2023-07-28"
        ],
        [
         "199",
         "15",
         "Refrigerante 123",
         "440",
         "6.88",
         "2023-09-05"
        ],
        [
         "200",
         "19",
         "Cerveja XYZ",
         "416",
         "10.19",
         "2024-01-04"
        ],
        [
         "201",
         "6",
         "Suco Natural",
         "225",
         "12.89",
         "2023-09-30"
        ],
        [
         "202",
         "48",
         "Água Mineral",
         "184",
         "11.89",
         "2024-01-27"
        ],
        [
         "203",
         "7",
         "Cerveja XYZ",
         "173",
         "14.0",
         "2023-09-12"
        ],
        [
         "204",
         "37",
         "Cerveja XYZ",
         "326",
         "16.27",
         "2023-10-28"
        ],
        [
         "205",
         "19",
         "Cerveja XYZ",
         "322",
         "7.76",
         "2023-08-05"
        ],
        [
         "206",
         "31",
         "Vinho ABC",
         "369",
         "16.98",
         "2023-08-05"
        ],
        [
         "207",
         "50",
         "Água Mineral",
         "168",
         "14.84",
         "2023-09-27"
        ],
        [
         "208",
         "40",
         "Cerveja XYZ",
         "154",
         "13.72",
         "2023-12-09"
        ],
        [
         "209",
         "50",
         "Suco Natural",
         "83",
         "14.73",
         "2023-08-17"
        ],
        [
         "210",
         "35",
         "Água Mineral",
         "490",
         "2.75",
         "2024-07-10"
        ],
        [
         "211",
         "11",
         "Cerveja XYZ",
         "270",
         "12.22",
         "2024-03-12"
        ],
        [
         "212",
         "35",
         "Refrigerante 123",
         "433",
         "1.28",
         "2023-09-04"
        ],
        [
         "213",
         "45",
         "Cerveja XYZ",
         "381",
         "7.28",
         "2024-04-16"
        ],
        [
         "214",
         "47",
         "Suco Natural",
         "428",
         "3.48",
         "2023-10-20"
        ],
        [
         "215",
         "15",
         "Água Mineral",
         "92",
         "2.23",
         "2023-09-10"
        ],
        [
         "216",
         "25",
         "Água Mineral",
         "300",
         "18.13",
         "2024-05-05"
        ],
        [
         "217",
         "9",
         "Vinho ABC",
         "169",
         "17.14",
         "2024-03-19"
        ],
        [
         "218",
         "1",
         "Cerveja XYZ",
         "486",
         "13.0",
         "2023-09-29"
        ],
        [
         "219",
         "26",
         "Refrigerante 123",
         "20",
         "13.28",
         "2023-09-14"
        ],
        [
         "220",
         "39",
         "Suco Natural",
         "109",
         "4.44",
         "2024-02-09"
        ],
        [
         "221",
         "24",
         "Suco Natural",
         "487",
         "8.06",
         "2024-05-11"
        ],
        [
         "222",
         "10",
         "Vinho ABC",
         "44",
         "18.87",
         "2024-06-08"
        ],
        [
         "223",
         "23",
         "Refrigerante 123",
         "419",
         "10.66",
         "2024-03-16"
        ],
        [
         "224",
         "29",
         "Água Mineral",
         "106",
         "4.73",
         "2024-05-17"
        ],
        [
         "225",
         "10",
         "Refrigerante 123",
         "207",
         "9.82",
         "2023-12-17"
        ],
        [
         "226",
         "29",
         "Cerveja XYZ",
         "422",
         "17.35",
         "2023-09-02"
        ],
        [
         "227",
         "15",
         "Vinho ABC",
         "194",
         "14.54",
         "2024-05-12"
        ],
        [
         "228",
         "27",
         "Vinho ABC",
         "484",
         "16.74",
         "2023-08-11"
        ],
        [
         "229",
         "21",
         "Refrigerante 123",
         "45",
         "7.68",
         "2024-04-10"
        ],
        [
         "230",
         "41",
         "Cerveja XYZ",
         "290",
         "6.24",
         "2024-06-11"
        ],
        [
         "231",
         "9",
         "Água Mineral",
         "376",
         "3.62",
         "2024-01-02"
        ],
        [
         "232",
         "24",
         "Cerveja XYZ",
         "258",
         "17.3",
         "2023-12-17"
        ],
        [
         "233",
         "20",
         "Refrigerante 123",
         "472",
         "11.22",
         "2024-07-01"
        ],
        [
         "234",
         "28",
         "Cerveja XYZ",
         "227",
         "2.72",
         "2024-06-15"
        ],
        [
         "235",
         "3",
         "Água Mineral",
         "282",
         "3.59",
         "2024-07-02"
        ],
        [
         "236",
         "46",
         "Refrigerante 123",
         "180",
         "8.48",
         "2024-04-03"
        ],
        [
         "237",
         "2",
         "Água Mineral",
         "237",
         "15.06",
         "2024-04-30"
        ],
        [
         "238",
         "49",
         "Cerveja XYZ",
         "48",
         "1.92",
         "2024-01-17"
        ],
        [
         "239",
         "43",
         "Suco Natural",
         "265",
         "7.74",
         "2024-06-26"
        ],
        [
         "240",
         "41",
         "Suco Natural",
         "485",
         "12.22",
         "2023-10-11"
        ],
        [
         "241",
         "50",
         "Suco Natural",
         "488",
         "6.81",
         "2023-12-08"
        ],
        [
         "242",
         "39",
         "Vinho ABC",
         "345",
         "12.48",
         "2024-04-04"
        ],
        [
         "243",
         "23",
         "Água Mineral",
         "337",
         "18.82",
         "2024-04-22"
        ],
        [
         "244",
         "31",
         "Água Mineral",
         "280",
         "6.08",
         "2024-02-28"
        ],
        [
         "245",
         "27",
         "Cerveja XYZ",
         "418",
         "12.66",
         "2024-01-31"
        ],
        [
         "246",
         "1",
         "Suco Natural",
         "468",
         "4.25",
         "2023-11-27"
        ],
        [
         "247",
         "41",
         "Suco Natural",
         "26",
         "7.5",
         "2024-04-18"
        ],
        [
         "248",
         "44",
         "Água Mineral",
         "326",
         "13.45",
         "2023-08-10"
        ],
        [
         "249",
         "12",
         "Refrigerante 123",
         "81",
         "12.84",
         "2023-12-20"
        ],
        [
         "250",
         "32",
         "Água Mineral",
         "327",
         "11.68",
         "2023-08-29"
        ]
       ],
       "datasetInfos": [],
       "dbfsResultPath": null,
       "isJsonSchema": true,
       "metadata": {},
       "overflow": false,
       "plotOptions": {
        "customPlotOptions": {},
        "displayType": "table",
        "pivotAggregation": null,
        "pivotColumns": null,
        "xColumns": null,
        "yColumns": null
       },
       "removedWidgets": [],
       "schema": [
        {
         "metadata": "{}",
         "name": "PedidoID",
         "type": "\"string\""
        },
        {
         "metadata": "{}",
         "name": "EstabelecimentoID",
         "type": "\"string\""
        },
        {
         "metadata": "{}",
         "name": "Produto",
         "type": "\"string\""
        },
        {
         "metadata": "{}",
         "name": "quantidade_vendida",
         "type": "\"string\""
        },
        {
         "metadata": "{}",
         "name": "Preco_Unitario",
         "type": "\"string\""
        },
        {
         "metadata": "{}",
         "name": "data_venda",
         "type": "\"string\""
        }
       ],
       "type": "table"
      }
     },
     "output_type": "display_data"
    }
   ],
   "source": [
    "df = spark.read.format(\"csv\").option(\"header\", True).load(caminho_arquivo)\n",
    "df.display()"
   ]
  },
  {
   "cell_type": "code",
   "execution_count": 0,
   "metadata": {
    "application/vnd.databricks.v1+cell": {
     "cellMetadata": {
      "byteLimit": 2048000,
      "rowLimit": 10000
     },
     "inputWidgets": {},
     "nuid": "c8083865-a185-4930-9517-939e52301b39",
     "showTitle": false,
     "title": ""
    }
   },
   "outputs": [],
   "source": [
    "#Incluir coluna de controle\n",
    "df = df.withColumn(\"data_carga\", current_date())\n",
    "df = df.withColumn(\"data_hora_carga\", expr(\"current_timestamp() - INTERVAL 3 HOURS\"))"
   ]
  },
  {
   "cell_type": "code",
   "execution_count": 0,
   "metadata": {
    "application/vnd.databricks.v1+cell": {
     "cellMetadata": {
      "byteLimit": 2048000,
      "rowLimit": 10000
     },
     "inputWidgets": {},
     "nuid": "bc44dc5e-5b8e-4025-8143-c477b8b530d3",
     "showTitle": false,
     "title": ""
    }
   },
   "outputs": [
    {
     "output_type": "display_data",
     "data": {
      "text/html": [
       "<style scoped>\n",
       "  .table-result-container {\n",
       "    max-height: 300px;\n",
       "    overflow: auto;\n",
       "  }\n",
       "  table, th, td {\n",
       "    border: 1px solid black;\n",
       "    border-collapse: collapse;\n",
       "  }\n",
       "  th, td {\n",
       "    padding: 5px;\n",
       "  }\n",
       "  th {\n",
       "    text-align: left;\n",
       "  }\n",
       "</style><div class='table-result-container'><table class='table-result'><thead style='background-color: white'><tr><th>PedidoID</th><th>EstabelecimentoID</th><th>Produto</th><th>quantidade_vendida</th><th>Preco_Unitario</th><th>data_venda</th><th>data_carga</th><th>data_hora_carga</th></tr></thead><tbody><tr><td>1</td><td>50</td><td>Suco Natural</td><td>440</td><td>11.11</td><td>2023-07-22</td><td>2024-10-06</td><td>2024-10-06T18:00:16.354Z</td></tr><tr><td>2</td><td>12</td><td>Refrigerante 123</td><td>278</td><td>15.45</td><td>2024-07-06</td><td>2024-10-06</td><td>2024-10-06T18:00:16.354Z</td></tr><tr><td>3</td><td>16</td><td>Água Mineral</td><td>178</td><td>4.26</td><td>2023-08-09</td><td>2024-10-06</td><td>2024-10-06T18:00:16.354Z</td></tr><tr><td>4</td><td>42</td><td>Cerveja XYZ</td><td>38</td><td>11.65</td><td>2024-04-17</td><td>2024-10-06</td><td>2024-10-06T18:00:16.354Z</td></tr><tr><td>5</td><td>28</td><td>Refrigerante 123</td><td>94</td><td>9.39</td><td>2024-03-14</td><td>2024-10-06</td><td>2024-10-06T18:00:16.354Z</td></tr><tr><td>6</td><td>22</td><td>Suco Natural</td><td>108</td><td>8.04</td><td>2024-03-30</td><td>2024-10-06</td><td>2024-10-06T18:00:16.354Z</td></tr><tr><td>7</td><td>37</td><td>Cerveja XYZ</td><td>194</td><td>12.99</td><td>2024-03-27</td><td>2024-10-06</td><td>2024-10-06T18:00:16.354Z</td></tr><tr><td>8</td><td>28</td><td>Vinho ABC</td><td>349</td><td>1.26</td><td>2023-11-11</td><td>2024-10-06</td><td>2024-10-06T18:00:16.354Z</td></tr><tr><td>9</td><td>15</td><td>Suco Natural</td><td>62</td><td>6.25</td><td>2024-01-20</td><td>2024-10-06</td><td>2024-10-06T18:00:16.354Z</td></tr><tr><td>10</td><td>19</td><td>Vinho ABC</td><td>297</td><td>18.37</td><td>2024-05-07</td><td>2024-10-06</td><td>2024-10-06T18:00:16.354Z</td></tr><tr><td>11</td><td>2</td><td>Vinho ABC</td><td>253</td><td>6.37</td><td>2023-09-06</td><td>2024-10-06</td><td>2024-10-06T18:00:16.354Z</td></tr><tr><td>12</td><td>48</td><td>Cerveja XYZ</td><td>31</td><td>16.43</td><td>2023-12-08</td><td>2024-10-06</td><td>2024-10-06T18:00:16.354Z</td></tr><tr><td>13</td><td>29</td><td>Cerveja XYZ</td><td>263</td><td>7.91</td><td>2024-04-12</td><td>2024-10-06</td><td>2024-10-06T18:00:16.354Z</td></tr><tr><td>14</td><td>32</td><td>Cerveja XYZ</td><td>215</td><td>15.64</td><td>2023-12-29</td><td>2024-10-06</td><td>2024-10-06T18:00:16.354Z</td></tr><tr><td>15</td><td>10</td><td>Cerveja XYZ</td><td>88</td><td>6.43</td><td>2023-11-25</td><td>2024-10-06</td><td>2024-10-06T18:00:16.354Z</td></tr><tr><td>16</td><td>18</td><td>Cerveja XYZ</td><td>292</td><td>12.31</td><td>2024-05-16</td><td>2024-10-06</td><td>2024-10-06T18:00:16.354Z</td></tr><tr><td>17</td><td>7</td><td>Refrigerante 123</td><td>393</td><td>10.29</td><td>2023-12-23</td><td>2024-10-06</td><td>2024-10-06T18:00:16.354Z</td></tr><tr><td>18</td><td>48</td><td>Refrigerante 123</td><td>184</td><td>15.33</td><td>2023-08-26</td><td>2024-10-06</td><td>2024-10-06T18:00:16.354Z</td></tr><tr><td>19</td><td>7</td><td>Refrigerante 123</td><td>314</td><td>19.87</td><td>2024-02-18</td><td>2024-10-06</td><td>2024-10-06T18:00:16.354Z</td></tr><tr><td>20</td><td>18</td><td>Refrigerante 123</td><td>111</td><td>11.06</td><td>2024-07-10</td><td>2024-10-06</td><td>2024-10-06T18:00:16.354Z</td></tr><tr><td>21</td><td>18</td><td>Refrigerante 123</td><td>73</td><td>5.66</td><td>2024-06-04</td><td>2024-10-06</td><td>2024-10-06T18:00:16.354Z</td></tr><tr><td>22</td><td>30</td><td>Cerveja XYZ</td><td>385</td><td>2.1</td><td>2024-01-13</td><td>2024-10-06</td><td>2024-10-06T18:00:16.354Z</td></tr><tr><td>23</td><td>27</td><td>Cerveja XYZ</td><td>366</td><td>10.83</td><td>2024-04-13</td><td>2024-10-06</td><td>2024-10-06T18:00:16.354Z</td></tr><tr><td>24</td><td>9</td><td>Água Mineral</td><td>99</td><td>7.22</td><td>2024-02-03</td><td>2024-10-06</td><td>2024-10-06T18:00:16.354Z</td></tr><tr><td>25</td><td>49</td><td>Água Mineral</td><td>301</td><td>6.48</td><td>2024-02-25</td><td>2024-10-06</td><td>2024-10-06T18:00:16.354Z</td></tr><tr><td>26</td><td>49</td><td>Cerveja XYZ</td><td>191</td><td>5.93</td><td>2023-09-11</td><td>2024-10-06</td><td>2024-10-06T18:00:16.354Z</td></tr><tr><td>27</td><td>14</td><td>Vinho ABC</td><td>182</td><td>18.15</td><td>2023-08-26</td><td>2024-10-06</td><td>2024-10-06T18:00:16.354Z</td></tr><tr><td>28</td><td>26</td><td>Cerveja XYZ</td><td>386</td><td>9.45</td><td>2024-07-03</td><td>2024-10-06</td><td>2024-10-06T18:00:16.354Z</td></tr><tr><td>29</td><td>43</td><td>Vinho ABC</td><td>170</td><td>6.27</td><td>2024-02-27</td><td>2024-10-06</td><td>2024-10-06T18:00:16.354Z</td></tr><tr><td>30</td><td>4</td><td>Água Mineral</td><td>159</td><td>11.59</td><td>2023-07-29</td><td>2024-10-06</td><td>2024-10-06T18:00:16.354Z</td></tr><tr><td>31</td><td>2</td><td>Suco Natural</td><td>439</td><td>10.89</td><td>2023-11-10</td><td>2024-10-06</td><td>2024-10-06T18:00:16.354Z</td></tr><tr><td>32</td><td>23</td><td>Cerveja XYZ</td><td>125</td><td>3.53</td><td>2023-11-11</td><td>2024-10-06</td><td>2024-10-06T18:00:16.354Z</td></tr><tr><td>33</td><td>10</td><td>Vinho ABC</td><td>20</td><td>1.9</td><td>2023-12-14</td><td>2024-10-06</td><td>2024-10-06T18:00:16.354Z</td></tr><tr><td>34</td><td>4</td><td>Suco Natural</td><td>297</td><td>11.8</td><td>2024-06-02</td><td>2024-10-06</td><td>2024-10-06T18:00:16.354Z</td></tr><tr><td>35</td><td>6</td><td>Cerveja XYZ</td><td>130</td><td>1.94</td><td>2023-12-03</td><td>2024-10-06</td><td>2024-10-06T18:00:16.354Z</td></tr><tr><td>36</td><td>28</td><td>Refrigerante 123</td><td>402</td><td>19.4</td><td>2024-06-27</td><td>2024-10-06</td><td>2024-10-06T18:00:16.354Z</td></tr><tr><td>37</td><td>20</td><td>Suco Natural</td><td>331</td><td>8.44</td><td>2024-01-14</td><td>2024-10-06</td><td>2024-10-06T18:00:16.354Z</td></tr><tr><td>38</td><td>21</td><td>Vinho ABC</td><td>256</td><td>16.6</td><td>2023-09-26</td><td>2024-10-06</td><td>2024-10-06T18:00:16.354Z</td></tr><tr><td>39</td><td>15</td><td>Cerveja XYZ</td><td>315</td><td>16.31</td><td>2024-01-14</td><td>2024-10-06</td><td>2024-10-06T18:00:16.354Z</td></tr><tr><td>40</td><td>18</td><td>Vinho ABC</td><td>411</td><td>8.45</td><td>2023-09-16</td><td>2024-10-06</td><td>2024-10-06T18:00:16.354Z</td></tr><tr><td>41</td><td>30</td><td>Suco Natural</td><td>306</td><td>12.93</td><td>2024-01-18</td><td>2024-10-06</td><td>2024-10-06T18:00:16.354Z</td></tr><tr><td>42</td><td>14</td><td>Vinho ABC</td><td>386</td><td>8.89</td><td>2023-11-30</td><td>2024-10-06</td><td>2024-10-06T18:00:16.354Z</td></tr><tr><td>43</td><td>33</td><td>Vinho ABC</td><td>250</td><td>15.51</td><td>2023-07-14</td><td>2024-10-06</td><td>2024-10-06T18:00:16.354Z</td></tr><tr><td>44</td><td>15</td><td>Refrigerante 123</td><td>390</td><td>18.11</td><td>2024-01-29</td><td>2024-10-06</td><td>2024-10-06T18:00:16.354Z</td></tr><tr><td>45</td><td>41</td><td>Cerveja XYZ</td><td>294</td><td>10.21</td><td>2023-08-16</td><td>2024-10-06</td><td>2024-10-06T18:00:16.354Z</td></tr><tr><td>46</td><td>10</td><td>Água Mineral</td><td>392</td><td>8.26</td><td>2023-11-10</td><td>2024-10-06</td><td>2024-10-06T18:00:16.354Z</td></tr><tr><td>47</td><td>47</td><td>Refrigerante 123</td><td>473</td><td>12.57</td><td>2024-03-27</td><td>2024-10-06</td><td>2024-10-06T18:00:16.354Z</td></tr><tr><td>48</td><td>9</td><td>Cerveja XYZ</td><td>44</td><td>19.92</td><td>2024-03-15</td><td>2024-10-06</td><td>2024-10-06T18:00:16.354Z</td></tr><tr><td>49</td><td>1</td><td>Água Mineral</td><td>30</td><td>19.49</td><td>2024-01-20</td><td>2024-10-06</td><td>2024-10-06T18:00:16.354Z</td></tr><tr><td>50</td><td>46</td><td>Vinho ABC</td><td>277</td><td>15.81</td><td>2024-04-10</td><td>2024-10-06</td><td>2024-10-06T18:00:16.354Z</td></tr><tr><td>51</td><td>45</td><td>Suco Natural</td><td>98</td><td>3.33</td><td>2023-09-29</td><td>2024-10-06</td><td>2024-10-06T18:00:16.354Z</td></tr><tr><td>52</td><td>4</td><td>Vinho ABC</td><td>144</td><td>5.94</td><td>2024-04-02</td><td>2024-10-06</td><td>2024-10-06T18:00:16.354Z</td></tr><tr><td>53</td><td>24</td><td>Refrigerante 123</td><td>480</td><td>12.53</td><td>2024-02-09</td><td>2024-10-06</td><td>2024-10-06T18:00:16.354Z</td></tr><tr><td>54</td><td>29</td><td>Vinho ABC</td><td>266</td><td>1.34</td><td>2024-06-30</td><td>2024-10-06</td><td>2024-10-06T18:00:16.354Z</td></tr><tr><td>55</td><td>9</td><td>Vinho ABC</td><td>482</td><td>14.78</td><td>2023-11-22</td><td>2024-10-06</td><td>2024-10-06T18:00:16.354Z</td></tr><tr><td>56</td><td>2</td><td>Cerveja XYZ</td><td>448</td><td>10.91</td><td>2023-08-16</td><td>2024-10-06</td><td>2024-10-06T18:00:16.354Z</td></tr><tr><td>57</td><td>27</td><td>Cerveja XYZ</td><td>463</td><td>14.77</td><td>2024-05-26</td><td>2024-10-06</td><td>2024-10-06T18:00:16.354Z</td></tr><tr><td>58</td><td>17</td><td>Refrigerante 123</td><td>446</td><td>9.45</td><td>2024-02-28</td><td>2024-10-06</td><td>2024-10-06T18:00:16.354Z</td></tr><tr><td>59</td><td>26</td><td>Vinho ABC</td><td>198</td><td>6.52</td><td>2024-05-31</td><td>2024-10-06</td><td>2024-10-06T18:00:16.354Z</td></tr><tr><td>60</td><td>25</td><td>Vinho ABC</td><td>61</td><td>14.53</td><td>2024-05-21</td><td>2024-10-06</td><td>2024-10-06T18:00:16.354Z</td></tr><tr><td>61</td><td>22</td><td>Suco Natural</td><td>289</td><td>19.99</td><td>2024-03-16</td><td>2024-10-06</td><td>2024-10-06T18:00:16.354Z</td></tr><tr><td>62</td><td>9</td><td>Suco Natural</td><td>405</td><td>15.03</td><td>2023-10-19</td><td>2024-10-06</td><td>2024-10-06T18:00:16.354Z</td></tr><tr><td>63</td><td>34</td><td>Cerveja XYZ</td><td>186</td><td>3.87</td><td>2024-04-07</td><td>2024-10-06</td><td>2024-10-06T18:00:16.354Z</td></tr><tr><td>64</td><td>50</td><td>Água Mineral</td><td>19</td><td>10.02</td><td>2024-07-04</td><td>2024-10-06</td><td>2024-10-06T18:00:16.354Z</td></tr><tr><td>65</td><td>36</td><td>Água Mineral</td><td>220</td><td>11.01</td><td>2024-01-08</td><td>2024-10-06</td><td>2024-10-06T18:00:16.354Z</td></tr><tr><td>66</td><td>9</td><td>Vinho ABC</td><td>73</td><td>6.53</td><td>2024-07-09</td><td>2024-10-06</td><td>2024-10-06T18:00:16.354Z</td></tr><tr><td>67</td><td>4</td><td>Água Mineral</td><td>212</td><td>12.72</td><td>2024-05-03</td><td>2024-10-06</td><td>2024-10-06T18:00:16.354Z</td></tr><tr><td>68</td><td>40</td><td>Água Mineral</td><td>498</td><td>16.05</td><td>2023-09-15</td><td>2024-10-06</td><td>2024-10-06T18:00:16.354Z</td></tr><tr><td>69</td><td>25</td><td>Água Mineral</td><td>23</td><td>5.71</td><td>2023-08-16</td><td>2024-10-06</td><td>2024-10-06T18:00:16.354Z</td></tr><tr><td>70</td><td>48</td><td>Água Mineral</td><td>360</td><td>13.53</td><td>2024-02-05</td><td>2024-10-06</td><td>2024-10-06T18:00:16.354Z</td></tr><tr><td>71</td><td>2</td><td>Vinho ABC</td><td>96</td><td>3.7</td><td>2023-12-20</td><td>2024-10-06</td><td>2024-10-06T18:00:16.354Z</td></tr><tr><td>72</td><td>6</td><td>Suco Natural</td><td>316</td><td>14.96</td><td>2024-02-03</td><td>2024-10-06</td><td>2024-10-06T18:00:16.354Z</td></tr><tr><td>73</td><td>3</td><td>Vinho ABC</td><td>390</td><td>6.09</td><td>2024-05-01</td><td>2024-10-06</td><td>2024-10-06T18:00:16.354Z</td></tr><tr><td>74</td><td>36</td><td>Cerveja XYZ</td><td>461</td><td>18.79</td><td>2023-09-09</td><td>2024-10-06</td><td>2024-10-06T18:00:16.354Z</td></tr><tr><td>75</td><td>21</td><td>Cerveja XYZ</td><td>433</td><td>1.84</td><td>2024-04-19</td><td>2024-10-06</td><td>2024-10-06T18:00:16.354Z</td></tr><tr><td>76</td><td>4</td><td>Cerveja XYZ</td><td>314</td><td>13.39</td><td>2024-02-29</td><td>2024-10-06</td><td>2024-10-06T18:00:16.354Z</td></tr><tr><td>77</td><td>28</td><td>Suco Natural</td><td>113</td><td>3.41</td><td>2024-03-14</td><td>2024-10-06</td><td>2024-10-06T18:00:16.354Z</td></tr><tr><td>78</td><td>20</td><td>Água Mineral</td><td>212</td><td>12.08</td><td>2023-12-24</td><td>2024-10-06</td><td>2024-10-06T18:00:16.354Z</td></tr><tr><td>79</td><td>31</td><td>Água Mineral</td><td>190</td><td>11.35</td><td>2023-08-02</td><td>2024-10-06</td><td>2024-10-06T18:00:16.354Z</td></tr><tr><td>80</td><td>15</td><td>Água Mineral</td><td>494</td><td>18.05</td><td>2023-11-11</td><td>2024-10-06</td><td>2024-10-06T18:00:16.354Z</td></tr><tr><td>81</td><td>23</td><td>Suco Natural</td><td>340</td><td>5.15</td><td>2024-03-14</td><td>2024-10-06</td><td>2024-10-06T18:00:16.354Z</td></tr><tr><td>82</td><td>21</td><td>Cerveja XYZ</td><td>69</td><td>7.56</td><td>2023-09-03</td><td>2024-10-06</td><td>2024-10-06T18:00:16.354Z</td></tr><tr><td>83</td><td>5</td><td>Suco Natural</td><td>328</td><td>7.31</td><td>2023-12-30</td><td>2024-10-06</td><td>2024-10-06T18:00:16.354Z</td></tr><tr><td>84</td><td>29</td><td>Cerveja XYZ</td><td>372</td><td>12.43</td><td>2024-01-20</td><td>2024-10-06</td><td>2024-10-06T18:00:16.354Z</td></tr><tr><td>85</td><td>19</td><td>Água Mineral</td><td>177</td><td>4.37</td><td>2023-11-22</td><td>2024-10-06</td><td>2024-10-06T18:00:16.354Z</td></tr><tr><td>86</td><td>15</td><td>Vinho ABC</td><td>157</td><td>4.05</td><td>2024-04-24</td><td>2024-10-06</td><td>2024-10-06T18:00:16.354Z</td></tr><tr><td>87</td><td>18</td><td>Água Mineral</td><td>53</td><td>8.2</td><td>2024-06-06</td><td>2024-10-06</td><td>2024-10-06T18:00:16.354Z</td></tr><tr><td>88</td><td>24</td><td>Cerveja XYZ</td><td>100</td><td>12.8</td><td>2023-09-20</td><td>2024-10-06</td><td>2024-10-06T18:00:16.354Z</td></tr><tr><td>89</td><td>29</td><td>Vinho ABC</td><td>276</td><td>9.57</td><td>2024-06-05</td><td>2024-10-06</td><td>2024-10-06T18:00:16.354Z</td></tr><tr><td>90</td><td>31</td><td>Suco Natural</td><td>412</td><td>16.41</td><td>2024-03-09</td><td>2024-10-06</td><td>2024-10-06T18:00:16.354Z</td></tr><tr><td>91</td><td>14</td><td>Vinho ABC</td><td>74</td><td>16.84</td><td>2024-03-04</td><td>2024-10-06</td><td>2024-10-06T18:00:16.354Z</td></tr><tr><td>92</td><td>13</td><td>Cerveja XYZ</td><td>242</td><td>8.58</td><td>2023-12-19</td><td>2024-10-06</td><td>2024-10-06T18:00:16.354Z</td></tr><tr><td>93</td><td>45</td><td>Vinho ABC</td><td>88</td><td>4.87</td><td>2023-11-14</td><td>2024-10-06</td><td>2024-10-06T18:00:16.354Z</td></tr><tr><td>94</td><td>3</td><td>Água Mineral</td><td>249</td><td>7.09</td><td>2024-02-04</td><td>2024-10-06</td><td>2024-10-06T18:00:16.354Z</td></tr><tr><td>95</td><td>7</td><td>Vinho ABC</td><td>205</td><td>11.64</td><td>2023-08-27</td><td>2024-10-06</td><td>2024-10-06T18:00:16.354Z</td></tr><tr><td>96</td><td>49</td><td>Cerveja XYZ</td><td>395</td><td>17.46</td><td>2024-02-02</td><td>2024-10-06</td><td>2024-10-06T18:00:16.354Z</td></tr><tr><td>97</td><td>25</td><td>Refrigerante 123</td><td>34</td><td>16.12</td><td>2024-07-06</td><td>2024-10-06</td><td>2024-10-06T18:00:16.354Z</td></tr><tr><td>98</td><td>28</td><td>Suco Natural</td><td>284</td><td>8.15</td><td>2023-12-05</td><td>2024-10-06</td><td>2024-10-06T18:00:16.354Z</td></tr><tr><td>99</td><td>28</td><td>Suco Natural</td><td>496</td><td>4.9</td><td>2023-08-19</td><td>2024-10-06</td><td>2024-10-06T18:00:16.354Z</td></tr><tr><td>100</td><td>50</td><td>Refrigerante 123</td><td>109</td><td>16.5</td><td>2023-11-05</td><td>2024-10-06</td><td>2024-10-06T18:00:16.354Z</td></tr><tr><td>101</td><td>43</td><td>Suco Natural</td><td>491</td><td>12.15</td><td>2024-03-09</td><td>2024-10-06</td><td>2024-10-06T18:00:16.354Z</td></tr><tr><td>102</td><td>20</td><td>Suco Natural</td><td>109</td><td>14.8</td><td>2023-08-21</td><td>2024-10-06</td><td>2024-10-06T18:00:16.354Z</td></tr><tr><td>103</td><td>4</td><td>Vinho ABC</td><td>295</td><td>15.44</td><td>2023-09-20</td><td>2024-10-06</td><td>2024-10-06T18:00:16.354Z</td></tr><tr><td>104</td><td>7</td><td>Suco Natural</td><td>107</td><td>1.72</td><td>2023-12-11</td><td>2024-10-06</td><td>2024-10-06T18:00:16.354Z</td></tr><tr><td>105</td><td>48</td><td>Vinho ABC</td><td>301</td><td>9.41</td><td>2023-09-03</td><td>2024-10-06</td><td>2024-10-06T18:00:16.354Z</td></tr><tr><td>106</td><td>23</td><td>Refrigerante 123</td><td>389</td><td>11.09</td><td>2024-05-18</td><td>2024-10-06</td><td>2024-10-06T18:00:16.354Z</td></tr><tr><td>107</td><td>43</td><td>Refrigerante 123</td><td>414</td><td>1.42</td><td>2023-12-09</td><td>2024-10-06</td><td>2024-10-06T18:00:16.354Z</td></tr><tr><td>108</td><td>4</td><td>Vinho ABC</td><td>307</td><td>14.69</td><td>2023-10-12</td><td>2024-10-06</td><td>2024-10-06T18:00:16.354Z</td></tr><tr><td>109</td><td>13</td><td>Suco Natural</td><td>49</td><td>14.61</td><td>2023-08-22</td><td>2024-10-06</td><td>2024-10-06T18:00:16.354Z</td></tr><tr><td>110</td><td>34</td><td>Refrigerante 123</td><td>392</td><td>13.64</td><td>2024-02-27</td><td>2024-10-06</td><td>2024-10-06T18:00:16.354Z</td></tr><tr><td>111</td><td>28</td><td>Água Mineral</td><td>51</td><td>13.69</td><td>2023-12-29</td><td>2024-10-06</td><td>2024-10-06T18:00:16.354Z</td></tr><tr><td>112</td><td>20</td><td>Água Mineral</td><td>36</td><td>4.79</td><td>2024-03-16</td><td>2024-10-06</td><td>2024-10-06T18:00:16.354Z</td></tr><tr><td>113</td><td>37</td><td>Refrigerante 123</td><td>243</td><td>7.08</td><td>2023-11-11</td><td>2024-10-06</td><td>2024-10-06T18:00:16.354Z</td></tr><tr><td>114</td><td>9</td><td>Refrigerante 123</td><td>350</td><td>11.16</td><td>2024-04-13</td><td>2024-10-06</td><td>2024-10-06T18:00:16.354Z</td></tr><tr><td>115</td><td>46</td><td>Suco Natural</td><td>415</td><td>17.37</td><td>2023-11-14</td><td>2024-10-06</td><td>2024-10-06T18:00:16.354Z</td></tr><tr><td>116</td><td>18</td><td>Refrigerante 123</td><td>89</td><td>14.44</td><td>2024-04-21</td><td>2024-10-06</td><td>2024-10-06T18:00:16.354Z</td></tr><tr><td>117</td><td>24</td><td>Água Mineral</td><td>183</td><td>2.99</td><td>2024-06-29</td><td>2024-10-06</td><td>2024-10-06T18:00:16.354Z</td></tr><tr><td>118</td><td>31</td><td>Vinho ABC</td><td>335</td><td>17.99</td><td>2024-05-02</td><td>2024-10-06</td><td>2024-10-06T18:00:16.354Z</td></tr><tr><td>119</td><td>11</td><td>Água Mineral</td><td>337</td><td>12.01</td><td>2023-10-15</td><td>2024-10-06</td><td>2024-10-06T18:00:16.354Z</td></tr><tr><td>120</td><td>4</td><td>Vinho ABC</td><td>111</td><td>7.54</td><td>2023-12-17</td><td>2024-10-06</td><td>2024-10-06T18:00:16.354Z</td></tr><tr><td>121</td><td>39</td><td>Vinho ABC</td><td>444</td><td>11.52</td><td>2024-01-20</td><td>2024-10-06</td><td>2024-10-06T18:00:16.354Z</td></tr><tr><td>122</td><td>4</td><td>Água Mineral</td><td>14</td><td>8.67</td><td>2024-05-24</td><td>2024-10-06</td><td>2024-10-06T18:00:16.354Z</td></tr><tr><td>123</td><td>23</td><td>Água Mineral</td><td>383</td><td>6.07</td><td>2024-06-24</td><td>2024-10-06</td><td>2024-10-06T18:00:16.354Z</td></tr><tr><td>124</td><td>16</td><td>Vinho ABC</td><td>380</td><td>15.19</td><td>2024-05-21</td><td>2024-10-06</td><td>2024-10-06T18:00:16.354Z</td></tr><tr><td>125</td><td>15</td><td>Água Mineral</td><td>404</td><td>18.28</td><td>2023-11-22</td><td>2024-10-06</td><td>2024-10-06T18:00:16.354Z</td></tr><tr><td>126</td><td>39</td><td>Suco Natural</td><td>285</td><td>15.35</td><td>2024-06-09</td><td>2024-10-06</td><td>2024-10-06T18:00:16.354Z</td></tr><tr><td>127</td><td>5</td><td>Suco Natural</td><td>65</td><td>17.0</td><td>2024-05-31</td><td>2024-10-06</td><td>2024-10-06T18:00:16.354Z</td></tr><tr><td>128</td><td>36</td><td>Cerveja XYZ</td><td>321</td><td>17.15</td><td>2024-05-07</td><td>2024-10-06</td><td>2024-10-06T18:00:16.354Z</td></tr><tr><td>129</td><td>12</td><td>Vinho ABC</td><td>235</td><td>10.74</td><td>2024-05-10</td><td>2024-10-06</td><td>2024-10-06T18:00:16.354Z</td></tr><tr><td>130</td><td>21</td><td>Cerveja XYZ</td><td>476</td><td>8.2</td><td>2024-03-27</td><td>2024-10-06</td><td>2024-10-06T18:00:16.354Z</td></tr><tr><td>131</td><td>39</td><td>Refrigerante 123</td><td>23</td><td>7.14</td><td>2023-10-29</td><td>2024-10-06</td><td>2024-10-06T18:00:16.354Z</td></tr><tr><td>132</td><td>50</td><td>Água Mineral</td><td>345</td><td>1.98</td><td>2024-02-08</td><td>2024-10-06</td><td>2024-10-06T18:00:16.354Z</td></tr><tr><td>133</td><td>44</td><td>Refrigerante 123</td><td>174</td><td>12.47</td><td>2023-10-19</td><td>2024-10-06</td><td>2024-10-06T18:00:16.354Z</td></tr><tr><td>134</td><td>17</td><td>Vinho ABC</td><td>327</td><td>12.78</td><td>2024-03-03</td><td>2024-10-06</td><td>2024-10-06T18:00:16.354Z</td></tr><tr><td>135</td><td>40</td><td>Vinho ABC</td><td>213</td><td>15.57</td><td>2023-09-24</td><td>2024-10-06</td><td>2024-10-06T18:00:16.354Z</td></tr><tr><td>136</td><td>19</td><td>Refrigerante 123</td><td>499</td><td>6.57</td><td>2024-05-24</td><td>2024-10-06</td><td>2024-10-06T18:00:16.354Z</td></tr><tr><td>137</td><td>36</td><td>Vinho ABC</td><td>180</td><td>5.32</td><td>2023-08-01</td><td>2024-10-06</td><td>2024-10-06T18:00:16.354Z</td></tr><tr><td>138</td><td>8</td><td>Vinho ABC</td><td>146</td><td>1.26</td><td>2024-05-28</td><td>2024-10-06</td><td>2024-10-06T18:00:16.354Z</td></tr><tr><td>139</td><td>26</td><td>Vinho ABC</td><td>57</td><td>7.28</td><td>2023-10-14</td><td>2024-10-06</td><td>2024-10-06T18:00:16.354Z</td></tr><tr><td>140</td><td>33</td><td>Vinho ABC</td><td>420</td><td>18.4</td><td>2024-04-09</td><td>2024-10-06</td><td>2024-10-06T18:00:16.354Z</td></tr><tr><td>141</td><td>16</td><td>Cerveja XYZ</td><td>325</td><td>18.41</td><td>2024-01-14</td><td>2024-10-06</td><td>2024-10-06T18:00:16.354Z</td></tr><tr><td>142</td><td>50</td><td>Suco Natural</td><td>302</td><td>18.1</td><td>2024-05-20</td><td>2024-10-06</td><td>2024-10-06T18:00:16.354Z</td></tr><tr><td>143</td><td>19</td><td>Vinho ABC</td><td>423</td><td>16.36</td><td>2023-12-21</td><td>2024-10-06</td><td>2024-10-06T18:00:16.354Z</td></tr><tr><td>144</td><td>18</td><td>Água Mineral</td><td>483</td><td>19.92</td><td>2023-07-31</td><td>2024-10-06</td><td>2024-10-06T18:00:16.354Z</td></tr><tr><td>145</td><td>17</td><td>Vinho ABC</td><td>446</td><td>6.86</td><td>2024-03-20</td><td>2024-10-06</td><td>2024-10-06T18:00:16.354Z</td></tr><tr><td>146</td><td>34</td><td>Suco Natural</td><td>484</td><td>3.52</td><td>2024-05-24</td><td>2024-10-06</td><td>2024-10-06T18:00:16.354Z</td></tr><tr><td>147</td><td>14</td><td>Vinho ABC</td><td>288</td><td>9.13</td><td>2023-12-21</td><td>2024-10-06</td><td>2024-10-06T18:00:16.354Z</td></tr><tr><td>148</td><td>38</td><td>Cerveja XYZ</td><td>238</td><td>1.3</td><td>2023-07-11</td><td>2024-10-06</td><td>2024-10-06T18:00:16.354Z</td></tr><tr><td>149</td><td>30</td><td>Refrigerante 123</td><td>445</td><td>9.06</td><td>2024-02-05</td><td>2024-10-06</td><td>2024-10-06T18:00:16.354Z</td></tr><tr><td>150</td><td>20</td><td>Água Mineral</td><td>292</td><td>1.81</td><td>2023-12-13</td><td>2024-10-06</td><td>2024-10-06T18:00:16.354Z</td></tr><tr><td>151</td><td>13</td><td>Vinho ABC</td><td>106</td><td>10.19</td><td>2024-03-21</td><td>2024-10-06</td><td>2024-10-06T18:00:16.354Z</td></tr><tr><td>152</td><td>15</td><td>Vinho ABC</td><td>329</td><td>3.27</td><td>2024-02-24</td><td>2024-10-06</td><td>2024-10-06T18:00:16.354Z</td></tr><tr><td>153</td><td>27</td><td>Água Mineral</td><td>457</td><td>18.48</td><td>2023-10-29</td><td>2024-10-06</td><td>2024-10-06T18:00:16.354Z</td></tr><tr><td>154</td><td>6</td><td>Refrigerante 123</td><td>481</td><td>14.62</td><td>2024-06-01</td><td>2024-10-06</td><td>2024-10-06T18:00:16.354Z</td></tr><tr><td>155</td><td>34</td><td>Cerveja XYZ</td><td>122</td><td>3.34</td><td>2024-02-13</td><td>2024-10-06</td><td>2024-10-06T18:00:16.354Z</td></tr><tr><td>156</td><td>20</td><td>Refrigerante 123</td><td>499</td><td>7.77</td><td>2023-09-01</td><td>2024-10-06</td><td>2024-10-06T18:00:16.354Z</td></tr><tr><td>157</td><td>48</td><td>Cerveja XYZ</td><td>375</td><td>13.83</td><td>2023-09-01</td><td>2024-10-06</td><td>2024-10-06T18:00:16.354Z</td></tr><tr><td>158</td><td>25</td><td>Água Mineral</td><td>275</td><td>7.58</td><td>2023-12-16</td><td>2024-10-06</td><td>2024-10-06T18:00:16.354Z</td></tr><tr><td>159</td><td>40</td><td>Cerveja XYZ</td><td>78</td><td>19.83</td><td>2023-10-23</td><td>2024-10-06</td><td>2024-10-06T18:00:16.354Z</td></tr><tr><td>160</td><td>47</td><td>Suco Natural</td><td>472</td><td>8.2</td><td>2023-11-21</td><td>2024-10-06</td><td>2024-10-06T18:00:16.354Z</td></tr><tr><td>161</td><td>20</td><td>Cerveja XYZ</td><td>285</td><td>15.67</td><td>2023-11-01</td><td>2024-10-06</td><td>2024-10-06T18:00:16.354Z</td></tr><tr><td>162</td><td>8</td><td>Refrigerante 123</td><td>112</td><td>15.97</td><td>2023-07-13</td><td>2024-10-06</td><td>2024-10-06T18:00:16.354Z</td></tr><tr><td>163</td><td>40</td><td>Água Mineral</td><td>336</td><td>14.82</td><td>2024-04-08</td><td>2024-10-06</td><td>2024-10-06T18:00:16.354Z</td></tr><tr><td>164</td><td>24</td><td>Suco Natural</td><td>16</td><td>16.1</td><td>2024-03-12</td><td>2024-10-06</td><td>2024-10-06T18:00:16.354Z</td></tr><tr><td>165</td><td>19</td><td>Cerveja XYZ</td><td>108</td><td>4.19</td><td>2024-01-10</td><td>2024-10-06</td><td>2024-10-06T18:00:16.354Z</td></tr><tr><td>166</td><td>30</td><td>Vinho ABC</td><td>346</td><td>16.22</td><td>2023-11-09</td><td>2024-10-06</td><td>2024-10-06T18:00:16.354Z</td></tr><tr><td>167</td><td>4</td><td>Cerveja XYZ</td><td>196</td><td>16.59</td><td>2023-10-28</td><td>2024-10-06</td><td>2024-10-06T18:00:16.354Z</td></tr><tr><td>168</td><td>11</td><td>Água Mineral</td><td>199</td><td>16.53</td><td>2023-12-19</td><td>2024-10-06</td><td>2024-10-06T18:00:16.354Z</td></tr><tr><td>169</td><td>35</td><td>Água Mineral</td><td>91</td><td>16.42</td><td>2024-01-04</td><td>2024-10-06</td><td>2024-10-06T18:00:16.354Z</td></tr><tr><td>170</td><td>30</td><td>Vinho ABC</td><td>228</td><td>7.86</td><td>2024-06-26</td><td>2024-10-06</td><td>2024-10-06T18:00:16.354Z</td></tr><tr><td>171</td><td>41</td><td>Cerveja XYZ</td><td>484</td><td>10.95</td><td>2024-05-10</td><td>2024-10-06</td><td>2024-10-06T18:00:16.354Z</td></tr><tr><td>172</td><td>38</td><td>Vinho ABC</td><td>313</td><td>15.36</td><td>2024-05-01</td><td>2024-10-06</td><td>2024-10-06T18:00:16.354Z</td></tr><tr><td>173</td><td>24</td><td>Cerveja XYZ</td><td>369</td><td>3.49</td><td>2023-12-10</td><td>2024-10-06</td><td>2024-10-06T18:00:16.354Z</td></tr><tr><td>174</td><td>29</td><td>Cerveja XYZ</td><td>431</td><td>4.66</td><td>2024-02-20</td><td>2024-10-06</td><td>2024-10-06T18:00:16.354Z</td></tr><tr><td>175</td><td>23</td><td>Suco Natural</td><td>148</td><td>9.7</td><td>2023-10-19</td><td>2024-10-06</td><td>2024-10-06T18:00:16.354Z</td></tr><tr><td>176</td><td>48</td><td>Água Mineral</td><td>69</td><td>13.7</td><td>2024-04-03</td><td>2024-10-06</td><td>2024-10-06T18:00:16.354Z</td></tr><tr><td>177</td><td>6</td><td>Água Mineral</td><td>415</td><td>8.55</td><td>2024-07-06</td><td>2024-10-06</td><td>2024-10-06T18:00:16.354Z</td></tr><tr><td>178</td><td>25</td><td>Suco Natural</td><td>318</td><td>13.56</td><td>2023-08-15</td><td>2024-10-06</td><td>2024-10-06T18:00:16.354Z</td></tr><tr><td>179</td><td>13</td><td>Água Mineral</td><td>280</td><td>8.93</td><td>2023-07-23</td><td>2024-10-06</td><td>2024-10-06T18:00:16.354Z</td></tr><tr><td>180</td><td>15</td><td>Vinho ABC</td><td>200</td><td>17.31</td><td>2023-08-02</td><td>2024-10-06</td><td>2024-10-06T18:00:16.354Z</td></tr><tr><td>181</td><td>19</td><td>Suco Natural</td><td>414</td><td>2.13</td><td>2023-11-21</td><td>2024-10-06</td><td>2024-10-06T18:00:16.354Z</td></tr><tr><td>182</td><td>38</td><td>Refrigerante 123</td><td>365</td><td>18.55</td><td>2023-09-05</td><td>2024-10-06</td><td>2024-10-06T18:00:16.354Z</td></tr><tr><td>183</td><td>35</td><td>Cerveja XYZ</td><td>105</td><td>16.39</td><td>2023-11-01</td><td>2024-10-06</td><td>2024-10-06T18:00:16.354Z</td></tr><tr><td>184</td><td>5</td><td>Refrigerante 123</td><td>127</td><td>4.02</td><td>2024-02-11</td><td>2024-10-06</td><td>2024-10-06T18:00:16.354Z</td></tr><tr><td>185</td><td>7</td><td>Água Mineral</td><td>190</td><td>7.1</td><td>2024-04-10</td><td>2024-10-06</td><td>2024-10-06T18:00:16.354Z</td></tr><tr><td>186</td><td>44</td><td>Cerveja XYZ</td><td>92</td><td>14.17</td><td>2023-12-02</td><td>2024-10-06</td><td>2024-10-06T18:00:16.354Z</td></tr><tr><td>187</td><td>42</td><td>Suco Natural</td><td>276</td><td>14.24</td><td>2024-05-10</td><td>2024-10-06</td><td>2024-10-06T18:00:16.354Z</td></tr><tr><td>188</td><td>23</td><td>Água Mineral</td><td>86</td><td>11.38</td><td>2024-03-11</td><td>2024-10-06</td><td>2024-10-06T18:00:16.354Z</td></tr><tr><td>189</td><td>39</td><td>Vinho ABC</td><td>479</td><td>14.05</td><td>2024-04-25</td><td>2024-10-06</td><td>2024-10-06T18:00:16.354Z</td></tr><tr><td>190</td><td>33</td><td>Suco Natural</td><td>135</td><td>3.46</td><td>2023-10-04</td><td>2024-10-06</td><td>2024-10-06T18:00:16.354Z</td></tr><tr><td>191</td><td>4</td><td>Refrigerante 123</td><td>312</td><td>11.35</td><td>2023-07-26</td><td>2024-10-06</td><td>2024-10-06T18:00:16.354Z</td></tr><tr><td>192</td><td>39</td><td>Refrigerante 123</td><td>380</td><td>15.99</td><td>2023-12-22</td><td>2024-10-06</td><td>2024-10-06T18:00:16.354Z</td></tr><tr><td>193</td><td>5</td><td>Suco Natural</td><td>275</td><td>1.79</td><td>2024-05-24</td><td>2024-10-06</td><td>2024-10-06T18:00:16.354Z</td></tr><tr><td>194</td><td>20</td><td>Suco Natural</td><td>442</td><td>10.01</td><td>2023-07-21</td><td>2024-10-06</td><td>2024-10-06T18:00:16.354Z</td></tr><tr><td>195</td><td>47</td><td>Refrigerante 123</td><td>369</td><td>3.56</td><td>2024-01-18</td><td>2024-10-06</td><td>2024-10-06T18:00:16.354Z</td></tr><tr><td>196</td><td>31</td><td>Vinho ABC</td><td>316</td><td>14.33</td><td>2023-08-16</td><td>2024-10-06</td><td>2024-10-06T18:00:16.354Z</td></tr><tr><td>197</td><td>12</td><td>Água Mineral</td><td>239</td><td>2.13</td><td>2024-05-01</td><td>2024-10-06</td><td>2024-10-06T18:00:16.354Z</td></tr><tr><td>198</td><td>37</td><td>Água Mineral</td><td>338</td><td>3.53</td><td>2023-07-28</td><td>2024-10-06</td><td>2024-10-06T18:00:16.354Z</td></tr><tr><td>199</td><td>15</td><td>Refrigerante 123</td><td>440</td><td>6.88</td><td>2023-09-05</td><td>2024-10-06</td><td>2024-10-06T18:00:16.354Z</td></tr><tr><td>200</td><td>19</td><td>Cerveja XYZ</td><td>416</td><td>10.19</td><td>2024-01-04</td><td>2024-10-06</td><td>2024-10-06T18:00:16.354Z</td></tr><tr><td>201</td><td>6</td><td>Suco Natural</td><td>225</td><td>12.89</td><td>2023-09-30</td><td>2024-10-06</td><td>2024-10-06T18:00:16.354Z</td></tr><tr><td>202</td><td>48</td><td>Água Mineral</td><td>184</td><td>11.89</td><td>2024-01-27</td><td>2024-10-06</td><td>2024-10-06T18:00:16.354Z</td></tr><tr><td>203</td><td>7</td><td>Cerveja XYZ</td><td>173</td><td>14.0</td><td>2023-09-12</td><td>2024-10-06</td><td>2024-10-06T18:00:16.354Z</td></tr><tr><td>204</td><td>37</td><td>Cerveja XYZ</td><td>326</td><td>16.27</td><td>2023-10-28</td><td>2024-10-06</td><td>2024-10-06T18:00:16.354Z</td></tr><tr><td>205</td><td>19</td><td>Cerveja XYZ</td><td>322</td><td>7.76</td><td>2023-08-05</td><td>2024-10-06</td><td>2024-10-06T18:00:16.354Z</td></tr><tr><td>206</td><td>31</td><td>Vinho ABC</td><td>369</td><td>16.98</td><td>2023-08-05</td><td>2024-10-06</td><td>2024-10-06T18:00:16.354Z</td></tr><tr><td>207</td><td>50</td><td>Água Mineral</td><td>168</td><td>14.84</td><td>2023-09-27</td><td>2024-10-06</td><td>2024-10-06T18:00:16.354Z</td></tr><tr><td>208</td><td>40</td><td>Cerveja XYZ</td><td>154</td><td>13.72</td><td>2023-12-09</td><td>2024-10-06</td><td>2024-10-06T18:00:16.354Z</td></tr><tr><td>209</td><td>50</td><td>Suco Natural</td><td>83</td><td>14.73</td><td>2023-08-17</td><td>2024-10-06</td><td>2024-10-06T18:00:16.354Z</td></tr><tr><td>210</td><td>35</td><td>Água Mineral</td><td>490</td><td>2.75</td><td>2024-07-10</td><td>2024-10-06</td><td>2024-10-06T18:00:16.354Z</td></tr><tr><td>211</td><td>11</td><td>Cerveja XYZ</td><td>270</td><td>12.22</td><td>2024-03-12</td><td>2024-10-06</td><td>2024-10-06T18:00:16.354Z</td></tr><tr><td>212</td><td>35</td><td>Refrigerante 123</td><td>433</td><td>1.28</td><td>2023-09-04</td><td>2024-10-06</td><td>2024-10-06T18:00:16.354Z</td></tr><tr><td>213</td><td>45</td><td>Cerveja XYZ</td><td>381</td><td>7.28</td><td>2024-04-16</td><td>2024-10-06</td><td>2024-10-06T18:00:16.354Z</td></tr><tr><td>214</td><td>47</td><td>Suco Natural</td><td>428</td><td>3.48</td><td>2023-10-20</td><td>2024-10-06</td><td>2024-10-06T18:00:16.354Z</td></tr><tr><td>215</td><td>15</td><td>Água Mineral</td><td>92</td><td>2.23</td><td>2023-09-10</td><td>2024-10-06</td><td>2024-10-06T18:00:16.354Z</td></tr><tr><td>216</td><td>25</td><td>Água Mineral</td><td>300</td><td>18.13</td><td>2024-05-05</td><td>2024-10-06</td><td>2024-10-06T18:00:16.354Z</td></tr><tr><td>217</td><td>9</td><td>Vinho ABC</td><td>169</td><td>17.14</td><td>2024-03-19</td><td>2024-10-06</td><td>2024-10-06T18:00:16.354Z</td></tr><tr><td>218</td><td>1</td><td>Cerveja XYZ</td><td>486</td><td>13.0</td><td>2023-09-29</td><td>2024-10-06</td><td>2024-10-06T18:00:16.354Z</td></tr><tr><td>219</td><td>26</td><td>Refrigerante 123</td><td>20</td><td>13.28</td><td>2023-09-14</td><td>2024-10-06</td><td>2024-10-06T18:00:16.354Z</td></tr><tr><td>220</td><td>39</td><td>Suco Natural</td><td>109</td><td>4.44</td><td>2024-02-09</td><td>2024-10-06</td><td>2024-10-06T18:00:16.354Z</td></tr><tr><td>221</td><td>24</td><td>Suco Natural</td><td>487</td><td>8.06</td><td>2024-05-11</td><td>2024-10-06</td><td>2024-10-06T18:00:16.354Z</td></tr><tr><td>222</td><td>10</td><td>Vinho ABC</td><td>44</td><td>18.87</td><td>2024-06-08</td><td>2024-10-06</td><td>2024-10-06T18:00:16.354Z</td></tr><tr><td>223</td><td>23</td><td>Refrigerante 123</td><td>419</td><td>10.66</td><td>2024-03-16</td><td>2024-10-06</td><td>2024-10-06T18:00:16.354Z</td></tr><tr><td>224</td><td>29</td><td>Água Mineral</td><td>106</td><td>4.73</td><td>2024-05-17</td><td>2024-10-06</td><td>2024-10-06T18:00:16.354Z</td></tr><tr><td>225</td><td>10</td><td>Refrigerante 123</td><td>207</td><td>9.82</td><td>2023-12-17</td><td>2024-10-06</td><td>2024-10-06T18:00:16.354Z</td></tr><tr><td>226</td><td>29</td><td>Cerveja XYZ</td><td>422</td><td>17.35</td><td>2023-09-02</td><td>2024-10-06</td><td>2024-10-06T18:00:16.354Z</td></tr><tr><td>227</td><td>15</td><td>Vinho ABC</td><td>194</td><td>14.54</td><td>2024-05-12</td><td>2024-10-06</td><td>2024-10-06T18:00:16.354Z</td></tr><tr><td>228</td><td>27</td><td>Vinho ABC</td><td>484</td><td>16.74</td><td>2023-08-11</td><td>2024-10-06</td><td>2024-10-06T18:00:16.354Z</td></tr><tr><td>229</td><td>21</td><td>Refrigerante 123</td><td>45</td><td>7.68</td><td>2024-04-10</td><td>2024-10-06</td><td>2024-10-06T18:00:16.354Z</td></tr><tr><td>230</td><td>41</td><td>Cerveja XYZ</td><td>290</td><td>6.24</td><td>2024-06-11</td><td>2024-10-06</td><td>2024-10-06T18:00:16.354Z</td></tr><tr><td>231</td><td>9</td><td>Água Mineral</td><td>376</td><td>3.62</td><td>2024-01-02</td><td>2024-10-06</td><td>2024-10-06T18:00:16.354Z</td></tr><tr><td>232</td><td>24</td><td>Cerveja XYZ</td><td>258</td><td>17.3</td><td>2023-12-17</td><td>2024-10-06</td><td>2024-10-06T18:00:16.354Z</td></tr><tr><td>233</td><td>20</td><td>Refrigerante 123</td><td>472</td><td>11.22</td><td>2024-07-01</td><td>2024-10-06</td><td>2024-10-06T18:00:16.354Z</td></tr><tr><td>234</td><td>28</td><td>Cerveja XYZ</td><td>227</td><td>2.72</td><td>2024-06-15</td><td>2024-10-06</td><td>2024-10-06T18:00:16.354Z</td></tr><tr><td>235</td><td>3</td><td>Água Mineral</td><td>282</td><td>3.59</td><td>2024-07-02</td><td>2024-10-06</td><td>2024-10-06T18:00:16.354Z</td></tr><tr><td>236</td><td>46</td><td>Refrigerante 123</td><td>180</td><td>8.48</td><td>2024-04-03</td><td>2024-10-06</td><td>2024-10-06T18:00:16.354Z</td></tr><tr><td>237</td><td>2</td><td>Água Mineral</td><td>237</td><td>15.06</td><td>2024-04-30</td><td>2024-10-06</td><td>2024-10-06T18:00:16.354Z</td></tr><tr><td>238</td><td>49</td><td>Cerveja XYZ</td><td>48</td><td>1.92</td><td>2024-01-17</td><td>2024-10-06</td><td>2024-10-06T18:00:16.354Z</td></tr><tr><td>239</td><td>43</td><td>Suco Natural</td><td>265</td><td>7.74</td><td>2024-06-26</td><td>2024-10-06</td><td>2024-10-06T18:00:16.354Z</td></tr><tr><td>240</td><td>41</td><td>Suco Natural</td><td>485</td><td>12.22</td><td>2023-10-11</td><td>2024-10-06</td><td>2024-10-06T18:00:16.354Z</td></tr><tr><td>241</td><td>50</td><td>Suco Natural</td><td>488</td><td>6.81</td><td>2023-12-08</td><td>2024-10-06</td><td>2024-10-06T18:00:16.354Z</td></tr><tr><td>242</td><td>39</td><td>Vinho ABC</td><td>345</td><td>12.48</td><td>2024-04-04</td><td>2024-10-06</td><td>2024-10-06T18:00:16.354Z</td></tr><tr><td>243</td><td>23</td><td>Água Mineral</td><td>337</td><td>18.82</td><td>2024-04-22</td><td>2024-10-06</td><td>2024-10-06T18:00:16.354Z</td></tr><tr><td>244</td><td>31</td><td>Água Mineral</td><td>280</td><td>6.08</td><td>2024-02-28</td><td>2024-10-06</td><td>2024-10-06T18:00:16.354Z</td></tr><tr><td>245</td><td>27</td><td>Cerveja XYZ</td><td>418</td><td>12.66</td><td>2024-01-31</td><td>2024-10-06</td><td>2024-10-06T18:00:16.354Z</td></tr><tr><td>246</td><td>1</td><td>Suco Natural</td><td>468</td><td>4.25</td><td>2023-11-27</td><td>2024-10-06</td><td>2024-10-06T18:00:16.354Z</td></tr><tr><td>247</td><td>41</td><td>Suco Natural</td><td>26</td><td>7.5</td><td>2024-04-18</td><td>2024-10-06</td><td>2024-10-06T18:00:16.354Z</td></tr><tr><td>248</td><td>44</td><td>Água Mineral</td><td>326</td><td>13.45</td><td>2023-08-10</td><td>2024-10-06</td><td>2024-10-06T18:00:16.354Z</td></tr><tr><td>249</td><td>12</td><td>Refrigerante 123</td><td>81</td><td>12.84</td><td>2023-12-20</td><td>2024-10-06</td><td>2024-10-06T18:00:16.354Z</td></tr><tr><td>250</td><td>32</td><td>Água Mineral</td><td>327</td><td>11.68</td><td>2023-08-29</td><td>2024-10-06</td><td>2024-10-06T18:00:16.354Z</td></tr></tbody></table></div>"
      ]
     },
     "metadata": {
      "application/vnd.databricks.v1+output": {
       "addedWidgets": {},
       "aggData": [],
       "aggError": "",
       "aggOverflow": false,
       "aggSchema": [],
       "aggSeriesLimitReached": false,
       "aggType": "",
       "arguments": {},
       "columnCustomDisplayInfos": {},
       "data": [
        [
         "1",
         "50",
         "Suco Natural",
         "440",
         "11.11",
         "2023-07-22",
         "2024-10-06",
         "2024-10-06T18:00:16.354Z"
        ],
        [
         "2",
         "12",
         "Refrigerante 123",
         "278",
         "15.45",
         "2024-07-06",
         "2024-10-06",
         "2024-10-06T18:00:16.354Z"
        ],
        [
         "3",
         "16",
         "Água Mineral",
         "178",
         "4.26",
         "2023-08-09",
         "2024-10-06",
         "2024-10-06T18:00:16.354Z"
        ],
        [
         "4",
         "42",
         "Cerveja XYZ",
         "38",
         "11.65",
         "2024-04-17",
         "2024-10-06",
         "2024-10-06T18:00:16.354Z"
        ],
        [
         "5",
         "28",
         "Refrigerante 123",
         "94",
         "9.39",
         "2024-03-14",
         "2024-10-06",
         "2024-10-06T18:00:16.354Z"
        ],
        [
         "6",
         "22",
         "Suco Natural",
         "108",
         "8.04",
         "2024-03-30",
         "2024-10-06",
         "2024-10-06T18:00:16.354Z"
        ],
        [
         "7",
         "37",
         "Cerveja XYZ",
         "194",
         "12.99",
         "2024-03-27",
         "2024-10-06",
         "2024-10-06T18:00:16.354Z"
        ],
        [
         "8",
         "28",
         "Vinho ABC",
         "349",
         "1.26",
         "2023-11-11",
         "2024-10-06",
         "2024-10-06T18:00:16.354Z"
        ],
        [
         "9",
         "15",
         "Suco Natural",
         "62",
         "6.25",
         "2024-01-20",
         "2024-10-06",
         "2024-10-06T18:00:16.354Z"
        ],
        [
         "10",
         "19",
         "Vinho ABC",
         "297",
         "18.37",
         "2024-05-07",
         "2024-10-06",
         "2024-10-06T18:00:16.354Z"
        ],
        [
         "11",
         "2",
         "Vinho ABC",
         "253",
         "6.37",
         "2023-09-06",
         "2024-10-06",
         "2024-10-06T18:00:16.354Z"
        ],
        [
         "12",
         "48",
         "Cerveja XYZ",
         "31",
         "16.43",
         "2023-12-08",
         "2024-10-06",
         "2024-10-06T18:00:16.354Z"
        ],
        [
         "13",
         "29",
         "Cerveja XYZ",
         "263",
         "7.91",
         "2024-04-12",
         "2024-10-06",
         "2024-10-06T18:00:16.354Z"
        ],
        [
         "14",
         "32",
         "Cerveja XYZ",
         "215",
         "15.64",
         "2023-12-29",
         "2024-10-06",
         "2024-10-06T18:00:16.354Z"
        ],
        [
         "15",
         "10",
         "Cerveja XYZ",
         "88",
         "6.43",
         "2023-11-25",
         "2024-10-06",
         "2024-10-06T18:00:16.354Z"
        ],
        [
         "16",
         "18",
         "Cerveja XYZ",
         "292",
         "12.31",
         "2024-05-16",
         "2024-10-06",
         "2024-10-06T18:00:16.354Z"
        ],
        [
         "17",
         "7",
         "Refrigerante 123",
         "393",
         "10.29",
         "2023-12-23",
         "2024-10-06",
         "2024-10-06T18:00:16.354Z"
        ],
        [
         "18",
         "48",
         "Refrigerante 123",
         "184",
         "15.33",
         "2023-08-26",
         "2024-10-06",
         "2024-10-06T18:00:16.354Z"
        ],
        [
         "19",
         "7",
         "Refrigerante 123",
         "314",
         "19.87",
         "2024-02-18",
         "2024-10-06",
         "2024-10-06T18:00:16.354Z"
        ],
        [
         "20",
         "18",
         "Refrigerante 123",
         "111",
         "11.06",
         "2024-07-10",
         "2024-10-06",
         "2024-10-06T18:00:16.354Z"
        ],
        [
         "21",
         "18",
         "Refrigerante 123",
         "73",
         "5.66",
         "2024-06-04",
         "2024-10-06",
         "2024-10-06T18:00:16.354Z"
        ],
        [
         "22",
         "30",
         "Cerveja XYZ",
         "385",
         "2.1",
         "2024-01-13",
         "2024-10-06",
         "2024-10-06T18:00:16.354Z"
        ],
        [
         "23",
         "27",
         "Cerveja XYZ",
         "366",
         "10.83",
         "2024-04-13",
         "2024-10-06",
         "2024-10-06T18:00:16.354Z"
        ],
        [
         "24",
         "9",
         "Água Mineral",
         "99",
         "7.22",
         "2024-02-03",
         "2024-10-06",
         "2024-10-06T18:00:16.354Z"
        ],
        [
         "25",
         "49",
         "Água Mineral",
         "301",
         "6.48",
         "2024-02-25",
         "2024-10-06",
         "2024-10-06T18:00:16.354Z"
        ],
        [
         "26",
         "49",
         "Cerveja XYZ",
         "191",
         "5.93",
         "2023-09-11",
         "2024-10-06",
         "2024-10-06T18:00:16.354Z"
        ],
        [
         "27",
         "14",
         "Vinho ABC",
         "182",
         "18.15",
         "2023-08-26",
         "2024-10-06",
         "2024-10-06T18:00:16.354Z"
        ],
        [
         "28",
         "26",
         "Cerveja XYZ",
         "386",
         "9.45",
         "2024-07-03",
         "2024-10-06",
         "2024-10-06T18:00:16.354Z"
        ],
        [
         "29",
         "43",
         "Vinho ABC",
         "170",
         "6.27",
         "2024-02-27",
         "2024-10-06",
         "2024-10-06T18:00:16.354Z"
        ],
        [
         "30",
         "4",
         "Água Mineral",
         "159",
         "11.59",
         "2023-07-29",
         "2024-10-06",
         "2024-10-06T18:00:16.354Z"
        ],
        [
         "31",
         "2",
         "Suco Natural",
         "439",
         "10.89",
         "2023-11-10",
         "2024-10-06",
         "2024-10-06T18:00:16.354Z"
        ],
        [
         "32",
         "23",
         "Cerveja XYZ",
         "125",
         "3.53",
         "2023-11-11",
         "2024-10-06",
         "2024-10-06T18:00:16.354Z"
        ],
        [
         "33",
         "10",
         "Vinho ABC",
         "20",
         "1.9",
         "2023-12-14",
         "2024-10-06",
         "2024-10-06T18:00:16.354Z"
        ],
        [
         "34",
         "4",
         "Suco Natural",
         "297",
         "11.8",
         "2024-06-02",
         "2024-10-06",
         "2024-10-06T18:00:16.354Z"
        ],
        [
         "35",
         "6",
         "Cerveja XYZ",
         "130",
         "1.94",
         "2023-12-03",
         "2024-10-06",
         "2024-10-06T18:00:16.354Z"
        ],
        [
         "36",
         "28",
         "Refrigerante 123",
         "402",
         "19.4",
         "2024-06-27",
         "2024-10-06",
         "2024-10-06T18:00:16.354Z"
        ],
        [
         "37",
         "20",
         "Suco Natural",
         "331",
         "8.44",
         "2024-01-14",
         "2024-10-06",
         "2024-10-06T18:00:16.354Z"
        ],
        [
         "38",
         "21",
         "Vinho ABC",
         "256",
         "16.6",
         "2023-09-26",
         "2024-10-06",
         "2024-10-06T18:00:16.354Z"
        ],
        [
         "39",
         "15",
         "Cerveja XYZ",
         "315",
         "16.31",
         "2024-01-14",
         "2024-10-06",
         "2024-10-06T18:00:16.354Z"
        ],
        [
         "40",
         "18",
         "Vinho ABC",
         "411",
         "8.45",
         "2023-09-16",
         "2024-10-06",
         "2024-10-06T18:00:16.354Z"
        ],
        [
         "41",
         "30",
         "Suco Natural",
         "306",
         "12.93",
         "2024-01-18",
         "2024-10-06",
         "2024-10-06T18:00:16.354Z"
        ],
        [
         "42",
         "14",
         "Vinho ABC",
         "386",
         "8.89",
         "2023-11-30",
         "2024-10-06",
         "2024-10-06T18:00:16.354Z"
        ],
        [
         "43",
         "33",
         "Vinho ABC",
         "250",
         "15.51",
         "2023-07-14",
         "2024-10-06",
         "2024-10-06T18:00:16.354Z"
        ],
        [
         "44",
         "15",
         "Refrigerante 123",
         "390",
         "18.11",
         "2024-01-29",
         "2024-10-06",
         "2024-10-06T18:00:16.354Z"
        ],
        [
         "45",
         "41",
         "Cerveja XYZ",
         "294",
         "10.21",
         "2023-08-16",
         "2024-10-06",
         "2024-10-06T18:00:16.354Z"
        ],
        [
         "46",
         "10",
         "Água Mineral",
         "392",
         "8.26",
         "2023-11-10",
         "2024-10-06",
         "2024-10-06T18:00:16.354Z"
        ],
        [
         "47",
         "47",
         "Refrigerante 123",
         "473",
         "12.57",
         "2024-03-27",
         "2024-10-06",
         "2024-10-06T18:00:16.354Z"
        ],
        [
         "48",
         "9",
         "Cerveja XYZ",
         "44",
         "19.92",
         "2024-03-15",
         "2024-10-06",
         "2024-10-06T18:00:16.354Z"
        ],
        [
         "49",
         "1",
         "Água Mineral",
         "30",
         "19.49",
         "2024-01-20",
         "2024-10-06",
         "2024-10-06T18:00:16.354Z"
        ],
        [
         "50",
         "46",
         "Vinho ABC",
         "277",
         "15.81",
         "2024-04-10",
         "2024-10-06",
         "2024-10-06T18:00:16.354Z"
        ],
        [
         "51",
         "45",
         "Suco Natural",
         "98",
         "3.33",
         "2023-09-29",
         "2024-10-06",
         "2024-10-06T18:00:16.354Z"
        ],
        [
         "52",
         "4",
         "Vinho ABC",
         "144",
         "5.94",
         "2024-04-02",
         "2024-10-06",
         "2024-10-06T18:00:16.354Z"
        ],
        [
         "53",
         "24",
         "Refrigerante 123",
         "480",
         "12.53",
         "2024-02-09",
         "2024-10-06",
         "2024-10-06T18:00:16.354Z"
        ],
        [
         "54",
         "29",
         "Vinho ABC",
         "266",
         "1.34",
         "2024-06-30",
         "2024-10-06",
         "2024-10-06T18:00:16.354Z"
        ],
        [
         "55",
         "9",
         "Vinho ABC",
         "482",
         "14.78",
         "2023-11-22",
         "2024-10-06",
         "2024-10-06T18:00:16.354Z"
        ],
        [
         "56",
         "2",
         "Cerveja XYZ",
         "448",
         "10.91",
         "2023-08-16",
         "2024-10-06",
         "2024-10-06T18:00:16.354Z"
        ],
        [
         "57",
         "27",
         "Cerveja XYZ",
         "463",
         "14.77",
         "2024-05-26",
         "2024-10-06",
         "2024-10-06T18:00:16.354Z"
        ],
        [
         "58",
         "17",
         "Refrigerante 123",
         "446",
         "9.45",
         "2024-02-28",
         "2024-10-06",
         "2024-10-06T18:00:16.354Z"
        ],
        [
         "59",
         "26",
         "Vinho ABC",
         "198",
         "6.52",
         "2024-05-31",
         "2024-10-06",
         "2024-10-06T18:00:16.354Z"
        ],
        [
         "60",
         "25",
         "Vinho ABC",
         "61",
         "14.53",
         "2024-05-21",
         "2024-10-06",
         "2024-10-06T18:00:16.354Z"
        ],
        [
         "61",
         "22",
         "Suco Natural",
         "289",
         "19.99",
         "2024-03-16",
         "2024-10-06",
         "2024-10-06T18:00:16.354Z"
        ],
        [
         "62",
         "9",
         "Suco Natural",
         "405",
         "15.03",
         "2023-10-19",
         "2024-10-06",
         "2024-10-06T18:00:16.354Z"
        ],
        [
         "63",
         "34",
         "Cerveja XYZ",
         "186",
         "3.87",
         "2024-04-07",
         "2024-10-06",
         "2024-10-06T18:00:16.354Z"
        ],
        [
         "64",
         "50",
         "Água Mineral",
         "19",
         "10.02",
         "2024-07-04",
         "2024-10-06",
         "2024-10-06T18:00:16.354Z"
        ],
        [
         "65",
         "36",
         "Água Mineral",
         "220",
         "11.01",
         "2024-01-08",
         "2024-10-06",
         "2024-10-06T18:00:16.354Z"
        ],
        [
         "66",
         "9",
         "Vinho ABC",
         "73",
         "6.53",
         "2024-07-09",
         "2024-10-06",
         "2024-10-06T18:00:16.354Z"
        ],
        [
         "67",
         "4",
         "Água Mineral",
         "212",
         "12.72",
         "2024-05-03",
         "2024-10-06",
         "2024-10-06T18:00:16.354Z"
        ],
        [
         "68",
         "40",
         "Água Mineral",
         "498",
         "16.05",
         "2023-09-15",
         "2024-10-06",
         "2024-10-06T18:00:16.354Z"
        ],
        [
         "69",
         "25",
         "Água Mineral",
         "23",
         "5.71",
         "2023-08-16",
         "2024-10-06",
         "2024-10-06T18:00:16.354Z"
        ],
        [
         "70",
         "48",
         "Água Mineral",
         "360",
         "13.53",
         "2024-02-05",
         "2024-10-06",
         "2024-10-06T18:00:16.354Z"
        ],
        [
         "71",
         "2",
         "Vinho ABC",
         "96",
         "3.7",
         "2023-12-20",
         "2024-10-06",
         "2024-10-06T18:00:16.354Z"
        ],
        [
         "72",
         "6",
         "Suco Natural",
         "316",
         "14.96",
         "2024-02-03",
         "2024-10-06",
         "2024-10-06T18:00:16.354Z"
        ],
        [
         "73",
         "3",
         "Vinho ABC",
         "390",
         "6.09",
         "2024-05-01",
         "2024-10-06",
         "2024-10-06T18:00:16.354Z"
        ],
        [
         "74",
         "36",
         "Cerveja XYZ",
         "461",
         "18.79",
         "2023-09-09",
         "2024-10-06",
         "2024-10-06T18:00:16.354Z"
        ],
        [
         "75",
         "21",
         "Cerveja XYZ",
         "433",
         "1.84",
         "2024-04-19",
         "2024-10-06",
         "2024-10-06T18:00:16.354Z"
        ],
        [
         "76",
         "4",
         "Cerveja XYZ",
         "314",
         "13.39",
         "2024-02-29",
         "2024-10-06",
         "2024-10-06T18:00:16.354Z"
        ],
        [
         "77",
         "28",
         "Suco Natural",
         "113",
         "3.41",
         "2024-03-14",
         "2024-10-06",
         "2024-10-06T18:00:16.354Z"
        ],
        [
         "78",
         "20",
         "Água Mineral",
         "212",
         "12.08",
         "2023-12-24",
         "2024-10-06",
         "2024-10-06T18:00:16.354Z"
        ],
        [
         "79",
         "31",
         "Água Mineral",
         "190",
         "11.35",
         "2023-08-02",
         "2024-10-06",
         "2024-10-06T18:00:16.354Z"
        ],
        [
         "80",
         "15",
         "Água Mineral",
         "494",
         "18.05",
         "2023-11-11",
         "2024-10-06",
         "2024-10-06T18:00:16.354Z"
        ],
        [
         "81",
         "23",
         "Suco Natural",
         "340",
         "5.15",
         "2024-03-14",
         "2024-10-06",
         "2024-10-06T18:00:16.354Z"
        ],
        [
         "82",
         "21",
         "Cerveja XYZ",
         "69",
         "7.56",
         "2023-09-03",
         "2024-10-06",
         "2024-10-06T18:00:16.354Z"
        ],
        [
         "83",
         "5",
         "Suco Natural",
         "328",
         "7.31",
         "2023-12-30",
         "2024-10-06",
         "2024-10-06T18:00:16.354Z"
        ],
        [
         "84",
         "29",
         "Cerveja XYZ",
         "372",
         "12.43",
         "2024-01-20",
         "2024-10-06",
         "2024-10-06T18:00:16.354Z"
        ],
        [
         "85",
         "19",
         "Água Mineral",
         "177",
         "4.37",
         "2023-11-22",
         "2024-10-06",
         "2024-10-06T18:00:16.354Z"
        ],
        [
         "86",
         "15",
         "Vinho ABC",
         "157",
         "4.05",
         "2024-04-24",
         "2024-10-06",
         "2024-10-06T18:00:16.354Z"
        ],
        [
         "87",
         "18",
         "Água Mineral",
         "53",
         "8.2",
         "2024-06-06",
         "2024-10-06",
         "2024-10-06T18:00:16.354Z"
        ],
        [
         "88",
         "24",
         "Cerveja XYZ",
         "100",
         "12.8",
         "2023-09-20",
         "2024-10-06",
         "2024-10-06T18:00:16.354Z"
        ],
        [
         "89",
         "29",
         "Vinho ABC",
         "276",
         "9.57",
         "2024-06-05",
         "2024-10-06",
         "2024-10-06T18:00:16.354Z"
        ],
        [
         "90",
         "31",
         "Suco Natural",
         "412",
         "16.41",
         "2024-03-09",
         "2024-10-06",
         "2024-10-06T18:00:16.354Z"
        ],
        [
         "91",
         "14",
         "Vinho ABC",
         "74",
         "16.84",
         "2024-03-04",
         "2024-10-06",
         "2024-10-06T18:00:16.354Z"
        ],
        [
         "92",
         "13",
         "Cerveja XYZ",
         "242",
         "8.58",
         "2023-12-19",
         "2024-10-06",
         "2024-10-06T18:00:16.354Z"
        ],
        [
         "93",
         "45",
         "Vinho ABC",
         "88",
         "4.87",
         "2023-11-14",
         "2024-10-06",
         "2024-10-06T18:00:16.354Z"
        ],
        [
         "94",
         "3",
         "Água Mineral",
         "249",
         "7.09",
         "2024-02-04",
         "2024-10-06",
         "2024-10-06T18:00:16.354Z"
        ],
        [
         "95",
         "7",
         "Vinho ABC",
         "205",
         "11.64",
         "2023-08-27",
         "2024-10-06",
         "2024-10-06T18:00:16.354Z"
        ],
        [
         "96",
         "49",
         "Cerveja XYZ",
         "395",
         "17.46",
         "2024-02-02",
         "2024-10-06",
         "2024-10-06T18:00:16.354Z"
        ],
        [
         "97",
         "25",
         "Refrigerante 123",
         "34",
         "16.12",
         "2024-07-06",
         "2024-10-06",
         "2024-10-06T18:00:16.354Z"
        ],
        [
         "98",
         "28",
         "Suco Natural",
         "284",
         "8.15",
         "2023-12-05",
         "2024-10-06",
         "2024-10-06T18:00:16.354Z"
        ],
        [
         "99",
         "28",
         "Suco Natural",
         "496",
         "4.9",
         "2023-08-19",
         "2024-10-06",
         "2024-10-06T18:00:16.354Z"
        ],
        [
         "100",
         "50",
         "Refrigerante 123",
         "109",
         "16.5",
         "2023-11-05",
         "2024-10-06",
         "2024-10-06T18:00:16.354Z"
        ],
        [
         "101",
         "43",
         "Suco Natural",
         "491",
         "12.15",
         "2024-03-09",
         "2024-10-06",
         "2024-10-06T18:00:16.354Z"
        ],
        [
         "102",
         "20",
         "Suco Natural",
         "109",
         "14.8",
         "2023-08-21",
         "2024-10-06",
         "2024-10-06T18:00:16.354Z"
        ],
        [
         "103",
         "4",
         "Vinho ABC",
         "295",
         "15.44",
         "2023-09-20",
         "2024-10-06",
         "2024-10-06T18:00:16.354Z"
        ],
        [
         "104",
         "7",
         "Suco Natural",
         "107",
         "1.72",
         "2023-12-11",
         "2024-10-06",
         "2024-10-06T18:00:16.354Z"
        ],
        [
         "105",
         "48",
         "Vinho ABC",
         "301",
         "9.41",
         "2023-09-03",
         "2024-10-06",
         "2024-10-06T18:00:16.354Z"
        ],
        [
         "106",
         "23",
         "Refrigerante 123",
         "389",
         "11.09",
         "2024-05-18",
         "2024-10-06",
         "2024-10-06T18:00:16.354Z"
        ],
        [
         "107",
         "43",
         "Refrigerante 123",
         "414",
         "1.42",
         "2023-12-09",
         "2024-10-06",
         "2024-10-06T18:00:16.354Z"
        ],
        [
         "108",
         "4",
         "Vinho ABC",
         "307",
         "14.69",
         "2023-10-12",
         "2024-10-06",
         "2024-10-06T18:00:16.354Z"
        ],
        [
         "109",
         "13",
         "Suco Natural",
         "49",
         "14.61",
         "2023-08-22",
         "2024-10-06",
         "2024-10-06T18:00:16.354Z"
        ],
        [
         "110",
         "34",
         "Refrigerante 123",
         "392",
         "13.64",
         "2024-02-27",
         "2024-10-06",
         "2024-10-06T18:00:16.354Z"
        ],
        [
         "111",
         "28",
         "Água Mineral",
         "51",
         "13.69",
         "2023-12-29",
         "2024-10-06",
         "2024-10-06T18:00:16.354Z"
        ],
        [
         "112",
         "20",
         "Água Mineral",
         "36",
         "4.79",
         "2024-03-16",
         "2024-10-06",
         "2024-10-06T18:00:16.354Z"
        ],
        [
         "113",
         "37",
         "Refrigerante 123",
         "243",
         "7.08",
         "2023-11-11",
         "2024-10-06",
         "2024-10-06T18:00:16.354Z"
        ],
        [
         "114",
         "9",
         "Refrigerante 123",
         "350",
         "11.16",
         "2024-04-13",
         "2024-10-06",
         "2024-10-06T18:00:16.354Z"
        ],
        [
         "115",
         "46",
         "Suco Natural",
         "415",
         "17.37",
         "2023-11-14",
         "2024-10-06",
         "2024-10-06T18:00:16.354Z"
        ],
        [
         "116",
         "18",
         "Refrigerante 123",
         "89",
         "14.44",
         "2024-04-21",
         "2024-10-06",
         "2024-10-06T18:00:16.354Z"
        ],
        [
         "117",
         "24",
         "Água Mineral",
         "183",
         "2.99",
         "2024-06-29",
         "2024-10-06",
         "2024-10-06T18:00:16.354Z"
        ],
        [
         "118",
         "31",
         "Vinho ABC",
         "335",
         "17.99",
         "2024-05-02",
         "2024-10-06",
         "2024-10-06T18:00:16.354Z"
        ],
        [
         "119",
         "11",
         "Água Mineral",
         "337",
         "12.01",
         "2023-10-15",
         "2024-10-06",
         "2024-10-06T18:00:16.354Z"
        ],
        [
         "120",
         "4",
         "Vinho ABC",
         "111",
         "7.54",
         "2023-12-17",
         "2024-10-06",
         "2024-10-06T18:00:16.354Z"
        ],
        [
         "121",
         "39",
         "Vinho ABC",
         "444",
         "11.52",
         "2024-01-20",
         "2024-10-06",
         "2024-10-06T18:00:16.354Z"
        ],
        [
         "122",
         "4",
         "Água Mineral",
         "14",
         "8.67",
         "2024-05-24",
         "2024-10-06",
         "2024-10-06T18:00:16.354Z"
        ],
        [
         "123",
         "23",
         "Água Mineral",
         "383",
         "6.07",
         "2024-06-24",
         "2024-10-06",
         "2024-10-06T18:00:16.354Z"
        ],
        [
         "124",
         "16",
         "Vinho ABC",
         "380",
         "15.19",
         "2024-05-21",
         "2024-10-06",
         "2024-10-06T18:00:16.354Z"
        ],
        [
         "125",
         "15",
         "Água Mineral",
         "404",
         "18.28",
         "2023-11-22",
         "2024-10-06",
         "2024-10-06T18:00:16.354Z"
        ],
        [
         "126",
         "39",
         "Suco Natural",
         "285",
         "15.35",
         "2024-06-09",
         "2024-10-06",
         "2024-10-06T18:00:16.354Z"
        ],
        [
         "127",
         "5",
         "Suco Natural",
         "65",
         "17.0",
         "2024-05-31",
         "2024-10-06",
         "2024-10-06T18:00:16.354Z"
        ],
        [
         "128",
         "36",
         "Cerveja XYZ",
         "321",
         "17.15",
         "2024-05-07",
         "2024-10-06",
         "2024-10-06T18:00:16.354Z"
        ],
        [
         "129",
         "12",
         "Vinho ABC",
         "235",
         "10.74",
         "2024-05-10",
         "2024-10-06",
         "2024-10-06T18:00:16.354Z"
        ],
        [
         "130",
         "21",
         "Cerveja XYZ",
         "476",
         "8.2",
         "2024-03-27",
         "2024-10-06",
         "2024-10-06T18:00:16.354Z"
        ],
        [
         "131",
         "39",
         "Refrigerante 123",
         "23",
         "7.14",
         "2023-10-29",
         "2024-10-06",
         "2024-10-06T18:00:16.354Z"
        ],
        [
         "132",
         "50",
         "Água Mineral",
         "345",
         "1.98",
         "2024-02-08",
         "2024-10-06",
         "2024-10-06T18:00:16.354Z"
        ],
        [
         "133",
         "44",
         "Refrigerante 123",
         "174",
         "12.47",
         "2023-10-19",
         "2024-10-06",
         "2024-10-06T18:00:16.354Z"
        ],
        [
         "134",
         "17",
         "Vinho ABC",
         "327",
         "12.78",
         "2024-03-03",
         "2024-10-06",
         "2024-10-06T18:00:16.354Z"
        ],
        [
         "135",
         "40",
         "Vinho ABC",
         "213",
         "15.57",
         "2023-09-24",
         "2024-10-06",
         "2024-10-06T18:00:16.354Z"
        ],
        [
         "136",
         "19",
         "Refrigerante 123",
         "499",
         "6.57",
         "2024-05-24",
         "2024-10-06",
         "2024-10-06T18:00:16.354Z"
        ],
        [
         "137",
         "36",
         "Vinho ABC",
         "180",
         "5.32",
         "2023-08-01",
         "2024-10-06",
         "2024-10-06T18:00:16.354Z"
        ],
        [
         "138",
         "8",
         "Vinho ABC",
         "146",
         "1.26",
         "2024-05-28",
         "2024-10-06",
         "2024-10-06T18:00:16.354Z"
        ],
        [
         "139",
         "26",
         "Vinho ABC",
         "57",
         "7.28",
         "2023-10-14",
         "2024-10-06",
         "2024-10-06T18:00:16.354Z"
        ],
        [
         "140",
         "33",
         "Vinho ABC",
         "420",
         "18.4",
         "2024-04-09",
         "2024-10-06",
         "2024-10-06T18:00:16.354Z"
        ],
        [
         "141",
         "16",
         "Cerveja XYZ",
         "325",
         "18.41",
         "2024-01-14",
         "2024-10-06",
         "2024-10-06T18:00:16.354Z"
        ],
        [
         "142",
         "50",
         "Suco Natural",
         "302",
         "18.1",
         "2024-05-20",
         "2024-10-06",
         "2024-10-06T18:00:16.354Z"
        ],
        [
         "143",
         "19",
         "Vinho ABC",
         "423",
         "16.36",
         "2023-12-21",
         "2024-10-06",
         "2024-10-06T18:00:16.354Z"
        ],
        [
         "144",
         "18",
         "Água Mineral",
         "483",
         "19.92",
         "2023-07-31",
         "2024-10-06",
         "2024-10-06T18:00:16.354Z"
        ],
        [
         "145",
         "17",
         "Vinho ABC",
         "446",
         "6.86",
         "2024-03-20",
         "2024-10-06",
         "2024-10-06T18:00:16.354Z"
        ],
        [
         "146",
         "34",
         "Suco Natural",
         "484",
         "3.52",
         "2024-05-24",
         "2024-10-06",
         "2024-10-06T18:00:16.354Z"
        ],
        [
         "147",
         "14",
         "Vinho ABC",
         "288",
         "9.13",
         "2023-12-21",
         "2024-10-06",
         "2024-10-06T18:00:16.354Z"
        ],
        [
         "148",
         "38",
         "Cerveja XYZ",
         "238",
         "1.3",
         "2023-07-11",
         "2024-10-06",
         "2024-10-06T18:00:16.354Z"
        ],
        [
         "149",
         "30",
         "Refrigerante 123",
         "445",
         "9.06",
         "2024-02-05",
         "2024-10-06",
         "2024-10-06T18:00:16.354Z"
        ],
        [
         "150",
         "20",
         "Água Mineral",
         "292",
         "1.81",
         "2023-12-13",
         "2024-10-06",
         "2024-10-06T18:00:16.354Z"
        ],
        [
         "151",
         "13",
         "Vinho ABC",
         "106",
         "10.19",
         "2024-03-21",
         "2024-10-06",
         "2024-10-06T18:00:16.354Z"
        ],
        [
         "152",
         "15",
         "Vinho ABC",
         "329",
         "3.27",
         "2024-02-24",
         "2024-10-06",
         "2024-10-06T18:00:16.354Z"
        ],
        [
         "153",
         "27",
         "Água Mineral",
         "457",
         "18.48",
         "2023-10-29",
         "2024-10-06",
         "2024-10-06T18:00:16.354Z"
        ],
        [
         "154",
         "6",
         "Refrigerante 123",
         "481",
         "14.62",
         "2024-06-01",
         "2024-10-06",
         "2024-10-06T18:00:16.354Z"
        ],
        [
         "155",
         "34",
         "Cerveja XYZ",
         "122",
         "3.34",
         "2024-02-13",
         "2024-10-06",
         "2024-10-06T18:00:16.354Z"
        ],
        [
         "156",
         "20",
         "Refrigerante 123",
         "499",
         "7.77",
         "2023-09-01",
         "2024-10-06",
         "2024-10-06T18:00:16.354Z"
        ],
        [
         "157",
         "48",
         "Cerveja XYZ",
         "375",
         "13.83",
         "2023-09-01",
         "2024-10-06",
         "2024-10-06T18:00:16.354Z"
        ],
        [
         "158",
         "25",
         "Água Mineral",
         "275",
         "7.58",
         "2023-12-16",
         "2024-10-06",
         "2024-10-06T18:00:16.354Z"
        ],
        [
         "159",
         "40",
         "Cerveja XYZ",
         "78",
         "19.83",
         "2023-10-23",
         "2024-10-06",
         "2024-10-06T18:00:16.354Z"
        ],
        [
         "160",
         "47",
         "Suco Natural",
         "472",
         "8.2",
         "2023-11-21",
         "2024-10-06",
         "2024-10-06T18:00:16.354Z"
        ],
        [
         "161",
         "20",
         "Cerveja XYZ",
         "285",
         "15.67",
         "2023-11-01",
         "2024-10-06",
         "2024-10-06T18:00:16.354Z"
        ],
        [
         "162",
         "8",
         "Refrigerante 123",
         "112",
         "15.97",
         "2023-07-13",
         "2024-10-06",
         "2024-10-06T18:00:16.354Z"
        ],
        [
         "163",
         "40",
         "Água Mineral",
         "336",
         "14.82",
         "2024-04-08",
         "2024-10-06",
         "2024-10-06T18:00:16.354Z"
        ],
        [
         "164",
         "24",
         "Suco Natural",
         "16",
         "16.1",
         "2024-03-12",
         "2024-10-06",
         "2024-10-06T18:00:16.354Z"
        ],
        [
         "165",
         "19",
         "Cerveja XYZ",
         "108",
         "4.19",
         "2024-01-10",
         "2024-10-06",
         "2024-10-06T18:00:16.354Z"
        ],
        [
         "166",
         "30",
         "Vinho ABC",
         "346",
         "16.22",
         "2023-11-09",
         "2024-10-06",
         "2024-10-06T18:00:16.354Z"
        ],
        [
         "167",
         "4",
         "Cerveja XYZ",
         "196",
         "16.59",
         "2023-10-28",
         "2024-10-06",
         "2024-10-06T18:00:16.354Z"
        ],
        [
         "168",
         "11",
         "Água Mineral",
         "199",
         "16.53",
         "2023-12-19",
         "2024-10-06",
         "2024-10-06T18:00:16.354Z"
        ],
        [
         "169",
         "35",
         "Água Mineral",
         "91",
         "16.42",
         "2024-01-04",
         "2024-10-06",
         "2024-10-06T18:00:16.354Z"
        ],
        [
         "170",
         "30",
         "Vinho ABC",
         "228",
         "7.86",
         "2024-06-26",
         "2024-10-06",
         "2024-10-06T18:00:16.354Z"
        ],
        [
         "171",
         "41",
         "Cerveja XYZ",
         "484",
         "10.95",
         "2024-05-10",
         "2024-10-06",
         "2024-10-06T18:00:16.354Z"
        ],
        [
         "172",
         "38",
         "Vinho ABC",
         "313",
         "15.36",
         "2024-05-01",
         "2024-10-06",
         "2024-10-06T18:00:16.354Z"
        ],
        [
         "173",
         "24",
         "Cerveja XYZ",
         "369",
         "3.49",
         "2023-12-10",
         "2024-10-06",
         "2024-10-06T18:00:16.354Z"
        ],
        [
         "174",
         "29",
         "Cerveja XYZ",
         "431",
         "4.66",
         "2024-02-20",
         "2024-10-06",
         "2024-10-06T18:00:16.354Z"
        ],
        [
         "175",
         "23",
         "Suco Natural",
         "148",
         "9.7",
         "2023-10-19",
         "2024-10-06",
         "2024-10-06T18:00:16.354Z"
        ],
        [
         "176",
         "48",
         "Água Mineral",
         "69",
         "13.7",
         "2024-04-03",
         "2024-10-06",
         "2024-10-06T18:00:16.354Z"
        ],
        [
         "177",
         "6",
         "Água Mineral",
         "415",
         "8.55",
         "2024-07-06",
         "2024-10-06",
         "2024-10-06T18:00:16.354Z"
        ],
        [
         "178",
         "25",
         "Suco Natural",
         "318",
         "13.56",
         "2023-08-15",
         "2024-10-06",
         "2024-10-06T18:00:16.354Z"
        ],
        [
         "179",
         "13",
         "Água Mineral",
         "280",
         "8.93",
         "2023-07-23",
         "2024-10-06",
         "2024-10-06T18:00:16.354Z"
        ],
        [
         "180",
         "15",
         "Vinho ABC",
         "200",
         "17.31",
         "2023-08-02",
         "2024-10-06",
         "2024-10-06T18:00:16.354Z"
        ],
        [
         "181",
         "19",
         "Suco Natural",
         "414",
         "2.13",
         "2023-11-21",
         "2024-10-06",
         "2024-10-06T18:00:16.354Z"
        ],
        [
         "182",
         "38",
         "Refrigerante 123",
         "365",
         "18.55",
         "2023-09-05",
         "2024-10-06",
         "2024-10-06T18:00:16.354Z"
        ],
        [
         "183",
         "35",
         "Cerveja XYZ",
         "105",
         "16.39",
         "2023-11-01",
         "2024-10-06",
         "2024-10-06T18:00:16.354Z"
        ],
        [
         "184",
         "5",
         "Refrigerante 123",
         "127",
         "4.02",
         "2024-02-11",
         "2024-10-06",
         "2024-10-06T18:00:16.354Z"
        ],
        [
         "185",
         "7",
         "Água Mineral",
         "190",
         "7.1",
         "2024-04-10",
         "2024-10-06",
         "2024-10-06T18:00:16.354Z"
        ],
        [
         "186",
         "44",
         "Cerveja XYZ",
         "92",
         "14.17",
         "2023-12-02",
         "2024-10-06",
         "2024-10-06T18:00:16.354Z"
        ],
        [
         "187",
         "42",
         "Suco Natural",
         "276",
         "14.24",
         "2024-05-10",
         "2024-10-06",
         "2024-10-06T18:00:16.354Z"
        ],
        [
         "188",
         "23",
         "Água Mineral",
         "86",
         "11.38",
         "2024-03-11",
         "2024-10-06",
         "2024-10-06T18:00:16.354Z"
        ],
        [
         "189",
         "39",
         "Vinho ABC",
         "479",
         "14.05",
         "2024-04-25",
         "2024-10-06",
         "2024-10-06T18:00:16.354Z"
        ],
        [
         "190",
         "33",
         "Suco Natural",
         "135",
         "3.46",
         "2023-10-04",
         "2024-10-06",
         "2024-10-06T18:00:16.354Z"
        ],
        [
         "191",
         "4",
         "Refrigerante 123",
         "312",
         "11.35",
         "2023-07-26",
         "2024-10-06",
         "2024-10-06T18:00:16.354Z"
        ],
        [
         "192",
         "39",
         "Refrigerante 123",
         "380",
         "15.99",
         "2023-12-22",
         "2024-10-06",
         "2024-10-06T18:00:16.354Z"
        ],
        [
         "193",
         "5",
         "Suco Natural",
         "275",
         "1.79",
         "2024-05-24",
         "2024-10-06",
         "2024-10-06T18:00:16.354Z"
        ],
        [
         "194",
         "20",
         "Suco Natural",
         "442",
         "10.01",
         "2023-07-21",
         "2024-10-06",
         "2024-10-06T18:00:16.354Z"
        ],
        [
         "195",
         "47",
         "Refrigerante 123",
         "369",
         "3.56",
         "2024-01-18",
         "2024-10-06",
         "2024-10-06T18:00:16.354Z"
        ],
        [
         "196",
         "31",
         "Vinho ABC",
         "316",
         "14.33",
         "2023-08-16",
         "2024-10-06",
         "2024-10-06T18:00:16.354Z"
        ],
        [
         "197",
         "12",
         "Água Mineral",
         "239",
         "2.13",
         "2024-05-01",
         "2024-10-06",
         "2024-10-06T18:00:16.354Z"
        ],
        [
         "198",
         "37",
         "Água Mineral",
         "338",
         "3.53",
         "2023-07-28",
         "2024-10-06",
         "2024-10-06T18:00:16.354Z"
        ],
        [
         "199",
         "15",
         "Refrigerante 123",
         "440",
         "6.88",
         "2023-09-05",
         "2024-10-06",
         "2024-10-06T18:00:16.354Z"
        ],
        [
         "200",
         "19",
         "Cerveja XYZ",
         "416",
         "10.19",
         "2024-01-04",
         "2024-10-06",
         "2024-10-06T18:00:16.354Z"
        ],
        [
         "201",
         "6",
         "Suco Natural",
         "225",
         "12.89",
         "2023-09-30",
         "2024-10-06",
         "2024-10-06T18:00:16.354Z"
        ],
        [
         "202",
         "48",
         "Água Mineral",
         "184",
         "11.89",
         "2024-01-27",
         "2024-10-06",
         "2024-10-06T18:00:16.354Z"
        ],
        [
         "203",
         "7",
         "Cerveja XYZ",
         "173",
         "14.0",
         "2023-09-12",
         "2024-10-06",
         "2024-10-06T18:00:16.354Z"
        ],
        [
         "204",
         "37",
         "Cerveja XYZ",
         "326",
         "16.27",
         "2023-10-28",
         "2024-10-06",
         "2024-10-06T18:00:16.354Z"
        ],
        [
         "205",
         "19",
         "Cerveja XYZ",
         "322",
         "7.76",
         "2023-08-05",
         "2024-10-06",
         "2024-10-06T18:00:16.354Z"
        ],
        [
         "206",
         "31",
         "Vinho ABC",
         "369",
         "16.98",
         "2023-08-05",
         "2024-10-06",
         "2024-10-06T18:00:16.354Z"
        ],
        [
         "207",
         "50",
         "Água Mineral",
         "168",
         "14.84",
         "2023-09-27",
         "2024-10-06",
         "2024-10-06T18:00:16.354Z"
        ],
        [
         "208",
         "40",
         "Cerveja XYZ",
         "154",
         "13.72",
         "2023-12-09",
         "2024-10-06",
         "2024-10-06T18:00:16.354Z"
        ],
        [
         "209",
         "50",
         "Suco Natural",
         "83",
         "14.73",
         "2023-08-17",
         "2024-10-06",
         "2024-10-06T18:00:16.354Z"
        ],
        [
         "210",
         "35",
         "Água Mineral",
         "490",
         "2.75",
         "2024-07-10",
         "2024-10-06",
         "2024-10-06T18:00:16.354Z"
        ],
        [
         "211",
         "11",
         "Cerveja XYZ",
         "270",
         "12.22",
         "2024-03-12",
         "2024-10-06",
         "2024-10-06T18:00:16.354Z"
        ],
        [
         "212",
         "35",
         "Refrigerante 123",
         "433",
         "1.28",
         "2023-09-04",
         "2024-10-06",
         "2024-10-06T18:00:16.354Z"
        ],
        [
         "213",
         "45",
         "Cerveja XYZ",
         "381",
         "7.28",
         "2024-04-16",
         "2024-10-06",
         "2024-10-06T18:00:16.354Z"
        ],
        [
         "214",
         "47",
         "Suco Natural",
         "428",
         "3.48",
         "2023-10-20",
         "2024-10-06",
         "2024-10-06T18:00:16.354Z"
        ],
        [
         "215",
         "15",
         "Água Mineral",
         "92",
         "2.23",
         "2023-09-10",
         "2024-10-06",
         "2024-10-06T18:00:16.354Z"
        ],
        [
         "216",
         "25",
         "Água Mineral",
         "300",
         "18.13",
         "2024-05-05",
         "2024-10-06",
         "2024-10-06T18:00:16.354Z"
        ],
        [
         "217",
         "9",
         "Vinho ABC",
         "169",
         "17.14",
         "2024-03-19",
         "2024-10-06",
         "2024-10-06T18:00:16.354Z"
        ],
        [
         "218",
         "1",
         "Cerveja XYZ",
         "486",
         "13.0",
         "2023-09-29",
         "2024-10-06",
         "2024-10-06T18:00:16.354Z"
        ],
        [
         "219",
         "26",
         "Refrigerante 123",
         "20",
         "13.28",
         "2023-09-14",
         "2024-10-06",
         "2024-10-06T18:00:16.354Z"
        ],
        [
         "220",
         "39",
         "Suco Natural",
         "109",
         "4.44",
         "2024-02-09",
         "2024-10-06",
         "2024-10-06T18:00:16.354Z"
        ],
        [
         "221",
         "24",
         "Suco Natural",
         "487",
         "8.06",
         "2024-05-11",
         "2024-10-06",
         "2024-10-06T18:00:16.354Z"
        ],
        [
         "222",
         "10",
         "Vinho ABC",
         "44",
         "18.87",
         "2024-06-08",
         "2024-10-06",
         "2024-10-06T18:00:16.354Z"
        ],
        [
         "223",
         "23",
         "Refrigerante 123",
         "419",
         "10.66",
         "2024-03-16",
         "2024-10-06",
         "2024-10-06T18:00:16.354Z"
        ],
        [
         "224",
         "29",
         "Água Mineral",
         "106",
         "4.73",
         "2024-05-17",
         "2024-10-06",
         "2024-10-06T18:00:16.354Z"
        ],
        [
         "225",
         "10",
         "Refrigerante 123",
         "207",
         "9.82",
         "2023-12-17",
         "2024-10-06",
         "2024-10-06T18:00:16.354Z"
        ],
        [
         "226",
         "29",
         "Cerveja XYZ",
         "422",
         "17.35",
         "2023-09-02",
         "2024-10-06",
         "2024-10-06T18:00:16.354Z"
        ],
        [
         "227",
         "15",
         "Vinho ABC",
         "194",
         "14.54",
         "2024-05-12",
         "2024-10-06",
         "2024-10-06T18:00:16.354Z"
        ],
        [
         "228",
         "27",
         "Vinho ABC",
         "484",
         "16.74",
         "2023-08-11",
         "2024-10-06",
         "2024-10-06T18:00:16.354Z"
        ],
        [
         "229",
         "21",
         "Refrigerante 123",
         "45",
         "7.68",
         "2024-04-10",
         "2024-10-06",
         "2024-10-06T18:00:16.354Z"
        ],
        [
         "230",
         "41",
         "Cerveja XYZ",
         "290",
         "6.24",
         "2024-06-11",
         "2024-10-06",
         "2024-10-06T18:00:16.354Z"
        ],
        [
         "231",
         "9",
         "Água Mineral",
         "376",
         "3.62",
         "2024-01-02",
         "2024-10-06",
         "2024-10-06T18:00:16.354Z"
        ],
        [
         "232",
         "24",
         "Cerveja XYZ",
         "258",
         "17.3",
         "2023-12-17",
         "2024-10-06",
         "2024-10-06T18:00:16.354Z"
        ],
        [
         "233",
         "20",
         "Refrigerante 123",
         "472",
         "11.22",
         "2024-07-01",
         "2024-10-06",
         "2024-10-06T18:00:16.354Z"
        ],
        [
         "234",
         "28",
         "Cerveja XYZ",
         "227",
         "2.72",
         "2024-06-15",
         "2024-10-06",
         "2024-10-06T18:00:16.354Z"
        ],
        [
         "235",
         "3",
         "Água Mineral",
         "282",
         "3.59",
         "2024-07-02",
         "2024-10-06",
         "2024-10-06T18:00:16.354Z"
        ],
        [
         "236",
         "46",
         "Refrigerante 123",
         "180",
         "8.48",
         "2024-04-03",
         "2024-10-06",
         "2024-10-06T18:00:16.354Z"
        ],
        [
         "237",
         "2",
         "Água Mineral",
         "237",
         "15.06",
         "2024-04-30",
         "2024-10-06",
         "2024-10-06T18:00:16.354Z"
        ],
        [
         "238",
         "49",
         "Cerveja XYZ",
         "48",
         "1.92",
         "2024-01-17",
         "2024-10-06",
         "2024-10-06T18:00:16.354Z"
        ],
        [
         "239",
         "43",
         "Suco Natural",
         "265",
         "7.74",
         "2024-06-26",
         "2024-10-06",
         "2024-10-06T18:00:16.354Z"
        ],
        [
         "240",
         "41",
         "Suco Natural",
         "485",
         "12.22",
         "2023-10-11",
         "2024-10-06",
         "2024-10-06T18:00:16.354Z"
        ],
        [
         "241",
         "50",
         "Suco Natural",
         "488",
         "6.81",
         "2023-12-08",
         "2024-10-06",
         "2024-10-06T18:00:16.354Z"
        ],
        [
         "242",
         "39",
         "Vinho ABC",
         "345",
         "12.48",
         "2024-04-04",
         "2024-10-06",
         "2024-10-06T18:00:16.354Z"
        ],
        [
         "243",
         "23",
         "Água Mineral",
         "337",
         "18.82",
         "2024-04-22",
         "2024-10-06",
         "2024-10-06T18:00:16.354Z"
        ],
        [
         "244",
         "31",
         "Água Mineral",
         "280",
         "6.08",
         "2024-02-28",
         "2024-10-06",
         "2024-10-06T18:00:16.354Z"
        ],
        [
         "245",
         "27",
         "Cerveja XYZ",
         "418",
         "12.66",
         "2024-01-31",
         "2024-10-06",
         "2024-10-06T18:00:16.354Z"
        ],
        [
         "246",
         "1",
         "Suco Natural",
         "468",
         "4.25",
         "2023-11-27",
         "2024-10-06",
         "2024-10-06T18:00:16.354Z"
        ],
        [
         "247",
         "41",
         "Suco Natural",
         "26",
         "7.5",
         "2024-04-18",
         "2024-10-06",
         "2024-10-06T18:00:16.354Z"
        ],
        [
         "248",
         "44",
         "Água Mineral",
         "326",
         "13.45",
         "2023-08-10",
         "2024-10-06",
         "2024-10-06T18:00:16.354Z"
        ],
        [
         "249",
         "12",
         "Refrigerante 123",
         "81",
         "12.84",
         "2023-12-20",
         "2024-10-06",
         "2024-10-06T18:00:16.354Z"
        ],
        [
         "250",
         "32",
         "Água Mineral",
         "327",
         "11.68",
         "2023-08-29",
         "2024-10-06",
         "2024-10-06T18:00:16.354Z"
        ]
       ],
       "datasetInfos": [],
       "dbfsResultPath": null,
       "isJsonSchema": true,
       "metadata": {},
       "overflow": false,
       "plotOptions": {
        "customPlotOptions": {},
        "displayType": "table",
        "pivotAggregation": null,
        "pivotColumns": null,
        "xColumns": null,
        "yColumns": null
       },
       "removedWidgets": [],
       "schema": [
        {
         "metadata": "{}",
         "name": "PedidoID",
         "type": "\"string\""
        },
        {
         "metadata": "{}",
         "name": "EstabelecimentoID",
         "type": "\"string\""
        },
        {
         "metadata": "{}",
         "name": "Produto",
         "type": "\"string\""
        },
        {
         "metadata": "{}",
         "name": "quantidade_vendida",
         "type": "\"string\""
        },
        {
         "metadata": "{}",
         "name": "Preco_Unitario",
         "type": "\"string\""
        },
        {
         "metadata": "{}",
         "name": "data_venda",
         "type": "\"string\""
        },
        {
         "metadata": "{}",
         "name": "data_carga",
         "type": "\"date\""
        },
        {
         "metadata": "{}",
         "name": "data_hora_carga",
         "type": "\"timestamp\""
        }
       ],
       "type": "table"
      }
     },
     "output_type": "display_data"
    }
   ],
   "source": [
    "df.display()"
   ]
  },
  {
   "cell_type": "code",
   "execution_count": 0,
   "metadata": {
    "application/vnd.databricks.v1+cell": {
     "cellMetadata": {
      "byteLimit": 2048000,
      "rowLimit": 10000
     },
     "inputWidgets": {},
     "nuid": "77193661-79a5-489c-921e-0f5a5af57605",
     "showTitle": false,
     "title": ""
    }
   },
   "outputs": [
    {
     "output_type": "stream",
     "name": "stdout",
     "output_type": "stream",
     "text": [
      "Dados gravados com sucesso!\n"
     ]
    }
   ],
   "source": [
    "#Gravar os dados no formato Delta\n",
    "df.write \\\n",
    "    .format('delta') \\\n",
    "    .mode('overwrite') \\\n",
    "    .option('mergeSchema', 'true') \\\n",
    "    .option('overwriteSchema', 'true') \\\n",
    "    .saveAsTable(f'{database}.{tabela}')\n",
    "print(\"Dados gravados com sucesso!\")"
   ]
  },
  {
   "cell_type": "code",
   "execution_count": 0,
   "metadata": {
    "application/vnd.databricks.v1+cell": {
     "cellMetadata": {
      "byteLimit": 2048000,
      "implicitDf": true,
      "rowLimit": 10000
     },
     "inputWidgets": {},
     "nuid": "85fd26a7-0fd0-4b4a-a182-4a0ed08c38d4",
     "showTitle": false,
     "title": ""
    }
   },
   "outputs": [
    {
     "output_type": "display_data",
     "data": {
      "text/html": [
       "<style scoped>\n",
       "  .table-result-container {\n",
       "    max-height: 300px;\n",
       "    overflow: auto;\n",
       "  }\n",
       "  table, th, td {\n",
       "    border: 1px solid black;\n",
       "    border-collapse: collapse;\n",
       "  }\n",
       "  th, td {\n",
       "    padding: 5px;\n",
       "  }\n",
       "  th {\n",
       "    text-align: left;\n",
       "  }\n",
       "</style><div class='table-result-container'><table class='table-result'><thead style='background-color: white'><tr><th>PedidoID</th><th>EstabelecimentoID</th><th>Produto</th><th>quantidade_vendida</th><th>Preco_Unitario</th><th>data_venda</th><th>data_carga</th><th>data_hora_carga</th></tr></thead><tbody><tr><td>1</td><td>50</td><td>Suco Natural</td><td>440</td><td>11.11</td><td>2023-07-22</td><td>2024-10-06</td><td>2024-10-06T18:00:17.472Z</td></tr><tr><td>2</td><td>12</td><td>Refrigerante 123</td><td>278</td><td>15.45</td><td>2024-07-06</td><td>2024-10-06</td><td>2024-10-06T18:00:17.472Z</td></tr><tr><td>3</td><td>16</td><td>Água Mineral</td><td>178</td><td>4.26</td><td>2023-08-09</td><td>2024-10-06</td><td>2024-10-06T18:00:17.472Z</td></tr><tr><td>4</td><td>42</td><td>Cerveja XYZ</td><td>38</td><td>11.65</td><td>2024-04-17</td><td>2024-10-06</td><td>2024-10-06T18:00:17.472Z</td></tr><tr><td>5</td><td>28</td><td>Refrigerante 123</td><td>94</td><td>9.39</td><td>2024-03-14</td><td>2024-10-06</td><td>2024-10-06T18:00:17.472Z</td></tr><tr><td>6</td><td>22</td><td>Suco Natural</td><td>108</td><td>8.04</td><td>2024-03-30</td><td>2024-10-06</td><td>2024-10-06T18:00:17.472Z</td></tr><tr><td>7</td><td>37</td><td>Cerveja XYZ</td><td>194</td><td>12.99</td><td>2024-03-27</td><td>2024-10-06</td><td>2024-10-06T18:00:17.472Z</td></tr><tr><td>8</td><td>28</td><td>Vinho ABC</td><td>349</td><td>1.26</td><td>2023-11-11</td><td>2024-10-06</td><td>2024-10-06T18:00:17.472Z</td></tr><tr><td>9</td><td>15</td><td>Suco Natural</td><td>62</td><td>6.25</td><td>2024-01-20</td><td>2024-10-06</td><td>2024-10-06T18:00:17.472Z</td></tr><tr><td>10</td><td>19</td><td>Vinho ABC</td><td>297</td><td>18.37</td><td>2024-05-07</td><td>2024-10-06</td><td>2024-10-06T18:00:17.472Z</td></tr><tr><td>11</td><td>2</td><td>Vinho ABC</td><td>253</td><td>6.37</td><td>2023-09-06</td><td>2024-10-06</td><td>2024-10-06T18:00:17.472Z</td></tr><tr><td>12</td><td>48</td><td>Cerveja XYZ</td><td>31</td><td>16.43</td><td>2023-12-08</td><td>2024-10-06</td><td>2024-10-06T18:00:17.472Z</td></tr><tr><td>13</td><td>29</td><td>Cerveja XYZ</td><td>263</td><td>7.91</td><td>2024-04-12</td><td>2024-10-06</td><td>2024-10-06T18:00:17.472Z</td></tr><tr><td>14</td><td>32</td><td>Cerveja XYZ</td><td>215</td><td>15.64</td><td>2023-12-29</td><td>2024-10-06</td><td>2024-10-06T18:00:17.472Z</td></tr><tr><td>15</td><td>10</td><td>Cerveja XYZ</td><td>88</td><td>6.43</td><td>2023-11-25</td><td>2024-10-06</td><td>2024-10-06T18:00:17.472Z</td></tr><tr><td>16</td><td>18</td><td>Cerveja XYZ</td><td>292</td><td>12.31</td><td>2024-05-16</td><td>2024-10-06</td><td>2024-10-06T18:00:17.472Z</td></tr><tr><td>17</td><td>7</td><td>Refrigerante 123</td><td>393</td><td>10.29</td><td>2023-12-23</td><td>2024-10-06</td><td>2024-10-06T18:00:17.472Z</td></tr><tr><td>18</td><td>48</td><td>Refrigerante 123</td><td>184</td><td>15.33</td><td>2023-08-26</td><td>2024-10-06</td><td>2024-10-06T18:00:17.472Z</td></tr><tr><td>19</td><td>7</td><td>Refrigerante 123</td><td>314</td><td>19.87</td><td>2024-02-18</td><td>2024-10-06</td><td>2024-10-06T18:00:17.472Z</td></tr><tr><td>20</td><td>18</td><td>Refrigerante 123</td><td>111</td><td>11.06</td><td>2024-07-10</td><td>2024-10-06</td><td>2024-10-06T18:00:17.472Z</td></tr><tr><td>21</td><td>18</td><td>Refrigerante 123</td><td>73</td><td>5.66</td><td>2024-06-04</td><td>2024-10-06</td><td>2024-10-06T18:00:17.472Z</td></tr><tr><td>22</td><td>30</td><td>Cerveja XYZ</td><td>385</td><td>2.1</td><td>2024-01-13</td><td>2024-10-06</td><td>2024-10-06T18:00:17.472Z</td></tr><tr><td>23</td><td>27</td><td>Cerveja XYZ</td><td>366</td><td>10.83</td><td>2024-04-13</td><td>2024-10-06</td><td>2024-10-06T18:00:17.472Z</td></tr><tr><td>24</td><td>9</td><td>Água Mineral</td><td>99</td><td>7.22</td><td>2024-02-03</td><td>2024-10-06</td><td>2024-10-06T18:00:17.472Z</td></tr><tr><td>25</td><td>49</td><td>Água Mineral</td><td>301</td><td>6.48</td><td>2024-02-25</td><td>2024-10-06</td><td>2024-10-06T18:00:17.472Z</td></tr><tr><td>26</td><td>49</td><td>Cerveja XYZ</td><td>191</td><td>5.93</td><td>2023-09-11</td><td>2024-10-06</td><td>2024-10-06T18:00:17.472Z</td></tr><tr><td>27</td><td>14</td><td>Vinho ABC</td><td>182</td><td>18.15</td><td>2023-08-26</td><td>2024-10-06</td><td>2024-10-06T18:00:17.472Z</td></tr><tr><td>28</td><td>26</td><td>Cerveja XYZ</td><td>386</td><td>9.45</td><td>2024-07-03</td><td>2024-10-06</td><td>2024-10-06T18:00:17.472Z</td></tr><tr><td>29</td><td>43</td><td>Vinho ABC</td><td>170</td><td>6.27</td><td>2024-02-27</td><td>2024-10-06</td><td>2024-10-06T18:00:17.472Z</td></tr><tr><td>30</td><td>4</td><td>Água Mineral</td><td>159</td><td>11.59</td><td>2023-07-29</td><td>2024-10-06</td><td>2024-10-06T18:00:17.472Z</td></tr><tr><td>31</td><td>2</td><td>Suco Natural</td><td>439</td><td>10.89</td><td>2023-11-10</td><td>2024-10-06</td><td>2024-10-06T18:00:17.472Z</td></tr><tr><td>32</td><td>23</td><td>Cerveja XYZ</td><td>125</td><td>3.53</td><td>2023-11-11</td><td>2024-10-06</td><td>2024-10-06T18:00:17.472Z</td></tr><tr><td>33</td><td>10</td><td>Vinho ABC</td><td>20</td><td>1.9</td><td>2023-12-14</td><td>2024-10-06</td><td>2024-10-06T18:00:17.472Z</td></tr><tr><td>34</td><td>4</td><td>Suco Natural</td><td>297</td><td>11.8</td><td>2024-06-02</td><td>2024-10-06</td><td>2024-10-06T18:00:17.472Z</td></tr><tr><td>35</td><td>6</td><td>Cerveja XYZ</td><td>130</td><td>1.94</td><td>2023-12-03</td><td>2024-10-06</td><td>2024-10-06T18:00:17.472Z</td></tr><tr><td>36</td><td>28</td><td>Refrigerante 123</td><td>402</td><td>19.4</td><td>2024-06-27</td><td>2024-10-06</td><td>2024-10-06T18:00:17.472Z</td></tr><tr><td>37</td><td>20</td><td>Suco Natural</td><td>331</td><td>8.44</td><td>2024-01-14</td><td>2024-10-06</td><td>2024-10-06T18:00:17.472Z</td></tr><tr><td>38</td><td>21</td><td>Vinho ABC</td><td>256</td><td>16.6</td><td>2023-09-26</td><td>2024-10-06</td><td>2024-10-06T18:00:17.472Z</td></tr><tr><td>39</td><td>15</td><td>Cerveja XYZ</td><td>315</td><td>16.31</td><td>2024-01-14</td><td>2024-10-06</td><td>2024-10-06T18:00:17.472Z</td></tr><tr><td>40</td><td>18</td><td>Vinho ABC</td><td>411</td><td>8.45</td><td>2023-09-16</td><td>2024-10-06</td><td>2024-10-06T18:00:17.472Z</td></tr><tr><td>41</td><td>30</td><td>Suco Natural</td><td>306</td><td>12.93</td><td>2024-01-18</td><td>2024-10-06</td><td>2024-10-06T18:00:17.472Z</td></tr><tr><td>42</td><td>14</td><td>Vinho ABC</td><td>386</td><td>8.89</td><td>2023-11-30</td><td>2024-10-06</td><td>2024-10-06T18:00:17.472Z</td></tr><tr><td>43</td><td>33</td><td>Vinho ABC</td><td>250</td><td>15.51</td><td>2023-07-14</td><td>2024-10-06</td><td>2024-10-06T18:00:17.472Z</td></tr><tr><td>44</td><td>15</td><td>Refrigerante 123</td><td>390</td><td>18.11</td><td>2024-01-29</td><td>2024-10-06</td><td>2024-10-06T18:00:17.472Z</td></tr><tr><td>45</td><td>41</td><td>Cerveja XYZ</td><td>294</td><td>10.21</td><td>2023-08-16</td><td>2024-10-06</td><td>2024-10-06T18:00:17.472Z</td></tr><tr><td>46</td><td>10</td><td>Água Mineral</td><td>392</td><td>8.26</td><td>2023-11-10</td><td>2024-10-06</td><td>2024-10-06T18:00:17.472Z</td></tr><tr><td>47</td><td>47</td><td>Refrigerante 123</td><td>473</td><td>12.57</td><td>2024-03-27</td><td>2024-10-06</td><td>2024-10-06T18:00:17.472Z</td></tr><tr><td>48</td><td>9</td><td>Cerveja XYZ</td><td>44</td><td>19.92</td><td>2024-03-15</td><td>2024-10-06</td><td>2024-10-06T18:00:17.472Z</td></tr><tr><td>49</td><td>1</td><td>Água Mineral</td><td>30</td><td>19.49</td><td>2024-01-20</td><td>2024-10-06</td><td>2024-10-06T18:00:17.472Z</td></tr><tr><td>50</td><td>46</td><td>Vinho ABC</td><td>277</td><td>15.81</td><td>2024-04-10</td><td>2024-10-06</td><td>2024-10-06T18:00:17.472Z</td></tr><tr><td>51</td><td>45</td><td>Suco Natural</td><td>98</td><td>3.33</td><td>2023-09-29</td><td>2024-10-06</td><td>2024-10-06T18:00:17.472Z</td></tr><tr><td>52</td><td>4</td><td>Vinho ABC</td><td>144</td><td>5.94</td><td>2024-04-02</td><td>2024-10-06</td><td>2024-10-06T18:00:17.472Z</td></tr><tr><td>53</td><td>24</td><td>Refrigerante 123</td><td>480</td><td>12.53</td><td>2024-02-09</td><td>2024-10-06</td><td>2024-10-06T18:00:17.472Z</td></tr><tr><td>54</td><td>29</td><td>Vinho ABC</td><td>266</td><td>1.34</td><td>2024-06-30</td><td>2024-10-06</td><td>2024-10-06T18:00:17.472Z</td></tr><tr><td>55</td><td>9</td><td>Vinho ABC</td><td>482</td><td>14.78</td><td>2023-11-22</td><td>2024-10-06</td><td>2024-10-06T18:00:17.472Z</td></tr><tr><td>56</td><td>2</td><td>Cerveja XYZ</td><td>448</td><td>10.91</td><td>2023-08-16</td><td>2024-10-06</td><td>2024-10-06T18:00:17.472Z</td></tr><tr><td>57</td><td>27</td><td>Cerveja XYZ</td><td>463</td><td>14.77</td><td>2024-05-26</td><td>2024-10-06</td><td>2024-10-06T18:00:17.472Z</td></tr><tr><td>58</td><td>17</td><td>Refrigerante 123</td><td>446</td><td>9.45</td><td>2024-02-28</td><td>2024-10-06</td><td>2024-10-06T18:00:17.472Z</td></tr><tr><td>59</td><td>26</td><td>Vinho ABC</td><td>198</td><td>6.52</td><td>2024-05-31</td><td>2024-10-06</td><td>2024-10-06T18:00:17.472Z</td></tr><tr><td>60</td><td>25</td><td>Vinho ABC</td><td>61</td><td>14.53</td><td>2024-05-21</td><td>2024-10-06</td><td>2024-10-06T18:00:17.472Z</td></tr><tr><td>61</td><td>22</td><td>Suco Natural</td><td>289</td><td>19.99</td><td>2024-03-16</td><td>2024-10-06</td><td>2024-10-06T18:00:17.472Z</td></tr><tr><td>62</td><td>9</td><td>Suco Natural</td><td>405</td><td>15.03</td><td>2023-10-19</td><td>2024-10-06</td><td>2024-10-06T18:00:17.472Z</td></tr><tr><td>63</td><td>34</td><td>Cerveja XYZ</td><td>186</td><td>3.87</td><td>2024-04-07</td><td>2024-10-06</td><td>2024-10-06T18:00:17.472Z</td></tr><tr><td>64</td><td>50</td><td>Água Mineral</td><td>19</td><td>10.02</td><td>2024-07-04</td><td>2024-10-06</td><td>2024-10-06T18:00:17.472Z</td></tr><tr><td>65</td><td>36</td><td>Água Mineral</td><td>220</td><td>11.01</td><td>2024-01-08</td><td>2024-10-06</td><td>2024-10-06T18:00:17.472Z</td></tr><tr><td>66</td><td>9</td><td>Vinho ABC</td><td>73</td><td>6.53</td><td>2024-07-09</td><td>2024-10-06</td><td>2024-10-06T18:00:17.472Z</td></tr><tr><td>67</td><td>4</td><td>Água Mineral</td><td>212</td><td>12.72</td><td>2024-05-03</td><td>2024-10-06</td><td>2024-10-06T18:00:17.472Z</td></tr><tr><td>68</td><td>40</td><td>Água Mineral</td><td>498</td><td>16.05</td><td>2023-09-15</td><td>2024-10-06</td><td>2024-10-06T18:00:17.472Z</td></tr><tr><td>69</td><td>25</td><td>Água Mineral</td><td>23</td><td>5.71</td><td>2023-08-16</td><td>2024-10-06</td><td>2024-10-06T18:00:17.472Z</td></tr><tr><td>70</td><td>48</td><td>Água Mineral</td><td>360</td><td>13.53</td><td>2024-02-05</td><td>2024-10-06</td><td>2024-10-06T18:00:17.472Z</td></tr><tr><td>71</td><td>2</td><td>Vinho ABC</td><td>96</td><td>3.7</td><td>2023-12-20</td><td>2024-10-06</td><td>2024-10-06T18:00:17.472Z</td></tr><tr><td>72</td><td>6</td><td>Suco Natural</td><td>316</td><td>14.96</td><td>2024-02-03</td><td>2024-10-06</td><td>2024-10-06T18:00:17.472Z</td></tr><tr><td>73</td><td>3</td><td>Vinho ABC</td><td>390</td><td>6.09</td><td>2024-05-01</td><td>2024-10-06</td><td>2024-10-06T18:00:17.472Z</td></tr><tr><td>74</td><td>36</td><td>Cerveja XYZ</td><td>461</td><td>18.79</td><td>2023-09-09</td><td>2024-10-06</td><td>2024-10-06T18:00:17.472Z</td></tr><tr><td>75</td><td>21</td><td>Cerveja XYZ</td><td>433</td><td>1.84</td><td>2024-04-19</td><td>2024-10-06</td><td>2024-10-06T18:00:17.472Z</td></tr><tr><td>76</td><td>4</td><td>Cerveja XYZ</td><td>314</td><td>13.39</td><td>2024-02-29</td><td>2024-10-06</td><td>2024-10-06T18:00:17.472Z</td></tr><tr><td>77</td><td>28</td><td>Suco Natural</td><td>113</td><td>3.41</td><td>2024-03-14</td><td>2024-10-06</td><td>2024-10-06T18:00:17.472Z</td></tr><tr><td>78</td><td>20</td><td>Água Mineral</td><td>212</td><td>12.08</td><td>2023-12-24</td><td>2024-10-06</td><td>2024-10-06T18:00:17.472Z</td></tr><tr><td>79</td><td>31</td><td>Água Mineral</td><td>190</td><td>11.35</td><td>2023-08-02</td><td>2024-10-06</td><td>2024-10-06T18:00:17.472Z</td></tr><tr><td>80</td><td>15</td><td>Água Mineral</td><td>494</td><td>18.05</td><td>2023-11-11</td><td>2024-10-06</td><td>2024-10-06T18:00:17.472Z</td></tr><tr><td>81</td><td>23</td><td>Suco Natural</td><td>340</td><td>5.15</td><td>2024-03-14</td><td>2024-10-06</td><td>2024-10-06T18:00:17.472Z</td></tr><tr><td>82</td><td>21</td><td>Cerveja XYZ</td><td>69</td><td>7.56</td><td>2023-09-03</td><td>2024-10-06</td><td>2024-10-06T18:00:17.472Z</td></tr><tr><td>83</td><td>5</td><td>Suco Natural</td><td>328</td><td>7.31</td><td>2023-12-30</td><td>2024-10-06</td><td>2024-10-06T18:00:17.472Z</td></tr><tr><td>84</td><td>29</td><td>Cerveja XYZ</td><td>372</td><td>12.43</td><td>2024-01-20</td><td>2024-10-06</td><td>2024-10-06T18:00:17.472Z</td></tr><tr><td>85</td><td>19</td><td>Água Mineral</td><td>177</td><td>4.37</td><td>2023-11-22</td><td>2024-10-06</td><td>2024-10-06T18:00:17.472Z</td></tr><tr><td>86</td><td>15</td><td>Vinho ABC</td><td>157</td><td>4.05</td><td>2024-04-24</td><td>2024-10-06</td><td>2024-10-06T18:00:17.472Z</td></tr><tr><td>87</td><td>18</td><td>Água Mineral</td><td>53</td><td>8.2</td><td>2024-06-06</td><td>2024-10-06</td><td>2024-10-06T18:00:17.472Z</td></tr><tr><td>88</td><td>24</td><td>Cerveja XYZ</td><td>100</td><td>12.8</td><td>2023-09-20</td><td>2024-10-06</td><td>2024-10-06T18:00:17.472Z</td></tr><tr><td>89</td><td>29</td><td>Vinho ABC</td><td>276</td><td>9.57</td><td>2024-06-05</td><td>2024-10-06</td><td>2024-10-06T18:00:17.472Z</td></tr><tr><td>90</td><td>31</td><td>Suco Natural</td><td>412</td><td>16.41</td><td>2024-03-09</td><td>2024-10-06</td><td>2024-10-06T18:00:17.472Z</td></tr><tr><td>91</td><td>14</td><td>Vinho ABC</td><td>74</td><td>16.84</td><td>2024-03-04</td><td>2024-10-06</td><td>2024-10-06T18:00:17.472Z</td></tr><tr><td>92</td><td>13</td><td>Cerveja XYZ</td><td>242</td><td>8.58</td><td>2023-12-19</td><td>2024-10-06</td><td>2024-10-06T18:00:17.472Z</td></tr><tr><td>93</td><td>45</td><td>Vinho ABC</td><td>88</td><td>4.87</td><td>2023-11-14</td><td>2024-10-06</td><td>2024-10-06T18:00:17.472Z</td></tr><tr><td>94</td><td>3</td><td>Água Mineral</td><td>249</td><td>7.09</td><td>2024-02-04</td><td>2024-10-06</td><td>2024-10-06T18:00:17.472Z</td></tr><tr><td>95</td><td>7</td><td>Vinho ABC</td><td>205</td><td>11.64</td><td>2023-08-27</td><td>2024-10-06</td><td>2024-10-06T18:00:17.472Z</td></tr><tr><td>96</td><td>49</td><td>Cerveja XYZ</td><td>395</td><td>17.46</td><td>2024-02-02</td><td>2024-10-06</td><td>2024-10-06T18:00:17.472Z</td></tr><tr><td>97</td><td>25</td><td>Refrigerante 123</td><td>34</td><td>16.12</td><td>2024-07-06</td><td>2024-10-06</td><td>2024-10-06T18:00:17.472Z</td></tr><tr><td>98</td><td>28</td><td>Suco Natural</td><td>284</td><td>8.15</td><td>2023-12-05</td><td>2024-10-06</td><td>2024-10-06T18:00:17.472Z</td></tr><tr><td>99</td><td>28</td><td>Suco Natural</td><td>496</td><td>4.9</td><td>2023-08-19</td><td>2024-10-06</td><td>2024-10-06T18:00:17.472Z</td></tr><tr><td>100</td><td>50</td><td>Refrigerante 123</td><td>109</td><td>16.5</td><td>2023-11-05</td><td>2024-10-06</td><td>2024-10-06T18:00:17.472Z</td></tr><tr><td>101</td><td>43</td><td>Suco Natural</td><td>491</td><td>12.15</td><td>2024-03-09</td><td>2024-10-06</td><td>2024-10-06T18:00:17.472Z</td></tr><tr><td>102</td><td>20</td><td>Suco Natural</td><td>109</td><td>14.8</td><td>2023-08-21</td><td>2024-10-06</td><td>2024-10-06T18:00:17.472Z</td></tr><tr><td>103</td><td>4</td><td>Vinho ABC</td><td>295</td><td>15.44</td><td>2023-09-20</td><td>2024-10-06</td><td>2024-10-06T18:00:17.472Z</td></tr><tr><td>104</td><td>7</td><td>Suco Natural</td><td>107</td><td>1.72</td><td>2023-12-11</td><td>2024-10-06</td><td>2024-10-06T18:00:17.472Z</td></tr><tr><td>105</td><td>48</td><td>Vinho ABC</td><td>301</td><td>9.41</td><td>2023-09-03</td><td>2024-10-06</td><td>2024-10-06T18:00:17.472Z</td></tr><tr><td>106</td><td>23</td><td>Refrigerante 123</td><td>389</td><td>11.09</td><td>2024-05-18</td><td>2024-10-06</td><td>2024-10-06T18:00:17.472Z</td></tr><tr><td>107</td><td>43</td><td>Refrigerante 123</td><td>414</td><td>1.42</td><td>2023-12-09</td><td>2024-10-06</td><td>2024-10-06T18:00:17.472Z</td></tr><tr><td>108</td><td>4</td><td>Vinho ABC</td><td>307</td><td>14.69</td><td>2023-10-12</td><td>2024-10-06</td><td>2024-10-06T18:00:17.472Z</td></tr><tr><td>109</td><td>13</td><td>Suco Natural</td><td>49</td><td>14.61</td><td>2023-08-22</td><td>2024-10-06</td><td>2024-10-06T18:00:17.472Z</td></tr><tr><td>110</td><td>34</td><td>Refrigerante 123</td><td>392</td><td>13.64</td><td>2024-02-27</td><td>2024-10-06</td><td>2024-10-06T18:00:17.472Z</td></tr><tr><td>111</td><td>28</td><td>Água Mineral</td><td>51</td><td>13.69</td><td>2023-12-29</td><td>2024-10-06</td><td>2024-10-06T18:00:17.472Z</td></tr><tr><td>112</td><td>20</td><td>Água Mineral</td><td>36</td><td>4.79</td><td>2024-03-16</td><td>2024-10-06</td><td>2024-10-06T18:00:17.472Z</td></tr><tr><td>113</td><td>37</td><td>Refrigerante 123</td><td>243</td><td>7.08</td><td>2023-11-11</td><td>2024-10-06</td><td>2024-10-06T18:00:17.472Z</td></tr><tr><td>114</td><td>9</td><td>Refrigerante 123</td><td>350</td><td>11.16</td><td>2024-04-13</td><td>2024-10-06</td><td>2024-10-06T18:00:17.472Z</td></tr><tr><td>115</td><td>46</td><td>Suco Natural</td><td>415</td><td>17.37</td><td>2023-11-14</td><td>2024-10-06</td><td>2024-10-06T18:00:17.472Z</td></tr><tr><td>116</td><td>18</td><td>Refrigerante 123</td><td>89</td><td>14.44</td><td>2024-04-21</td><td>2024-10-06</td><td>2024-10-06T18:00:17.472Z</td></tr><tr><td>117</td><td>24</td><td>Água Mineral</td><td>183</td><td>2.99</td><td>2024-06-29</td><td>2024-10-06</td><td>2024-10-06T18:00:17.472Z</td></tr><tr><td>118</td><td>31</td><td>Vinho ABC</td><td>335</td><td>17.99</td><td>2024-05-02</td><td>2024-10-06</td><td>2024-10-06T18:00:17.472Z</td></tr><tr><td>119</td><td>11</td><td>Água Mineral</td><td>337</td><td>12.01</td><td>2023-10-15</td><td>2024-10-06</td><td>2024-10-06T18:00:17.472Z</td></tr><tr><td>120</td><td>4</td><td>Vinho ABC</td><td>111</td><td>7.54</td><td>2023-12-17</td><td>2024-10-06</td><td>2024-10-06T18:00:17.472Z</td></tr><tr><td>121</td><td>39</td><td>Vinho ABC</td><td>444</td><td>11.52</td><td>2024-01-20</td><td>2024-10-06</td><td>2024-10-06T18:00:17.472Z</td></tr><tr><td>122</td><td>4</td><td>Água Mineral</td><td>14</td><td>8.67</td><td>2024-05-24</td><td>2024-10-06</td><td>2024-10-06T18:00:17.472Z</td></tr><tr><td>123</td><td>23</td><td>Água Mineral</td><td>383</td><td>6.07</td><td>2024-06-24</td><td>2024-10-06</td><td>2024-10-06T18:00:17.472Z</td></tr><tr><td>124</td><td>16</td><td>Vinho ABC</td><td>380</td><td>15.19</td><td>2024-05-21</td><td>2024-10-06</td><td>2024-10-06T18:00:17.472Z</td></tr><tr><td>125</td><td>15</td><td>Água Mineral</td><td>404</td><td>18.28</td><td>2023-11-22</td><td>2024-10-06</td><td>2024-10-06T18:00:17.472Z</td></tr><tr><td>126</td><td>39</td><td>Suco Natural</td><td>285</td><td>15.35</td><td>2024-06-09</td><td>2024-10-06</td><td>2024-10-06T18:00:17.472Z</td></tr><tr><td>127</td><td>5</td><td>Suco Natural</td><td>65</td><td>17.0</td><td>2024-05-31</td><td>2024-10-06</td><td>2024-10-06T18:00:17.472Z</td></tr><tr><td>128</td><td>36</td><td>Cerveja XYZ</td><td>321</td><td>17.15</td><td>2024-05-07</td><td>2024-10-06</td><td>2024-10-06T18:00:17.472Z</td></tr><tr><td>129</td><td>12</td><td>Vinho ABC</td><td>235</td><td>10.74</td><td>2024-05-10</td><td>2024-10-06</td><td>2024-10-06T18:00:17.472Z</td></tr><tr><td>130</td><td>21</td><td>Cerveja XYZ</td><td>476</td><td>8.2</td><td>2024-03-27</td><td>2024-10-06</td><td>2024-10-06T18:00:17.472Z</td></tr><tr><td>131</td><td>39</td><td>Refrigerante 123</td><td>23</td><td>7.14</td><td>2023-10-29</td><td>2024-10-06</td><td>2024-10-06T18:00:17.472Z</td></tr><tr><td>132</td><td>50</td><td>Água Mineral</td><td>345</td><td>1.98</td><td>2024-02-08</td><td>2024-10-06</td><td>2024-10-06T18:00:17.472Z</td></tr><tr><td>133</td><td>44</td><td>Refrigerante 123</td><td>174</td><td>12.47</td><td>2023-10-19</td><td>2024-10-06</td><td>2024-10-06T18:00:17.472Z</td></tr><tr><td>134</td><td>17</td><td>Vinho ABC</td><td>327</td><td>12.78</td><td>2024-03-03</td><td>2024-10-06</td><td>2024-10-06T18:00:17.472Z</td></tr><tr><td>135</td><td>40</td><td>Vinho ABC</td><td>213</td><td>15.57</td><td>2023-09-24</td><td>2024-10-06</td><td>2024-10-06T18:00:17.472Z</td></tr><tr><td>136</td><td>19</td><td>Refrigerante 123</td><td>499</td><td>6.57</td><td>2024-05-24</td><td>2024-10-06</td><td>2024-10-06T18:00:17.472Z</td></tr><tr><td>137</td><td>36</td><td>Vinho ABC</td><td>180</td><td>5.32</td><td>2023-08-01</td><td>2024-10-06</td><td>2024-10-06T18:00:17.472Z</td></tr><tr><td>138</td><td>8</td><td>Vinho ABC</td><td>146</td><td>1.26</td><td>2024-05-28</td><td>2024-10-06</td><td>2024-10-06T18:00:17.472Z</td></tr><tr><td>139</td><td>26</td><td>Vinho ABC</td><td>57</td><td>7.28</td><td>2023-10-14</td><td>2024-10-06</td><td>2024-10-06T18:00:17.472Z</td></tr><tr><td>140</td><td>33</td><td>Vinho ABC</td><td>420</td><td>18.4</td><td>2024-04-09</td><td>2024-10-06</td><td>2024-10-06T18:00:17.472Z</td></tr><tr><td>141</td><td>16</td><td>Cerveja XYZ</td><td>325</td><td>18.41</td><td>2024-01-14</td><td>2024-10-06</td><td>2024-10-06T18:00:17.472Z</td></tr><tr><td>142</td><td>50</td><td>Suco Natural</td><td>302</td><td>18.1</td><td>2024-05-20</td><td>2024-10-06</td><td>2024-10-06T18:00:17.472Z</td></tr><tr><td>143</td><td>19</td><td>Vinho ABC</td><td>423</td><td>16.36</td><td>2023-12-21</td><td>2024-10-06</td><td>2024-10-06T18:00:17.472Z</td></tr><tr><td>144</td><td>18</td><td>Água Mineral</td><td>483</td><td>19.92</td><td>2023-07-31</td><td>2024-10-06</td><td>2024-10-06T18:00:17.472Z</td></tr><tr><td>145</td><td>17</td><td>Vinho ABC</td><td>446</td><td>6.86</td><td>2024-03-20</td><td>2024-10-06</td><td>2024-10-06T18:00:17.472Z</td></tr><tr><td>146</td><td>34</td><td>Suco Natural</td><td>484</td><td>3.52</td><td>2024-05-24</td><td>2024-10-06</td><td>2024-10-06T18:00:17.472Z</td></tr><tr><td>147</td><td>14</td><td>Vinho ABC</td><td>288</td><td>9.13</td><td>2023-12-21</td><td>2024-10-06</td><td>2024-10-06T18:00:17.472Z</td></tr><tr><td>148</td><td>38</td><td>Cerveja XYZ</td><td>238</td><td>1.3</td><td>2023-07-11</td><td>2024-10-06</td><td>2024-10-06T18:00:17.472Z</td></tr><tr><td>149</td><td>30</td><td>Refrigerante 123</td><td>445</td><td>9.06</td><td>2024-02-05</td><td>2024-10-06</td><td>2024-10-06T18:00:17.472Z</td></tr><tr><td>150</td><td>20</td><td>Água Mineral</td><td>292</td><td>1.81</td><td>2023-12-13</td><td>2024-10-06</td><td>2024-10-06T18:00:17.472Z</td></tr><tr><td>151</td><td>13</td><td>Vinho ABC</td><td>106</td><td>10.19</td><td>2024-03-21</td><td>2024-10-06</td><td>2024-10-06T18:00:17.472Z</td></tr><tr><td>152</td><td>15</td><td>Vinho ABC</td><td>329</td><td>3.27</td><td>2024-02-24</td><td>2024-10-06</td><td>2024-10-06T18:00:17.472Z</td></tr><tr><td>153</td><td>27</td><td>Água Mineral</td><td>457</td><td>18.48</td><td>2023-10-29</td><td>2024-10-06</td><td>2024-10-06T18:00:17.472Z</td></tr><tr><td>154</td><td>6</td><td>Refrigerante 123</td><td>481</td><td>14.62</td><td>2024-06-01</td><td>2024-10-06</td><td>2024-10-06T18:00:17.472Z</td></tr><tr><td>155</td><td>34</td><td>Cerveja XYZ</td><td>122</td><td>3.34</td><td>2024-02-13</td><td>2024-10-06</td><td>2024-10-06T18:00:17.472Z</td></tr><tr><td>156</td><td>20</td><td>Refrigerante 123</td><td>499</td><td>7.77</td><td>2023-09-01</td><td>2024-10-06</td><td>2024-10-06T18:00:17.472Z</td></tr><tr><td>157</td><td>48</td><td>Cerveja XYZ</td><td>375</td><td>13.83</td><td>2023-09-01</td><td>2024-10-06</td><td>2024-10-06T18:00:17.472Z</td></tr><tr><td>158</td><td>25</td><td>Água Mineral</td><td>275</td><td>7.58</td><td>2023-12-16</td><td>2024-10-06</td><td>2024-10-06T18:00:17.472Z</td></tr><tr><td>159</td><td>40</td><td>Cerveja XYZ</td><td>78</td><td>19.83</td><td>2023-10-23</td><td>2024-10-06</td><td>2024-10-06T18:00:17.472Z</td></tr><tr><td>160</td><td>47</td><td>Suco Natural</td><td>472</td><td>8.2</td><td>2023-11-21</td><td>2024-10-06</td><td>2024-10-06T18:00:17.472Z</td></tr><tr><td>161</td><td>20</td><td>Cerveja XYZ</td><td>285</td><td>15.67</td><td>2023-11-01</td><td>2024-10-06</td><td>2024-10-06T18:00:17.472Z</td></tr><tr><td>162</td><td>8</td><td>Refrigerante 123</td><td>112</td><td>15.97</td><td>2023-07-13</td><td>2024-10-06</td><td>2024-10-06T18:00:17.472Z</td></tr><tr><td>163</td><td>40</td><td>Água Mineral</td><td>336</td><td>14.82</td><td>2024-04-08</td><td>2024-10-06</td><td>2024-10-06T18:00:17.472Z</td></tr><tr><td>164</td><td>24</td><td>Suco Natural</td><td>16</td><td>16.1</td><td>2024-03-12</td><td>2024-10-06</td><td>2024-10-06T18:00:17.472Z</td></tr><tr><td>165</td><td>19</td><td>Cerveja XYZ</td><td>108</td><td>4.19</td><td>2024-01-10</td><td>2024-10-06</td><td>2024-10-06T18:00:17.472Z</td></tr><tr><td>166</td><td>30</td><td>Vinho ABC</td><td>346</td><td>16.22</td><td>2023-11-09</td><td>2024-10-06</td><td>2024-10-06T18:00:17.472Z</td></tr><tr><td>167</td><td>4</td><td>Cerveja XYZ</td><td>196</td><td>16.59</td><td>2023-10-28</td><td>2024-10-06</td><td>2024-10-06T18:00:17.472Z</td></tr><tr><td>168</td><td>11</td><td>Água Mineral</td><td>199</td><td>16.53</td><td>2023-12-19</td><td>2024-10-06</td><td>2024-10-06T18:00:17.472Z</td></tr><tr><td>169</td><td>35</td><td>Água Mineral</td><td>91</td><td>16.42</td><td>2024-01-04</td><td>2024-10-06</td><td>2024-10-06T18:00:17.472Z</td></tr><tr><td>170</td><td>30</td><td>Vinho ABC</td><td>228</td><td>7.86</td><td>2024-06-26</td><td>2024-10-06</td><td>2024-10-06T18:00:17.472Z</td></tr><tr><td>171</td><td>41</td><td>Cerveja XYZ</td><td>484</td><td>10.95</td><td>2024-05-10</td><td>2024-10-06</td><td>2024-10-06T18:00:17.472Z</td></tr><tr><td>172</td><td>38</td><td>Vinho ABC</td><td>313</td><td>15.36</td><td>2024-05-01</td><td>2024-10-06</td><td>2024-10-06T18:00:17.472Z</td></tr><tr><td>173</td><td>24</td><td>Cerveja XYZ</td><td>369</td><td>3.49</td><td>2023-12-10</td><td>2024-10-06</td><td>2024-10-06T18:00:17.472Z</td></tr><tr><td>174</td><td>29</td><td>Cerveja XYZ</td><td>431</td><td>4.66</td><td>2024-02-20</td><td>2024-10-06</td><td>2024-10-06T18:00:17.472Z</td></tr><tr><td>175</td><td>23</td><td>Suco Natural</td><td>148</td><td>9.7</td><td>2023-10-19</td><td>2024-10-06</td><td>2024-10-06T18:00:17.472Z</td></tr><tr><td>176</td><td>48</td><td>Água Mineral</td><td>69</td><td>13.7</td><td>2024-04-03</td><td>2024-10-06</td><td>2024-10-06T18:00:17.472Z</td></tr><tr><td>177</td><td>6</td><td>Água Mineral</td><td>415</td><td>8.55</td><td>2024-07-06</td><td>2024-10-06</td><td>2024-10-06T18:00:17.472Z</td></tr><tr><td>178</td><td>25</td><td>Suco Natural</td><td>318</td><td>13.56</td><td>2023-08-15</td><td>2024-10-06</td><td>2024-10-06T18:00:17.472Z</td></tr><tr><td>179</td><td>13</td><td>Água Mineral</td><td>280</td><td>8.93</td><td>2023-07-23</td><td>2024-10-06</td><td>2024-10-06T18:00:17.472Z</td></tr><tr><td>180</td><td>15</td><td>Vinho ABC</td><td>200</td><td>17.31</td><td>2023-08-02</td><td>2024-10-06</td><td>2024-10-06T18:00:17.472Z</td></tr><tr><td>181</td><td>19</td><td>Suco Natural</td><td>414</td><td>2.13</td><td>2023-11-21</td><td>2024-10-06</td><td>2024-10-06T18:00:17.472Z</td></tr><tr><td>182</td><td>38</td><td>Refrigerante 123</td><td>365</td><td>18.55</td><td>2023-09-05</td><td>2024-10-06</td><td>2024-10-06T18:00:17.472Z</td></tr><tr><td>183</td><td>35</td><td>Cerveja XYZ</td><td>105</td><td>16.39</td><td>2023-11-01</td><td>2024-10-06</td><td>2024-10-06T18:00:17.472Z</td></tr><tr><td>184</td><td>5</td><td>Refrigerante 123</td><td>127</td><td>4.02</td><td>2024-02-11</td><td>2024-10-06</td><td>2024-10-06T18:00:17.472Z</td></tr><tr><td>185</td><td>7</td><td>Água Mineral</td><td>190</td><td>7.1</td><td>2024-04-10</td><td>2024-10-06</td><td>2024-10-06T18:00:17.472Z</td></tr><tr><td>186</td><td>44</td><td>Cerveja XYZ</td><td>92</td><td>14.17</td><td>2023-12-02</td><td>2024-10-06</td><td>2024-10-06T18:00:17.472Z</td></tr><tr><td>187</td><td>42</td><td>Suco Natural</td><td>276</td><td>14.24</td><td>2024-05-10</td><td>2024-10-06</td><td>2024-10-06T18:00:17.472Z</td></tr><tr><td>188</td><td>23</td><td>Água Mineral</td><td>86</td><td>11.38</td><td>2024-03-11</td><td>2024-10-06</td><td>2024-10-06T18:00:17.472Z</td></tr><tr><td>189</td><td>39</td><td>Vinho ABC</td><td>479</td><td>14.05</td><td>2024-04-25</td><td>2024-10-06</td><td>2024-10-06T18:00:17.472Z</td></tr><tr><td>190</td><td>33</td><td>Suco Natural</td><td>135</td><td>3.46</td><td>2023-10-04</td><td>2024-10-06</td><td>2024-10-06T18:00:17.472Z</td></tr><tr><td>191</td><td>4</td><td>Refrigerante 123</td><td>312</td><td>11.35</td><td>2023-07-26</td><td>2024-10-06</td><td>2024-10-06T18:00:17.472Z</td></tr><tr><td>192</td><td>39</td><td>Refrigerante 123</td><td>380</td><td>15.99</td><td>2023-12-22</td><td>2024-10-06</td><td>2024-10-06T18:00:17.472Z</td></tr><tr><td>193</td><td>5</td><td>Suco Natural</td><td>275</td><td>1.79</td><td>2024-05-24</td><td>2024-10-06</td><td>2024-10-06T18:00:17.472Z</td></tr><tr><td>194</td><td>20</td><td>Suco Natural</td><td>442</td><td>10.01</td><td>2023-07-21</td><td>2024-10-06</td><td>2024-10-06T18:00:17.472Z</td></tr><tr><td>195</td><td>47</td><td>Refrigerante 123</td><td>369</td><td>3.56</td><td>2024-01-18</td><td>2024-10-06</td><td>2024-10-06T18:00:17.472Z</td></tr><tr><td>196</td><td>31</td><td>Vinho ABC</td><td>316</td><td>14.33</td><td>2023-08-16</td><td>2024-10-06</td><td>2024-10-06T18:00:17.472Z</td></tr><tr><td>197</td><td>12</td><td>Água Mineral</td><td>239</td><td>2.13</td><td>2024-05-01</td><td>2024-10-06</td><td>2024-10-06T18:00:17.472Z</td></tr><tr><td>198</td><td>37</td><td>Água Mineral</td><td>338</td><td>3.53</td><td>2023-07-28</td><td>2024-10-06</td><td>2024-10-06T18:00:17.472Z</td></tr><tr><td>199</td><td>15</td><td>Refrigerante 123</td><td>440</td><td>6.88</td><td>2023-09-05</td><td>2024-10-06</td><td>2024-10-06T18:00:17.472Z</td></tr><tr><td>200</td><td>19</td><td>Cerveja XYZ</td><td>416</td><td>10.19</td><td>2024-01-04</td><td>2024-10-06</td><td>2024-10-06T18:00:17.472Z</td></tr><tr><td>201</td><td>6</td><td>Suco Natural</td><td>225</td><td>12.89</td><td>2023-09-30</td><td>2024-10-06</td><td>2024-10-06T18:00:17.472Z</td></tr><tr><td>202</td><td>48</td><td>Água Mineral</td><td>184</td><td>11.89</td><td>2024-01-27</td><td>2024-10-06</td><td>2024-10-06T18:00:17.472Z</td></tr><tr><td>203</td><td>7</td><td>Cerveja XYZ</td><td>173</td><td>14.0</td><td>2023-09-12</td><td>2024-10-06</td><td>2024-10-06T18:00:17.472Z</td></tr><tr><td>204</td><td>37</td><td>Cerveja XYZ</td><td>326</td><td>16.27</td><td>2023-10-28</td><td>2024-10-06</td><td>2024-10-06T18:00:17.472Z</td></tr><tr><td>205</td><td>19</td><td>Cerveja XYZ</td><td>322</td><td>7.76</td><td>2023-08-05</td><td>2024-10-06</td><td>2024-10-06T18:00:17.472Z</td></tr><tr><td>206</td><td>31</td><td>Vinho ABC</td><td>369</td><td>16.98</td><td>2023-08-05</td><td>2024-10-06</td><td>2024-10-06T18:00:17.472Z</td></tr><tr><td>207</td><td>50</td><td>Água Mineral</td><td>168</td><td>14.84</td><td>2023-09-27</td><td>2024-10-06</td><td>2024-10-06T18:00:17.472Z</td></tr><tr><td>208</td><td>40</td><td>Cerveja XYZ</td><td>154</td><td>13.72</td><td>2023-12-09</td><td>2024-10-06</td><td>2024-10-06T18:00:17.472Z</td></tr><tr><td>209</td><td>50</td><td>Suco Natural</td><td>83</td><td>14.73</td><td>2023-08-17</td><td>2024-10-06</td><td>2024-10-06T18:00:17.472Z</td></tr><tr><td>210</td><td>35</td><td>Água Mineral</td><td>490</td><td>2.75</td><td>2024-07-10</td><td>2024-10-06</td><td>2024-10-06T18:00:17.472Z</td></tr><tr><td>211</td><td>11</td><td>Cerveja XYZ</td><td>270</td><td>12.22</td><td>2024-03-12</td><td>2024-10-06</td><td>2024-10-06T18:00:17.472Z</td></tr><tr><td>212</td><td>35</td><td>Refrigerante 123</td><td>433</td><td>1.28</td><td>2023-09-04</td><td>2024-10-06</td><td>2024-10-06T18:00:17.472Z</td></tr><tr><td>213</td><td>45</td><td>Cerveja XYZ</td><td>381</td><td>7.28</td><td>2024-04-16</td><td>2024-10-06</td><td>2024-10-06T18:00:17.472Z</td></tr><tr><td>214</td><td>47</td><td>Suco Natural</td><td>428</td><td>3.48</td><td>2023-10-20</td><td>2024-10-06</td><td>2024-10-06T18:00:17.472Z</td></tr><tr><td>215</td><td>15</td><td>Água Mineral</td><td>92</td><td>2.23</td><td>2023-09-10</td><td>2024-10-06</td><td>2024-10-06T18:00:17.472Z</td></tr><tr><td>216</td><td>25</td><td>Água Mineral</td><td>300</td><td>18.13</td><td>2024-05-05</td><td>2024-10-06</td><td>2024-10-06T18:00:17.472Z</td></tr><tr><td>217</td><td>9</td><td>Vinho ABC</td><td>169</td><td>17.14</td><td>2024-03-19</td><td>2024-10-06</td><td>2024-10-06T18:00:17.472Z</td></tr><tr><td>218</td><td>1</td><td>Cerveja XYZ</td><td>486</td><td>13.0</td><td>2023-09-29</td><td>2024-10-06</td><td>2024-10-06T18:00:17.472Z</td></tr><tr><td>219</td><td>26</td><td>Refrigerante 123</td><td>20</td><td>13.28</td><td>2023-09-14</td><td>2024-10-06</td><td>2024-10-06T18:00:17.472Z</td></tr><tr><td>220</td><td>39</td><td>Suco Natural</td><td>109</td><td>4.44</td><td>2024-02-09</td><td>2024-10-06</td><td>2024-10-06T18:00:17.472Z</td></tr><tr><td>221</td><td>24</td><td>Suco Natural</td><td>487</td><td>8.06</td><td>2024-05-11</td><td>2024-10-06</td><td>2024-10-06T18:00:17.472Z</td></tr><tr><td>222</td><td>10</td><td>Vinho ABC</td><td>44</td><td>18.87</td><td>2024-06-08</td><td>2024-10-06</td><td>2024-10-06T18:00:17.472Z</td></tr><tr><td>223</td><td>23</td><td>Refrigerante 123</td><td>419</td><td>10.66</td><td>2024-03-16</td><td>2024-10-06</td><td>2024-10-06T18:00:17.472Z</td></tr><tr><td>224</td><td>29</td><td>Água Mineral</td><td>106</td><td>4.73</td><td>2024-05-17</td><td>2024-10-06</td><td>2024-10-06T18:00:17.472Z</td></tr><tr><td>225</td><td>10</td><td>Refrigerante 123</td><td>207</td><td>9.82</td><td>2023-12-17</td><td>2024-10-06</td><td>2024-10-06T18:00:17.472Z</td></tr><tr><td>226</td><td>29</td><td>Cerveja XYZ</td><td>422</td><td>17.35</td><td>2023-09-02</td><td>2024-10-06</td><td>2024-10-06T18:00:17.472Z</td></tr><tr><td>227</td><td>15</td><td>Vinho ABC</td><td>194</td><td>14.54</td><td>2024-05-12</td><td>2024-10-06</td><td>2024-10-06T18:00:17.472Z</td></tr><tr><td>228</td><td>27</td><td>Vinho ABC</td><td>484</td><td>16.74</td><td>2023-08-11</td><td>2024-10-06</td><td>2024-10-06T18:00:17.472Z</td></tr><tr><td>229</td><td>21</td><td>Refrigerante 123</td><td>45</td><td>7.68</td><td>2024-04-10</td><td>2024-10-06</td><td>2024-10-06T18:00:17.472Z</td></tr><tr><td>230</td><td>41</td><td>Cerveja XYZ</td><td>290</td><td>6.24</td><td>2024-06-11</td><td>2024-10-06</td><td>2024-10-06T18:00:17.472Z</td></tr><tr><td>231</td><td>9</td><td>Água Mineral</td><td>376</td><td>3.62</td><td>2024-01-02</td><td>2024-10-06</td><td>2024-10-06T18:00:17.472Z</td></tr><tr><td>232</td><td>24</td><td>Cerveja XYZ</td><td>258</td><td>17.3</td><td>2023-12-17</td><td>2024-10-06</td><td>2024-10-06T18:00:17.472Z</td></tr><tr><td>233</td><td>20</td><td>Refrigerante 123</td><td>472</td><td>11.22</td><td>2024-07-01</td><td>2024-10-06</td><td>2024-10-06T18:00:17.472Z</td></tr><tr><td>234</td><td>28</td><td>Cerveja XYZ</td><td>227</td><td>2.72</td><td>2024-06-15</td><td>2024-10-06</td><td>2024-10-06T18:00:17.472Z</td></tr><tr><td>235</td><td>3</td><td>Água Mineral</td><td>282</td><td>3.59</td><td>2024-07-02</td><td>2024-10-06</td><td>2024-10-06T18:00:17.472Z</td></tr><tr><td>236</td><td>46</td><td>Refrigerante 123</td><td>180</td><td>8.48</td><td>2024-04-03</td><td>2024-10-06</td><td>2024-10-06T18:00:17.472Z</td></tr><tr><td>237</td><td>2</td><td>Água Mineral</td><td>237</td><td>15.06</td><td>2024-04-30</td><td>2024-10-06</td><td>2024-10-06T18:00:17.472Z</td></tr><tr><td>238</td><td>49</td><td>Cerveja XYZ</td><td>48</td><td>1.92</td><td>2024-01-17</td><td>2024-10-06</td><td>2024-10-06T18:00:17.472Z</td></tr><tr><td>239</td><td>43</td><td>Suco Natural</td><td>265</td><td>7.74</td><td>2024-06-26</td><td>2024-10-06</td><td>2024-10-06T18:00:17.472Z</td></tr><tr><td>240</td><td>41</td><td>Suco Natural</td><td>485</td><td>12.22</td><td>2023-10-11</td><td>2024-10-06</td><td>2024-10-06T18:00:17.472Z</td></tr><tr><td>241</td><td>50</td><td>Suco Natural</td><td>488</td><td>6.81</td><td>2023-12-08</td><td>2024-10-06</td><td>2024-10-06T18:00:17.472Z</td></tr><tr><td>242</td><td>39</td><td>Vinho ABC</td><td>345</td><td>12.48</td><td>2024-04-04</td><td>2024-10-06</td><td>2024-10-06T18:00:17.472Z</td></tr><tr><td>243</td><td>23</td><td>Água Mineral</td><td>337</td><td>18.82</td><td>2024-04-22</td><td>2024-10-06</td><td>2024-10-06T18:00:17.472Z</td></tr><tr><td>244</td><td>31</td><td>Água Mineral</td><td>280</td><td>6.08</td><td>2024-02-28</td><td>2024-10-06</td><td>2024-10-06T18:00:17.472Z</td></tr><tr><td>245</td><td>27</td><td>Cerveja XYZ</td><td>418</td><td>12.66</td><td>2024-01-31</td><td>2024-10-06</td><td>2024-10-06T18:00:17.472Z</td></tr><tr><td>246</td><td>1</td><td>Suco Natural</td><td>468</td><td>4.25</td><td>2023-11-27</td><td>2024-10-06</td><td>2024-10-06T18:00:17.472Z</td></tr><tr><td>247</td><td>41</td><td>Suco Natural</td><td>26</td><td>7.5</td><td>2024-04-18</td><td>2024-10-06</td><td>2024-10-06T18:00:17.472Z</td></tr><tr><td>248</td><td>44</td><td>Água Mineral</td><td>326</td><td>13.45</td><td>2023-08-10</td><td>2024-10-06</td><td>2024-10-06T18:00:17.472Z</td></tr><tr><td>249</td><td>12</td><td>Refrigerante 123</td><td>81</td><td>12.84</td><td>2023-12-20</td><td>2024-10-06</td><td>2024-10-06T18:00:17.472Z</td></tr><tr><td>250</td><td>32</td><td>Água Mineral</td><td>327</td><td>11.68</td><td>2023-08-29</td><td>2024-10-06</td><td>2024-10-06T18:00:17.472Z</td></tr></tbody></table></div>"
      ]
     },
     "metadata": {
      "application/vnd.databricks.v1+output": {
       "addedWidgets": {},
       "aggData": [],
       "aggError": "",
       "aggOverflow": false,
       "aggSchema": [],
       "aggSeriesLimitReached": false,
       "aggType": "",
       "arguments": {},
       "columnCustomDisplayInfos": {},
       "data": [
        [
         "1",
         "50",
         "Suco Natural",
         "440",
         "11.11",
         "2023-07-22",
         "2024-10-06",
         "2024-10-06T18:00:17.472Z"
        ],
        [
         "2",
         "12",
         "Refrigerante 123",
         "278",
         "15.45",
         "2024-07-06",
         "2024-10-06",
         "2024-10-06T18:00:17.472Z"
        ],
        [
         "3",
         "16",
         "Água Mineral",
         "178",
         "4.26",
         "2023-08-09",
         "2024-10-06",
         "2024-10-06T18:00:17.472Z"
        ],
        [
         "4",
         "42",
         "Cerveja XYZ",
         "38",
         "11.65",
         "2024-04-17",
         "2024-10-06",
         "2024-10-06T18:00:17.472Z"
        ],
        [
         "5",
         "28",
         "Refrigerante 123",
         "94",
         "9.39",
         "2024-03-14",
         "2024-10-06",
         "2024-10-06T18:00:17.472Z"
        ],
        [
         "6",
         "22",
         "Suco Natural",
         "108",
         "8.04",
         "2024-03-30",
         "2024-10-06",
         "2024-10-06T18:00:17.472Z"
        ],
        [
         "7",
         "37",
         "Cerveja XYZ",
         "194",
         "12.99",
         "2024-03-27",
         "2024-10-06",
         "2024-10-06T18:00:17.472Z"
        ],
        [
         "8",
         "28",
         "Vinho ABC",
         "349",
         "1.26",
         "2023-11-11",
         "2024-10-06",
         "2024-10-06T18:00:17.472Z"
        ],
        [
         "9",
         "15",
         "Suco Natural",
         "62",
         "6.25",
         "2024-01-20",
         "2024-10-06",
         "2024-10-06T18:00:17.472Z"
        ],
        [
         "10",
         "19",
         "Vinho ABC",
         "297",
         "18.37",
         "2024-05-07",
         "2024-10-06",
         "2024-10-06T18:00:17.472Z"
        ],
        [
         "11",
         "2",
         "Vinho ABC",
         "253",
         "6.37",
         "2023-09-06",
         "2024-10-06",
         "2024-10-06T18:00:17.472Z"
        ],
        [
         "12",
         "48",
         "Cerveja XYZ",
         "31",
         "16.43",
         "2023-12-08",
         "2024-10-06",
         "2024-10-06T18:00:17.472Z"
        ],
        [
         "13",
         "29",
         "Cerveja XYZ",
         "263",
         "7.91",
         "2024-04-12",
         "2024-10-06",
         "2024-10-06T18:00:17.472Z"
        ],
        [
         "14",
         "32",
         "Cerveja XYZ",
         "215",
         "15.64",
         "2023-12-29",
         "2024-10-06",
         "2024-10-06T18:00:17.472Z"
        ],
        [
         "15",
         "10",
         "Cerveja XYZ",
         "88",
         "6.43",
         "2023-11-25",
         "2024-10-06",
         "2024-10-06T18:00:17.472Z"
        ],
        [
         "16",
         "18",
         "Cerveja XYZ",
         "292",
         "12.31",
         "2024-05-16",
         "2024-10-06",
         "2024-10-06T18:00:17.472Z"
        ],
        [
         "17",
         "7",
         "Refrigerante 123",
         "393",
         "10.29",
         "2023-12-23",
         "2024-10-06",
         "2024-10-06T18:00:17.472Z"
        ],
        [
         "18",
         "48",
         "Refrigerante 123",
         "184",
         "15.33",
         "2023-08-26",
         "2024-10-06",
         "2024-10-06T18:00:17.472Z"
        ],
        [
         "19",
         "7",
         "Refrigerante 123",
         "314",
         "19.87",
         "2024-02-18",
         "2024-10-06",
         "2024-10-06T18:00:17.472Z"
        ],
        [
         "20",
         "18",
         "Refrigerante 123",
         "111",
         "11.06",
         "2024-07-10",
         "2024-10-06",
         "2024-10-06T18:00:17.472Z"
        ],
        [
         "21",
         "18",
         "Refrigerante 123",
         "73",
         "5.66",
         "2024-06-04",
         "2024-10-06",
         "2024-10-06T18:00:17.472Z"
        ],
        [
         "22",
         "30",
         "Cerveja XYZ",
         "385",
         "2.1",
         "2024-01-13",
         "2024-10-06",
         "2024-10-06T18:00:17.472Z"
        ],
        [
         "23",
         "27",
         "Cerveja XYZ",
         "366",
         "10.83",
         "2024-04-13",
         "2024-10-06",
         "2024-10-06T18:00:17.472Z"
        ],
        [
         "24",
         "9",
         "Água Mineral",
         "99",
         "7.22",
         "2024-02-03",
         "2024-10-06",
         "2024-10-06T18:00:17.472Z"
        ],
        [
         "25",
         "49",
         "Água Mineral",
         "301",
         "6.48",
         "2024-02-25",
         "2024-10-06",
         "2024-10-06T18:00:17.472Z"
        ],
        [
         "26",
         "49",
         "Cerveja XYZ",
         "191",
         "5.93",
         "2023-09-11",
         "2024-10-06",
         "2024-10-06T18:00:17.472Z"
        ],
        [
         "27",
         "14",
         "Vinho ABC",
         "182",
         "18.15",
         "2023-08-26",
         "2024-10-06",
         "2024-10-06T18:00:17.472Z"
        ],
        [
         "28",
         "26",
         "Cerveja XYZ",
         "386",
         "9.45",
         "2024-07-03",
         "2024-10-06",
         "2024-10-06T18:00:17.472Z"
        ],
        [
         "29",
         "43",
         "Vinho ABC",
         "170",
         "6.27",
         "2024-02-27",
         "2024-10-06",
         "2024-10-06T18:00:17.472Z"
        ],
        [
         "30",
         "4",
         "Água Mineral",
         "159",
         "11.59",
         "2023-07-29",
         "2024-10-06",
         "2024-10-06T18:00:17.472Z"
        ],
        [
         "31",
         "2",
         "Suco Natural",
         "439",
         "10.89",
         "2023-11-10",
         "2024-10-06",
         "2024-10-06T18:00:17.472Z"
        ],
        [
         "32",
         "23",
         "Cerveja XYZ",
         "125",
         "3.53",
         "2023-11-11",
         "2024-10-06",
         "2024-10-06T18:00:17.472Z"
        ],
        [
         "33",
         "10",
         "Vinho ABC",
         "20",
         "1.9",
         "2023-12-14",
         "2024-10-06",
         "2024-10-06T18:00:17.472Z"
        ],
        [
         "34",
         "4",
         "Suco Natural",
         "297",
         "11.8",
         "2024-06-02",
         "2024-10-06",
         "2024-10-06T18:00:17.472Z"
        ],
        [
         "35",
         "6",
         "Cerveja XYZ",
         "130",
         "1.94",
         "2023-12-03",
         "2024-10-06",
         "2024-10-06T18:00:17.472Z"
        ],
        [
         "36",
         "28",
         "Refrigerante 123",
         "402",
         "19.4",
         "2024-06-27",
         "2024-10-06",
         "2024-10-06T18:00:17.472Z"
        ],
        [
         "37",
         "20",
         "Suco Natural",
         "331",
         "8.44",
         "2024-01-14",
         "2024-10-06",
         "2024-10-06T18:00:17.472Z"
        ],
        [
         "38",
         "21",
         "Vinho ABC",
         "256",
         "16.6",
         "2023-09-26",
         "2024-10-06",
         "2024-10-06T18:00:17.472Z"
        ],
        [
         "39",
         "15",
         "Cerveja XYZ",
         "315",
         "16.31",
         "2024-01-14",
         "2024-10-06",
         "2024-10-06T18:00:17.472Z"
        ],
        [
         "40",
         "18",
         "Vinho ABC",
         "411",
         "8.45",
         "2023-09-16",
         "2024-10-06",
         "2024-10-06T18:00:17.472Z"
        ],
        [
         "41",
         "30",
         "Suco Natural",
         "306",
         "12.93",
         "2024-01-18",
         "2024-10-06",
         "2024-10-06T18:00:17.472Z"
        ],
        [
         "42",
         "14",
         "Vinho ABC",
         "386",
         "8.89",
         "2023-11-30",
         "2024-10-06",
         "2024-10-06T18:00:17.472Z"
        ],
        [
         "43",
         "33",
         "Vinho ABC",
         "250",
         "15.51",
         "2023-07-14",
         "2024-10-06",
         "2024-10-06T18:00:17.472Z"
        ],
        [
         "44",
         "15",
         "Refrigerante 123",
         "390",
         "18.11",
         "2024-01-29",
         "2024-10-06",
         "2024-10-06T18:00:17.472Z"
        ],
        [
         "45",
         "41",
         "Cerveja XYZ",
         "294",
         "10.21",
         "2023-08-16",
         "2024-10-06",
         "2024-10-06T18:00:17.472Z"
        ],
        [
         "46",
         "10",
         "Água Mineral",
         "392",
         "8.26",
         "2023-11-10",
         "2024-10-06",
         "2024-10-06T18:00:17.472Z"
        ],
        [
         "47",
         "47",
         "Refrigerante 123",
         "473",
         "12.57",
         "2024-03-27",
         "2024-10-06",
         "2024-10-06T18:00:17.472Z"
        ],
        [
         "48",
         "9",
         "Cerveja XYZ",
         "44",
         "19.92",
         "2024-03-15",
         "2024-10-06",
         "2024-10-06T18:00:17.472Z"
        ],
        [
         "49",
         "1",
         "Água Mineral",
         "30",
         "19.49",
         "2024-01-20",
         "2024-10-06",
         "2024-10-06T18:00:17.472Z"
        ],
        [
         "50",
         "46",
         "Vinho ABC",
         "277",
         "15.81",
         "2024-04-10",
         "2024-10-06",
         "2024-10-06T18:00:17.472Z"
        ],
        [
         "51",
         "45",
         "Suco Natural",
         "98",
         "3.33",
         "2023-09-29",
         "2024-10-06",
         "2024-10-06T18:00:17.472Z"
        ],
        [
         "52",
         "4",
         "Vinho ABC",
         "144",
         "5.94",
         "2024-04-02",
         "2024-10-06",
         "2024-10-06T18:00:17.472Z"
        ],
        [
         "53",
         "24",
         "Refrigerante 123",
         "480",
         "12.53",
         "2024-02-09",
         "2024-10-06",
         "2024-10-06T18:00:17.472Z"
        ],
        [
         "54",
         "29",
         "Vinho ABC",
         "266",
         "1.34",
         "2024-06-30",
         "2024-10-06",
         "2024-10-06T18:00:17.472Z"
        ],
        [
         "55",
         "9",
         "Vinho ABC",
         "482",
         "14.78",
         "2023-11-22",
         "2024-10-06",
         "2024-10-06T18:00:17.472Z"
        ],
        [
         "56",
         "2",
         "Cerveja XYZ",
         "448",
         "10.91",
         "2023-08-16",
         "2024-10-06",
         "2024-10-06T18:00:17.472Z"
        ],
        [
         "57",
         "27",
         "Cerveja XYZ",
         "463",
         "14.77",
         "2024-05-26",
         "2024-10-06",
         "2024-10-06T18:00:17.472Z"
        ],
        [
         "58",
         "17",
         "Refrigerante 123",
         "446",
         "9.45",
         "2024-02-28",
         "2024-10-06",
         "2024-10-06T18:00:17.472Z"
        ],
        [
         "59",
         "26",
         "Vinho ABC",
         "198",
         "6.52",
         "2024-05-31",
         "2024-10-06",
         "2024-10-06T18:00:17.472Z"
        ],
        [
         "60",
         "25",
         "Vinho ABC",
         "61",
         "14.53",
         "2024-05-21",
         "2024-10-06",
         "2024-10-06T18:00:17.472Z"
        ],
        [
         "61",
         "22",
         "Suco Natural",
         "289",
         "19.99",
         "2024-03-16",
         "2024-10-06",
         "2024-10-06T18:00:17.472Z"
        ],
        [
         "62",
         "9",
         "Suco Natural",
         "405",
         "15.03",
         "2023-10-19",
         "2024-10-06",
         "2024-10-06T18:00:17.472Z"
        ],
        [
         "63",
         "34",
         "Cerveja XYZ",
         "186",
         "3.87",
         "2024-04-07",
         "2024-10-06",
         "2024-10-06T18:00:17.472Z"
        ],
        [
         "64",
         "50",
         "Água Mineral",
         "19",
         "10.02",
         "2024-07-04",
         "2024-10-06",
         "2024-10-06T18:00:17.472Z"
        ],
        [
         "65",
         "36",
         "Água Mineral",
         "220",
         "11.01",
         "2024-01-08",
         "2024-10-06",
         "2024-10-06T18:00:17.472Z"
        ],
        [
         "66",
         "9",
         "Vinho ABC",
         "73",
         "6.53",
         "2024-07-09",
         "2024-10-06",
         "2024-10-06T18:00:17.472Z"
        ],
        [
         "67",
         "4",
         "Água Mineral",
         "212",
         "12.72",
         "2024-05-03",
         "2024-10-06",
         "2024-10-06T18:00:17.472Z"
        ],
        [
         "68",
         "40",
         "Água Mineral",
         "498",
         "16.05",
         "2023-09-15",
         "2024-10-06",
         "2024-10-06T18:00:17.472Z"
        ],
        [
         "69",
         "25",
         "Água Mineral",
         "23",
         "5.71",
         "2023-08-16",
         "2024-10-06",
         "2024-10-06T18:00:17.472Z"
        ],
        [
         "70",
         "48",
         "Água Mineral",
         "360",
         "13.53",
         "2024-02-05",
         "2024-10-06",
         "2024-10-06T18:00:17.472Z"
        ],
        [
         "71",
         "2",
         "Vinho ABC",
         "96",
         "3.7",
         "2023-12-20",
         "2024-10-06",
         "2024-10-06T18:00:17.472Z"
        ],
        [
         "72",
         "6",
         "Suco Natural",
         "316",
         "14.96",
         "2024-02-03",
         "2024-10-06",
         "2024-10-06T18:00:17.472Z"
        ],
        [
         "73",
         "3",
         "Vinho ABC",
         "390",
         "6.09",
         "2024-05-01",
         "2024-10-06",
         "2024-10-06T18:00:17.472Z"
        ],
        [
         "74",
         "36",
         "Cerveja XYZ",
         "461",
         "18.79",
         "2023-09-09",
         "2024-10-06",
         "2024-10-06T18:00:17.472Z"
        ],
        [
         "75",
         "21",
         "Cerveja XYZ",
         "433",
         "1.84",
         "2024-04-19",
         "2024-10-06",
         "2024-10-06T18:00:17.472Z"
        ],
        [
         "76",
         "4",
         "Cerveja XYZ",
         "314",
         "13.39",
         "2024-02-29",
         "2024-10-06",
         "2024-10-06T18:00:17.472Z"
        ],
        [
         "77",
         "28",
         "Suco Natural",
         "113",
         "3.41",
         "2024-03-14",
         "2024-10-06",
         "2024-10-06T18:00:17.472Z"
        ],
        [
         "78",
         "20",
         "Água Mineral",
         "212",
         "12.08",
         "2023-12-24",
         "2024-10-06",
         "2024-10-06T18:00:17.472Z"
        ],
        [
         "79",
         "31",
         "Água Mineral",
         "190",
         "11.35",
         "2023-08-02",
         "2024-10-06",
         "2024-10-06T18:00:17.472Z"
        ],
        [
         "80",
         "15",
         "Água Mineral",
         "494",
         "18.05",
         "2023-11-11",
         "2024-10-06",
         "2024-10-06T18:00:17.472Z"
        ],
        [
         "81",
         "23",
         "Suco Natural",
         "340",
         "5.15",
         "2024-03-14",
         "2024-10-06",
         "2024-10-06T18:00:17.472Z"
        ],
        [
         "82",
         "21",
         "Cerveja XYZ",
         "69",
         "7.56",
         "2023-09-03",
         "2024-10-06",
         "2024-10-06T18:00:17.472Z"
        ],
        [
         "83",
         "5",
         "Suco Natural",
         "328",
         "7.31",
         "2023-12-30",
         "2024-10-06",
         "2024-10-06T18:00:17.472Z"
        ],
        [
         "84",
         "29",
         "Cerveja XYZ",
         "372",
         "12.43",
         "2024-01-20",
         "2024-10-06",
         "2024-10-06T18:00:17.472Z"
        ],
        [
         "85",
         "19",
         "Água Mineral",
         "177",
         "4.37",
         "2023-11-22",
         "2024-10-06",
         "2024-10-06T18:00:17.472Z"
        ],
        [
         "86",
         "15",
         "Vinho ABC",
         "157",
         "4.05",
         "2024-04-24",
         "2024-10-06",
         "2024-10-06T18:00:17.472Z"
        ],
        [
         "87",
         "18",
         "Água Mineral",
         "53",
         "8.2",
         "2024-06-06",
         "2024-10-06",
         "2024-10-06T18:00:17.472Z"
        ],
        [
         "88",
         "24",
         "Cerveja XYZ",
         "100",
         "12.8",
         "2023-09-20",
         "2024-10-06",
         "2024-10-06T18:00:17.472Z"
        ],
        [
         "89",
         "29",
         "Vinho ABC",
         "276",
         "9.57",
         "2024-06-05",
         "2024-10-06",
         "2024-10-06T18:00:17.472Z"
        ],
        [
         "90",
         "31",
         "Suco Natural",
         "412",
         "16.41",
         "2024-03-09",
         "2024-10-06",
         "2024-10-06T18:00:17.472Z"
        ],
        [
         "91",
         "14",
         "Vinho ABC",
         "74",
         "16.84",
         "2024-03-04",
         "2024-10-06",
         "2024-10-06T18:00:17.472Z"
        ],
        [
         "92",
         "13",
         "Cerveja XYZ",
         "242",
         "8.58",
         "2023-12-19",
         "2024-10-06",
         "2024-10-06T18:00:17.472Z"
        ],
        [
         "93",
         "45",
         "Vinho ABC",
         "88",
         "4.87",
         "2023-11-14",
         "2024-10-06",
         "2024-10-06T18:00:17.472Z"
        ],
        [
         "94",
         "3",
         "Água Mineral",
         "249",
         "7.09",
         "2024-02-04",
         "2024-10-06",
         "2024-10-06T18:00:17.472Z"
        ],
        [
         "95",
         "7",
         "Vinho ABC",
         "205",
         "11.64",
         "2023-08-27",
         "2024-10-06",
         "2024-10-06T18:00:17.472Z"
        ],
        [
         "96",
         "49",
         "Cerveja XYZ",
         "395",
         "17.46",
         "2024-02-02",
         "2024-10-06",
         "2024-10-06T18:00:17.472Z"
        ],
        [
         "97",
         "25",
         "Refrigerante 123",
         "34",
         "16.12",
         "2024-07-06",
         "2024-10-06",
         "2024-10-06T18:00:17.472Z"
        ],
        [
         "98",
         "28",
         "Suco Natural",
         "284",
         "8.15",
         "2023-12-05",
         "2024-10-06",
         "2024-10-06T18:00:17.472Z"
        ],
        [
         "99",
         "28",
         "Suco Natural",
         "496",
         "4.9",
         "2023-08-19",
         "2024-10-06",
         "2024-10-06T18:00:17.472Z"
        ],
        [
         "100",
         "50",
         "Refrigerante 123",
         "109",
         "16.5",
         "2023-11-05",
         "2024-10-06",
         "2024-10-06T18:00:17.472Z"
        ],
        [
         "101",
         "43",
         "Suco Natural",
         "491",
         "12.15",
         "2024-03-09",
         "2024-10-06",
         "2024-10-06T18:00:17.472Z"
        ],
        [
         "102",
         "20",
         "Suco Natural",
         "109",
         "14.8",
         "2023-08-21",
         "2024-10-06",
         "2024-10-06T18:00:17.472Z"
        ],
        [
         "103",
         "4",
         "Vinho ABC",
         "295",
         "15.44",
         "2023-09-20",
         "2024-10-06",
         "2024-10-06T18:00:17.472Z"
        ],
        [
         "104",
         "7",
         "Suco Natural",
         "107",
         "1.72",
         "2023-12-11",
         "2024-10-06",
         "2024-10-06T18:00:17.472Z"
        ],
        [
         "105",
         "48",
         "Vinho ABC",
         "301",
         "9.41",
         "2023-09-03",
         "2024-10-06",
         "2024-10-06T18:00:17.472Z"
        ],
        [
         "106",
         "23",
         "Refrigerante 123",
         "389",
         "11.09",
         "2024-05-18",
         "2024-10-06",
         "2024-10-06T18:00:17.472Z"
        ],
        [
         "107",
         "43",
         "Refrigerante 123",
         "414",
         "1.42",
         "2023-12-09",
         "2024-10-06",
         "2024-10-06T18:00:17.472Z"
        ],
        [
         "108",
         "4",
         "Vinho ABC",
         "307",
         "14.69",
         "2023-10-12",
         "2024-10-06",
         "2024-10-06T18:00:17.472Z"
        ],
        [
         "109",
         "13",
         "Suco Natural",
         "49",
         "14.61",
         "2023-08-22",
         "2024-10-06",
         "2024-10-06T18:00:17.472Z"
        ],
        [
         "110",
         "34",
         "Refrigerante 123",
         "392",
         "13.64",
         "2024-02-27",
         "2024-10-06",
         "2024-10-06T18:00:17.472Z"
        ],
        [
         "111",
         "28",
         "Água Mineral",
         "51",
         "13.69",
         "2023-12-29",
         "2024-10-06",
         "2024-10-06T18:00:17.472Z"
        ],
        [
         "112",
         "20",
         "Água Mineral",
         "36",
         "4.79",
         "2024-03-16",
         "2024-10-06",
         "2024-10-06T18:00:17.472Z"
        ],
        [
         "113",
         "37",
         "Refrigerante 123",
         "243",
         "7.08",
         "2023-11-11",
         "2024-10-06",
         "2024-10-06T18:00:17.472Z"
        ],
        [
         "114",
         "9",
         "Refrigerante 123",
         "350",
         "11.16",
         "2024-04-13",
         "2024-10-06",
         "2024-10-06T18:00:17.472Z"
        ],
        [
         "115",
         "46",
         "Suco Natural",
         "415",
         "17.37",
         "2023-11-14",
         "2024-10-06",
         "2024-10-06T18:00:17.472Z"
        ],
        [
         "116",
         "18",
         "Refrigerante 123",
         "89",
         "14.44",
         "2024-04-21",
         "2024-10-06",
         "2024-10-06T18:00:17.472Z"
        ],
        [
         "117",
         "24",
         "Água Mineral",
         "183",
         "2.99",
         "2024-06-29",
         "2024-10-06",
         "2024-10-06T18:00:17.472Z"
        ],
        [
         "118",
         "31",
         "Vinho ABC",
         "335",
         "17.99",
         "2024-05-02",
         "2024-10-06",
         "2024-10-06T18:00:17.472Z"
        ],
        [
         "119",
         "11",
         "Água Mineral",
         "337",
         "12.01",
         "2023-10-15",
         "2024-10-06",
         "2024-10-06T18:00:17.472Z"
        ],
        [
         "120",
         "4",
         "Vinho ABC",
         "111",
         "7.54",
         "2023-12-17",
         "2024-10-06",
         "2024-10-06T18:00:17.472Z"
        ],
        [
         "121",
         "39",
         "Vinho ABC",
         "444",
         "11.52",
         "2024-01-20",
         "2024-10-06",
         "2024-10-06T18:00:17.472Z"
        ],
        [
         "122",
         "4",
         "Água Mineral",
         "14",
         "8.67",
         "2024-05-24",
         "2024-10-06",
         "2024-10-06T18:00:17.472Z"
        ],
        [
         "123",
         "23",
         "Água Mineral",
         "383",
         "6.07",
         "2024-06-24",
         "2024-10-06",
         "2024-10-06T18:00:17.472Z"
        ],
        [
         "124",
         "16",
         "Vinho ABC",
         "380",
         "15.19",
         "2024-05-21",
         "2024-10-06",
         "2024-10-06T18:00:17.472Z"
        ],
        [
         "125",
         "15",
         "Água Mineral",
         "404",
         "18.28",
         "2023-11-22",
         "2024-10-06",
         "2024-10-06T18:00:17.472Z"
        ],
        [
         "126",
         "39",
         "Suco Natural",
         "285",
         "15.35",
         "2024-06-09",
         "2024-10-06",
         "2024-10-06T18:00:17.472Z"
        ],
        [
         "127",
         "5",
         "Suco Natural",
         "65",
         "17.0",
         "2024-05-31",
         "2024-10-06",
         "2024-10-06T18:00:17.472Z"
        ],
        [
         "128",
         "36",
         "Cerveja XYZ",
         "321",
         "17.15",
         "2024-05-07",
         "2024-10-06",
         "2024-10-06T18:00:17.472Z"
        ],
        [
         "129",
         "12",
         "Vinho ABC",
         "235",
         "10.74",
         "2024-05-10",
         "2024-10-06",
         "2024-10-06T18:00:17.472Z"
        ],
        [
         "130",
         "21",
         "Cerveja XYZ",
         "476",
         "8.2",
         "2024-03-27",
         "2024-10-06",
         "2024-10-06T18:00:17.472Z"
        ],
        [
         "131",
         "39",
         "Refrigerante 123",
         "23",
         "7.14",
         "2023-10-29",
         "2024-10-06",
         "2024-10-06T18:00:17.472Z"
        ],
        [
         "132",
         "50",
         "Água Mineral",
         "345",
         "1.98",
         "2024-02-08",
         "2024-10-06",
         "2024-10-06T18:00:17.472Z"
        ],
        [
         "133",
         "44",
         "Refrigerante 123",
         "174",
         "12.47",
         "2023-10-19",
         "2024-10-06",
         "2024-10-06T18:00:17.472Z"
        ],
        [
         "134",
         "17",
         "Vinho ABC",
         "327",
         "12.78",
         "2024-03-03",
         "2024-10-06",
         "2024-10-06T18:00:17.472Z"
        ],
        [
         "135",
         "40",
         "Vinho ABC",
         "213",
         "15.57",
         "2023-09-24",
         "2024-10-06",
         "2024-10-06T18:00:17.472Z"
        ],
        [
         "136",
         "19",
         "Refrigerante 123",
         "499",
         "6.57",
         "2024-05-24",
         "2024-10-06",
         "2024-10-06T18:00:17.472Z"
        ],
        [
         "137",
         "36",
         "Vinho ABC",
         "180",
         "5.32",
         "2023-08-01",
         "2024-10-06",
         "2024-10-06T18:00:17.472Z"
        ],
        [
         "138",
         "8",
         "Vinho ABC",
         "146",
         "1.26",
         "2024-05-28",
         "2024-10-06",
         "2024-10-06T18:00:17.472Z"
        ],
        [
         "139",
         "26",
         "Vinho ABC",
         "57",
         "7.28",
         "2023-10-14",
         "2024-10-06",
         "2024-10-06T18:00:17.472Z"
        ],
        [
         "140",
         "33",
         "Vinho ABC",
         "420",
         "18.4",
         "2024-04-09",
         "2024-10-06",
         "2024-10-06T18:00:17.472Z"
        ],
        [
         "141",
         "16",
         "Cerveja XYZ",
         "325",
         "18.41",
         "2024-01-14",
         "2024-10-06",
         "2024-10-06T18:00:17.472Z"
        ],
        [
         "142",
         "50",
         "Suco Natural",
         "302",
         "18.1",
         "2024-05-20",
         "2024-10-06",
         "2024-10-06T18:00:17.472Z"
        ],
        [
         "143",
         "19",
         "Vinho ABC",
         "423",
         "16.36",
         "2023-12-21",
         "2024-10-06",
         "2024-10-06T18:00:17.472Z"
        ],
        [
         "144",
         "18",
         "Água Mineral",
         "483",
         "19.92",
         "2023-07-31",
         "2024-10-06",
         "2024-10-06T18:00:17.472Z"
        ],
        [
         "145",
         "17",
         "Vinho ABC",
         "446",
         "6.86",
         "2024-03-20",
         "2024-10-06",
         "2024-10-06T18:00:17.472Z"
        ],
        [
         "146",
         "34",
         "Suco Natural",
         "484",
         "3.52",
         "2024-05-24",
         "2024-10-06",
         "2024-10-06T18:00:17.472Z"
        ],
        [
         "147",
         "14",
         "Vinho ABC",
         "288",
         "9.13",
         "2023-12-21",
         "2024-10-06",
         "2024-10-06T18:00:17.472Z"
        ],
        [
         "148",
         "38",
         "Cerveja XYZ",
         "238",
         "1.3",
         "2023-07-11",
         "2024-10-06",
         "2024-10-06T18:00:17.472Z"
        ],
        [
         "149",
         "30",
         "Refrigerante 123",
         "445",
         "9.06",
         "2024-02-05",
         "2024-10-06",
         "2024-10-06T18:00:17.472Z"
        ],
        [
         "150",
         "20",
         "Água Mineral",
         "292",
         "1.81",
         "2023-12-13",
         "2024-10-06",
         "2024-10-06T18:00:17.472Z"
        ],
        [
         "151",
         "13",
         "Vinho ABC",
         "106",
         "10.19",
         "2024-03-21",
         "2024-10-06",
         "2024-10-06T18:00:17.472Z"
        ],
        [
         "152",
         "15",
         "Vinho ABC",
         "329",
         "3.27",
         "2024-02-24",
         "2024-10-06",
         "2024-10-06T18:00:17.472Z"
        ],
        [
         "153",
         "27",
         "Água Mineral",
         "457",
         "18.48",
         "2023-10-29",
         "2024-10-06",
         "2024-10-06T18:00:17.472Z"
        ],
        [
         "154",
         "6",
         "Refrigerante 123",
         "481",
         "14.62",
         "2024-06-01",
         "2024-10-06",
         "2024-10-06T18:00:17.472Z"
        ],
        [
         "155",
         "34",
         "Cerveja XYZ",
         "122",
         "3.34",
         "2024-02-13",
         "2024-10-06",
         "2024-10-06T18:00:17.472Z"
        ],
        [
         "156",
         "20",
         "Refrigerante 123",
         "499",
         "7.77",
         "2023-09-01",
         "2024-10-06",
         "2024-10-06T18:00:17.472Z"
        ],
        [
         "157",
         "48",
         "Cerveja XYZ",
         "375",
         "13.83",
         "2023-09-01",
         "2024-10-06",
         "2024-10-06T18:00:17.472Z"
        ],
        [
         "158",
         "25",
         "Água Mineral",
         "275",
         "7.58",
         "2023-12-16",
         "2024-10-06",
         "2024-10-06T18:00:17.472Z"
        ],
        [
         "159",
         "40",
         "Cerveja XYZ",
         "78",
         "19.83",
         "2023-10-23",
         "2024-10-06",
         "2024-10-06T18:00:17.472Z"
        ],
        [
         "160",
         "47",
         "Suco Natural",
         "472",
         "8.2",
         "2023-11-21",
         "2024-10-06",
         "2024-10-06T18:00:17.472Z"
        ],
        [
         "161",
         "20",
         "Cerveja XYZ",
         "285",
         "15.67",
         "2023-11-01",
         "2024-10-06",
         "2024-10-06T18:00:17.472Z"
        ],
        [
         "162",
         "8",
         "Refrigerante 123",
         "112",
         "15.97",
         "2023-07-13",
         "2024-10-06",
         "2024-10-06T18:00:17.472Z"
        ],
        [
         "163",
         "40",
         "Água Mineral",
         "336",
         "14.82",
         "2024-04-08",
         "2024-10-06",
         "2024-10-06T18:00:17.472Z"
        ],
        [
         "164",
         "24",
         "Suco Natural",
         "16",
         "16.1",
         "2024-03-12",
         "2024-10-06",
         "2024-10-06T18:00:17.472Z"
        ],
        [
         "165",
         "19",
         "Cerveja XYZ",
         "108",
         "4.19",
         "2024-01-10",
         "2024-10-06",
         "2024-10-06T18:00:17.472Z"
        ],
        [
         "166",
         "30",
         "Vinho ABC",
         "346",
         "16.22",
         "2023-11-09",
         "2024-10-06",
         "2024-10-06T18:00:17.472Z"
        ],
        [
         "167",
         "4",
         "Cerveja XYZ",
         "196",
         "16.59",
         "2023-10-28",
         "2024-10-06",
         "2024-10-06T18:00:17.472Z"
        ],
        [
         "168",
         "11",
         "Água Mineral",
         "199",
         "16.53",
         "2023-12-19",
         "2024-10-06",
         "2024-10-06T18:00:17.472Z"
        ],
        [
         "169",
         "35",
         "Água Mineral",
         "91",
         "16.42",
         "2024-01-04",
         "2024-10-06",
         "2024-10-06T18:00:17.472Z"
        ],
        [
         "170",
         "30",
         "Vinho ABC",
         "228",
         "7.86",
         "2024-06-26",
         "2024-10-06",
         "2024-10-06T18:00:17.472Z"
        ],
        [
         "171",
         "41",
         "Cerveja XYZ",
         "484",
         "10.95",
         "2024-05-10",
         "2024-10-06",
         "2024-10-06T18:00:17.472Z"
        ],
        [
         "172",
         "38",
         "Vinho ABC",
         "313",
         "15.36",
         "2024-05-01",
         "2024-10-06",
         "2024-10-06T18:00:17.472Z"
        ],
        [
         "173",
         "24",
         "Cerveja XYZ",
         "369",
         "3.49",
         "2023-12-10",
         "2024-10-06",
         "2024-10-06T18:00:17.472Z"
        ],
        [
         "174",
         "29",
         "Cerveja XYZ",
         "431",
         "4.66",
         "2024-02-20",
         "2024-10-06",
         "2024-10-06T18:00:17.472Z"
        ],
        [
         "175",
         "23",
         "Suco Natural",
         "148",
         "9.7",
         "2023-10-19",
         "2024-10-06",
         "2024-10-06T18:00:17.472Z"
        ],
        [
         "176",
         "48",
         "Água Mineral",
         "69",
         "13.7",
         "2024-04-03",
         "2024-10-06",
         "2024-10-06T18:00:17.472Z"
        ],
        [
         "177",
         "6",
         "Água Mineral",
         "415",
         "8.55",
         "2024-07-06",
         "2024-10-06",
         "2024-10-06T18:00:17.472Z"
        ],
        [
         "178",
         "25",
         "Suco Natural",
         "318",
         "13.56",
         "2023-08-15",
         "2024-10-06",
         "2024-10-06T18:00:17.472Z"
        ],
        [
         "179",
         "13",
         "Água Mineral",
         "280",
         "8.93",
         "2023-07-23",
         "2024-10-06",
         "2024-10-06T18:00:17.472Z"
        ],
        [
         "180",
         "15",
         "Vinho ABC",
         "200",
         "17.31",
         "2023-08-02",
         "2024-10-06",
         "2024-10-06T18:00:17.472Z"
        ],
        [
         "181",
         "19",
         "Suco Natural",
         "414",
         "2.13",
         "2023-11-21",
         "2024-10-06",
         "2024-10-06T18:00:17.472Z"
        ],
        [
         "182",
         "38",
         "Refrigerante 123",
         "365",
         "18.55",
         "2023-09-05",
         "2024-10-06",
         "2024-10-06T18:00:17.472Z"
        ],
        [
         "183",
         "35",
         "Cerveja XYZ",
         "105",
         "16.39",
         "2023-11-01",
         "2024-10-06",
         "2024-10-06T18:00:17.472Z"
        ],
        [
         "184",
         "5",
         "Refrigerante 123",
         "127",
         "4.02",
         "2024-02-11",
         "2024-10-06",
         "2024-10-06T18:00:17.472Z"
        ],
        [
         "185",
         "7",
         "Água Mineral",
         "190",
         "7.1",
         "2024-04-10",
         "2024-10-06",
         "2024-10-06T18:00:17.472Z"
        ],
        [
         "186",
         "44",
         "Cerveja XYZ",
         "92",
         "14.17",
         "2023-12-02",
         "2024-10-06",
         "2024-10-06T18:00:17.472Z"
        ],
        [
         "187",
         "42",
         "Suco Natural",
         "276",
         "14.24",
         "2024-05-10",
         "2024-10-06",
         "2024-10-06T18:00:17.472Z"
        ],
        [
         "188",
         "23",
         "Água Mineral",
         "86",
         "11.38",
         "2024-03-11",
         "2024-10-06",
         "2024-10-06T18:00:17.472Z"
        ],
        [
         "189",
         "39",
         "Vinho ABC",
         "479",
         "14.05",
         "2024-04-25",
         "2024-10-06",
         "2024-10-06T18:00:17.472Z"
        ],
        [
         "190",
         "33",
         "Suco Natural",
         "135",
         "3.46",
         "2023-10-04",
         "2024-10-06",
         "2024-10-06T18:00:17.472Z"
        ],
        [
         "191",
         "4",
         "Refrigerante 123",
         "312",
         "11.35",
         "2023-07-26",
         "2024-10-06",
         "2024-10-06T18:00:17.472Z"
        ],
        [
         "192",
         "39",
         "Refrigerante 123",
         "380",
         "15.99",
         "2023-12-22",
         "2024-10-06",
         "2024-10-06T18:00:17.472Z"
        ],
        [
         "193",
         "5",
         "Suco Natural",
         "275",
         "1.79",
         "2024-05-24",
         "2024-10-06",
         "2024-10-06T18:00:17.472Z"
        ],
        [
         "194",
         "20",
         "Suco Natural",
         "442",
         "10.01",
         "2023-07-21",
         "2024-10-06",
         "2024-10-06T18:00:17.472Z"
        ],
        [
         "195",
         "47",
         "Refrigerante 123",
         "369",
         "3.56",
         "2024-01-18",
         "2024-10-06",
         "2024-10-06T18:00:17.472Z"
        ],
        [
         "196",
         "31",
         "Vinho ABC",
         "316",
         "14.33",
         "2023-08-16",
         "2024-10-06",
         "2024-10-06T18:00:17.472Z"
        ],
        [
         "197",
         "12",
         "Água Mineral",
         "239",
         "2.13",
         "2024-05-01",
         "2024-10-06",
         "2024-10-06T18:00:17.472Z"
        ],
        [
         "198",
         "37",
         "Água Mineral",
         "338",
         "3.53",
         "2023-07-28",
         "2024-10-06",
         "2024-10-06T18:00:17.472Z"
        ],
        [
         "199",
         "15",
         "Refrigerante 123",
         "440",
         "6.88",
         "2023-09-05",
         "2024-10-06",
         "2024-10-06T18:00:17.472Z"
        ],
        [
         "200",
         "19",
         "Cerveja XYZ",
         "416",
         "10.19",
         "2024-01-04",
         "2024-10-06",
         "2024-10-06T18:00:17.472Z"
        ],
        [
         "201",
         "6",
         "Suco Natural",
         "225",
         "12.89",
         "2023-09-30",
         "2024-10-06",
         "2024-10-06T18:00:17.472Z"
        ],
        [
         "202",
         "48",
         "Água Mineral",
         "184",
         "11.89",
         "2024-01-27",
         "2024-10-06",
         "2024-10-06T18:00:17.472Z"
        ],
        [
         "203",
         "7",
         "Cerveja XYZ",
         "173",
         "14.0",
         "2023-09-12",
         "2024-10-06",
         "2024-10-06T18:00:17.472Z"
        ],
        [
         "204",
         "37",
         "Cerveja XYZ",
         "326",
         "16.27",
         "2023-10-28",
         "2024-10-06",
         "2024-10-06T18:00:17.472Z"
        ],
        [
         "205",
         "19",
         "Cerveja XYZ",
         "322",
         "7.76",
         "2023-08-05",
         "2024-10-06",
         "2024-10-06T18:00:17.472Z"
        ],
        [
         "206",
         "31",
         "Vinho ABC",
         "369",
         "16.98",
         "2023-08-05",
         "2024-10-06",
         "2024-10-06T18:00:17.472Z"
        ],
        [
         "207",
         "50",
         "Água Mineral",
         "168",
         "14.84",
         "2023-09-27",
         "2024-10-06",
         "2024-10-06T18:00:17.472Z"
        ],
        [
         "208",
         "40",
         "Cerveja XYZ",
         "154",
         "13.72",
         "2023-12-09",
         "2024-10-06",
         "2024-10-06T18:00:17.472Z"
        ],
        [
         "209",
         "50",
         "Suco Natural",
         "83",
         "14.73",
         "2023-08-17",
         "2024-10-06",
         "2024-10-06T18:00:17.472Z"
        ],
        [
         "210",
         "35",
         "Água Mineral",
         "490",
         "2.75",
         "2024-07-10",
         "2024-10-06",
         "2024-10-06T18:00:17.472Z"
        ],
        [
         "211",
         "11",
         "Cerveja XYZ",
         "270",
         "12.22",
         "2024-03-12",
         "2024-10-06",
         "2024-10-06T18:00:17.472Z"
        ],
        [
         "212",
         "35",
         "Refrigerante 123",
         "433",
         "1.28",
         "2023-09-04",
         "2024-10-06",
         "2024-10-06T18:00:17.472Z"
        ],
        [
         "213",
         "45",
         "Cerveja XYZ",
         "381",
         "7.28",
         "2024-04-16",
         "2024-10-06",
         "2024-10-06T18:00:17.472Z"
        ],
        [
         "214",
         "47",
         "Suco Natural",
         "428",
         "3.48",
         "2023-10-20",
         "2024-10-06",
         "2024-10-06T18:00:17.472Z"
        ],
        [
         "215",
         "15",
         "Água Mineral",
         "92",
         "2.23",
         "2023-09-10",
         "2024-10-06",
         "2024-10-06T18:00:17.472Z"
        ],
        [
         "216",
         "25",
         "Água Mineral",
         "300",
         "18.13",
         "2024-05-05",
         "2024-10-06",
         "2024-10-06T18:00:17.472Z"
        ],
        [
         "217",
         "9",
         "Vinho ABC",
         "169",
         "17.14",
         "2024-03-19",
         "2024-10-06",
         "2024-10-06T18:00:17.472Z"
        ],
        [
         "218",
         "1",
         "Cerveja XYZ",
         "486",
         "13.0",
         "2023-09-29",
         "2024-10-06",
         "2024-10-06T18:00:17.472Z"
        ],
        [
         "219",
         "26",
         "Refrigerante 123",
         "20",
         "13.28",
         "2023-09-14",
         "2024-10-06",
         "2024-10-06T18:00:17.472Z"
        ],
        [
         "220",
         "39",
         "Suco Natural",
         "109",
         "4.44",
         "2024-02-09",
         "2024-10-06",
         "2024-10-06T18:00:17.472Z"
        ],
        [
         "221",
         "24",
         "Suco Natural",
         "487",
         "8.06",
         "2024-05-11",
         "2024-10-06",
         "2024-10-06T18:00:17.472Z"
        ],
        [
         "222",
         "10",
         "Vinho ABC",
         "44",
         "18.87",
         "2024-06-08",
         "2024-10-06",
         "2024-10-06T18:00:17.472Z"
        ],
        [
         "223",
         "23",
         "Refrigerante 123",
         "419",
         "10.66",
         "2024-03-16",
         "2024-10-06",
         "2024-10-06T18:00:17.472Z"
        ],
        [
         "224",
         "29",
         "Água Mineral",
         "106",
         "4.73",
         "2024-05-17",
         "2024-10-06",
         "2024-10-06T18:00:17.472Z"
        ],
        [
         "225",
         "10",
         "Refrigerante 123",
         "207",
         "9.82",
         "2023-12-17",
         "2024-10-06",
         "2024-10-06T18:00:17.472Z"
        ],
        [
         "226",
         "29",
         "Cerveja XYZ",
         "422",
         "17.35",
         "2023-09-02",
         "2024-10-06",
         "2024-10-06T18:00:17.472Z"
        ],
        [
         "227",
         "15",
         "Vinho ABC",
         "194",
         "14.54",
         "2024-05-12",
         "2024-10-06",
         "2024-10-06T18:00:17.472Z"
        ],
        [
         "228",
         "27",
         "Vinho ABC",
         "484",
         "16.74",
         "2023-08-11",
         "2024-10-06",
         "2024-10-06T18:00:17.472Z"
        ],
        [
         "229",
         "21",
         "Refrigerante 123",
         "45",
         "7.68",
         "2024-04-10",
         "2024-10-06",
         "2024-10-06T18:00:17.472Z"
        ],
        [
         "230",
         "41",
         "Cerveja XYZ",
         "290",
         "6.24",
         "2024-06-11",
         "2024-10-06",
         "2024-10-06T18:00:17.472Z"
        ],
        [
         "231",
         "9",
         "Água Mineral",
         "376",
         "3.62",
         "2024-01-02",
         "2024-10-06",
         "2024-10-06T18:00:17.472Z"
        ],
        [
         "232",
         "24",
         "Cerveja XYZ",
         "258",
         "17.3",
         "2023-12-17",
         "2024-10-06",
         "2024-10-06T18:00:17.472Z"
        ],
        [
         "233",
         "20",
         "Refrigerante 123",
         "472",
         "11.22",
         "2024-07-01",
         "2024-10-06",
         "2024-10-06T18:00:17.472Z"
        ],
        [
         "234",
         "28",
         "Cerveja XYZ",
         "227",
         "2.72",
         "2024-06-15",
         "2024-10-06",
         "2024-10-06T18:00:17.472Z"
        ],
        [
         "235",
         "3",
         "Água Mineral",
         "282",
         "3.59",
         "2024-07-02",
         "2024-10-06",
         "2024-10-06T18:00:17.472Z"
        ],
        [
         "236",
         "46",
         "Refrigerante 123",
         "180",
         "8.48",
         "2024-04-03",
         "2024-10-06",
         "2024-10-06T18:00:17.472Z"
        ],
        [
         "237",
         "2",
         "Água Mineral",
         "237",
         "15.06",
         "2024-04-30",
         "2024-10-06",
         "2024-10-06T18:00:17.472Z"
        ],
        [
         "238",
         "49",
         "Cerveja XYZ",
         "48",
         "1.92",
         "2024-01-17",
         "2024-10-06",
         "2024-10-06T18:00:17.472Z"
        ],
        [
         "239",
         "43",
         "Suco Natural",
         "265",
         "7.74",
         "2024-06-26",
         "2024-10-06",
         "2024-10-06T18:00:17.472Z"
        ],
        [
         "240",
         "41",
         "Suco Natural",
         "485",
         "12.22",
         "2023-10-11",
         "2024-10-06",
         "2024-10-06T18:00:17.472Z"
        ],
        [
         "241",
         "50",
         "Suco Natural",
         "488",
         "6.81",
         "2023-12-08",
         "2024-10-06",
         "2024-10-06T18:00:17.472Z"
        ],
        [
         "242",
         "39",
         "Vinho ABC",
         "345",
         "12.48",
         "2024-04-04",
         "2024-10-06",
         "2024-10-06T18:00:17.472Z"
        ],
        [
         "243",
         "23",
         "Água Mineral",
         "337",
         "18.82",
         "2024-04-22",
         "2024-10-06",
         "2024-10-06T18:00:17.472Z"
        ],
        [
         "244",
         "31",
         "Água Mineral",
         "280",
         "6.08",
         "2024-02-28",
         "2024-10-06",
         "2024-10-06T18:00:17.472Z"
        ],
        [
         "245",
         "27",
         "Cerveja XYZ",
         "418",
         "12.66",
         "2024-01-31",
         "2024-10-06",
         "2024-10-06T18:00:17.472Z"
        ],
        [
         "246",
         "1",
         "Suco Natural",
         "468",
         "4.25",
         "2023-11-27",
         "2024-10-06",
         "2024-10-06T18:00:17.472Z"
        ],
        [
         "247",
         "41",
         "Suco Natural",
         "26",
         "7.5",
         "2024-04-18",
         "2024-10-06",
         "2024-10-06T18:00:17.472Z"
        ],
        [
         "248",
         "44",
         "Água Mineral",
         "326",
         "13.45",
         "2023-08-10",
         "2024-10-06",
         "2024-10-06T18:00:17.472Z"
        ],
        [
         "249",
         "12",
         "Refrigerante 123",
         "81",
         "12.84",
         "2023-12-20",
         "2024-10-06",
         "2024-10-06T18:00:17.472Z"
        ],
        [
         "250",
         "32",
         "Água Mineral",
         "327",
         "11.68",
         "2023-08-29",
         "2024-10-06",
         "2024-10-06T18:00:17.472Z"
        ]
       ],
       "datasetInfos": [],
       "dbfsResultPath": null,
       "isJsonSchema": true,
       "metadata": {
        "createTempViewForImplicitDf": true,
        "dataframeName": "_sqldf",
        "executionCount": 15
       },
       "overflow": false,
       "plotOptions": {
        "customPlotOptions": {},
        "displayType": "table",
        "pivotAggregation": null,
        "pivotColumns": null,
        "xColumns": null,
        "yColumns": null
       },
       "removedWidgets": [],
       "schema": [
        {
         "metadata": "{}",
         "name": "PedidoID",
         "type": "\"string\""
        },
        {
         "metadata": "{}",
         "name": "EstabelecimentoID",
         "type": "\"string\""
        },
        {
         "metadata": "{}",
         "name": "Produto",
         "type": "\"string\""
        },
        {
         "metadata": "{}",
         "name": "quantidade_vendida",
         "type": "\"string\""
        },
        {
         "metadata": "{}",
         "name": "Preco_Unitario",
         "type": "\"string\""
        },
        {
         "metadata": "{}",
         "name": "data_venda",
         "type": "\"string\""
        },
        {
         "metadata": "{}",
         "name": "data_carga",
         "type": "\"date\""
        },
        {
         "metadata": "{}",
         "name": "data_hora_carga",
         "type": "\"timestamp\""
        }
       ],
       "type": "table"
      }
     },
     "output_type": "display_data"
    }
   ],
   "source": [
    "%sql\n",
    "SELECT * FROM bronze.pedidos"
   ]
  },
  {
   "cell_type": "code",
   "execution_count": 0,
   "metadata": {
    "application/vnd.databricks.v1+cell": {
     "cellMetadata": {
      "byteLimit": 2048000,
      "implicitDf": true,
      "rowLimit": 10000
     },
     "inputWidgets": {},
     "nuid": "a87c45e0-9989-4679-8786-786ed89c77c0",
     "showTitle": false,
     "title": ""
    }
   },
   "outputs": [
    {
     "output_type": "display_data",
     "data": {
      "text/html": [
       "<style scoped>\n",
       "  .table-result-container {\n",
       "    max-height: 300px;\n",
       "    overflow: auto;\n",
       "  }\n",
       "  table, th, td {\n",
       "    border: 1px solid black;\n",
       "    border-collapse: collapse;\n",
       "  }\n",
       "  th, td {\n",
       "    padding: 5px;\n",
       "  }\n",
       "  th {\n",
       "    text-align: left;\n",
       "  }\n",
       "</style><div class='table-result-container'><table class='table-result'><thead style='background-color: white'><tr><th>format</th><th>id</th><th>name</th><th>description</th><th>location</th><th>createdAt</th><th>lastModified</th><th>partitionColumns</th><th>clusteringColumns</th><th>numFiles</th><th>sizeInBytes</th><th>properties</th><th>minReaderVersion</th><th>minWriterVersion</th><th>tableFeatures</th><th>statistics</th></tr></thead><tbody><tr><td>delta</td><td>458b0312-0dff-451b-aeeb-5a5c7e49d497</td><td>spark_catalog.bronze.pedidos</td><td>null</td><td>dbfs:/user/hive/warehouse/dbfs/FileStore/Ampev/bronze/pedidos</td><td>2024-07-30T18:50:55.433Z</td><td>2024-10-06T21:00:19Z</td><td>List()</td><td>List()</td><td>1</td><td>7568</td><td>Map()</td><td>1</td><td>2</td><td>List(appendOnly, invariants)</td><td>Map()</td></tr></tbody></table></div>"
      ]
     },
     "metadata": {
      "application/vnd.databricks.v1+output": {
       "addedWidgets": {},
       "aggData": [],
       "aggError": "",
       "aggOverflow": false,
       "aggSchema": [],
       "aggSeriesLimitReached": false,
       "aggType": "",
       "arguments": {},
       "columnCustomDisplayInfos": {},
       "data": [
        [
         "delta",
         "458b0312-0dff-451b-aeeb-5a5c7e49d497",
         "spark_catalog.bronze.pedidos",
         null,
         "dbfs:/user/hive/warehouse/dbfs/FileStore/Ampev/bronze/pedidos",
         "2024-07-30T18:50:55.433Z",
         "2024-10-06T21:00:19Z",
         [],
         [],
         1,
         7568,
         {},
         1,
         2,
         [
          "appendOnly",
          "invariants"
         ],
         {}
        ]
       ],
       "datasetInfos": [],
       "dbfsResultPath": null,
       "isJsonSchema": true,
       "metadata": {
        "createTempViewForImplicitDf": true,
        "dataframeName": "_sqldf",
        "executionCount": 16
       },
       "overflow": false,
       "plotOptions": {
        "customPlotOptions": {},
        "displayType": "table",
        "pivotAggregation": null,
        "pivotColumns": null,
        "xColumns": null,
        "yColumns": null
       },
       "removedWidgets": [],
       "schema": [
        {
         "metadata": "{}",
         "name": "format",
         "type": "\"string\""
        },
        {
         "metadata": "{}",
         "name": "id",
         "type": "\"string\""
        },
        {
         "metadata": "{}",
         "name": "name",
         "type": "\"string\""
        },
        {
         "metadata": "{}",
         "name": "description",
         "type": "\"string\""
        },
        {
         "metadata": "{}",
         "name": "location",
         "type": "\"string\""
        },
        {
         "metadata": "{}",
         "name": "createdAt",
         "type": "\"timestamp\""
        },
        {
         "metadata": "{}",
         "name": "lastModified",
         "type": "\"timestamp\""
        },
        {
         "metadata": "{}",
         "name": "partitionColumns",
         "type": "{\"type\":\"array\",\"elementType\":\"string\",\"containsNull\":true}"
        },
        {
         "metadata": "{}",
         "name": "clusteringColumns",
         "type": "{\"type\":\"array\",\"elementType\":\"string\",\"containsNull\":true}"
        },
        {
         "metadata": "{}",
         "name": "numFiles",
         "type": "\"long\""
        },
        {
         "metadata": "{}",
         "name": "sizeInBytes",
         "type": "\"long\""
        },
        {
         "metadata": "{}",
         "name": "properties",
         "type": "{\"type\":\"map\",\"keyType\":\"string\",\"valueType\":\"string\",\"valueContainsNull\":true}"
        },
        {
         "metadata": "{}",
         "name": "minReaderVersion",
         "type": "\"integer\""
        },
        {
         "metadata": "{}",
         "name": "minWriterVersion",
         "type": "\"integer\""
        },
        {
         "metadata": "{}",
         "name": "tableFeatures",
         "type": "{\"type\":\"array\",\"elementType\":\"string\",\"containsNull\":true}"
        },
        {
         "metadata": "{}",
         "name": "statistics",
         "type": "{\"type\":\"map\",\"keyType\":\"string\",\"valueType\":\"long\",\"valueContainsNull\":true}"
        }
       ],
       "type": "table"
      }
     },
     "output_type": "display_data"
    }
   ],
   "source": [
    "%sql\n",
    "describe detail bronze.pedidos"
   ]
  }
 ],
 "metadata": {
  "application/vnd.databricks.v1+notebook": {
   "dashboards": [],
   "environmentMetadata": null,
   "language": "python",
   "notebookMetadata": {
    "mostRecentlyExecutedCommandWithImplicitDF": {
     "commandId": 4222273828043458,
     "dataframes": [
      "_sqldf"
     ]
    },
    "pythonIndentUnit": 4
   },
   "notebookName": "BronzePedidos",
   "widgets": {}
  }
 },
 "nbformat": 4,
 "nbformat_minor": 0
}
